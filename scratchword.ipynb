{
 "cells": [
  {
   "cell_type": "markdown",
   "metadata": {},
   "source": [
    "Based on this, the 5 topics seem to be about the following: \n",
    "1. Campaign Issues\n",
    "2. Taxes\n",
    "3. Healthcare\n",
    "4. Education\n",
    "5. Debate Speak (Catch-All)\n",
    "6. Social Security\n",
    "7. Foreign Policy / War\n",
    "8. Domestic Economy"
   ]
  },
  {
   "cell_type": "code",
   "execution_count": null,
   "metadata": {},
   "outputs": [],
   "source": [
    "campaign_issues_topic = ' '.join(tf_topic_words[0])\n",
    "taxes_topic = ' '.join(tf_topic_words[1])\n",
    "healthcare_topic = ' '.join(tf_topic_words[2])\n",
    "education_topic = ' '.join(tf_topic_words[3])\n",
    "debate_speak_topic = ' '.join(tf_topic_words[4])\n",
    "social_security_topic = ' '.join(tf_topic_words[5])\n",
    "foreign_policy_topic = ' '.join(tf_topic_words[6])\n",
    "economy_topic = ' '.join(tf_topic_words[7])"
   ]
  },
  {
   "cell_type": "markdown",
   "metadata": {},
   "source": [
    "Mapping Topics to Documents:"
   ]
  },
  {
   "cell_type": "code",
   "execution_count": 36,
   "metadata": {
    "scrolled": true
   },
   "outputs": [
    {
     "data": {
      "text/plain": [
       "array([[0.01611082, 0.        , 0.        , 0.02070553, 0.        ,\n",
       "        0.02044758],\n",
       "       [0.05503191, 0.00134074, 0.00195913, 0.        , 0.        ,\n",
       "        0.00301435],\n",
       "       [0.03205074, 0.02006478, 0.        , 0.        , 0.        ,\n",
       "        0.00952414],\n",
       "       ...,\n",
       "       [0.01273018, 0.        , 0.        , 0.01476319, 0.00572084,\n",
       "        0.00786745],\n",
       "       [0.02024546, 0.        , 0.        , 0.01299253, 0.        ,\n",
       "        0.00332771],\n",
       "       [0.02141342, 0.        , 0.00160411, 0.01508883, 0.01589225,\n",
       "        0.01027758]])"
      ]
     },
     "execution_count": 36,
     "metadata": {},
     "output_type": "execute_result"
    }
   ],
   "source": [
    "tf_doc_topic"
   ]
  },
  {
   "cell_type": "code",
   "execution_count": 37,
   "metadata": {},
   "outputs": [
    {
     "data": {
      "text/plain": [
       "0.0"
      ]
     },
     "execution_count": 37,
     "metadata": {},
     "output_type": "execute_result"
    }
   ],
   "source": [
    "tf_doc_topic[0][2]"
   ]
  },
  {
   "cell_type": "markdown",
   "metadata": {},
   "source": [
    "Mapping these out onto the individual documents;"
   ]
  },
  {
   "cell_type": "code",
   "execution_count": 38,
   "metadata": {},
   "outputs": [],
   "source": [
    "topic_df = new_df[new_df.line_length >= 25].copy()"
   ]
  },
  {
   "cell_type": "code",
   "execution_count": 39,
   "metadata": {},
   "outputs": [],
   "source": [
    "topic_df['Topic_1'] = 0\n",
    "topic_df['Topic_2'] = 0\n",
    "topic_df['Topic_3'] = 0\n",
    "topic_df['Topic_4'] = 0\n",
    "topic_df['Topic_5'] = 0\n",
    "topic_df['Topic_6'] = 0"
   ]
  },
  {
   "cell_type": "code",
   "execution_count": 40,
   "metadata": {},
   "outputs": [],
   "source": [
    "for i, text in enumerate(topic_df.string):\n",
    "    topic_df.iloc[i, 10] = tf_doc_topic[i][0]\n",
    "    topic_df.iloc[i, 11] = tf_doc_topic[i][1]\n",
    "    topic_df.iloc[i, 12] = tf_doc_topic[i][2]\n",
    "    topic_df.iloc[i, 13] = tf_doc_topic[i][3]\n",
    "    topic_df.iloc[i, 14] = tf_doc_topic[i][4]\n",
    "    topic_df.iloc[i, 15] = tf_doc_topic[i][5]"
   ]
  },
  {
   "cell_type": "code",
   "execution_count": 41,
   "metadata": {},
   "outputs": [
    {
     "data": {
      "text/html": [
       "<div>\n",
       "<style scoped>\n",
       "    .dataframe tbody tr th:only-of-type {\n",
       "        vertical-align: middle;\n",
       "    }\n",
       "\n",
       "    .dataframe tbody tr th {\n",
       "        vertical-align: top;\n",
       "    }\n",
       "\n",
       "    .dataframe thead th {\n",
       "        text-align: right;\n",
       "    }\n",
       "</style>\n",
       "<table border=\"1\" class=\"dataframe\">\n",
       "  <thead>\n",
       "    <tr style=\"text-align: right;\">\n",
       "      <th></th>\n",
       "      <th>Debate_Name</th>\n",
       "      <th>Transcript</th>\n",
       "      <th>Speaker</th>\n",
       "      <th>Data_Source</th>\n",
       "      <th>Debate_Type</th>\n",
       "      <th>Year</th>\n",
       "      <th>Speaker_Type</th>\n",
       "      <th>line_length</th>\n",
       "      <th>Election_Result</th>\n",
       "      <th>string</th>\n",
       "      <th>Topic_1</th>\n",
       "      <th>Topic_2</th>\n",
       "      <th>Topic_3</th>\n",
       "      <th>Topic_4</th>\n",
       "      <th>Topic_5</th>\n",
       "      <th>Topic_6</th>\n",
       "    </tr>\n",
       "  </thead>\n",
       "  <tbody>\n",
       "    <tr>\n",
       "      <th>0</th>\n",
       "      <td>The First Clinton-Bush-Perot Presidential Deb...</td>\n",
       "      <td>LEHRER: Good evening, and welcome to the first...</td>\n",
       "      <td>lehrer</td>\n",
       "      <td>Commission for Presidential Debates</td>\n",
       "      <td>General-President</td>\n",
       "      <td>1992</td>\n",
       "      <td>Moderator/Other</td>\n",
       "      <td>100</td>\n",
       "      <td>n/a</td>\n",
       "      <td>good evening welcome first debate among major ...</td>\n",
       "      <td>0.016111</td>\n",
       "      <td>0.000000</td>\n",
       "      <td>0.000000</td>\n",
       "      <td>0.020706</td>\n",
       "      <td>0.000000</td>\n",
       "      <td>0.020448</td>\n",
       "    </tr>\n",
       "    <tr>\n",
       "      <th>1</th>\n",
       "      <td>The First Clinton-Bush-Perot Presidential Deb...</td>\n",
       "      <td>PEROT: I think the principal that separates me...</td>\n",
       "      <td>perot</td>\n",
       "      <td>Commission for Presidential Debates</td>\n",
       "      <td>General-President</td>\n",
       "      <td>1992</td>\n",
       "      <td>Independent</td>\n",
       "      <td>74</td>\n",
       "      <td>Loser</td>\n",
       "      <td>think principal separate half million people c...</td>\n",
       "      <td>0.055032</td>\n",
       "      <td>0.001341</td>\n",
       "      <td>0.001959</td>\n",
       "      <td>0.000000</td>\n",
       "      <td>0.000000</td>\n",
       "      <td>0.003014</td>\n",
       "    </tr>\n",
       "    <tr>\n",
       "      <th>3</th>\n",
       "      <td>The First Clinton-Bush-Perot Presidential Deb...</td>\n",
       "      <td>CLINTON: The most important distinction in thi...</td>\n",
       "      <td>clinton</td>\n",
       "      <td>Commission for Presidential Debates</td>\n",
       "      <td>General-President</td>\n",
       "      <td>1992</td>\n",
       "      <td>Democrat</td>\n",
       "      <td>45</td>\n",
       "      <td>Winner</td>\n",
       "      <td>important distinction campaign represent real ...</td>\n",
       "      <td>0.032051</td>\n",
       "      <td>0.020065</td>\n",
       "      <td>0.000000</td>\n",
       "      <td>0.000000</td>\n",
       "      <td>0.000000</td>\n",
       "      <td>0.009524</td>\n",
       "    </tr>\n",
       "    <tr>\n",
       "      <th>5</th>\n",
       "      <td>The First Clinton-Bush-Perot Presidential Deb...</td>\n",
       "      <td>PRESIDENT BUSH: Well, I think one thing that d...</td>\n",
       "      <td>president bush</td>\n",
       "      <td>Commission for Presidential Debates</td>\n",
       "      <td>General-President</td>\n",
       "      <td>1992</td>\n",
       "      <td>Republican</td>\n",
       "      <td>81</td>\n",
       "      <td>Loser</td>\n",
       "      <td>well think one thing distinguishes experience ...</td>\n",
       "      <td>0.044345</td>\n",
       "      <td>0.000000</td>\n",
       "      <td>0.000000</td>\n",
       "      <td>0.000000</td>\n",
       "      <td>0.003353</td>\n",
       "      <td>0.030889</td>\n",
       "    </tr>\n",
       "    <tr>\n",
       "      <th>7</th>\n",
       "      <td>The First Clinton-Bush-Perot Presidential Deb...</td>\n",
       "      <td>CLINTON: I believe experience counts, but it’s...</td>\n",
       "      <td>clinton</td>\n",
       "      <td>Commission for Presidential Debates</td>\n",
       "      <td>General-President</td>\n",
       "      <td>1992</td>\n",
       "      <td>Democrat</td>\n",
       "      <td>167</td>\n",
       "      <td>Winner</td>\n",
       "      <td>believe experience count ’ everything value ju...</td>\n",
       "      <td>0.062099</td>\n",
       "      <td>0.016480</td>\n",
       "      <td>0.015634</td>\n",
       "      <td>0.000000</td>\n",
       "      <td>0.017440</td>\n",
       "      <td>0.016706</td>\n",
       "    </tr>\n",
       "  </tbody>\n",
       "</table>\n",
       "</div>"
      ],
      "text/plain": [
       "                                         Debate_Name  \\\n",
       "0   The First Clinton-Bush-Perot Presidential Deb...   \n",
       "1   The First Clinton-Bush-Perot Presidential Deb...   \n",
       "3   The First Clinton-Bush-Perot Presidential Deb...   \n",
       "5   The First Clinton-Bush-Perot Presidential Deb...   \n",
       "7   The First Clinton-Bush-Perot Presidential Deb...   \n",
       "\n",
       "                                          Transcript         Speaker  \\\n",
       "0  LEHRER: Good evening, and welcome to the first...          lehrer   \n",
       "1  PEROT: I think the principal that separates me...           perot   \n",
       "3  CLINTON: The most important distinction in thi...         clinton   \n",
       "5  PRESIDENT BUSH: Well, I think one thing that d...  president bush   \n",
       "7  CLINTON: I believe experience counts, but it’s...         clinton   \n",
       "\n",
       "                           Data_Source        Debate_Type  Year  \\\n",
       "0  Commission for Presidential Debates  General-President  1992   \n",
       "1  Commission for Presidential Debates  General-President  1992   \n",
       "3  Commission for Presidential Debates  General-President  1992   \n",
       "5  Commission for Presidential Debates  General-President  1992   \n",
       "7  Commission for Presidential Debates  General-President  1992   \n",
       "\n",
       "      Speaker_Type  line_length Election_Result  \\\n",
       "0  Moderator/Other          100             n/a   \n",
       "1      Independent           74           Loser   \n",
       "3         Democrat           45          Winner   \n",
       "5       Republican           81           Loser   \n",
       "7         Democrat          167          Winner   \n",
       "\n",
       "                                              string   Topic_1   Topic_2  \\\n",
       "0  good evening welcome first debate among major ...  0.016111  0.000000   \n",
       "1  think principal separate half million people c...  0.055032  0.001341   \n",
       "3  important distinction campaign represent real ...  0.032051  0.020065   \n",
       "5  well think one thing distinguishes experience ...  0.044345  0.000000   \n",
       "7  believe experience count ’ everything value ju...  0.062099  0.016480   \n",
       "\n",
       "    Topic_3   Topic_4   Topic_5   Topic_6  \n",
       "0  0.000000  0.020706  0.000000  0.020448  \n",
       "1  0.001959  0.000000  0.000000  0.003014  \n",
       "3  0.000000  0.000000  0.000000  0.009524  \n",
       "5  0.000000  0.000000  0.003353  0.030889  \n",
       "7  0.015634  0.000000  0.017440  0.016706  "
      ]
     },
     "execution_count": 41,
     "metadata": {},
     "output_type": "execute_result"
    }
   ],
   "source": [
    "topic_df.head()"
   ]
  },
  {
   "cell_type": "code",
   "execution_count": 42,
   "metadata": {},
   "outputs": [],
   "source": [
    "topic_df.to_csv('./Data/full_set_topic_data.csv', index=False)"
   ]
  },
  {
   "cell_type": "markdown",
   "metadata": {},
   "source": [
    "Republican Topics:"
   ]
  },
  {
   "cell_type": "markdown",
   "metadata": {},
   "source": [
    "1. Foreign Policy/Military\n",
    "2. Taxes\n",
    "3. Healthcare\n",
    "4. School/Religion\n",
    "5. Domestic Economy\n",
    "6. Social Security\n",
    "7. Immigration\n",
    "8. Debate_Speak"
   ]
  },
  {
   "cell_type": "markdown",
   "metadata": {},
   "source": [
    "Democrat Topics:"
   ]
  },
  {
   "cell_type": "markdown",
   "metadata": {},
   "source": [
    "1. Campaign_Speak\n",
    "2. Healthcare_Coverage\n",
    "3. Taxes\n",
    "4. Education\n",
    "5. War/Foreign Policy\n",
    "6. Progressive_Change\n",
    "7. Economy_Climate Change\n",
    "8. Healthcare_System"
   ]
  },
  {
   "cell_type": "markdown",
   "metadata": {},
   "source": [
    "REpublican Words:"
   ]
  },
  {
   "cell_type": "markdown",
   "metadata": {},
   "source": [
    "Topic 1:\n",
    "['state', 'united', 'war', 'world', 'iran', 'military', 'nuclear', 'one', 'policy', 'take', 'weapon', 'iraq', 'foreign', 'nation', 'like', 'make', 'china', 'israel', 'trade', 'interest']\n",
    "\n",
    "\n",
    "Topic 2:\n",
    "['tax', 'cut', 'percent', 'income', 'plan', 'rate', 'code', 'pay', 'flat', 'spending', 'corporate', 'money', 'capital', 'rid', 'gain', 'raise', 'budget', 'lower', 'middle', 'fair']\n",
    "\n",
    "\n",
    "Topic 3:\n",
    "['health', 'care', 'insurance', 'cost', 'saving', 'plan', 'account', 'system', 'buy', 'medicare', 'market', 'medical', 'people', 'federal', 'patient', 'program', 'percent', 'take', 'money', 'medicaid']\n",
    "\n",
    "\n",
    "Topic 4:\n",
    "['life', 'school', 'child', 'right', 'pro', 'believe', 'parent', 'education', 'choice', 'law', 'court', 'family', 'make', 'every', 'decision', 'respect', 'human', 'god', 'abortion', 'federal']\n",
    "\n",
    "\n",
    "Topic 5:\n",
    "['job', 'economy', 'business', 'create', 'work', 'created', 'million', 'sector', 'energy', 'back', 'regulation', 'world', 'private', 'manufacturing', 'trade', 'make', 'small', 'china', 'creation', 'good']\n",
    "\n",
    "\n",
    "Topic 6:\n",
    "['going', 'security', 'social', 'program', 'back', 'money', 'go', 'change', 'spending', 'economy', 'trillion', 'take', 'save', 'washington', 'way', 'medicare', 'pay', 'dollar', 'keep', 'see']\n",
    "\n",
    "\n",
    "Topic 7:\n",
    "['need', 'border', 'law', 'system', 'military', 'immigration', 'secure', 'go', 'come', 'troop', 'ground', 'force', 'make', 'problem', 'isi', 'deal', 'way', 'enforcement', 'fence', 'also']\n",
    "\n",
    "\n",
    "Topic 8:\n",
    "['people', 'know', 'got', 'time', 'thing', 'let', 'lot', 'one', 'well', 'come', 'like', 'work', 'problem', 'look', 'go', 'way', 'washington', 'tell', 'done', 'party']"
   ]
  },
  {
   "cell_type": "markdown",
   "metadata": {},
   "source": [
    "Topic 1:\n",
    "['people', 'know', 'one', 'right', 'time', 'thing', 'issue', 'well', 'like', 'life', 'let', 'believe', 'law', 'come', 'first', 'lot', 'way', 'look', 'got']\n",
    "\n",
    "\n",
    "Topic 2:\n",
    "['tax', 'cut', 'percent', 'income', 'pay', 'plan', 'rate', 'middle', 'code', 'increase', 'class', 'raise', 'spending', 'billion', 'budget', 'money', 'family', 'capital', 'fair']\n",
    "\n",
    "\n",
    "Topic 3:\n",
    "['health', 'care', 'insurance', 'plan', 'cost', 'medicare', 'company', 'system', 'universal', 'people', 'affordable', 'coverage', 'drug', 'million', 'doctor', 'american', 'private', 'every', 'child']\n",
    "\n",
    "\n",
    "Topic 4:\n",
    "['school', 'child', 'education', 'need', 'teacher', 'kid', 'parent', 'college', 'public', 'family', 'student', 'make', 'every', 'money', 'program', 'choice', 'go', 'help', 'federal']\n",
    "\n",
    "\n",
    "Topic 5:\n",
    "['going', 'make', 'go', 'know', 'back', 'change', 'able', 'pay', 'take', 'economy', 'money', 'way', 'see', 'talk', 'got', 'bring', 'look', 'keep', 'people']\n",
    "\n",
    "\n",
    "Topic 6:\n",
    "['security', 'social', 'medicare', 'money', 'program', 'benefit', 'cut', 'budget', 'national', 'fund', 'senior', 'retirement', 'trust', 'trillion', 'billion', 'system', 'debt', 'dollar', 'spending']\n",
    "\n",
    "\n",
    "Topic 7:\n",
    "['state', 'united', 'war', 'world', 'need', 'iraq', 'military', 'nuclear', 'iran', 'weapon', 'policy', 'troop', 'nation', 'force', 'foreign', 'ally', 'make', 'country', 'deal']\n",
    "\n",
    "\n",
    "Topic 8:\n",
    "['job', 'economy', 'business', 'million', 'work', 'create', 'new', 'energy', 'small', 'trade', 'people', 'percent', 'good', 'created', 'got', 'back', 'manufacturing', 'company', 'growth']"
   ]
  },
  {
   "cell_type": "code",
   "execution_count": null,
   "metadata": {},
   "outputs": [],
   "source": []
  }
 ],
 "metadata": {
  "kernelspec": {
   "display_name": "Python [conda env:metis] *",
   "language": "python",
   "name": "conda-env-metis-py"
  },
  "language_info": {
   "codemirror_mode": {
    "name": "ipython",
    "version": 3
   },
   "file_extension": ".py",
   "mimetype": "text/x-python",
   "name": "python",
   "nbconvert_exporter": "python",
   "pygments_lexer": "ipython3",
   "version": "3.8.6"
  }
 },
 "nbformat": 4,
 "nbformat_minor": 4
}
