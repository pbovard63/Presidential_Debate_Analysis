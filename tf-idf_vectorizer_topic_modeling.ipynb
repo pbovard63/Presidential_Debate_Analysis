{
 "cells": [
  {
   "cell_type": "markdown",
   "metadata": {},
   "source": [
    "The purpose of this notebook is to utilize TF-IDF vectorization in topic modeling, using the new_df dataframe built in final_dataframe_cleanup.ipynb."
   ]
  },
  {
   "cell_type": "markdown",
   "metadata": {},
   "source": [
    "Importing packages:"
   ]
  },
  {
   "cell_type": "code",
   "execution_count": 1,
   "metadata": {},
   "outputs": [],
   "source": [
    "import nltk\n",
    "from nltk.corpus import stopwords\n",
    "from sklearn.decomposition import NMF\n",
    "from sklearn.feature_extraction.text import TfidfVectorizer\n",
    "import nltk\n",
    "import pandas as pd\n",
    "import numpy as np\n",
    "import pickle\n",
    "import matplotlib.pyplot as plt\n",
    "from pylab import rcParams\n",
    "%matplotlib inline\n",
    "rcParams['figure.figsize'] = 20,10"
   ]
  },
  {
   "cell_type": "markdown",
   "metadata": {},
   "source": [
    "Picking in Data:"
   ]
  },
  {
   "cell_type": "code",
   "execution_count": 2,
   "metadata": {},
   "outputs": [],
   "source": [
    "with open('Data/cleaned_string_df.pickle','rb') as read_file:\n",
    "    new_df = pickle.load(read_file)"
   ]
  },
  {
   "cell_type": "code",
   "execution_count": 3,
   "metadata": {},
   "outputs": [
    {
     "data": {
      "text/html": [
       "<div>\n",
       "<style scoped>\n",
       "    .dataframe tbody tr th:only-of-type {\n",
       "        vertical-align: middle;\n",
       "    }\n",
       "\n",
       "    .dataframe tbody tr th {\n",
       "        vertical-align: top;\n",
       "    }\n",
       "\n",
       "    .dataframe thead th {\n",
       "        text-align: right;\n",
       "    }\n",
       "</style>\n",
       "<table border=\"1\" class=\"dataframe\">\n",
       "  <thead>\n",
       "    <tr style=\"text-align: right;\">\n",
       "      <th></th>\n",
       "      <th>Debate_Name</th>\n",
       "      <th>Transcript</th>\n",
       "      <th>Speaker</th>\n",
       "      <th>Data_Source</th>\n",
       "      <th>Debate_Type</th>\n",
       "      <th>Year</th>\n",
       "      <th>Speaker_Type</th>\n",
       "      <th>line_length</th>\n",
       "      <th>Election_Result</th>\n",
       "      <th>string</th>\n",
       "    </tr>\n",
       "  </thead>\n",
       "  <tbody>\n",
       "    <tr>\n",
       "      <th>0</th>\n",
       "      <td>The First Clinton-Bush-Perot Presidential Deb...</td>\n",
       "      <td>LEHRER: Good evening, and welcome to the first...</td>\n",
       "      <td>lehrer</td>\n",
       "      <td>Commission for Presidential Debates</td>\n",
       "      <td>General-President</td>\n",
       "      <td>1992</td>\n",
       "      <td>Moderator/Other</td>\n",
       "      <td>100</td>\n",
       "      <td>n/a</td>\n",
       "      <td>good evening welcome first debate among major ...</td>\n",
       "    </tr>\n",
       "    <tr>\n",
       "      <th>1</th>\n",
       "      <td>The First Clinton-Bush-Perot Presidential Deb...</td>\n",
       "      <td>PEROT: I think the principal that separates me...</td>\n",
       "      <td>perot</td>\n",
       "      <td>Commission for Presidential Debates</td>\n",
       "      <td>General-President</td>\n",
       "      <td>1992</td>\n",
       "      <td>Independent</td>\n",
       "      <td>74</td>\n",
       "      <td>Loser</td>\n",
       "      <td>think principal separate half million people c...</td>\n",
       "    </tr>\n",
       "    <tr>\n",
       "      <th>2</th>\n",
       "      <td>The First Clinton-Bush-Perot Presidential Deb...</td>\n",
       "      <td>LEHRER: Governor Clinton, a one minute response.</td>\n",
       "      <td>lehrer</td>\n",
       "      <td>Commission for Presidential Debates</td>\n",
       "      <td>General-President</td>\n",
       "      <td>1992</td>\n",
       "      <td>Moderator/Other</td>\n",
       "      <td>3</td>\n",
       "      <td>n/a</td>\n",
       "      <td>one minute response</td>\n",
       "    </tr>\n",
       "    <tr>\n",
       "      <th>3</th>\n",
       "      <td>The First Clinton-Bush-Perot Presidential Deb...</td>\n",
       "      <td>CLINTON: The most important distinction in thi...</td>\n",
       "      <td>clinton</td>\n",
       "      <td>Commission for Presidential Debates</td>\n",
       "      <td>General-President</td>\n",
       "      <td>1992</td>\n",
       "      <td>Democrat</td>\n",
       "      <td>45</td>\n",
       "      <td>Winner</td>\n",
       "      <td>important distinction campaign represent real ...</td>\n",
       "    </tr>\n",
       "    <tr>\n",
       "      <th>4</th>\n",
       "      <td>The First Clinton-Bush-Perot Presidential Deb...</td>\n",
       "      <td>LEHRER: President Bush, one minute response, sir.</td>\n",
       "      <td>lehrer</td>\n",
       "      <td>Commission for Presidential Debates</td>\n",
       "      <td>General-President</td>\n",
       "      <td>1992</td>\n",
       "      <td>Moderator/Other</td>\n",
       "      <td>4</td>\n",
       "      <td>n/a</td>\n",
       "      <td>one minute response sir</td>\n",
       "    </tr>\n",
       "  </tbody>\n",
       "</table>\n",
       "</div>"
      ],
      "text/plain": [
       "                                         Debate_Name  \\\n",
       "0   The First Clinton-Bush-Perot Presidential Deb...   \n",
       "1   The First Clinton-Bush-Perot Presidential Deb...   \n",
       "2   The First Clinton-Bush-Perot Presidential Deb...   \n",
       "3   The First Clinton-Bush-Perot Presidential Deb...   \n",
       "4   The First Clinton-Bush-Perot Presidential Deb...   \n",
       "\n",
       "                                          Transcript  Speaker  \\\n",
       "0  LEHRER: Good evening, and welcome to the first...   lehrer   \n",
       "1  PEROT: I think the principal that separates me...    perot   \n",
       "2   LEHRER: Governor Clinton, a one minute response.   lehrer   \n",
       "3  CLINTON: The most important distinction in thi...  clinton   \n",
       "4  LEHRER: President Bush, one minute response, sir.   lehrer   \n",
       "\n",
       "                           Data_Source        Debate_Type  Year  \\\n",
       "0  Commission for Presidential Debates  General-President  1992   \n",
       "1  Commission for Presidential Debates  General-President  1992   \n",
       "2  Commission for Presidential Debates  General-President  1992   \n",
       "3  Commission for Presidential Debates  General-President  1992   \n",
       "4  Commission for Presidential Debates  General-President  1992   \n",
       "\n",
       "      Speaker_Type  line_length Election_Result  \\\n",
       "0  Moderator/Other          100             n/a   \n",
       "1      Independent           74           Loser   \n",
       "2  Moderator/Other            3             n/a   \n",
       "3         Democrat           45          Winner   \n",
       "4  Moderator/Other            4             n/a   \n",
       "\n",
       "                                              string  \n",
       "0  good evening welcome first debate among major ...  \n",
       "1  think principal separate half million people c...  \n",
       "2                                one minute response  \n",
       "3  important distinction campaign represent real ...  \n",
       "4                            one minute response sir  "
      ]
     },
     "execution_count": 3,
     "metadata": {},
     "output_type": "execute_result"
    }
   ],
   "source": [
    "new_df.head()"
   ]
  },
  {
   "cell_type": "markdown",
   "metadata": {},
   "source": [
    "# TF-IDF Vectorizer"
   ]
  },
  {
   "cell_type": "markdown",
   "metadata": {},
   "source": [
    "For the next round of topic modeling, I will be using TF-IDF vectorizer, to compare the results."
   ]
  },
  {
   "cell_type": "code",
   "execution_count": 4,
   "metadata": {},
   "outputs": [],
   "source": [
    "from sklearn.feature_extraction.text import TfidfVectorizer"
   ]
  },
  {
   "cell_type": "code",
   "execution_count": 5,
   "metadata": {},
   "outputs": [],
   "source": [
    "stop = ['presidential', 'vice', 'evening', 'debate', 'candidate', 'campaign', 'minute']"
   ]
  },
  {
   "cell_type": "code",
   "execution_count": 6,
   "metadata": {},
   "outputs": [],
   "source": [
    "vectorizer = TfidfVectorizer(stop_words=stop)"
   ]
  },
  {
   "cell_type": "markdown",
   "metadata": {},
   "source": [
    "Note, more stop words were implemented in final_dataframe_cleanup.ipynb."
   ]
  },
  {
   "cell_type": "markdown",
   "metadata": {},
   "source": [
    "Since some responses can be very short (i.e. just a brief statement/quip), I am setting a minimum threshold of words for topic modelling."
   ]
  },
  {
   "cell_type": "code",
   "execution_count": 7,
   "metadata": {},
   "outputs": [],
   "source": [
    "X = new_df[new_df.line_length >= 40]['string']\n",
    "tfi_model = vectorizer.fit_transform(X)"
   ]
  },
  {
   "cell_type": "code",
   "execution_count": 8,
   "metadata": {},
   "outputs": [],
   "source": [
    "tf_term_document_matrix = pd.DataFrame(tfi_model.toarray(), columns=vectorizer.get_feature_names())"
   ]
  },
  {
   "cell_type": "code",
   "execution_count": 9,
   "metadata": {},
   "outputs": [
    {
     "data": {
      "text/plain": [
       "(4439, 13077)"
      ]
     },
     "execution_count": 9,
     "metadata": {},
     "output_type": "execute_result"
    }
   ],
   "source": [
    "tf_term_document_matrix.shape"
   ]
  },
  {
   "cell_type": "markdown",
   "metadata": {},
   "source": [
    "## Topic Modelling"
   ]
  },
  {
   "cell_type": "markdown",
   "metadata": {},
   "source": [
    "After getthe the document set in terms of TF-IDF vectorization, below will try Topic Modelling using a few different tools."
   ]
  },
  {
   "cell_type": "markdown",
   "metadata": {},
   "source": [
    "### Topic Modelling via NMF:"
   ]
  },
  {
   "cell_type": "code",
   "execution_count": 10,
   "metadata": {},
   "outputs": [],
   "source": [
    "nmf_model = NMF(5)"
   ]
  },
  {
   "cell_type": "markdown",
   "metadata": {},
   "source": [
    "Topics from the relating model, for each line:"
   ]
  },
  {
   "cell_type": "code",
   "execution_count": 11,
   "metadata": {},
   "outputs": [
    {
     "name": "stderr",
     "output_type": "stream",
     "text": [
      "/Users/patrickbovard/opt/anaconda3/envs/metis/lib/python3.8/site-packages/sklearn/decomposition/_nmf.py:312: FutureWarning: The 'init' value, when 'init=None' and n_components is less than n_samples and n_features, will be changed from 'nndsvd' to 'nndsvda' in 1.1 (renaming of 0.26).\n",
      "  warnings.warn((\"The 'init' value, when 'init=None' and \"\n",
      "/Users/patrickbovard/opt/anaconda3/envs/metis/lib/python3.8/site-packages/sklearn/decomposition/_nmf.py:1090: ConvergenceWarning: Maximum number of iterations 200 reached. Increase it to improve convergence.\n",
      "  warnings.warn(\"Maximum number of iterations %d reached. Increase it to\"\n"
     ]
    },
    {
     "data": {
      "text/plain": [
       "(4439, 5)"
      ]
     },
     "execution_count": 11,
     "metadata": {},
     "output_type": "execute_result"
    }
   ],
   "source": [
    "tf_doc_topic = nmf_model.fit_transform(tf_term_document_matrix)\n",
    "tf_doc_topic.shape"
   ]
  },
  {
   "cell_type": "markdown",
   "metadata": {},
   "source": [
    "Pulling the top 10 words for each of the k topics:"
   ]
  },
  {
   "cell_type": "code",
   "execution_count": 12,
   "metadata": {
    "scrolled": false
   },
   "outputs": [
    {
     "name": "stdout",
     "output_type": "stream",
     "text": [
      "Topic 1:\n",
      "['nuclear', 'policy', 'believe', 'right', 'military', 'one', 'world', 'war', 'think', 'state', 'united', 'would']\n",
      "\n",
      "\n",
      "Topic 2:\n",
      "['security', 'money', 'billion', 'budget', 'rate', 'social', 'pay', 'plan', 'income', 'percent', 'cut', 'tax']\n",
      "\n",
      "\n",
      "Topic 3:\n",
      "['drug', 'universal', 'affordable', 'company', 'system', 'people', 'cost', 'medicare', 'plan', 'insurance', 'care', 'health']\n",
      "\n",
      "\n",
      "Topic 4:\n",
      "['family', 'every', 'student', 'need', 'college', 'public', 'parent', 'kid', 'teacher', 'child', 'education', 'school']\n",
      "\n",
      "\n",
      "Topic 5:\n",
      "['economy', 'know', 'america', 'need', 'work', 'got', 'think', 'make', 'get', 'job', 'people', 'going']\n",
      "\n",
      "\n"
     ]
    }
   ],
   "source": [
    "tf_words = vectorizer.get_feature_names()\n",
    "tf = nmf_model.components_.argsort(axis=1)[:,-12:]\n",
    "tf_topic_words = [[tf_words[e] for e in l] for l in tf]\n",
    "for i, words in enumerate(tf_topic_words, 1):\n",
    "    print('Topic {}:'.format(i))\n",
    "    print(words)\n",
    "    print('\\n')"
   ]
  },
  {
   "cell_type": "markdown",
   "metadata": {},
   "source": [
    "Based on this, the 6 topics seem to be about the following: \n",
    "1. Random Bucket\n",
    "2. Economy/Taxes\n",
    "3. Healthcare (clear)\n",
    "4. War/Foreign Policy\n",
    "5. Education\n",
    "6. Random Bucket, with hints of jobs/campaign \"speak\""
   ]
  },
  {
   "cell_type": "markdown",
   "metadata": {},
   "source": [
    "Pulling the document-topic matrix:"
   ]
  },
  {
   "cell_type": "code",
   "execution_count": 13,
   "metadata": {},
   "outputs": [
    {
     "data": {
      "text/plain": [
       "array([[0.04950754, 0.        , 0.00210397, 0.00154647, 0.00231771],\n",
       "       [0.00473577, 0.00114885, 0.00267559, 0.        , 0.09758879],\n",
       "       [0.00831532, 0.02411698, 0.        , 0.        , 0.05854825],\n",
       "       ...,\n",
       "       [0.00495852, 0.00372739, 0.01367063, 0.        , 0.06726091],\n",
       "       [0.        , 0.        , 0.        , 0.        , 0.08531274],\n",
       "       [0.        , 0.        , 0.        , 0.        , 0.08581064]])"
      ]
     },
     "execution_count": 13,
     "metadata": {},
     "output_type": "execute_result"
    }
   ],
   "source": [
    "tf_doc_topic"
   ]
  },
  {
   "cell_type": "code",
   "execution_count": 25,
   "metadata": {},
   "outputs": [
    {
     "data": {
      "text/plain": [
       "0.0021039735995541033"
      ]
     },
     "execution_count": 25,
     "metadata": {},
     "output_type": "execute_result"
    }
   ],
   "source": [
    "tf_doc_topic[0][2]"
   ]
  },
  {
   "cell_type": "markdown",
   "metadata": {},
   "source": [
    "Mapping these out onto the individual documents;"
   ]
  },
  {
   "cell_type": "code",
   "execution_count": 21,
   "metadata": {},
   "outputs": [],
   "source": [
    "topic_df = new_df[new_df.line_length >= 40].copy()"
   ]
  },
  {
   "cell_type": "code",
   "execution_count": 22,
   "metadata": {},
   "outputs": [],
   "source": [
    "topic_df['Topic_1'] = 0\n",
    "topic_df['Topic_2'] = 0\n",
    "topic_df['Topic_3'] = 0\n",
    "topic_df['Topic_4'] = 0\n",
    "topic_df['Topic_5'] = 0"
   ]
  },
  {
   "cell_type": "code",
   "execution_count": 26,
   "metadata": {},
   "outputs": [],
   "source": [
    "for i, text in enumerate(topic_df.string):\n",
    "    topic_df.iloc[i, 10] = tf_doc_topic[i][0]\n",
    "    topic_df.iloc[i, 11] = tf_doc_topic[i][1]\n",
    "    topic_df.iloc[i, 12] = tf_doc_topic[i][2]\n",
    "    topic_df.iloc[i, 13] = tf_doc_topic[i][3]\n",
    "    topic_df.iloc[i, 14] = tf_doc_topic[i][4]"
   ]
  },
  {
   "cell_type": "code",
   "execution_count": 27,
   "metadata": {},
   "outputs": [
    {
     "data": {
      "text/html": [
       "<div>\n",
       "<style scoped>\n",
       "    .dataframe tbody tr th:only-of-type {\n",
       "        vertical-align: middle;\n",
       "    }\n",
       "\n",
       "    .dataframe tbody tr th {\n",
       "        vertical-align: top;\n",
       "    }\n",
       "\n",
       "    .dataframe thead th {\n",
       "        text-align: right;\n",
       "    }\n",
       "</style>\n",
       "<table border=\"1\" class=\"dataframe\">\n",
       "  <thead>\n",
       "    <tr style=\"text-align: right;\">\n",
       "      <th></th>\n",
       "      <th>Debate_Name</th>\n",
       "      <th>Transcript</th>\n",
       "      <th>Speaker</th>\n",
       "      <th>Data_Source</th>\n",
       "      <th>Debate_Type</th>\n",
       "      <th>Year</th>\n",
       "      <th>Speaker_Type</th>\n",
       "      <th>line_length</th>\n",
       "      <th>Election_Result</th>\n",
       "      <th>string</th>\n",
       "      <th>Topic_1</th>\n",
       "      <th>Topic_2</th>\n",
       "      <th>Topic_3</th>\n",
       "      <th>Topic_4</th>\n",
       "      <th>Topic_5</th>\n",
       "    </tr>\n",
       "  </thead>\n",
       "  <tbody>\n",
       "    <tr>\n",
       "      <th>0</th>\n",
       "      <td>The First Clinton-Bush-Perot Presidential Deb...</td>\n",
       "      <td>LEHRER: Good evening, and welcome to the first...</td>\n",
       "      <td>lehrer</td>\n",
       "      <td>Commission for Presidential Debates</td>\n",
       "      <td>General-President</td>\n",
       "      <td>1992</td>\n",
       "      <td>Moderator/Other</td>\n",
       "      <td>100</td>\n",
       "      <td>n/a</td>\n",
       "      <td>good evening welcome first debate among major ...</td>\n",
       "      <td>0.049508</td>\n",
       "      <td>0.000000</td>\n",
       "      <td>0.002104</td>\n",
       "      <td>0.001546</td>\n",
       "      <td>0.002318</td>\n",
       "    </tr>\n",
       "    <tr>\n",
       "      <th>1</th>\n",
       "      <td>The First Clinton-Bush-Perot Presidential Deb...</td>\n",
       "      <td>PEROT: I think the principal that separates me...</td>\n",
       "      <td>perot</td>\n",
       "      <td>Commission for Presidential Debates</td>\n",
       "      <td>General-President</td>\n",
       "      <td>1992</td>\n",
       "      <td>Independent</td>\n",
       "      <td>74</td>\n",
       "      <td>Loser</td>\n",
       "      <td>think principal separate half million people c...</td>\n",
       "      <td>0.004736</td>\n",
       "      <td>0.001149</td>\n",
       "      <td>0.002676</td>\n",
       "      <td>0.000000</td>\n",
       "      <td>0.097589</td>\n",
       "    </tr>\n",
       "    <tr>\n",
       "      <th>3</th>\n",
       "      <td>The First Clinton-Bush-Perot Presidential Deb...</td>\n",
       "      <td>CLINTON: The most important distinction in thi...</td>\n",
       "      <td>clinton</td>\n",
       "      <td>Commission for Presidential Debates</td>\n",
       "      <td>General-President</td>\n",
       "      <td>1992</td>\n",
       "      <td>Democrat</td>\n",
       "      <td>45</td>\n",
       "      <td>Winner</td>\n",
       "      <td>important distinction campaign represent real ...</td>\n",
       "      <td>0.008315</td>\n",
       "      <td>0.024117</td>\n",
       "      <td>0.000000</td>\n",
       "      <td>0.000000</td>\n",
       "      <td>0.058548</td>\n",
       "    </tr>\n",
       "    <tr>\n",
       "      <th>5</th>\n",
       "      <td>The First Clinton-Bush-Perot Presidential Deb...</td>\n",
       "      <td>PRESIDENT BUSH: Well, I think one thing that d...</td>\n",
       "      <td>president bush</td>\n",
       "      <td>Commission for Presidential Debates</td>\n",
       "      <td>General-President</td>\n",
       "      <td>1992</td>\n",
       "      <td>Republican</td>\n",
       "      <td>81</td>\n",
       "      <td>Loser</td>\n",
       "      <td>well think one thing distinguishes experience ...</td>\n",
       "      <td>0.032392</td>\n",
       "      <td>0.000000</td>\n",
       "      <td>0.000000</td>\n",
       "      <td>0.000000</td>\n",
       "      <td>0.086368</td>\n",
       "    </tr>\n",
       "    <tr>\n",
       "      <th>7</th>\n",
       "      <td>The First Clinton-Bush-Perot Presidential Deb...</td>\n",
       "      <td>CLINTON: I believe experience counts, but it’s...</td>\n",
       "      <td>clinton</td>\n",
       "      <td>Commission for Presidential Debates</td>\n",
       "      <td>General-President</td>\n",
       "      <td>1992</td>\n",
       "      <td>Democrat</td>\n",
       "      <td>167</td>\n",
       "      <td>Winner</td>\n",
       "      <td>believe experience count ’ everything value ju...</td>\n",
       "      <td>0.015961</td>\n",
       "      <td>0.017202</td>\n",
       "      <td>0.022157</td>\n",
       "      <td>0.008847</td>\n",
       "      <td>0.117196</td>\n",
       "    </tr>\n",
       "  </tbody>\n",
       "</table>\n",
       "</div>"
      ],
      "text/plain": [
       "                                         Debate_Name  \\\n",
       "0   The First Clinton-Bush-Perot Presidential Deb...   \n",
       "1   The First Clinton-Bush-Perot Presidential Deb...   \n",
       "3   The First Clinton-Bush-Perot Presidential Deb...   \n",
       "5   The First Clinton-Bush-Perot Presidential Deb...   \n",
       "7   The First Clinton-Bush-Perot Presidential Deb...   \n",
       "\n",
       "                                          Transcript         Speaker  \\\n",
       "0  LEHRER: Good evening, and welcome to the first...          lehrer   \n",
       "1  PEROT: I think the principal that separates me...           perot   \n",
       "3  CLINTON: The most important distinction in thi...         clinton   \n",
       "5  PRESIDENT BUSH: Well, I think one thing that d...  president bush   \n",
       "7  CLINTON: I believe experience counts, but it’s...         clinton   \n",
       "\n",
       "                           Data_Source        Debate_Type  Year  \\\n",
       "0  Commission for Presidential Debates  General-President  1992   \n",
       "1  Commission for Presidential Debates  General-President  1992   \n",
       "3  Commission for Presidential Debates  General-President  1992   \n",
       "5  Commission for Presidential Debates  General-President  1992   \n",
       "7  Commission for Presidential Debates  General-President  1992   \n",
       "\n",
       "      Speaker_Type  line_length Election_Result  \\\n",
       "0  Moderator/Other          100             n/a   \n",
       "1      Independent           74           Loser   \n",
       "3         Democrat           45          Winner   \n",
       "5       Republican           81           Loser   \n",
       "7         Democrat          167          Winner   \n",
       "\n",
       "                                              string   Topic_1   Topic_2  \\\n",
       "0  good evening welcome first debate among major ...  0.049508  0.000000   \n",
       "1  think principal separate half million people c...  0.004736  0.001149   \n",
       "3  important distinction campaign represent real ...  0.008315  0.024117   \n",
       "5  well think one thing distinguishes experience ...  0.032392  0.000000   \n",
       "7  believe experience count ’ everything value ju...  0.015961  0.017202   \n",
       "\n",
       "    Topic_3   Topic_4   Topic_5  \n",
       "0  0.002104  0.001546  0.002318  \n",
       "1  0.002676  0.000000  0.097589  \n",
       "3  0.000000  0.000000  0.058548  \n",
       "5  0.000000  0.000000  0.086368  \n",
       "7  0.022157  0.008847  0.117196  "
      ]
     },
     "execution_count": 27,
     "metadata": {},
     "output_type": "execute_result"
    }
   ],
   "source": [
    "topic_df.head()"
   ]
  },
  {
   "cell_type": "markdown",
   "metadata": {},
   "source": [
    "### EDA Using Topics:"
   ]
  },
  {
   "cell_type": "code",
   "execution_count": null,
   "metadata": {},
   "outputs": [],
   "source": []
  },
  {
   "cell_type": "code",
   "execution_count": null,
   "metadata": {},
   "outputs": [],
   "source": []
  },
  {
   "cell_type": "code",
   "execution_count": null,
   "metadata": {},
   "outputs": [],
   "source": []
  },
  {
   "cell_type": "code",
   "execution_count": null,
   "metadata": {},
   "outputs": [],
   "source": []
  },
  {
   "cell_type": "code",
   "execution_count": null,
   "metadata": {},
   "outputs": [],
   "source": []
  },
  {
   "cell_type": "code",
   "execution_count": null,
   "metadata": {},
   "outputs": [],
   "source": []
  },
  {
   "cell_type": "code",
   "execution_count": null,
   "metadata": {},
   "outputs": [],
   "source": []
  },
  {
   "cell_type": "markdown",
   "metadata": {},
   "source": [
    "### Topic Modelling via LDA:"
   ]
  },
  {
   "cell_type": "code",
   "execution_count": 14,
   "metadata": {},
   "outputs": [],
   "source": [
    "from sklearn.decomposition import LatentDirichletAllocation as LDA"
   ]
  },
  {
   "cell_type": "code",
   "execution_count": 15,
   "metadata": {},
   "outputs": [],
   "source": [
    "lda_model = LDA(n_components = 5)"
   ]
  },
  {
   "cell_type": "code",
   "execution_count": 16,
   "metadata": {},
   "outputs": [
    {
     "data": {
      "text/plain": [
       "(4439, 5)"
      ]
     },
     "execution_count": 16,
     "metadata": {},
     "output_type": "execute_result"
    }
   ],
   "source": [
    "lda_doc_topic = lda_model.fit_transform(tf_term_document_matrix)\n",
    "lda_doc_topic.shape"
   ]
  },
  {
   "cell_type": "markdown",
   "metadata": {},
   "source": [
    "Pulling the top 10 words for each of the k topics:"
   ]
  },
  {
   "cell_type": "code",
   "execution_count": 17,
   "metadata": {
    "scrolled": false
   },
   "outputs": [
    {
     "name": "stdout",
     "output_type": "stream",
     "text": [
      "Topic 1:\n",
      "['make', 'state', 'right', 'united', 'know', 'world', 'war', 'one', 'going', 'people', 'think', 'would']\n",
      "\n",
      "\n",
      "Topic 2:\n",
      "['answer', 'league', 'second', 'first', 'court', 'two', 'voter', 'commission', 'thank', 'news', 'tonight', 'question']\n",
      "\n",
      "\n",
      "Topic 3:\n",
      "['health', 'care', 'need', 'job', 'make', 'one', 'would', 'get', 'think', 'going', 'tax', 'people']\n",
      "\n",
      "\n",
      "Topic 4:\n",
      "['chevy', 'shah', 'rangel', 'serial', 'prophecy', 'curing', 'upwards', 'crippling', 'tha', 'dust', 'panic', 'armageddon']\n",
      "\n",
      "\n",
      "Topic 5:\n",
      "['liheap', 'conversion', 'pastor', 'seller', 'xx', 'wallet', 'maker', 'mac', 'mae', 'immunity', 'fannie', 'freddie']\n",
      "\n",
      "\n"
     ]
    }
   ],
   "source": [
    "tf_words = vectorizer.get_feature_names()\n",
    "tf = lda_model.components_.argsort(axis=1)[:,-12:]\n",
    "tf_topic_words = [[tf_words[e] for e in l] for l in tf]\n",
    "for i, words in enumerate(tf_topic_words, 1):\n",
    "    print('Topic {}:'.format(i))\n",
    "    print(words)\n",
    "    print('\\n')"
   ]
  },
  {
   "cell_type": "markdown",
   "metadata": {},
   "source": [
    "These topics definitely make less sense as of now compared to NMF."
   ]
  },
  {
   "cell_type": "markdown",
   "metadata": {},
   "source": [
    "### Topic Modelling via LSA:"
   ]
  },
  {
   "cell_type": "markdown",
   "metadata": {},
   "source": [
    "For LSA, using TruncatedSVD:"
   ]
  },
  {
   "cell_type": "code",
   "execution_count": 18,
   "metadata": {},
   "outputs": [],
   "source": [
    "from sklearn.decomposition import TruncatedSVD"
   ]
  },
  {
   "cell_type": "code",
   "execution_count": 19,
   "metadata": {},
   "outputs": [
    {
     "data": {
      "text/plain": [
       "array([0.00291337, 0.00773774, 0.00568379, 0.00461147, 0.00401439])"
      ]
     },
     "execution_count": 19,
     "metadata": {},
     "output_type": "execute_result"
    }
   ],
   "source": [
    "lsa = TruncatedSVD(5)\n",
    "doc_topic = lsa.fit_transform(tf_term_document_matrix)\n",
    "lsa.explained_variance_ratio_"
   ]
  },
  {
   "cell_type": "markdown",
   "metadata": {},
   "source": [
    "Pulling the top 10 words for each of the k topics:"
   ]
  },
  {
   "cell_type": "code",
   "execution_count": 20,
   "metadata": {
    "scrolled": false
   },
   "outputs": [
    {
     "name": "stdout",
     "output_type": "stream",
     "text": [
      "Topic 1:\n",
      "['america', 'job', 'know', 'need', 'make', 'one', 'get', 'would', 'think', 'going', 'tax', 'people']\n",
      "\n",
      "\n",
      "Topic 2:\n",
      "['business', 'billion', 'budget', 'money', 'social', 'rate', 'pay', 'plan', 'income', 'percent', 'cut', 'tax']\n",
      "\n",
      "\n",
      "Topic 3:\n",
      "['affordable', 'education', 'people', 'cost', 'system', 'school', 'plan', 'medicare', 'child', 'insurance', 'care', 'health']\n",
      "\n",
      "\n",
      "Topic 4:\n",
      "['life', 'gun', 'family', 'student', 'public', 'parent', 'college', 'kid', 'teacher', 'child', 'education', 'school']\n",
      "\n",
      "\n",
      "Topic 5:\n",
      "['work', 'sure', 'business', 'need', 'trade', 'world', 'energy', 'people', 'america', 'economy', 'going', 'job']\n",
      "\n",
      "\n"
     ]
    }
   ],
   "source": [
    "tf_words = vectorizer.get_feature_names()\n",
    "tf = lsa.components_.argsort(axis=1)[:,-12:]\n",
    "tf_topic_words = [[tf_words[e] for e in l] for l in tf]\n",
    "for i, words in enumerate(tf_topic_words, 1):\n",
    "    print('Topic {}:'.format(i))\n",
    "    print(words)\n",
    "    print('\\n')"
   ]
  }
 ],
 "metadata": {
  "kernelspec": {
   "display_name": "Python [conda env:metis] *",
   "language": "python",
   "name": "conda-env-metis-py"
  },
  "language_info": {
   "codemirror_mode": {
    "name": "ipython",
    "version": 3
   },
   "file_extension": ".py",
   "mimetype": "text/x-python",
   "name": "python",
   "nbconvert_exporter": "python",
   "pygments_lexer": "ipython3",
   "version": "3.8.6"
  }
 },
 "nbformat": 4,
 "nbformat_minor": 4
}
