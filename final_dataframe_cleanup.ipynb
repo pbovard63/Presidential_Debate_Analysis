{
 "cells": [
  {
   "cell_type": "markdown",
   "metadata": {},
   "source": [
    "# Final Dataframe Cleanup"
   ]
  },
  {
   "cell_type": "markdown",
   "metadata": {},
   "source": [
    "The purpose of this notebook is to add additional columns for speaker type to the final_speaker_df.pickle file created in secondary_text_clean_speakers.ipynb.  This notebook will also have the text-preprocessing for NLP of this data."
   ]
  },
  {
   "cell_type": "markdown",
   "metadata": {},
   "source": [
    "Importing packages:"
   ]
  },
  {
   "cell_type": "code",
   "execution_count": 1,
   "metadata": {},
   "outputs": [],
   "source": [
    "import nltk\n",
    "import pandas as pd\n",
    "import numpy as np\n",
    "import pickle\n",
    "import matplotlib.pyplot as plt\n",
    "from pylab import rcParams\n",
    "%matplotlib inline\n",
    "rcParams['figure.figsize'] = 20,10"
   ]
  },
  {
   "cell_type": "markdown",
   "metadata": {},
   "source": [
    "Pickling in data:"
   ]
  },
  {
   "cell_type": "code",
   "execution_count": 2,
   "metadata": {},
   "outputs": [],
   "source": [
    "with open('Data/final_speaker_df.pickle','rb') as read_file:\n",
    "    speaker_df = pickle.load(read_file)"
   ]
  },
  {
   "cell_type": "markdown",
   "metadata": {},
   "source": [
    "Cleaning the speaker column to help with ID'ing the speakers:\n",
    "- make everything lowercase\n",
    "- remove common headers like sen., mr., ms., mrs."
   ]
  },
  {
   "cell_type": "code",
   "execution_count": 3,
   "metadata": {},
   "outputs": [],
   "source": [
    "for i, speaker in enumerate(speaker_df.Speaker):\n",
    "    lower_speaker = speaker.lower().strip(\".,\")\n",
    "    speaker_df.iloc[i, 3] = lower_speaker.replace(\"mr. \", \"\").replace(\"ms. \", \"\").replace(\"mrs. \", \"\").replace(\"sen. \", \"\").replace(\"gov. \", \"\").replace(\"mayor \",\"\").replace(\"rep. \", \"\")"
   ]
  },
  {
   "cell_type": "code",
   "execution_count": 4,
   "metadata": {},
   "outputs": [
    {
     "data": {
      "text/html": [
       "<div>\n",
       "<style scoped>\n",
       "    .dataframe tbody tr th:only-of-type {\n",
       "        vertical-align: middle;\n",
       "    }\n",
       "\n",
       "    .dataframe tbody tr th {\n",
       "        vertical-align: top;\n",
       "    }\n",
       "\n",
       "    .dataframe thead th {\n",
       "        text-align: right;\n",
       "    }\n",
       "</style>\n",
       "<table border=\"1\" class=\"dataframe\">\n",
       "  <thead>\n",
       "    <tr style=\"text-align: right;\">\n",
       "      <th></th>\n",
       "      <th>Date</th>\n",
       "      <th>Debate_Name</th>\n",
       "      <th>Transcript</th>\n",
       "      <th>Speaker</th>\n",
       "      <th>Data_Source</th>\n",
       "      <th>Debate_Type</th>\n",
       "    </tr>\n",
       "  </thead>\n",
       "  <tbody>\n",
       "    <tr>\n",
       "      <th>0</th>\n",
       "      <td>October 11, 1992</td>\n",
       "      <td>The First Clinton-Bush-Perot Presidential Deb...</td>\n",
       "      <td>LEHRER: Good evening, and welcome to the first...</td>\n",
       "      <td>lehrer</td>\n",
       "      <td>Commission for Presidential Debates</td>\n",
       "      <td>General-President</td>\n",
       "    </tr>\n",
       "    <tr>\n",
       "      <th>1</th>\n",
       "      <td>October 11, 1992</td>\n",
       "      <td>The First Clinton-Bush-Perot Presidential Deb...</td>\n",
       "      <td>PEROT: I think the principal that separates me...</td>\n",
       "      <td>perot</td>\n",
       "      <td>Commission for Presidential Debates</td>\n",
       "      <td>General-President</td>\n",
       "    </tr>\n",
       "    <tr>\n",
       "      <th>2</th>\n",
       "      <td>October 11, 1992</td>\n",
       "      <td>The First Clinton-Bush-Perot Presidential Deb...</td>\n",
       "      <td>LEHRER: Governor Clinton, a one minute response.</td>\n",
       "      <td>lehrer</td>\n",
       "      <td>Commission for Presidential Debates</td>\n",
       "      <td>General-President</td>\n",
       "    </tr>\n",
       "    <tr>\n",
       "      <th>3</th>\n",
       "      <td>October 11, 1992</td>\n",
       "      <td>The First Clinton-Bush-Perot Presidential Deb...</td>\n",
       "      <td>CLINTON: The most important distinction in thi...</td>\n",
       "      <td>clinton</td>\n",
       "      <td>Commission for Presidential Debates</td>\n",
       "      <td>General-President</td>\n",
       "    </tr>\n",
       "    <tr>\n",
       "      <th>4</th>\n",
       "      <td>October 11, 1992</td>\n",
       "      <td>The First Clinton-Bush-Perot Presidential Deb...</td>\n",
       "      <td>LEHRER: President Bush, one minute response, sir.</td>\n",
       "      <td>lehrer</td>\n",
       "      <td>Commission for Presidential Debates</td>\n",
       "      <td>General-President</td>\n",
       "    </tr>\n",
       "  </tbody>\n",
       "</table>\n",
       "</div>"
      ],
      "text/plain": [
       "               Date                                        Debate_Name  \\\n",
       "0  October 11, 1992   The First Clinton-Bush-Perot Presidential Deb...   \n",
       "1  October 11, 1992   The First Clinton-Bush-Perot Presidential Deb...   \n",
       "2  October 11, 1992   The First Clinton-Bush-Perot Presidential Deb...   \n",
       "3  October 11, 1992   The First Clinton-Bush-Perot Presidential Deb...   \n",
       "4  October 11, 1992   The First Clinton-Bush-Perot Presidential Deb...   \n",
       "\n",
       "                                          Transcript  Speaker  \\\n",
       "0  LEHRER: Good evening, and welcome to the first...   lehrer   \n",
       "1  PEROT: I think the principal that separates me...    perot   \n",
       "2   LEHRER: Governor Clinton, a one minute response.   lehrer   \n",
       "3  CLINTON: The most important distinction in thi...  clinton   \n",
       "4  LEHRER: President Bush, one minute response, sir.   lehrer   \n",
       "\n",
       "                           Data_Source        Debate_Type  \n",
       "0  Commission for Presidential Debates  General-President  \n",
       "1  Commission for Presidential Debates  General-President  \n",
       "2  Commission for Presidential Debates  General-President  \n",
       "3  Commission for Presidential Debates  General-President  \n",
       "4  Commission for Presidential Debates  General-President  "
      ]
     },
     "execution_count": 4,
     "metadata": {},
     "output_type": "execute_result"
    }
   ],
   "source": [
    "speaker_df.head()"
   ]
  },
  {
   "cell_type": "markdown",
   "metadata": {},
   "source": [
    "Adding a year column, since that will help with filtering:"
   ]
  },
  {
   "cell_type": "code",
   "execution_count": 5,
   "metadata": {},
   "outputs": [],
   "source": [
    "speaker_df['Date_Time_Date'] = pd.to_datetime(speaker_df['Date'])\n",
    "speaker_df.drop(columns=['Date'], inplace=True)"
   ]
  },
  {
   "cell_type": "code",
   "execution_count": 6,
   "metadata": {},
   "outputs": [],
   "source": [
    "speaker_df['Year'] = speaker_df.Date_Time_Date.dt.year"
   ]
  },
  {
   "cell_type": "code",
   "execution_count": 7,
   "metadata": {},
   "outputs": [
    {
     "data": {
      "text/html": [
       "<div>\n",
       "<style scoped>\n",
       "    .dataframe tbody tr th:only-of-type {\n",
       "        vertical-align: middle;\n",
       "    }\n",
       "\n",
       "    .dataframe tbody tr th {\n",
       "        vertical-align: top;\n",
       "    }\n",
       "\n",
       "    .dataframe thead th {\n",
       "        text-align: right;\n",
       "    }\n",
       "</style>\n",
       "<table border=\"1\" class=\"dataframe\">\n",
       "  <thead>\n",
       "    <tr style=\"text-align: right;\">\n",
       "      <th></th>\n",
       "      <th>Debate_Name</th>\n",
       "      <th>Transcript</th>\n",
       "      <th>Speaker</th>\n",
       "      <th>Data_Source</th>\n",
       "      <th>Debate_Type</th>\n",
       "      <th>Date_Time_Date</th>\n",
       "      <th>Year</th>\n",
       "    </tr>\n",
       "  </thead>\n",
       "  <tbody>\n",
       "    <tr>\n",
       "      <th>0</th>\n",
       "      <td>The First Clinton-Bush-Perot Presidential Deb...</td>\n",
       "      <td>LEHRER: Good evening, and welcome to the first...</td>\n",
       "      <td>lehrer</td>\n",
       "      <td>Commission for Presidential Debates</td>\n",
       "      <td>General-President</td>\n",
       "      <td>1992-10-11</td>\n",
       "      <td>1992</td>\n",
       "    </tr>\n",
       "    <tr>\n",
       "      <th>1</th>\n",
       "      <td>The First Clinton-Bush-Perot Presidential Deb...</td>\n",
       "      <td>PEROT: I think the principal that separates me...</td>\n",
       "      <td>perot</td>\n",
       "      <td>Commission for Presidential Debates</td>\n",
       "      <td>General-President</td>\n",
       "      <td>1992-10-11</td>\n",
       "      <td>1992</td>\n",
       "    </tr>\n",
       "    <tr>\n",
       "      <th>2</th>\n",
       "      <td>The First Clinton-Bush-Perot Presidential Deb...</td>\n",
       "      <td>LEHRER: Governor Clinton, a one minute response.</td>\n",
       "      <td>lehrer</td>\n",
       "      <td>Commission for Presidential Debates</td>\n",
       "      <td>General-President</td>\n",
       "      <td>1992-10-11</td>\n",
       "      <td>1992</td>\n",
       "    </tr>\n",
       "    <tr>\n",
       "      <th>3</th>\n",
       "      <td>The First Clinton-Bush-Perot Presidential Deb...</td>\n",
       "      <td>CLINTON: The most important distinction in thi...</td>\n",
       "      <td>clinton</td>\n",
       "      <td>Commission for Presidential Debates</td>\n",
       "      <td>General-President</td>\n",
       "      <td>1992-10-11</td>\n",
       "      <td>1992</td>\n",
       "    </tr>\n",
       "    <tr>\n",
       "      <th>4</th>\n",
       "      <td>The First Clinton-Bush-Perot Presidential Deb...</td>\n",
       "      <td>LEHRER: President Bush, one minute response, sir.</td>\n",
       "      <td>lehrer</td>\n",
       "      <td>Commission for Presidential Debates</td>\n",
       "      <td>General-President</td>\n",
       "      <td>1992-10-11</td>\n",
       "      <td>1992</td>\n",
       "    </tr>\n",
       "  </tbody>\n",
       "</table>\n",
       "</div>"
      ],
      "text/plain": [
       "                                         Debate_Name  \\\n",
       "0   The First Clinton-Bush-Perot Presidential Deb...   \n",
       "1   The First Clinton-Bush-Perot Presidential Deb...   \n",
       "2   The First Clinton-Bush-Perot Presidential Deb...   \n",
       "3   The First Clinton-Bush-Perot Presidential Deb...   \n",
       "4   The First Clinton-Bush-Perot Presidential Deb...   \n",
       "\n",
       "                                          Transcript  Speaker  \\\n",
       "0  LEHRER: Good evening, and welcome to the first...   lehrer   \n",
       "1  PEROT: I think the principal that separates me...    perot   \n",
       "2   LEHRER: Governor Clinton, a one minute response.   lehrer   \n",
       "3  CLINTON: The most important distinction in thi...  clinton   \n",
       "4  LEHRER: President Bush, one minute response, sir.   lehrer   \n",
       "\n",
       "                           Data_Source        Debate_Type Date_Time_Date  Year  \n",
       "0  Commission for Presidential Debates  General-President     1992-10-11  1992  \n",
       "1  Commission for Presidential Debates  General-President     1992-10-11  1992  \n",
       "2  Commission for Presidential Debates  General-President     1992-10-11  1992  \n",
       "3  Commission for Presidential Debates  General-President     1992-10-11  1992  \n",
       "4  Commission for Presidential Debates  General-President     1992-10-11  1992  "
      ]
     },
     "execution_count": 7,
     "metadata": {},
     "output_type": "execute_result"
    }
   ],
   "source": [
    "speaker_df.head()"
   ]
  },
  {
   "cell_type": "code",
   "execution_count": 8,
   "metadata": {},
   "outputs": [
    {
     "data": {
      "text/plain": [
       "(76700, 7)"
      ]
     },
     "execution_count": 8,
     "metadata": {},
     "output_type": "execute_result"
    }
   ],
   "source": [
    "speaker_df.shape"
   ]
  },
  {
   "cell_type": "markdown",
   "metadata": {},
   "source": [
    "Removing Transcript rows with \"(Applause)\" or \"(laughter)\" as the only text:"
   ]
  },
  {
   "cell_type": "code",
   "execution_count": 9,
   "metadata": {},
   "outputs": [
    {
     "data": {
      "text/plain": [
       "(76657, 7)"
      ]
     },
     "execution_count": 9,
     "metadata": {},
     "output_type": "execute_result"
    }
   ],
   "source": [
    "del_rows = []\n",
    "for i, transcript in enumerate(speaker_df.Transcript):\n",
    "    text = transcript.lower()\n",
    "    if text == '(laughter)' or text == '(applause)' or text == '(applause.)':\n",
    "        del_rows.append(i)\n",
    "speaker_df.drop(del_rows, inplace=True)\n",
    "speaker_df.shape"
   ]
  },
  {
   "cell_type": "markdown",
   "metadata": {},
   "source": [
    "## Updating Initial Data:"
   ]
  },
  {
   "cell_type": "markdown",
   "metadata": {},
   "source": [
    "To help with seeing the effects of NLP, I am going to add a column for speaker type (candidate, moderator, etc.)."
   ]
  },
  {
   "cell_type": "code",
   "execution_count": 10,
   "metadata": {},
   "outputs": [
    {
     "data": {
      "text/html": [
       "<div>\n",
       "<style scoped>\n",
       "    .dataframe tbody tr th:only-of-type {\n",
       "        vertical-align: middle;\n",
       "    }\n",
       "\n",
       "    .dataframe tbody tr th {\n",
       "        vertical-align: top;\n",
       "    }\n",
       "\n",
       "    .dataframe thead th {\n",
       "        text-align: right;\n",
       "    }\n",
       "</style>\n",
       "<table border=\"1\" class=\"dataframe\">\n",
       "  <thead>\n",
       "    <tr style=\"text-align: right;\">\n",
       "      <th></th>\n",
       "      <th>Debate_Name</th>\n",
       "      <th>Transcript</th>\n",
       "      <th>Speaker</th>\n",
       "      <th>Data_Source</th>\n",
       "      <th>Debate_Type</th>\n",
       "      <th>Date_Time_Date</th>\n",
       "      <th>Year</th>\n",
       "      <th>Speaker_Type</th>\n",
       "    </tr>\n",
       "  </thead>\n",
       "  <tbody>\n",
       "    <tr>\n",
       "      <th>0</th>\n",
       "      <td>The First Clinton-Bush-Perot Presidential Deb...</td>\n",
       "      <td>LEHRER: Good evening, and welcome to the first...</td>\n",
       "      <td>lehrer</td>\n",
       "      <td>Commission for Presidential Debates</td>\n",
       "      <td>General-President</td>\n",
       "      <td>1992-10-11</td>\n",
       "      <td>1992</td>\n",
       "      <td>none_listed</td>\n",
       "    </tr>\n",
       "    <tr>\n",
       "      <th>1</th>\n",
       "      <td>The First Clinton-Bush-Perot Presidential Deb...</td>\n",
       "      <td>PEROT: I think the principal that separates me...</td>\n",
       "      <td>perot</td>\n",
       "      <td>Commission for Presidential Debates</td>\n",
       "      <td>General-President</td>\n",
       "      <td>1992-10-11</td>\n",
       "      <td>1992</td>\n",
       "      <td>none_listed</td>\n",
       "    </tr>\n",
       "    <tr>\n",
       "      <th>2</th>\n",
       "      <td>The First Clinton-Bush-Perot Presidential Deb...</td>\n",
       "      <td>LEHRER: Governor Clinton, a one minute response.</td>\n",
       "      <td>lehrer</td>\n",
       "      <td>Commission for Presidential Debates</td>\n",
       "      <td>General-President</td>\n",
       "      <td>1992-10-11</td>\n",
       "      <td>1992</td>\n",
       "      <td>none_listed</td>\n",
       "    </tr>\n",
       "    <tr>\n",
       "      <th>3</th>\n",
       "      <td>The First Clinton-Bush-Perot Presidential Deb...</td>\n",
       "      <td>CLINTON: The most important distinction in thi...</td>\n",
       "      <td>clinton</td>\n",
       "      <td>Commission for Presidential Debates</td>\n",
       "      <td>General-President</td>\n",
       "      <td>1992-10-11</td>\n",
       "      <td>1992</td>\n",
       "      <td>none_listed</td>\n",
       "    </tr>\n",
       "    <tr>\n",
       "      <th>4</th>\n",
       "      <td>The First Clinton-Bush-Perot Presidential Deb...</td>\n",
       "      <td>LEHRER: President Bush, one minute response, sir.</td>\n",
       "      <td>lehrer</td>\n",
       "      <td>Commission for Presidential Debates</td>\n",
       "      <td>General-President</td>\n",
       "      <td>1992-10-11</td>\n",
       "      <td>1992</td>\n",
       "      <td>none_listed</td>\n",
       "    </tr>\n",
       "  </tbody>\n",
       "</table>\n",
       "</div>"
      ],
      "text/plain": [
       "                                         Debate_Name  \\\n",
       "0   The First Clinton-Bush-Perot Presidential Deb...   \n",
       "1   The First Clinton-Bush-Perot Presidential Deb...   \n",
       "2   The First Clinton-Bush-Perot Presidential Deb...   \n",
       "3   The First Clinton-Bush-Perot Presidential Deb...   \n",
       "4   The First Clinton-Bush-Perot Presidential Deb...   \n",
       "\n",
       "                                          Transcript  Speaker  \\\n",
       "0  LEHRER: Good evening, and welcome to the first...   lehrer   \n",
       "1  PEROT: I think the principal that separates me...    perot   \n",
       "2   LEHRER: Governor Clinton, a one minute response.   lehrer   \n",
       "3  CLINTON: The most important distinction in thi...  clinton   \n",
       "4  LEHRER: President Bush, one minute response, sir.   lehrer   \n",
       "\n",
       "                           Data_Source        Debate_Type Date_Time_Date  \\\n",
       "0  Commission for Presidential Debates  General-President     1992-10-11   \n",
       "1  Commission for Presidential Debates  General-President     1992-10-11   \n",
       "2  Commission for Presidential Debates  General-President     1992-10-11   \n",
       "3  Commission for Presidential Debates  General-President     1992-10-11   \n",
       "4  Commission for Presidential Debates  General-President     1992-10-11   \n",
       "\n",
       "   Year Speaker_Type  \n",
       "0  1992  none_listed  \n",
       "1  1992  none_listed  \n",
       "2  1992  none_listed  \n",
       "3  1992  none_listed  \n",
       "4  1992  none_listed  "
      ]
     },
     "execution_count": 10,
     "metadata": {},
     "output_type": "execute_result"
    }
   ],
   "source": [
    "speaker_df['Speaker_Type'] = 'none_listed'\n",
    "speaker_df.head()"
   ]
  },
  {
   "cell_type": "code",
   "execution_count": 11,
   "metadata": {
    "scrolled": true
   },
   "outputs": [
    {
     "data": {
      "text/plain": [
       "clinton          3337\n",
       "romney           2798\n",
       "trump            2432\n",
       "biden            2407\n",
       "sanders          2256\n",
       "mccain           2127\n",
       "blitzer          2091\n",
       "obama            2071\n",
       "paul             1652\n",
       "bush             1590\n",
       "cooper           1412\n",
       "edwards          1321\n",
       "gore             1296\n",
       "santorum         1287\n",
       "moderator        1275\n",
       "huckabee         1040\n",
       "king             1029\n",
       "the president    1006\n",
       "wallace          1000\n",
       "gingrich          971\n",
       "Name: Speaker, dtype: int64"
      ]
     },
     "execution_count": 11,
     "metadata": {},
     "output_type": "execute_result"
    }
   ],
   "source": [
    "speaker_df.Speaker.value_counts().head(20)"
   ]
  },
  {
   "cell_type": "markdown",
   "metadata": {},
   "source": [
    "### As a note, I am iterating through the below, entering in the names I get into the right category and then re-running to see who the new names that pop up are."
   ]
  },
  {
   "cell_type": "markdown",
   "metadata": {},
   "source": [
    "This list contains a mix of candidates and moderators.  I'll create a database of common republicans, democrats, and moderators from these, to at least get those taken care of:"
   ]
  },
  {
   "cell_type": "code",
   "execution_count": 42,
   "metadata": {},
   "outputs": [],
   "source": [
    "republicans = ['steve forbes','john mccain','kemp','orrin hatch','gary bauer','alan keyes','j. king','reagan','romney. ','nixon','ford','amb. keyes','walker','sen thompson','pawlenty','gilmore','rep. tancredo','palin','tancredo','brownback','hunter','romney.','rep. hunter','mayor giuliani','hatch','quayle','rep. paul','pataki','cheney','senator dole','huntsman','bauer','thompson','jindal','trump', 'romney', 'paul', 'santorum', 'mccain', 'bush', 'gingrich', 'rubio', 'huckabee', 'cruz', 'giuliani', 'kasich', 'bachmann', 'keyes', 'christie', 'forbes', 'cain', 'fiorina', 'pence', 'carson', 'graham', 'perry', 'president bush']\n",
    "democrats = ['bentsen','ferraro','swalwell','clark','bennet','chafee','hickenlooper','kennedy','webb','dean','williamson','carter','de blasio','inslee','delaney','kerry','gillibrand','gabbard','sharpton','lieberman','dukakis','senator obama','senator clinton','mondale','castro','bloomberg',\"o'rourke\",'gravel','yang','rep. kucinich','steyer','booker','richardson','bradley','kaine','senator kerry','clinton', 'sanders', 'obama', 'gore', 'edwards', 'biden', 'warren', 'klobuchar', 'buttigieg', ' obama', ' clinton', \"o'malley\", 'dodd', 'kucinich']\n",
    "moderators = ['epperson',\"o'brien\",'frederick','moyers','ferrechio','q. ','member of audience','calderon','mcelveen','greenfield','goldman','parker','brennan','george','vanocur','(unknown)','hauc','s. king','alcindor','york','davis','distaso','shadel','mcgee','demint','malveaux','arrarás','jackson','nawaz','bullock','baker','hook', 'novak','salinas','lacey','spradling','tumulty','pfannenstiel', 'phillip','newman','alberta','burnett','bachman','announcer','schieffer. ','cameron','unidentified male','cokie roberts','q','question','mitchell','stanton','gregory','crowley','vaughn','koppel',\"o'donnell\",'sawyer','ramos','bruno','page','matthews','seib','quijano','pelley','garrett','walters','regan','smith','goler','unknown','brown','maccallum','hemmer','cavuto','quick','quintanilla','griffith','rose','welker','schieffer','jennings','guthrie','harwood','washburn','hewitt','ryerson','dickerson','cuomo','lemon','olbermann','ifill','smiley','maddow','bartiromo','williams','diaz-balart','shaw','gibson','woodruff','bash','cooper', 'blitzer', 'moderator', 'king', 'wallace', 'tapper', 'baier', 'mr. blitzer', 'russert', 'stephanopoulos', 'lehrer', 'holt', 'hume', 'todd', 'brokaw', 'muir', 'raddatz', 'kelly']\n",
    "independents = ['stockdale','perot']"
   ]
  },
  {
   "cell_type": "markdown",
   "metadata": {},
   "source": [
    "Loop specifically for speaker of \"The President:\""
   ]
  },
  {
   "cell_type": "code",
   "execution_count": 43,
   "metadata": {},
   "outputs": [],
   "source": [
    "for i, speaker in enumerate(speaker_df.Speaker):\n",
    "    if speaker == 'the president':\n",
    "        if speaker_df.iloc[i, 6] == 1984:\n",
    "            speaker_df.iloc[i, 7] = 'Republican'\n",
    "            speaker_df.iloc[i, 2] = 'reagan'\n",
    "        elif speaker_df.iloc[i, 6] == 1996:\n",
    "            speaker_df.iloc[i, 7] = 'Democrat'\n",
    "            speaker_df.iloc[i, 2] = 'clinton'\n",
    "        elif speaker_df.iloc[i, 6] == 2012:\n",
    "            speaker_df.iloc[i, 7] = 'Democrat'\n",
    "            speaker_df.iloc[i, 2] = 'obama'\n",
    "        else:\n",
    "            speaker_df.iloc[i, 7] = 'Republican'\n",
    "            speaker_df.iloc[i, 2] = 'trump'"
   ]
  },
  {
   "cell_type": "markdown",
   "metadata": {},
   "source": [
    "Looping through above lists:"
   ]
  },
  {
   "cell_type": "code",
   "execution_count": 44,
   "metadata": {},
   "outputs": [],
   "source": [
    "for i, speaker in enumerate(speaker_df.Speaker):\n",
    "    #Kamala Harris and a moderator:\n",
    "    if speaker == 'harris':\n",
    "        if speaker_df.iloc[i, 6] == 2011:\n",
    "            speaker_df.iloc[i, 7] = 'Moderator/Other'\n",
    "        else:\n",
    "            speaker_df.iloc[i, 7] = 'Democrat'\n",
    "    #Paul Ryan in 2012, Tim Ryan in 2019:\n",
    "    if speaker == 'ryan':\n",
    "        if speaker_df.iloc[i, 6] == 2012:\n",
    "            speaker_df.iloc[i, 7] = 'Republican'\n",
    "        else:\n",
    "            speaker_df.iloc[i, 7] = 'Democrat'\n",
    "    #Looping through above lists:\n",
    "    if speaker in republicans:\n",
    "        speaker_df.iloc[i,7] = 'Republican'\n",
    "    elif speaker in democrats:\n",
    "        speaker_df.iloc[i,7] = 'Democrat'\n",
    "    elif speaker in moderators:\n",
    "        speaker_df.iloc[i,7] = 'Moderator/Other'\n",
    "    elif speaker in independents:\n",
    "        speaker_df.iloc[i, 7] = 'Independent'\n",
    "    #else:\n",
    "    #    speaker_df.iloc[i,7] = 'Moderator/Other'"
   ]
  },
  {
   "cell_type": "code",
   "execution_count": 45,
   "metadata": {},
   "outputs": [
    {
     "data": {
      "text/plain": [
       "Republican         26877\n",
       "Moderator/Other    24992\n",
       "Democrat           22427\n",
       "none_listed         2274\n",
       "Independent           87\n",
       "Name: Speaker_Type, dtype: int64"
      ]
     },
     "execution_count": 45,
     "metadata": {},
     "output_type": "execute_result"
    }
   ],
   "source": [
    "speaker_df['Speaker_Type'].value_counts()"
   ]
  },
  {
   "cell_type": "markdown",
   "metadata": {},
   "source": [
    "Iterating through to see some of the next top names:"
   ]
  },
  {
   "cell_type": "code",
   "execution_count": 46,
   "metadata": {},
   "outputs": [],
   "source": [
    "filter_df = speaker_df[speaker_df['Speaker_Type'] == 'none_listed']"
   ]
  },
  {
   "cell_type": "code",
   "execution_count": 48,
   "metadata": {},
   "outputs": [
    {
     "data": {
      "text/plain": [
       "kilminster                                             1\n",
       "mandy garber                                           1\n",
       "greenberg                                              1\n",
       "tax rates/job creation                                 1\n",
       "hillary clinton                                        1\n",
       "role of the federal government                         1\n",
       "gergen                                                 1\n",
       "2012 presidential election/perception of candidates    1\n",
       "singiser                                               1\n",
       "small-business promotion/education                     1\n",
       "number two                                             1\n",
       "israel/the president's foreign policy agenda           1\n",
       "alonso                                                 1\n",
       "gen. chuck yeager (usaf, ret.)                         1\n",
       "nikki washington                                       1\n",
       "gloria borger                                          1\n",
       "health care for senior citizens/medicare               1\n",
       "sander vanocur                                         1\n",
       "responding to american youth                           1\n",
       "adam florzak                                           1\n",
       "iran/the president's foreign policy agenda/israel      1\n",
       "wilkins                                                1\n",
       "presidential decisionmaking/funding u.s. troops        1\n",
       "[unknown]                                              1\n",
       "president's judgment on foreign policy                 1\n",
       "Name: Speaker, dtype: int64"
      ]
     },
     "execution_count": 48,
     "metadata": {},
     "output_type": "execute_result"
    }
   ],
   "source": [
    "filter_df.Speaker.value_counts().tail(25)"
   ]
  },
  {
   "cell_type": "markdown",
   "metadata": {},
   "source": [
    "**Below is a general formula to plug in and filter names for determining which bucket they are in:**"
   ]
  },
  {
   "cell_type": "code",
   "execution_count": null,
   "metadata": {
    "scrolled": true
   },
   "outputs": [],
   "source": [
    "filter_df[filter_df.Speaker == \"kemp\"].Date_Time_Date.value_counts()"
   ]
  },
  {
   "cell_type": "code",
   "execution_count": null,
   "metadata": {
    "scrolled": true
   },
   "outputs": [],
   "source": [
    "filter_df[filter_df.Speaker == \"kemp\"].Debate_Name.value_counts()"
   ]
  },
  {
   "cell_type": "code",
   "execution_count": null,
   "metadata": {},
   "outputs": [],
   "source": [
    "filter_df[filter_df.Speaker == '(applause)'].Data_Source.value_counts()"
   ]
  },
  {
   "cell_type": "code",
   "execution_count": 41,
   "metadata": {
    "scrolled": true
   },
   "outputs": [
    {
     "data": {
      "text/html": [
       "<div>\n",
       "<style scoped>\n",
       "    .dataframe tbody tr th:only-of-type {\n",
       "        vertical-align: middle;\n",
       "    }\n",
       "\n",
       "    .dataframe tbody tr th {\n",
       "        vertical-align: top;\n",
       "    }\n",
       "\n",
       "    .dataframe thead th {\n",
       "        text-align: right;\n",
       "    }\n",
       "</style>\n",
       "<table border=\"1\" class=\"dataframe\">\n",
       "  <thead>\n",
       "    <tr style=\"text-align: right;\">\n",
       "      <th></th>\n",
       "      <th>Debate_Name</th>\n",
       "      <th>Transcript</th>\n",
       "      <th>Speaker</th>\n",
       "      <th>Data_Source</th>\n",
       "      <th>Debate_Type</th>\n",
       "      <th>Date_Time_Date</th>\n",
       "      <th>Year</th>\n",
       "      <th>Speaker_Type</th>\n",
       "    </tr>\n",
       "  </thead>\n",
       "  <tbody>\n",
       "    <tr>\n",
       "      <th>27417</th>\n",
       "      <td>Republican Candidates Debate in Cleveland, Ohio</td>\n",
       "      <td>To treat the mentally ill. Ten thousand of the...</td>\n",
       "      <td></td>\n",
       "      <td>American Presidency Project</td>\n",
       "      <td>Primary-Republican</td>\n",
       "      <td>2015-08-06</td>\n",
       "      <td>2015</td>\n",
       "      <td>none_listed</td>\n",
       "    </tr>\n",
       "    <tr>\n",
       "      <th>27418</th>\n",
       "      <td>Republican Candidates Debate in Cleveland, Ohio</td>\n",
       "      <td>Secondly, we are rehabbing the drug-addicted. ...</td>\n",
       "      <td></td>\n",
       "      <td>American Presidency Project</td>\n",
       "      <td>Primary-Republican</td>\n",
       "      <td>2015-08-06</td>\n",
       "      <td>2015</td>\n",
       "      <td>none_listed</td>\n",
       "    </tr>\n",
       "    <tr>\n",
       "      <th>27419</th>\n",
       "      <td>Republican Candidates Debate in Cleveland, Ohio</td>\n",
       "      <td>So we're treating them and getting them on the...</td>\n",
       "      <td></td>\n",
       "      <td>American Presidency Project</td>\n",
       "      <td>Primary-Republican</td>\n",
       "      <td>2015-08-06</td>\n",
       "      <td>2015</td>\n",
       "      <td>none_listed</td>\n",
       "    </tr>\n",
       "    <tr>\n",
       "      <th>27420</th>\n",
       "      <td>Republican Candidates Debate in Cleveland, Ohio</td>\n",
       "      <td>And do you know what?</td>\n",
       "      <td></td>\n",
       "      <td>American Presidency Project</td>\n",
       "      <td>Primary-Republican</td>\n",
       "      <td>2015-08-06</td>\n",
       "      <td>2015</td>\n",
       "      <td>none_listed</td>\n",
       "    </tr>\n",
       "    <tr>\n",
       "      <th>27421</th>\n",
       "      <td>Republican Candidates Debate in Cleveland, Ohio</td>\n",
       "      <td>Everybody has a right to their God-given purpose.</td>\n",
       "      <td></td>\n",
       "      <td>American Presidency Project</td>\n",
       "      <td>Primary-Republican</td>\n",
       "      <td>2015-08-06</td>\n",
       "      <td>2015</td>\n",
       "      <td>none_listed</td>\n",
       "    </tr>\n",
       "    <tr>\n",
       "      <th>27422</th>\n",
       "      <td>Republican Candidates Debate in Cleveland, Ohio</td>\n",
       "      <td>And finally, our Medicaid is growing at one of...</td>\n",
       "      <td></td>\n",
       "      <td>American Presidency Project</td>\n",
       "      <td>Primary-Republican</td>\n",
       "      <td>2015-08-06</td>\n",
       "      <td>2015</td>\n",
       "      <td>none_listed</td>\n",
       "    </tr>\n",
       "    <tr>\n",
       "      <th>27430</th>\n",
       "      <td>Republican Candidates Debate in Cleveland, Ohio</td>\n",
       "      <td>And there should be a path to earned legal sta...</td>\n",
       "      <td></td>\n",
       "      <td>American Presidency Project</td>\n",
       "      <td>Primary-Republican</td>\n",
       "      <td>2015-08-06</td>\n",
       "      <td>2015</td>\n",
       "      <td>none_listed</td>\n",
       "    </tr>\n",
       "    <tr>\n",
       "      <th>53003</th>\n",
       "      <td>Democratic Candidates Debate in Manchester, Ne...</td>\n",
       "      <td>MR. : Can you put your mike up?</td>\n",
       "      <td></td>\n",
       "      <td>American Presidency Project</td>\n",
       "      <td>Primary-Democrat</td>\n",
       "      <td>2007-06-03</td>\n",
       "      <td>2007</td>\n",
       "      <td>none_listed</td>\n",
       "    </tr>\n",
       "    <tr>\n",
       "      <th>53005</th>\n",
       "      <td>Democratic Candidates Debate in Manchester, Ne...</td>\n",
       "      <td>MR. : Hard to --</td>\n",
       "      <td></td>\n",
       "      <td>American Presidency Project</td>\n",
       "      <td>Primary-Democrat</td>\n",
       "      <td>2007-06-03</td>\n",
       "      <td>2007</td>\n",
       "      <td>none_listed</td>\n",
       "    </tr>\n",
       "    <tr>\n",
       "      <th>53006</th>\n",
       "      <td>Democratic Candidates Debate in Manchester, Ne...</td>\n",
       "      <td>MR. : Can't hear you.</td>\n",
       "      <td></td>\n",
       "      <td>American Presidency Project</td>\n",
       "      <td>Primary-Democrat</td>\n",
       "      <td>2007-06-03</td>\n",
       "      <td>2007</td>\n",
       "      <td>none_listed</td>\n",
       "    </tr>\n",
       "    <tr>\n",
       "      <th>53010</th>\n",
       "      <td>Democratic Candidates Debate in Manchester, Ne...</td>\n",
       "      <td>MR. : I still can't hear him.</td>\n",
       "      <td></td>\n",
       "      <td>American Presidency Project</td>\n",
       "      <td>Primary-Democrat</td>\n",
       "      <td>2007-06-03</td>\n",
       "      <td>2007</td>\n",
       "      <td>none_listed</td>\n",
       "    </tr>\n",
       "    <tr>\n",
       "      <th>53011</th>\n",
       "      <td>Democratic Candidates Debate in Manchester, Ne...</td>\n",
       "      <td>MR. : Can you hear him?</td>\n",
       "      <td></td>\n",
       "      <td>American Presidency Project</td>\n",
       "      <td>Primary-Democrat</td>\n",
       "      <td>2007-06-03</td>\n",
       "      <td>2007</td>\n",
       "      <td>none_listed</td>\n",
       "    </tr>\n",
       "    <tr>\n",
       "      <th>53129</th>\n",
       "      <td>Democratic Candidates Debate in Manchester, Ne...</td>\n",
       "      <td>SEN. : That's not true.</td>\n",
       "      <td></td>\n",
       "      <td>American Presidency Project</td>\n",
       "      <td>Primary-Democrat</td>\n",
       "      <td>2007-06-03</td>\n",
       "      <td>2007</td>\n",
       "      <td>none_listed</td>\n",
       "    </tr>\n",
       "    <tr>\n",
       "      <th>59080</th>\n",
       "      <td>Republican Candidates Debate in Dearborn, Mich...</td>\n",
       "      <td>MR. : Governor --</td>\n",
       "      <td></td>\n",
       "      <td>American Presidency Project</td>\n",
       "      <td>Primary-Republican</td>\n",
       "      <td>2007-10-09</td>\n",
       "      <td>2007</td>\n",
       "      <td>none_listed</td>\n",
       "    </tr>\n",
       "    <tr>\n",
       "      <th>60034</th>\n",
       "      <td>Republican Candidates Debate in Durham, New Ha...</td>\n",
       "      <td>MR. : (Inaudible.) (Laughter, applause.)</td>\n",
       "      <td></td>\n",
       "      <td>American Presidency Project</td>\n",
       "      <td>Primary-Republican</td>\n",
       "      <td>2007-09-05</td>\n",
       "      <td>2007</td>\n",
       "      <td>none_listed</td>\n",
       "    </tr>\n",
       "    <tr>\n",
       "      <th>60035</th>\n",
       "      <td>Republican Candidates Debate in Durham, New Ha...</td>\n",
       "      <td>(Cross talk.)</td>\n",
       "      <td></td>\n",
       "      <td>American Presidency Project</td>\n",
       "      <td>Primary-Republican</td>\n",
       "      <td>2007-09-05</td>\n",
       "      <td>2007</td>\n",
       "      <td>none_listed</td>\n",
       "    </tr>\n",
       "    <tr>\n",
       "      <th>61629</th>\n",
       "      <td>Republican Candidates Debate in Columbia, Sout...</td>\n",
       "      <td>MR. : (Off mike) -- a better one. (Laughter co...</td>\n",
       "      <td></td>\n",
       "      <td>American Presidency Project</td>\n",
       "      <td>Primary-Republican</td>\n",
       "      <td>2007-05-15</td>\n",
       "      <td>2007</td>\n",
       "      <td>none_listed</td>\n",
       "    </tr>\n",
       "    <tr>\n",
       "      <th>61630</th>\n",
       "      <td>Republican Candidates Debate in Columbia, Sout...</td>\n",
       "      <td>(Cheers, applause.)</td>\n",
       "      <td></td>\n",
       "      <td>American Presidency Project</td>\n",
       "      <td>Primary-Republican</td>\n",
       "      <td>2007-05-15</td>\n",
       "      <td>2007</td>\n",
       "      <td>none_listed</td>\n",
       "    </tr>\n",
       "    <tr>\n",
       "      <th>61778</th>\n",
       "      <td>Republican Candidates Debate in Columbia, Sout...</td>\n",
       "      <td>MR. : (Laughs.) (Applause.)</td>\n",
       "      <td></td>\n",
       "      <td>American Presidency Project</td>\n",
       "      <td>Primary-Republican</td>\n",
       "      <td>2007-05-15</td>\n",
       "      <td>2007</td>\n",
       "      <td>none_listed</td>\n",
       "    </tr>\n",
       "    <tr>\n",
       "      <th>61779</th>\n",
       "      <td>Republican Candidates Debate in Columbia, Sout...</td>\n",
       "      <td>MR. : Want to give him a follow-up?</td>\n",
       "      <td></td>\n",
       "      <td>American Presidency Project</td>\n",
       "      <td>Primary-Republican</td>\n",
       "      <td>2007-05-15</td>\n",
       "      <td>2007</td>\n",
       "      <td>none_listed</td>\n",
       "    </tr>\n",
       "    <tr>\n",
       "      <th>61808</th>\n",
       "      <td>Republican Candidates Debate in Columbia, Sout...</td>\n",
       "      <td>MR. : No, no, no, wait a second. Let's -- we'l...</td>\n",
       "      <td></td>\n",
       "      <td>American Presidency Project</td>\n",
       "      <td>Primary-Republican</td>\n",
       "      <td>2007-05-15</td>\n",
       "      <td>2007</td>\n",
       "      <td>none_listed</td>\n",
       "    </tr>\n",
       "    <tr>\n",
       "      <th>61809</th>\n",
       "      <td>Republican Candidates Debate in Columbia, Sout...</td>\n",
       "      <td>(Cross talk.)</td>\n",
       "      <td></td>\n",
       "      <td>American Presidency Project</td>\n",
       "      <td>Primary-Republican</td>\n",
       "      <td>2007-05-15</td>\n",
       "      <td>2007</td>\n",
       "      <td>none_listed</td>\n",
       "    </tr>\n",
       "    <tr>\n",
       "      <th>61812</th>\n",
       "      <td>Republican Candidates Debate in Columbia, Sout...</td>\n",
       "      <td>MR. : We all want 30 seconds of time --</td>\n",
       "      <td></td>\n",
       "      <td>American Presidency Project</td>\n",
       "      <td>Primary-Republican</td>\n",
       "      <td>2007-05-15</td>\n",
       "      <td>2007</td>\n",
       "      <td>none_listed</td>\n",
       "    </tr>\n",
       "  </tbody>\n",
       "</table>\n",
       "</div>"
      ],
      "text/plain": [
       "                                             Debate_Name  \\\n",
       "27417    Republican Candidates Debate in Cleveland, Ohio   \n",
       "27418    Republican Candidates Debate in Cleveland, Ohio   \n",
       "27419    Republican Candidates Debate in Cleveland, Ohio   \n",
       "27420    Republican Candidates Debate in Cleveland, Ohio   \n",
       "27421    Republican Candidates Debate in Cleveland, Ohio   \n",
       "27422    Republican Candidates Debate in Cleveland, Ohio   \n",
       "27430    Republican Candidates Debate in Cleveland, Ohio   \n",
       "53003  Democratic Candidates Debate in Manchester, Ne...   \n",
       "53005  Democratic Candidates Debate in Manchester, Ne...   \n",
       "53006  Democratic Candidates Debate in Manchester, Ne...   \n",
       "53010  Democratic Candidates Debate in Manchester, Ne...   \n",
       "53011  Democratic Candidates Debate in Manchester, Ne...   \n",
       "53129  Democratic Candidates Debate in Manchester, Ne...   \n",
       "59080  Republican Candidates Debate in Dearborn, Mich...   \n",
       "60034  Republican Candidates Debate in Durham, New Ha...   \n",
       "60035  Republican Candidates Debate in Durham, New Ha...   \n",
       "61629  Republican Candidates Debate in Columbia, Sout...   \n",
       "61630  Republican Candidates Debate in Columbia, Sout...   \n",
       "61778  Republican Candidates Debate in Columbia, Sout...   \n",
       "61779  Republican Candidates Debate in Columbia, Sout...   \n",
       "61808  Republican Candidates Debate in Columbia, Sout...   \n",
       "61809  Republican Candidates Debate in Columbia, Sout...   \n",
       "61812  Republican Candidates Debate in Columbia, Sout...   \n",
       "\n",
       "                                              Transcript Speaker  \\\n",
       "27417  To treat the mentally ill. Ten thousand of the...           \n",
       "27418  Secondly, we are rehabbing the drug-addicted. ...           \n",
       "27419  So we're treating them and getting them on the...           \n",
       "27420                              And do you know what?           \n",
       "27421  Everybody has a right to their God-given purpose.           \n",
       "27422  And finally, our Medicaid is growing at one of...           \n",
       "27430  And there should be a path to earned legal sta...           \n",
       "53003                    MR. : Can you put your mike up?           \n",
       "53005                                   MR. : Hard to --           \n",
       "53006                              MR. : Can't hear you.           \n",
       "53010                      MR. : I still can't hear him.           \n",
       "53011                            MR. : Can you hear him?           \n",
       "53129                            SEN. : That's not true.           \n",
       "59080                                  MR. : Governor --           \n",
       "60034           MR. : (Inaudible.) (Laughter, applause.)           \n",
       "60035                                      (Cross talk.)           \n",
       "61629  MR. : (Off mike) -- a better one. (Laughter co...           \n",
       "61630                                (Cheers, applause.)           \n",
       "61778                        MR. : (Laughs.) (Applause.)           \n",
       "61779                MR. : Want to give him a follow-up?           \n",
       "61808  MR. : No, no, no, wait a second. Let's -- we'l...           \n",
       "61809                                      (Cross talk.)           \n",
       "61812            MR. : We all want 30 seconds of time --           \n",
       "\n",
       "                       Data_Source         Debate_Type Date_Time_Date  Year  \\\n",
       "27417  American Presidency Project  Primary-Republican     2015-08-06  2015   \n",
       "27418  American Presidency Project  Primary-Republican     2015-08-06  2015   \n",
       "27419  American Presidency Project  Primary-Republican     2015-08-06  2015   \n",
       "27420  American Presidency Project  Primary-Republican     2015-08-06  2015   \n",
       "27421  American Presidency Project  Primary-Republican     2015-08-06  2015   \n",
       "27422  American Presidency Project  Primary-Republican     2015-08-06  2015   \n",
       "27430  American Presidency Project  Primary-Republican     2015-08-06  2015   \n",
       "53003  American Presidency Project    Primary-Democrat     2007-06-03  2007   \n",
       "53005  American Presidency Project    Primary-Democrat     2007-06-03  2007   \n",
       "53006  American Presidency Project    Primary-Democrat     2007-06-03  2007   \n",
       "53010  American Presidency Project    Primary-Democrat     2007-06-03  2007   \n",
       "53011  American Presidency Project    Primary-Democrat     2007-06-03  2007   \n",
       "53129  American Presidency Project    Primary-Democrat     2007-06-03  2007   \n",
       "59080  American Presidency Project  Primary-Republican     2007-10-09  2007   \n",
       "60034  American Presidency Project  Primary-Republican     2007-09-05  2007   \n",
       "60035  American Presidency Project  Primary-Republican     2007-09-05  2007   \n",
       "61629  American Presidency Project  Primary-Republican     2007-05-15  2007   \n",
       "61630  American Presidency Project  Primary-Republican     2007-05-15  2007   \n",
       "61778  American Presidency Project  Primary-Republican     2007-05-15  2007   \n",
       "61779  American Presidency Project  Primary-Republican     2007-05-15  2007   \n",
       "61808  American Presidency Project  Primary-Republican     2007-05-15  2007   \n",
       "61809  American Presidency Project  Primary-Republican     2007-05-15  2007   \n",
       "61812  American Presidency Project  Primary-Republican     2007-05-15  2007   \n",
       "\n",
       "      Speaker_Type  \n",
       "27417  none_listed  \n",
       "27418  none_listed  \n",
       "27419  none_listed  \n",
       "27420  none_listed  \n",
       "27421  none_listed  \n",
       "27422  none_listed  \n",
       "27430  none_listed  \n",
       "53003  none_listed  \n",
       "53005  none_listed  \n",
       "53006  none_listed  \n",
       "53010  none_listed  \n",
       "53011  none_listed  \n",
       "53129  none_listed  \n",
       "59080  none_listed  \n",
       "60034  none_listed  \n",
       "60035  none_listed  \n",
       "61629  none_listed  \n",
       "61630  none_listed  \n",
       "61778  none_listed  \n",
       "61779  none_listed  \n",
       "61808  none_listed  \n",
       "61809  none_listed  \n",
       "61812  none_listed  "
      ]
     },
     "execution_count": 41,
     "metadata": {},
     "output_type": "execute_result"
    }
   ],
   "source": [
    "filter_df[filter_df.Speaker == \"\"]"
   ]
  },
  {
   "cell_type": "markdown",
   "metadata": {},
   "source": []
  }
 ],
 "metadata": {
  "kernelspec": {
   "display_name": "Python [conda env:metis] *",
   "language": "python",
   "name": "conda-env-metis-py"
  },
  "language_info": {
   "codemirror_mode": {
    "name": "ipython",
    "version": 3
   },
   "file_extension": ".py",
   "mimetype": "text/x-python",
   "name": "python",
   "nbconvert_exporter": "python",
   "pygments_lexer": "ipython3",
   "version": "3.8.6"
  }
 },
 "nbformat": 4,
 "nbformat_minor": 4
}
