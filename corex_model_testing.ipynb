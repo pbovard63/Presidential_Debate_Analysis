{
 "cells": [
  {
   "cell_type": "markdown",
   "metadata": {},
   "source": [
    "# Corex Topic Modeling\n",
    "The purpose of this notebook is to utilize Corex to run topic modeling on the dataset."
   ]
  },
  {
   "cell_type": "markdown",
   "metadata": {},
   "source": [
    "Importing packages, including Corex."
   ]
  },
  {
   "cell_type": "code",
   "execution_count": 3,
   "metadata": {},
   "outputs": [],
   "source": [
    "import pandas as pd\n",
    "import numpy as np\n",
    "import scipy.sparse as ss\n",
    "\n",
    "from sklearn.feature_extraction.text import CountVectorizer\n",
    "from sklearn import datasets\n",
    "\n",
    "from corextopic import corextopic as ct\n",
    "from corextopic import vis_topic as vt\n",
    "\n",
    "import matplotlib.pyplot as plt\n",
    "import seaborn as sns\n",
    "%matplotlib inline\n",
    "import pickle"
   ]
  },
  {
   "cell_type": "code",
   "execution_count": 4,
   "metadata": {},
   "outputs": [
    {
     "data": {
      "text/plain": [
       "'/Users/patrickbovard/Documents/GitHub/presidential_debate_analysis'"
      ]
     },
     "execution_count": 4,
     "metadata": {},
     "output_type": "execute_result"
    }
   ],
   "source": [
    "pwd"
   ]
  },
  {
   "cell_type": "markdown",
   "metadata": {},
   "source": [
    "Picking in Data:"
   ]
  },
  {
   "cell_type": "code",
   "execution_count": 5,
   "metadata": {},
   "outputs": [],
   "source": [
    "with open('Data/cleaned_string_df.pickle','rb') as read_file:\n",
    "    new_df = pickle.load(read_file)"
   ]
  },
  {
   "cell_type": "code",
   "execution_count": 6,
   "metadata": {},
   "outputs": [
    {
     "data": {
      "text/html": [
       "<div>\n",
       "<style scoped>\n",
       "    .dataframe tbody tr th:only-of-type {\n",
       "        vertical-align: middle;\n",
       "    }\n",
       "\n",
       "    .dataframe tbody tr th {\n",
       "        vertical-align: top;\n",
       "    }\n",
       "\n",
       "    .dataframe thead th {\n",
       "        text-align: right;\n",
       "    }\n",
       "</style>\n",
       "<table border=\"1\" class=\"dataframe\">\n",
       "  <thead>\n",
       "    <tr style=\"text-align: right;\">\n",
       "      <th></th>\n",
       "      <th>Debate_Name</th>\n",
       "      <th>Transcript</th>\n",
       "      <th>Speaker</th>\n",
       "      <th>Data_Source</th>\n",
       "      <th>Debate_Type</th>\n",
       "      <th>Year</th>\n",
       "      <th>Speaker_Type</th>\n",
       "      <th>line_length</th>\n",
       "      <th>Election_Result</th>\n",
       "      <th>string</th>\n",
       "    </tr>\n",
       "  </thead>\n",
       "  <tbody>\n",
       "    <tr>\n",
       "      <th>0</th>\n",
       "      <td>The First Clinton-Bush-Perot Presidential Deb...</td>\n",
       "      <td>LEHRER: Good evening, and welcome to the first...</td>\n",
       "      <td>lehrer</td>\n",
       "      <td>Commission for Presidential Debates</td>\n",
       "      <td>General-President</td>\n",
       "      <td>1992</td>\n",
       "      <td>Moderator/Other</td>\n",
       "      <td>100</td>\n",
       "      <td>n/a</td>\n",
       "      <td>good evening welcome first debate among major ...</td>\n",
       "    </tr>\n",
       "    <tr>\n",
       "      <th>1</th>\n",
       "      <td>The First Clinton-Bush-Perot Presidential Deb...</td>\n",
       "      <td>PEROT: I think the principal that separates me...</td>\n",
       "      <td>perot</td>\n",
       "      <td>Commission for Presidential Debates</td>\n",
       "      <td>General-President</td>\n",
       "      <td>1992</td>\n",
       "      <td>Independent</td>\n",
       "      <td>74</td>\n",
       "      <td>Loser</td>\n",
       "      <td>think principal separate half million people c...</td>\n",
       "    </tr>\n",
       "    <tr>\n",
       "      <th>2</th>\n",
       "      <td>The First Clinton-Bush-Perot Presidential Deb...</td>\n",
       "      <td>LEHRER: Governor Clinton, a one minute response.</td>\n",
       "      <td>lehrer</td>\n",
       "      <td>Commission for Presidential Debates</td>\n",
       "      <td>General-President</td>\n",
       "      <td>1992</td>\n",
       "      <td>Moderator/Other</td>\n",
       "      <td>3</td>\n",
       "      <td>n/a</td>\n",
       "      <td>one minute response</td>\n",
       "    </tr>\n",
       "    <tr>\n",
       "      <th>3</th>\n",
       "      <td>The First Clinton-Bush-Perot Presidential Deb...</td>\n",
       "      <td>CLINTON: The most important distinction in thi...</td>\n",
       "      <td>clinton</td>\n",
       "      <td>Commission for Presidential Debates</td>\n",
       "      <td>General-President</td>\n",
       "      <td>1992</td>\n",
       "      <td>Democrat</td>\n",
       "      <td>45</td>\n",
       "      <td>Winner</td>\n",
       "      <td>important distinction campaign represent real ...</td>\n",
       "    </tr>\n",
       "    <tr>\n",
       "      <th>4</th>\n",
       "      <td>The First Clinton-Bush-Perot Presidential Deb...</td>\n",
       "      <td>LEHRER: President Bush, one minute response, sir.</td>\n",
       "      <td>lehrer</td>\n",
       "      <td>Commission for Presidential Debates</td>\n",
       "      <td>General-President</td>\n",
       "      <td>1992</td>\n",
       "      <td>Moderator/Other</td>\n",
       "      <td>4</td>\n",
       "      <td>n/a</td>\n",
       "      <td>one minute response sir</td>\n",
       "    </tr>\n",
       "  </tbody>\n",
       "</table>\n",
       "</div>"
      ],
      "text/plain": [
       "                                         Debate_Name  \\\n",
       "0   The First Clinton-Bush-Perot Presidential Deb...   \n",
       "1   The First Clinton-Bush-Perot Presidential Deb...   \n",
       "2   The First Clinton-Bush-Perot Presidential Deb...   \n",
       "3   The First Clinton-Bush-Perot Presidential Deb...   \n",
       "4   The First Clinton-Bush-Perot Presidential Deb...   \n",
       "\n",
       "                                          Transcript  Speaker  \\\n",
       "0  LEHRER: Good evening, and welcome to the first...   lehrer   \n",
       "1  PEROT: I think the principal that separates me...    perot   \n",
       "2   LEHRER: Governor Clinton, a one minute response.   lehrer   \n",
       "3  CLINTON: The most important distinction in thi...  clinton   \n",
       "4  LEHRER: President Bush, one minute response, sir.   lehrer   \n",
       "\n",
       "                           Data_Source        Debate_Type  Year  \\\n",
       "0  Commission for Presidential Debates  General-President  1992   \n",
       "1  Commission for Presidential Debates  General-President  1992   \n",
       "2  Commission for Presidential Debates  General-President  1992   \n",
       "3  Commission for Presidential Debates  General-President  1992   \n",
       "4  Commission for Presidential Debates  General-President  1992   \n",
       "\n",
       "      Speaker_Type  line_length Election_Result  \\\n",
       "0  Moderator/Other          100             n/a   \n",
       "1      Independent           74           Loser   \n",
       "2  Moderator/Other            3             n/a   \n",
       "3         Democrat           45          Winner   \n",
       "4  Moderator/Other            4             n/a   \n",
       "\n",
       "                                              string  \n",
       "0  good evening welcome first debate among major ...  \n",
       "1  think principal separate half million people c...  \n",
       "2                                one minute response  \n",
       "3  important distinction campaign represent real ...  \n",
       "4                            one minute response sir  "
      ]
     },
     "execution_count": 6,
     "metadata": {},
     "output_type": "execute_result"
    }
   ],
   "source": [
    "new_df.head()"
   ]
  },
  {
   "cell_type": "code",
   "execution_count": 7,
   "metadata": {},
   "outputs": [
    {
     "data": {
      "text/plain": [
       "(76452, 10)"
      ]
     },
     "execution_count": 7,
     "metadata": {},
     "output_type": "execute_result"
    }
   ],
   "source": [
    "new_df.shape"
   ]
  },
  {
   "cell_type": "markdown",
   "metadata": {},
   "source": [
    "## Count Vectorizer"
   ]
  },
  {
   "cell_type": "markdown",
   "metadata": {},
   "source": [
    "Utilizing count vectorizer to vectorize my corpus for Corex."
   ]
  },
  {
   "cell_type": "code",
   "execution_count": 25,
   "metadata": {},
   "outputs": [],
   "source": [
    "stop = ['presidential', 'vice', 'evening', 'debate', 'candidate', 'campaign', 'minute', 'republican', 'democrat', 'administration', 'question', 'evening', 'congress', 'vote', 'senate', 'house']"
   ]
  },
  {
   "cell_type": "code",
   "execution_count": 26,
   "metadata": {},
   "outputs": [],
   "source": [
    "from sklearn.feature_extraction.text import CountVectorizer\n",
    "\n",
    "count_vectorizer = CountVectorizer(stop_words=stop, binary=True)"
   ]
  },
  {
   "cell_type": "code",
   "execution_count": 27,
   "metadata": {},
   "outputs": [],
   "source": [
    "X = new_df[new_df.line_length >= 30]['string']\n",
    "cv_model = count_vectorizer.fit_transform(X)"
   ]
  },
  {
   "cell_type": "code",
   "execution_count": 28,
   "metadata": {},
   "outputs": [],
   "source": [
    "words = list(np.asarray(count_vectorizer.get_feature_names()))"
   ]
  },
  {
   "cell_type": "markdown",
   "metadata": {},
   "source": [
    "Fitting Corex:"
   ]
  },
  {
   "cell_type": "code",
   "execution_count": 31,
   "metadata": {},
   "outputs": [
    {
     "data": {
      "text/plain": [
       "<corextopic.corextopic.Corex at 0x7fd791d25040>"
      ]
     },
     "execution_count": 31,
     "metadata": {},
     "output_type": "execute_result"
    }
   ],
   "source": [
    "topic_model = ct.Corex(n_hidden=10, words=words, seed=1)\n",
    "topic_model.fit(cv_model, words=words, docs=X)"
   ]
  },
  {
   "cell_type": "markdown",
   "metadata": {},
   "source": [
    "Printing Topics:"
   ]
  },
  {
   "cell_type": "code",
   "execution_count": 32,
   "metadata": {},
   "outputs": [
    {
     "name": "stdout",
     "output_type": "stream",
     "text": [
      "Topic 1 Key Words: war,iraq,iran,military,troop,nuclear,world,ally,weapon,force\n",
      "\n",
      "\n",
      "Topic 2 Key Words: tax,cut,billion,budget,rate,dollar,money,spending,percent,trillion\n",
      "\n",
      "\n",
      "Topic 3 Key Words: energy,gas,oil,fuel,clean,future,solar,fossil,area,natural\n",
      "\n",
      "\n",
      "Topic 4 Key Words: health,care,insurance,education,school,job,pay,family,income,class\n",
      "\n",
      "\n",
      "Topic 5 Key Words: law,life,justice,woman,black,abortion,crime,immigrant,immigration,criminal\n",
      "\n",
      "\n",
      "Topic 6 Key Words: year,last,four,eight,time,two,next,ago,tonight,six\n",
      "\n",
      "\n",
      "Topic 7 Key Words: think,kind,believe,thing,important,leadership,done,great,must,way\n",
      "\n",
      "\n",
      "Topic 8 Key Words: court,united,supreme,state,would,na,gon,decision,general,answer\n",
      "\n",
      "\n",
      "Topic 9 Key Words: say,let,assault,fact,though,ban,supported,even,regard,show\n",
      "\n",
      "\n",
      "Topic 10 Key Words: bill,dole,reform,doctor,ought,passed,little,pas,patient,opposed\n",
      "\n",
      "\n"
     ]
    }
   ],
   "source": [
    "# Print all topics from the CorEx topic model\n",
    "topics = topic_model.get_topics()\n",
    "for n,topic in enumerate(topics, 1):\n",
    "    topic_words,_ = zip(*topic)\n",
    "    print('Topic {} Key Words: '.format(n) + ','.join(topic_words))\n",
    "    print('\\n')"
   ]
  },
  {
   "cell_type": "markdown",
   "metadata": {},
   "source": [
    "Top Docs:"
   ]
  },
  {
   "cell_type": "code",
   "execution_count": 36,
   "metadata": {},
   "outputs": [
    {
     "data": {
      "text/plain": [
       "[('would save lot money managed care giving option preventive care lowering inflation rate price paying provider without kind big premium increase outof pocket cost budget vetoed would provide give u year medicare going social security bipartisan group look save baby boomer retire ought pas budget put year right away one worry',\n",
       "  0.0),\n",
       " ('kraft – think record put – way – way think satisfies american since depth recession added four million job im importantly consumer confidence surveyed reputable organization university michigan highest since word growing public confidence strength economy mean industrial activity mean reduction uhh – unemployment mean increased hire mean increased employment ’ pause economist regardless political philosophy – indicate pause month two healthy could honestly sustained percent rate growth first quarter – ’ like point well united state ’ economic recovery recession ago well ahead economic recovery major free industrial nation world today ’ ahead western european ’ ahead japan united state leading free world recession serious half ago ’ going see unemployment going job available rate inflation going think record – people understand appreciate',\n",
       "  0.0)]"
      ]
     },
     "execution_count": 36,
     "metadata": {},
     "output_type": "execute_result"
    }
   ],
   "source": [
    "topic_model.get_top_docs(topic=1, n_docs=2)"
   ]
  },
  {
   "cell_type": "markdown",
   "metadata": {},
   "source": [
    "Document-Topic Assignments:"
   ]
  },
  {
   "cell_type": "code",
   "execution_count": 38,
   "metadata": {},
   "outputs": [
    {
     "data": {
      "text/html": [
       "<div>\n",
       "<style scoped>\n",
       "    .dataframe tbody tr th:only-of-type {\n",
       "        vertical-align: middle;\n",
       "    }\n",
       "\n",
       "    .dataframe tbody tr th {\n",
       "        vertical-align: top;\n",
       "    }\n",
       "\n",
       "    .dataframe thead th {\n",
       "        text-align: right;\n",
       "    }\n",
       "</style>\n",
       "<table border=\"1\" class=\"dataframe\">\n",
       "  <thead>\n",
       "    <tr style=\"text-align: right;\">\n",
       "      <th></th>\n",
       "      <th>topic0</th>\n",
       "      <th>topic1</th>\n",
       "      <th>topic2</th>\n",
       "      <th>topic3</th>\n",
       "      <th>topic4</th>\n",
       "      <th>topic5</th>\n",
       "      <th>topic6</th>\n",
       "      <th>topic7</th>\n",
       "      <th>topic8</th>\n",
       "      <th>topic9</th>\n",
       "    </tr>\n",
       "  </thead>\n",
       "  <tbody>\n",
       "    <tr>\n",
       "      <th>0</th>\n",
       "      <td>False</td>\n",
       "      <td>False</td>\n",
       "      <td>True</td>\n",
       "      <td>False</td>\n",
       "      <td>False</td>\n",
       "      <td>True</td>\n",
       "      <td>False</td>\n",
       "      <td>True</td>\n",
       "      <td>False</td>\n",
       "      <td>True</td>\n",
       "    </tr>\n",
       "    <tr>\n",
       "      <th>1</th>\n",
       "      <td>False</td>\n",
       "      <td>False</td>\n",
       "      <td>True</td>\n",
       "      <td>False</td>\n",
       "      <td>True</td>\n",
       "      <td>False</td>\n",
       "      <td>False</td>\n",
       "      <td>True</td>\n",
       "      <td>False</td>\n",
       "      <td>True</td>\n",
       "    </tr>\n",
       "    <tr>\n",
       "      <th>2</th>\n",
       "      <td>False</td>\n",
       "      <td>True</td>\n",
       "      <td>False</td>\n",
       "      <td>False</td>\n",
       "      <td>False</td>\n",
       "      <td>False</td>\n",
       "      <td>True</td>\n",
       "      <td>False</td>\n",
       "      <td>False</td>\n",
       "      <td>False</td>\n",
       "    </tr>\n",
       "  </tbody>\n",
       "</table>\n",
       "</div>"
      ],
      "text/plain": [
       "   topic0  topic1  topic2  topic3  topic4  topic5  topic6  topic7  topic8  \\\n",
       "0   False   False    True   False   False    True   False    True   False   \n",
       "1   False   False    True   False    True   False   False    True   False   \n",
       "2   False    True   False   False   False   False    True   False   False   \n",
       "\n",
       "   topic9  \n",
       "0    True  \n",
       "1    True  \n",
       "2   False  "
      ]
     },
     "execution_count": 38,
     "metadata": {},
     "output_type": "execute_result"
    }
   ],
   "source": [
    "predictions = pd.DataFrame(topic_model.predict(cv_model), columns=['topic'+str(i) for i in range(10)])\n",
    "predictions.head(3)"
   ]
  },
  {
   "cell_type": "markdown",
   "metadata": {},
   "source": [
    "Plots:"
   ]
  },
  {
   "cell_type": "code",
   "execution_count": 39,
   "metadata": {},
   "outputs": [
    {
     "data": {
      "image/png": "[encoded data removed]",
      "text/plain": [
       "<Figure size 720x360 with 1 Axes>"
      ]
     },
     "metadata": {
      "needs_background": "light"
     },
     "output_type": "display_data"
    }
   ],
   "source": [
    "plt.figure(figsize=(10,5))\n",
    "plt.bar(range(topic_model.tcs.shape[0]), topic_model.tcs, color='#4e79a7', width=0.5)\n",
    "plt.xlabel('Topic', fontsize=16)\n",
    "plt.ylabel('Total Correlation (nats)', fontsize=16);"
   ]
  },
  {
   "cell_type": "markdown",
   "metadata": {},
   "source": [
    "Looks like there may be an elbow after 4 or 6 topics."
   ]
  },
  {
   "cell_type": "markdown",
   "metadata": {},
   "source": [
    "### Trying Anchors:\n",
    "For anchors, I'll use some words that I know are in the main topics:\n",
    "- Education: school, education, teacher\n",
    "- Economy/Taxes: tax, cut, percent, income, pay\n",
    "- War/Foreign Policy: military, war\n",
    "- Healthcare: health, care, insurance, doctor"
   ]
  },
  {
   "cell_type": "code",
   "execution_count": 41,
   "metadata": {},
   "outputs": [
    {
     "name": "stdout",
     "output_type": "stream",
     "text": [
      "0: school,education,teacher,child,kid,college,student,parent,public,high\n",
      "1: tax,percent,cut,pay,income,rate,budget,code,plan,increase\n",
      "2: war,military,iraq,troop,force,ii,cold,peace,defense,vietnam\n",
      "3: care,health,insurance,doctor,cost,affordable,medicare,medical,universal,patient\n",
      "4: nuclear,iran,world,united,weapon,ally,state,soviet,syria,foreign\n",
      "5: think,one,time,thank,made,tonight,first,believe,democratic,answer\n"
     ]
    }
   ],
   "source": [
    "topic_model = ct.Corex(n_hidden=6, words=words,\n",
    "                       max_iter=200, verbose=False, seed=1)\n",
    "\n",
    "topic_model.fit(cv_model, words=words, docs=X, \n",
    "                anchors=[['school', 'education', 'teacher'], \n",
    "                         ['tax', 'cut', 'percent', 'income', 'pay'], \n",
    "                         ['military', 'war'], \n",
    "                         ['health', 'care', 'insurance', 'doctor'],\n",
    "                         [], \n",
    "                         []], anchor_strength=10)\n",
    "\n",
    "# Print all topics from the CorEx topic model\n",
    "topics = topic_model.get_topics()\n",
    "for n,topic in enumerate(topics):\n",
    "    topic_words,_ = zip(*topic)\n",
    "    print('{}: '.format(n) + ','.join(topic_words))"
   ]
  },
  {
   "cell_type": "markdown",
   "metadata": {},
   "source": [
    "# TF-IDF:"
   ]
  },
  {
   "cell_type": "code",
   "execution_count": 42,
   "metadata": {},
   "outputs": [],
   "source": [
    "from sklearn.feature_extraction.text import TfidfVectorizer"
   ]
  },
  {
   "cell_type": "code",
   "execution_count": 43,
   "metadata": {},
   "outputs": [],
   "source": [
    "stop = ['presidential', 'vice', 'evening', 'debate', 'candidate', 'campaign', 'minute']"
   ]
  },
  {
   "cell_type": "code",
   "execution_count": 44,
   "metadata": {},
   "outputs": [],
   "source": [
    "vectorizer = TfidfVectorizer(stop_words=stop)"
   ]
  },
  {
   "cell_type": "markdown",
   "metadata": {},
   "source": [
    "Note, more stop words were implemented in final_dataframe_cleanup.ipynb."
   ]
  },
  {
   "cell_type": "markdown",
   "metadata": {},
   "source": [
    "Since some responses can be very short (i.e. just a brief statement/quip), I am setting a minimum threshold of words for topic modelling."
   ]
  },
  {
   "cell_type": "code",
   "execution_count": 45,
   "metadata": {},
   "outputs": [],
   "source": [
    "X = new_df[new_df.line_length >= 30]['string']\n",
    "tfi_model = vectorizer.fit_transform(X)"
   ]
  },
  {
   "cell_type": "code",
   "execution_count": 46,
   "metadata": {},
   "outputs": [],
   "source": [
    "tf_term_document_matrix = pd.DataFrame(tfi_model.toarray(), columns=vectorizer.get_feature_names())"
   ]
  },
  {
   "cell_type": "code",
   "execution_count": 47,
   "metadata": {},
   "outputs": [
    {
     "data": {
      "text/plain": [
       "(10278, 15947)"
      ]
     },
     "execution_count": 47,
     "metadata": {},
     "output_type": "execute_result"
    }
   ],
   "source": [
    "tf_term_document_matrix.shape"
   ]
  },
  {
   "cell_type": "code",
   "execution_count": 48,
   "metadata": {},
   "outputs": [],
   "source": [
    "words = list(np.asarray(vectorizer.get_feature_names()))"
   ]
  },
  {
   "cell_type": "markdown",
   "metadata": {},
   "source": [
    "Fitting Corex:"
   ]
  },
  {
   "cell_type": "code",
   "execution_count": 50,
   "metadata": {},
   "outputs": [
    {
     "data": {
      "text/plain": [
       "<corextopic.corextopic.Corex at 0x7fd791d25580>"
      ]
     },
     "execution_count": 50,
     "metadata": {},
     "output_type": "execute_result"
    }
   ],
   "source": [
    "topic_model = ct.Corex(n_hidden=6, words=words, seed=1)\n",
    "topic_model.fit(tfi_model, words=words, docs=X)"
   ]
  },
  {
   "cell_type": "markdown",
   "metadata": {},
   "source": [
    "Printing Topics:"
   ]
  },
  {
   "cell_type": "code",
   "execution_count": 51,
   "metadata": {},
   "outputs": [
    {
     "name": "stdout",
     "output_type": "stream",
     "text": [
      "Topic 1 Key Words: iran,nuclear,iraq,tax,troop,war,weapon,syria,ally,isi\n",
      "\n",
      "\n",
      "Topic 2 Key Words: question,news,correspondent,format,thank,tonight,rebuttal,second,cnn,answer\n",
      "\n",
      "\n",
      "Topic 3 Key Words: energy,oil,gas,fuel,coal,solar,wind,efficiency,fossil,natural\n",
      "\n",
      "\n",
      "Topic 4 Key Words: aaron,polarize,poking,poison,pointed,poet,pocatello,plutonium,plus,plugging\n",
      "\n",
      "\n",
      "Topic 5 Key Words: blurb,voiced,abolition,pride,preventing,pretending,presumptively,presumption,presume,prestigious\n",
      "\n",
      "\n",
      "Topic 6 Key Words: abbottabad,preselected,preschooler,pres,prepares,preparer,preparation,prepaid,prentiss,prefers\n",
      "\n",
      "\n"
     ]
    }
   ],
   "source": [
    "# Print all topics from the CorEx topic model\n",
    "topics = topic_model.get_topics()\n",
    "for n,topic in enumerate(topics, 1):\n",
    "    topic_words,_ = zip(*topic)\n",
    "    print('Topic {} Key Words: '.format(n) + ','.join(topic_words))\n",
    "    print('\\n')"
   ]
  },
  {
   "cell_type": "code",
   "execution_count": null,
   "metadata": {},
   "outputs": [],
   "source": []
  },
  {
   "cell_type": "code",
   "execution_count": null,
   "metadata": {},
   "outputs": [],
   "source": []
  },
  {
   "cell_type": "code",
   "execution_count": null,
   "metadata": {},
   "outputs": [],
   "source": []
  },
  {
   "cell_type": "code",
   "execution_count": null,
   "metadata": {},
   "outputs": [],
   "source": []
  },
  {
   "cell_type": "code",
   "execution_count": null,
   "metadata": {},
   "outputs": [],
   "source": []
  },
  {
   "cell_type": "code",
   "execution_count": null,
   "metadata": {},
   "outputs": [],
   "source": []
  },
  {
   "cell_type": "code",
   "execution_count": null,
   "metadata": {},
   "outputs": [],
   "source": []
  }
 ],
 "metadata": {
  "kernelspec": {
   "display_name": "Python [conda env:metis] *",
   "language": "python",
   "name": "conda-env-metis-py"
  },
  "language_info": {
   "codemirror_mode": {
    "name": "ipython",
    "version": 3
   },
   "file_extension": ".py",
   "mimetype": "text/x-python",
   "name": "python",
   "nbconvert_exporter": "python",
   "pygments_lexer": "ipython3",
   "version": "3.8.6"
  }
 },
 "nbformat": 4,
 "nbformat_minor": 4
}
