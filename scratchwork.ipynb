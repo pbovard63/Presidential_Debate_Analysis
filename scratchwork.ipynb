{
 "cells": [
  {
   "cell_type": "markdown",
   "metadata": {},
   "source": [
    "Stop words scratchwork:"
   ]
  },
  {
   "cell_type": "code",
   "execution_count": null,
   "metadata": {},
   "outputs": [],
   "source": [
    "stop_words = ['[cheering and applause]','[begin videotape]','[end videotape]',\n",
    "              '[speaking Spanish]','[applause]','[crosstalk]','...','—','[Speaking in Spanish]','[through translator]',\n",
    "             '[inaudible] ','[laughter]'.'[moment of silence]','[the national anthem is performed]','[bell rings]',\n",
    "             '[bell sound]', '[Applause]','(APPLAUSE)','(OFF-MIKE)','(From videotape.)','(Cheers, applause.)','(END VIDEO CLIP)'\n",
    "             '(Laughter.)','(cheers)','--','(BEGIN AUDIO CLIP)','(END AUDIO CLIP)']"
   ]
  },
  {
   "cell_type": "markdown",
   "metadata": {},
   "source": [
    "**American President Project:**  \n",
    "Group 1: Bold, w/ colons: \n",
    "- Everything in 2019/2020 (including Trump/Biden townhalls)\n",
    "- Everything in 2015-16\n",
    "- 2012: VP, all Primaries\n",
    "- 2008 General/Primaries: All others, besides below\n",
    "- 2004: Democratic Primaries\n",
    "- 2000: All Democratic Primaries, All Republican Primaries\n",
    "\n",
    "Group 2: Italics, w/Period:\n",
    "- 2012: Presidential\n",
    "- 2004: All Three Presidential\n",
    "- 1996: All Three Presidential\n",
    "\n",
    "Group 3: Colon, no italics or bold:\n",
    "- 2008: Democratic Candidates Debate in Miami, Florida; Republican Candidates Debate in Miami, Florida\n",
    "- 2004: VP\n",
    "- 2000: All General Election Debates\n",
    "- 1996: VP\n",
    "- 1992: All\n",
    "- 1988: All\n",
    "- 1984: All\n",
    "- 1981: All\n",
    "- 1976: All\n",
    "- 1960: All\n"
   ]
  },
  {
   "cell_type": "code",
   "execution_count": null,
   "metadata": {},
   "outputs": [],
   "source": []
  }
 ],
 "metadata": {
  "kernelspec": {
   "display_name": "Python [conda env:metis] *",
   "language": "python",
   "name": "conda-env-metis-py"
  },
  "language_info": {
   "codemirror_mode": {
    "name": "ipython",
    "version": 3
   },
   "file_extension": ".py",
   "mimetype": "text/x-python",
   "name": "python",
   "nbconvert_exporter": "python",
   "pygments_lexer": "ipython3",
   "version": "3.8.6"
  }
 },
 "nbformat": 4,
 "nbformat_minor": 4
}
