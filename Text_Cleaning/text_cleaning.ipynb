{
 "cells": [
  {
   "cell_type": "markdown",
   "metadata": {},
   "source": [
    "# Text Cleaning\n",
    "The purpose of this notebook is to clean and pre-process text data scraped in the debate_scraping notebook."
   ]
  },
  {
   "cell_type": "markdown",
   "metadata": {},
   "source": [
    "Ideally, I'd have a Dataframe with the following columns: \n",
    "- debate date\n",
    "- debate type (general election/primary (republican/democrat)\n",
    "- speaker  \n",
    "- speaker party (republican or democrat) - can add based on the speaker/debate type  \n",
    "- speaker type (candidate, moderator, etc.)\n",
    "- line (i.e. the text data)"
   ]
  },
  {
   "cell_type": "markdown",
   "metadata": {},
   "source": [
    "Importing packages:"
   ]
  },
  {
   "cell_type": "code",
   "execution_count": 1,
   "metadata": {},
   "outputs": [],
   "source": [
    "import nltk\n",
    "import pandas as pd\n",
    "import numpy as np\n",
    "import pickle\n",
    "import matplotlib.pyplot as plt\n",
    "from pylab import rcParams\n",
    "%matplotlib inline\n",
    "rcParams['figure.figsize'] = 20,10"
   ]
  },
  {
   "cell_type": "markdown",
   "metadata": {},
   "source": [
    "# American Presidency Project"
   ]
  },
  {
   "cell_type": "markdown",
   "metadata": {},
   "source": [
    "### Pickling in Data"
   ]
  },
  {
   "cell_type": "markdown",
   "metadata": {},
   "source": [
    "Starting with the American Presidency Project, let's see what I can do:"
   ]
  },
  {
   "cell_type": "code",
   "execution_count": 2,
   "metadata": {},
   "outputs": [
    {
     "data": {
      "text/plain": [
       "'/Users/patrickbovard/Documents/GitHub/presidential_debate_analysis'"
      ]
     },
     "execution_count": 2,
     "metadata": {},
     "output_type": "execute_result"
    }
   ],
   "source": [
    "pwd"
   ]
  },
  {
   "cell_type": "code",
   "execution_count": 3,
   "metadata": {},
   "outputs": [
    {
     "name": "stdout",
     "output_type": "stream",
     "text": [
      "/Users/patrickbovard/Documents/GitHub/presidential_debate_analysis/Data\n"
     ]
    }
   ],
   "source": [
    "cd Data"
   ]
  },
  {
   "cell_type": "code",
   "execution_count": 4,
   "metadata": {},
   "outputs": [],
   "source": [
    "with open('app_transcripts.pickle','rb') as read_file:\n",
    "    app_transcripts = pickle.load(read_file)"
   ]
  },
  {
   "cell_type": "code",
   "execution_count": 5,
   "metadata": {},
   "outputs": [
    {
     "data": {
      "text/plain": [
       "169"
      ]
     },
     "execution_count": 5,
     "metadata": {},
     "output_type": "execute_result"
    }
   ],
   "source": [
    "len(app_transcripts)"
   ]
  },
  {
   "cell_type": "code",
   "execution_count": 6,
   "metadata": {},
   "outputs": [
    {
     "name": "stdout",
     "output_type": "stream",
     "text": [
      "79607\n"
     ]
    }
   ],
   "source": [
    "counter = 0\n",
    "for transcript in app_transcripts:\n",
    "    counter += len(transcript)\n",
    "print(counter)"
   ]
  },
  {
   "cell_type": "markdown",
   "metadata": {},
   "source": [
    "This matches the lengths from debate_scraping, so all the data is there."
   ]
  },
  {
   "cell_type": "markdown",
   "metadata": {},
   "source": [
    "## Cleaning Data\n",
    "Each transcript will have a few things to clean:\n",
    "- remove participants, moderators, other headers to only keep response data \n",
    "- make sure each \"row\" (i.e. line) of data has a speaker attached to it.  Currently, new paragraphs from the same preceding speaker will not have the \"NAME:\" as the first characters  "
   ]
  },
  {
   "cell_type": "markdown",
   "metadata": {},
   "source": [
    "### Introductions - starting each transcript at the right spot:"
   ]
  },
  {
   "cell_type": "markdown",
   "metadata": {},
   "source": [
    "First, I'll check out the introductions:"
   ]
  },
  {
   "cell_type": "code",
   "execution_count": 7,
   "metadata": {
    "scrolled": true
   },
   "outputs": [
    {
     "name": "stdout",
     "output_type": "stream",
     "text": [
      "Transcript 0:\n",
      "MODERATOR:Kristen Welker (NBC News)\n",
      "\n",
      "Transcript 1:\n",
      "MODERATOR:Chris Wallace (Fox News)\n",
      "\n",
      "Transcript 2:\n",
      "MODERATOR:Susan Page (USA Today)\n",
      "\n",
      "Transcript 3:\n",
      "MODERATORS:Dana Bash (CNN);Ilia Calderón (Univision); andJake Tapper (CNN)\n",
      "\n",
      "Transcript 4:\n",
      "MODERATORS:Margaret Brennan (CBS News);Major Garrett (CBS News);Gayle King (CBS News);Norah O'Donnell (CBS News); andBill Whitaker (CBS News)\n",
      "\n",
      "Transcript 5:\n",
      "MODERATORS:Vanessa Hauc (Telemundo);Lester Holt (NBC News);Hallie Jackson (NBC News);Jon Ralston (Nevada Independent); andChuck Todd (NBC News)\n",
      "\n",
      "Transcript 6:\n",
      "MODERATORS:Linsey Davis (ABC News);Monica Hernandez (WMUR-TV News);David Muir (ABC News);Adam Sexton (WMUR-TV News); andGeorge Stephanopoulos (ABC News)\n",
      "\n",
      "Transcript 7:\n",
      "MODERATORS:Wolf Blitzer (CNN);Brianne Pfannenstiel (The Des Moines Register); andAbby Phillip (CNN)\n",
      "\n",
      "Transcript 8:\n",
      "MODERATORS:Tim Alberta (Politico);Yamiche Alcindor (PBS);Amna Nawaz (PBS); andJudy Woodruff (PBS)\n",
      "\n",
      "Transcript 9:\n",
      "MODERATORS:Rachel Maddow (MSNBC);Andrea Mitchell (NBC News);Ashley Parker (The Washington Post); andKristen Welker (NBC News)\n",
      "\n",
      "Transcript 10:\n",
      "MODERATORS:Erin Burnett (CNN);Anderson Cooper (CNN); andMarc Lacey (The New York Times)\n",
      "\n",
      "Transcript 11:\n",
      "MODERATORS:Linsey Davis (ABC News);David Muir (ABC News);Jorge Ramos (Univision); andGeorge Stephanopoulos (ABC News)\n",
      "\n",
      "Transcript 12:\n",
      "MODERATORS:Dana Bash (CNN);Don Lemon (CNN); andJake Tapper (CNN)\n",
      "\n",
      "Transcript 13:\n",
      "MODERATORS:Dana Bash (CNN);Don Lemon (CNN); andJake Tapper (CNN)\n",
      "\n",
      "Transcript 14:\n",
      "MODERATORS:José Díaz-Balart (Telemundo);Savannah Guthrie (NBC News);Lester Holt (NBC News);Rachel Maddow (MSNBC); andChuck Todd (NBC News)\n",
      "\n",
      "Transcript 15:\n",
      "MODERATORS:José Díaz-Balart (Telemundo);Savannah Guthrie (NBC News);Lester Holt (NBC News);Rachel Maddow (MSNBC); andChuck Todd (NBC News)\n",
      "\n",
      "Transcript 16:\n",
      "MODERATOR:Chris Wallace (Fox News)\n",
      "\n",
      "Transcript 17:\n",
      "MODERATORS:Anderson Cooper (CNN); andMartha Raddatz (ABC News)\n",
      "\n",
      "Transcript 18:\n",
      "MODERATOR:Lester Holt (NBC News)\n",
      "\n",
      "Transcript 19:\n",
      "MODERATOR:Elaine Quijano (CBS News)\n",
      "\n",
      "Transcript 20:\n",
      "MODERATOR:Wolf Blitzer (CNN);\n",
      "\n",
      "Transcript 21:\n",
      "MODERATORS:Jorge Ramos (Univision);María Elena Salinas (Univision); andKaren Tumulty (The Washington Post)\n",
      "\n",
      "Transcript 22:\n",
      "MODERATORS:Anderson Cooper (CNN); andDon Lemon (CNN)\n",
      "\n",
      "Transcript 23:\n",
      "MODERATORS:Gwen Ifill (PBS); andJudy Woodruff (PBS)\n",
      "\n",
      "Transcript 24:\n",
      "MODERATORS:Chuck Todd (MSNBC); andRachel Maddow (MSNBC)\n",
      "\n",
      "Transcript 25:\n",
      "MODERATOR:Chris Cuomo, CNN\n",
      "\n",
      "Transcript 26:\n",
      "MODERATORS:Lester Holt (NBC News); andAndrea Mitchell (NBC News)\n",
      "\n",
      "Transcript 27:\n",
      "MODERATORS:Martha Raddatz (ABC News); andDavid Muir (ABC News)\n",
      "\n",
      "Transcript 28:\n",
      "MODERATORS:Nancy Cordes (CBS News);Kevin Cooney (CBS News);John Dickerson (CBS News); andKathie Obradovich (The Des Moines Register)\n",
      "\n",
      "Transcript 29:\n",
      "MODERATORS:Anderson Cooper (CNN);Dana Bash (CNN);Don Lemon (CNN); andJuan Carlos Lopez (CNN en Espanol)\n",
      "\n",
      "Transcript 30:\n",
      "MODERATORS:Jake Tapper (CNN);Dana Bash (CNN);Hugh Hewitt (Salem Radio Network); andStephen Dinan (Washington Times)\n",
      "\n",
      "Transcript 31:\n",
      "MODERATORS:Bret Baier (Fox News);Megyn Kelly (Fox News); andChris Wallace (Fox News)\n",
      "\n",
      "Transcript 32:\n",
      "MODERATOR:Wolf Blitzer (CNN); with\n",
      "\n",
      "Transcript 33:\n",
      "MODERATOR:John Dickerson (CBS News); with\n",
      "\n",
      "Transcript 34:\n",
      "MODERATORS:David Muir (ABC News); andMartha Raddatz (ABC News)\n",
      "\n",
      "Transcript 35:\n",
      "MODERATORS:Bret Baier (Fox News);Megyn Kelly (Fox News); andChris Wallace (Fox News)\n",
      "\n",
      "Transcript 36:\n",
      "MODERATORS:Maria Bartiromo (Fox Business Network); andNeil Cavuto (Fox Business Network)\n",
      "\n",
      "Transcript 37:\n",
      "MODERATORS:Wolf Blitzer (CNN);Dana Bash (CNN); andHugh Hewitt (Salem Radio Network)\n",
      "\n",
      "Transcript 38:\n",
      "MODERATORS:Gerard Baker (The Wall Street Journal);Maria Bartiromo (Fox Business Network); andNeil Cavuto (Fox Business Network)\n",
      "\n",
      "Transcript 39:\n",
      "MODERATORS:John Harwood (CNBC);Becky Quick (CNBC); andCarl Quintanilla (CNBC)\n",
      "\n",
      "Transcript 40:\n",
      "MODERATORS:Jake Tapper (CNN);Dana Bash (CNN); andHugh Hewitt (Salem Radio Network)\n",
      "\n",
      "Transcript 41:\n",
      "MODERATORS:Bret Baier (Fox News);Megyn Kelly (Fox News); andChris Wallace (Fox News)\n",
      "\n",
      "Transcript 42:\n",
      "MODERATORS:Bill Hemmer (Fox News); andMartha MacCallum (Fox News)\n",
      "\n",
      "Transcript 43:\n",
      "MODERATORS:Trish Regan (Fox Business Network); andSandra Smith (Fox Business Network)\n",
      "\n",
      "Transcript 44:\n",
      "MODERATORS:Wolf Blitzer (CNN);Dana Bash (CNN); andHugh Hewitt (Salem Radio Network)\n",
      "\n",
      "Transcript 45:\n",
      "MODERATORS:Trish Regan (Fox Business Network);Gerald Seib (The Wall Street Journal); andSandra Smith (Fox Business Network)\n",
      "\n",
      "Transcript 46:\n",
      "MODERATORS:John Harwood (CNBC);Becky Quick (CNBC); andCarl Quintanilla (CNBC)\n",
      "\n",
      "Transcript 47:\n",
      "MODERATORS:Jake Tapper (CNN);Dana Bash (CNN); andHugh Hewitt (Salem Radio Network)\n",
      "\n",
      "Transcript 48:\n",
      "MODERATORS:Bill Hemmer (Fox News); andMartha MacCallum (Fox News)\n",
      "\n",
      "Transcript 49:\n",
      "The questions are mine, and I have not shared them with the candidates or their aides. The audience has taken a vow of silence: no applause, no reaction of any kind, except right now, when we welcome President Barack Obama and Governor Mitt Romney.\n",
      "\n",
      "\n",
      "Transcript 50:\n",
      "We are here for the second Presidential Debate, a town hall sponsored by the Commission on Presidential Debates. The Gallup organization chose 82 uncommitted voters from the New York area. Their questions will drive the night. My goal is to give the conversation direction and to ensure questions get answered.\n",
      "\n",
      "\n",
      "Transcript 51:\n",
      "This debate and the next three—two Presidential, one Vice Presidential—are sponsored by the Commission on Presidential Debates. Tonight's 90 minutes will be about domestic issues and will follow a format designed by the Commission. There will be six roughly 15-minute segments, with 2-minute answers for the first question, then open discussion for the remainder of each segment.\n",
      "\n",
      "\n",
      "Transcript 52:\n",
      "Tonight's debate is divided between domestic and foreign policy issues. And I'm going to move back and forth between foreign and domestic, since that is what a vice president or president would have to do. We will have nine different segments. At the beginning of each segment, I will ask both candidates a question, and they will each have two minutes to answer. Then I will encourage a discussion between the candidates with follow-up questions.\n",
      "\n",
      "Transcript 53:\n",
      "MODERATOR:John King (CNN)\n",
      "\n",
      "Transcript 54:\n",
      "MODERATOR:Wolf Blitzer (CNN)\n",
      "\n",
      "Transcript 55:\n",
      "MODERATOR:Brian Williams (NBC News)\n",
      "\n",
      "Transcript 56:\n",
      "MODERATOR:John King (CNN)\n",
      "\n",
      "Transcript 57:\n",
      "MODERATOR:Brett Baier (Fox News)\n",
      "\n",
      "Transcript 58:\n",
      "MODERATOR:David Gregory (NBC News)\n",
      "\n",
      "Transcript 59:\n",
      "MODERATORS:Diane Sawyer (ABC News);George Stephanopoulos (ABC News); andJosh McElveen (WMUR)\n",
      "\n",
      "Transcript 60:\n",
      "MODERATOR:Bret Baier (Fox News)\n",
      "\n",
      "Transcript 61:\n",
      "MODERATORS:Diane Sawyer (ABC News);George Stephanopoulos (ABC News)\n",
      "\n",
      "Transcript 62:\n",
      "MODERATOR:Wolf Blitzer (CNN)\n",
      "\n",
      "Transcript 63:\n",
      "MODERATORS:Major Garrett (National Journal);Scott Pelley (CBS News)\n",
      "\n",
      "Transcript 64:\n",
      "MODERATORS:Maria Bartiromo (CNBC);John Harwood (CNBC)\n",
      "\n",
      "Transcript 65:\n",
      "MODERATOR:Anderson Cooper (CNN)\n",
      "\n",
      "Transcript 66:\n",
      "MODERATORS:Charlie Rose (PBS);Karen Tumulty (Washington Post); andJuliana Goldman (Bloomberg TV)\n",
      "\n",
      "Transcript 67:\n",
      "MODERATORS:Bret Baier (Fox News);Megyn Kelly (Fox News); andChris Wallace (Fox News)\n",
      "\n",
      "Transcript 68:\n",
      "MODERATOR:Wolf Blitzer (CNN)\n",
      "\n",
      "Transcript 69:\n",
      "MODERATORS:Brian Williams (NBC News);John Harris (Politico); andJose Diaz-Balart (MSNBC)\n",
      "\n",
      "Transcript 70:\n",
      "SPONSOR:Senator Jim DeMint (SC) and the American Principles Project\n",
      "\n",
      "Transcript 71:\n",
      "MODERATORS:Bret Baier (Fox News);Susan Ferrechio (Washington Examiner);Chris Wallace (Fox News); andByron York (Washington Examiner)\n",
      "\n",
      "Transcript 72:\n",
      "MODERATOR:John King (CNN)\n",
      "\n",
      "Transcript 73:\n",
      "SCHIEFFER: Good evening. And welcome to the third and last presidential debate of 2008, sponsored by the Commission on Presidential Debates. I'm Bob Schieffer of CBS News.\n",
      "\n",
      "Transcript 74:\n",
      "BROKAW: Good evening from Belmont University in Nashville, Tennessee. I'm Tom Brokaw of NBC News. And welcome to this second presidential debate, sponsored by the Commission on Presidential Debates.\n",
      "\n",
      "Transcript 75:\n",
      "LEHRER: Gentlemen, at this very moment tonight, where do you stand on the financial recovery plan?\n",
      "\n",
      "Transcript 76:\n",
      "IFILL: Good evening from Washington University in St. Louis, Missouri. I'm Gwen Ifill of \"The NewsHour\" and \"Washington Week\" on PBS. Welcome to the first and the only 2008 vice presidential debate between the Republican nominee, Governor Sarah Palin of Alaska, and the Democratic nominee, Joe Biden of Delaware.\n",
      "\n",
      "Transcript 77:\n",
      "MODERATORS:\n",
      "Charlie Gibson (ABC News); and\n",
      "George Stephanopoulos (ABC News)\n",
      "\n",
      "Transcript 78:\n",
      "MODERATORS:\n",
      "Brian Williams (NBC News); and\n",
      "Tim Russert (NBC News)\n",
      "\n",
      "Transcript 79:\n",
      "MODERATORS:\n",
      "Campbell Brown (CNN);\n",
      "Jorge Ramos (Univision); and\n",
      "John King (CNN)\n",
      "\n",
      "Transcript 80:\n",
      "MODERATORS:\n",
      "Wolf Blitzer (CNN);\n",
      "Doyle McManus (Los Angeles Times); and\n",
      "Jeanne Cummings (Politico.com)\n",
      "\n",
      "Transcript 81:\n",
      "MODERATORS:\n",
      "Wolf Blitzer (CNN);\n",
      "Suzanne Malveaux (CNN); and\n",
      "Joe Johns (CNN)\n",
      "\n",
      "Transcript 82:\n",
      "MODERATORS:\n",
      "Brian Williams (NBC-News);\n",
      "Tim Russert (NBC-News); and\n",
      "Natalie Morales (NBC-News)\n",
      "\n",
      "Transcript 83:\n",
      "MODERATORS:\n",
      "Charles Gibson (ABC-News); and\n",
      "Scott Spradling (WMUR-TV)\n",
      "\n",
      "Transcript 84:\n",
      "MODERATOR:\n",
      "Carolyn Washburn (Des Moines Register)\n",
      "\n",
      "Transcript 85:\n",
      "MODERATORS:\n",
      "Steve Inskeep (NPR);\n",
      "Michele Norris (NPR); and\n",
      "Robert Siegel (NPR)\n",
      "\n",
      "Transcript 86:\n",
      "MODERATORS:\n",
      "Wolf Blitzer (CNN);\n",
      "Campbell Brown (CNN);\n",
      "Suzanne Malveaux (CNN); and\n",
      "John Roberts (CNN)\n",
      "\n",
      "Transcript 87:\n",
      "MODERATORS:\n",
      "Tim Russert (NBC News)\n",
      "Brian Williams (NBC News)\n",
      "\n",
      "Transcript 88:\n",
      "MODERATOR:\n",
      "Tim Russert\n",
      "\n",
      "Transcript 89:\n",
      "MODERATORS:\n",
      "Jorge Ramos (Univision); and\n",
      "Maria Elena Salinas (Univision)\n",
      "\n",
      "Transcript 90:\n",
      "MODERATOR:\n",
      "George Stephanopoulos: (ABC-News)\n",
      "\n",
      "Transcript 91:\n",
      "MODERATOR:\n",
      "Keith Olbermann: (MSNBC)\n",
      "\n",
      "Transcript 92:\n",
      "Moderator: Anderson Cooper, CNN host\n",
      "\n",
      "Transcript 93:\n",
      "Moderator:\n",
      "Tavis Smiley, host of \"Tavis Smiley\" on PBS.\n",
      "\n",
      "Transcript 94:\n",
      "Let me begin with an example of what I have in mind. I'm Wolf Blitzer, and I'm with CNN. (Laughter.)\n",
      "\n",
      "Transcript 95:\n",
      "Candidates:Sen. Christopher J. Dodd, D-Conn.\n",
      "Sen. Hillary Rodham Clinton, D-N.Y.\n",
      "Former Sen. John Edwards, D-N.C.\n",
      "Gov. Bill Richardson, D-N.M.\n",
      "Sen. Joseph R. Biden Jr., D-Del.\n",
      "Rep. Dennis J. Kucinich, D-Ohio\n",
      "Former Sen. Mike Gravel, D-Alaska\n",
      "Sen. Barack Obama, D-Ill.\n",
      "\n",
      "Transcript 96:\n",
      "MODERATORS:\n",
      "Anderson Cooper (CNN);\n",
      "Janet Hook (Los Angeles Times); and\n",
      "Jim Vandehei (The Politico)\n",
      "\n",
      "Transcript 97:\n",
      "MODERATORS:\n",
      "Brian Williams (NBC News);\n",
      "Tim Russert (NBC News); and\n",
      "Paul Tash (St. Petersburg Times)\n",
      "\n",
      "Transcript 98:\n",
      "MODERATORS:\n",
      "Brit Hume (Fox News);\n",
      "Chris Wallace (Fox News);\n",
      "Carl Cameron (Fox News); and\n",
      "Wendell Goler (Fox News)\n",
      "\n",
      "Transcript 99:\n",
      "HOST:\n",
      "Chris Wallace (Fox News)\n",
      "\n",
      "Transcript 100:\n",
      "MODERATORS:\n",
      "Charles Gibson (ABC-News); and\n",
      "Scott Spradling (WMUR-TV)\n",
      "\n",
      "Transcript 101:\n",
      "MODERATOR:\n",
      "Carolyn Washburn, (Des Moines Register)\n",
      "\n",
      "Transcript 102:\n",
      "MODERATOR: Good evening and welcome to the presidential forum. (inaudible) in Spanish at the University of Miami.\n",
      "\n",
      "Transcript 103:\n",
      "MODERATORS:\n",
      "Anderson Cooper, CNN;\n",
      "John King, CNN; and\n",
      "Gloria Borger, CNN;\n",
      "\n",
      "Transcript 104:\n",
      "MODERATORS:\n",
      "Brit Hume, Fox News;\n",
      "Chris Wallace, Fox News;\n",
      "Wendell Goler, Fox News; and\n",
      "Carl Cameron, Fox News\n",
      "\n",
      "Transcript 105:\n",
      "MODERATORS:\n",
      "Chris Matthews, MSNBC;\n",
      "Maria Bartiromo, CNBC;\n",
      "John Harwood, CNBC; and\n",
      "Gerald Seib, Wall Street Journal\n",
      "\n",
      "Transcript 106:\n",
      "MODERATOR:\n",
      "Tavis Smiley, host of \"Tavis Smiley\" on PBS.\n",
      "\n",
      "Transcript 107:\n",
      "MODERATOR:\n",
      "Brit Hume (Fox News)\n",
      "\n",
      "Transcript 108:\n",
      "MODERATORS: George Stephanopoulos (ABC-News)\n",
      "David Yepsen (Des Moines Register)\n",
      "\n",
      "Transcript 109:\n",
      "MR. BLITZER: So let's meet the candidates. We've asked for no opening statements. However, I'd like to ask each candidate to - in one short sentence, about five seconds or so, to introduce themselves to the voters of New Hampshire.\n",
      "\n",
      "Transcript 110:\n",
      "MR. HUME: And here now is the format for this debate. Each candidate will be asked a series of questions on foreign policy and domestic issues. Answers are limited to one minute each. If we decide rebuttal time is needed, that will be 30 seconds. We have green, yellow and red lights to help the candidates keep track of their time, and if an answer runs long, candidates, and possibly much of the world, will hear this sound: (A bell rings.) (Laughter.)\n",
      "\n",
      "Transcript 111:\n",
      "Candidates:Sen. Sam Brownback, R-Kan.\n",
      "Former Gov. James Gilmore, R-Va.\n",
      "Former Mayor Rudolph Giuliani, R-N.Y.C.\n",
      "Former Gov. Mike Huckabee, R- Ark.\n",
      "Rep. Duncan Hunter, R-Calif.\n",
      "Sen. John McCain, R-Ariz.\n",
      "Rep. Ron Paul, R-Texas\n",
      "Former Gov. Mitt Romney, R- Mass\n",
      "Rep. Tom Tancredo, R-Col.\n",
      "Former Gov. Tommy Thompson, R-Wis.\n",
      "\n",
      "Transcript 112:\n",
      "As Jim Lehrer told you before the first one, these debates are sponsored by the Commission on Presidential Debates. Tonight the topic will be domestic affairs, but the format will be the same as that first debate. I'll moderate our discussion under detailed rules agreed to by the candidates, but the questions and the areas to be covered were chosen by me. I have not told the candidates or anyone else what they are.\n",
      "\n",
      "Transcript 113:\n",
      "Tonight's format is going to be a bit different. We have assembled a townhall meeting. We're in the \"Show Me\" State, as everyone knows Missouri to be, so Missouri residents will ask the questions, these 140 citizens who were identified by the Gallup Organization as not yet committed in this election. Now, earlier today each audience member gave me two questions on cards like this: One they'd like to ask of the President; the other they'd like to ask the Senator. I have selected the questions to be asked and the order. No one has seen the final list of questions but me—certainly not the candidates. No audience member knows if he or she will be called upon. Audience microphones will be turned off after a question is asked.\n",
      "\n",
      "Transcript 114:\n",
      "These debates are sponsored by the Commission on Presidential Debates. Tonight's will last 90 minutes, following detailed rules of engagement worked out by representatives of the candidates. I have agreed to enforce their rules on them. The umbrella topic is foreign policy and homeland security. But the specific subjects were chosen by me. The questions were composed by me. The candidates have not been told what they are, nor has anyone else.\n",
      "\n",
      "Transcript 115:\n",
      "IFILL: Good evening from Case Western Reserve University's Veale Center here in Cleveland, Ohio.\n",
      "\n",
      "Transcript 116:\n",
      "And we want to give a special thanks to the Young Democrats of South Carolina and Furman University, who are the sponsors here tonight.\n",
      "\n",
      "Transcript 117:\n",
      "The seven remaining Democratic presidential candidates are gathered here for their final debate before next Tuesday's New Hampshire primary.\n",
      "\n",
      "Transcript 118:\n",
      "GORE: I'm glad you clarified that.\n",
      "\n",
      "Transcript 119:\n",
      "BUSH: I have, I have. First question is what's in the best interests of the United States? What's in the best interests of our people? When it comes to foreign policy that will be my guiding question. Is it in our nation's interests? Peace in the Middle East is in our nation's interests. Having a hemisphere that is free for trade and peaceful is in our nation's interests. Strong relations in Europe is in our nation's interest. I've thought a lot about what it means to be the president. I also understand that an administration is not one person, but an administration is dedicated citizens who are called by the president to serve the country, to serve a cause greater than self, and so I've thought about an administration of people who represent all America, but people who understand my compassionate and conservative philosophy. I haven't started naming names except for one person, and that's Mr. Richard Cheney who I thought did a great job the other night. He's a vice presidential nominee who represents -- I think people got to see why I picked him. He's man of solid judgment and he's going to be a person to stand by my side. One of the things I've done in Texas is I've been able to put together a good team of people. I've been able to set clear goals. The goals ought to be an education system that leaves no child behind, Medicare for our seniors, a Social Security system that's safe and secure, foreign policy that's in our nation's interest, and a strong military, and then bring people together to achieve those goals. That's what a Chief Executive Officer does. So I've thought long and hard about the honor of being the President of the United States.\n",
      "\n",
      "Transcript 120:\n",
      "(Applause)\n",
      "\n",
      "Transcript 121:\n",
      "LIEBERMAN: Before I answer that very important question, let me first thank you for moderating the debate. Let me thank the wonderful people here at Centre College and throughout Kentucky for being such gracious hosts, and let me give a special thank you to the people of Connecticut without whose support over these last 30 years I would never have had the opportunity Al Gore has given me this year. And finally let me thank my family that is here with me. My wife, Hadassah, our children, our siblings and my mom. My 85-year-old mom gave me some good advice about the debate earlier today. She said, sweetheart -- as she's prone to call me -- remember, be positive and know that I will love you no matter what you're opponent says about you. Well, Mom, as always, that was both reassuring and wise. I am going to be positive tonight. I'm not going to indulge in negative personal attacks. I'm going to talk about the issues that matter to the people of this country; education, health care, retirement security and moral values. I'm going to describe the plan that Al Gore and I have for keeping America's prosperity going and making sure that it benefits more of America's families, particularly the hard-working middle class families who have not yet fully benefitted from the good times we've had. And Bernie, I'm going to explain tonight how we're going to do all this and remain fiscally responsible. Let me get to your question.\n",
      "\n",
      "Transcript 122:\n",
      "MODERATOR:\n",
      "Bernard Shaw, CNN\n",
      "\n",
      "Transcript 123:\n",
      "MODERATOR:\n",
      "Bernard Shaw, CNN\n",
      "\n",
      "Transcript 124:\n",
      "MODERATORS:\n",
      "Tom Griffith, WMUR; and\n",
      "Judy Woodruff, CNN\n",
      "\n",
      "Transcript 125:\n",
      "MODERATORS:\n",
      "Soledad O'Brien, NBC News; and\n",
      "Tavis Smiley, Black Entertainment Television\n",
      "\n",
      "Transcript 126:\n",
      "MODERATOR:\n",
      "Dennis Ryerson, Editor, The Des Moines Register\n",
      "\n",
      "Transcript 127:\n",
      "MODERATORS:Jenny Attiyeh (New Hampshire Public Television);John DiStaso (Union Leader);Peter Jennings (ABC News); andAlison King (New England Cable News)\n",
      "\n",
      "Transcript 128:\n",
      "MODERATOR:\n",
      "Tim Russert, NBC News\n",
      "\n",
      "Transcript 129:\n",
      "MODERATOR:\n",
      "Ted Koppel, ABC News\n",
      "\n",
      "Transcript 130:\n",
      "MODERATORS:\n",
      "Karen Brown, WMUR; and\n",
      "Bernard Shaw, CNN\n",
      "\n",
      "Transcript 131:\n",
      "MODERATORS:\n",
      "Jeff Greenfield, CNN; and\n",
      "Judy Woodruff, CNN\n",
      "\n",
      "Transcript 132:\n",
      "MODERATOR:\n",
      "Larry King, CNN\n",
      "\n",
      "Transcript 133:\n",
      "MODERATORS:\n",
      "Karen Brown, WMUR-TV; and\n",
      "Bernard Shaw, CNN\n",
      "\n",
      "Transcript 134:\n",
      "MODERATOR:\n",
      "Dennis Ryerson, Editor, The Des Moines Register\n",
      "\n",
      "Transcript 135:\n",
      "MODERATORS:\n",
      "Tim Russert, NBC News;\n",
      "Suzanne Geha, WOOD-TV; and\n",
      "Rick Albin, WOOD-TV\n",
      "\n",
      "Transcript 136:\n",
      "MODERATORS:\n",
      "Brian Williams, NBC News; and\n",
      "David Stanton, WIS-TV\n",
      "\n",
      "Transcript 137:\n",
      "MODERATORS:Jenny Attiyeh (New Hampshire Public Television);John DiStaso (Union Leader);Alison King (New England Cable News); andTim Russert (NBC News)\n",
      "\n",
      "Transcript 138:\n",
      "MODERATORS:\n",
      "Tom Brokaw (NBC); and\n",
      "John Bachman (WHO-TV)\n",
      "\n",
      "Transcript 139:\n",
      "From the Orpheum Theater in downtown Phoenix, here now is the moderator: Judy Woodruff.\n",
      "\n",
      "Transcript 140:\n",
      "MODERATORS:\n",
      "Brit Hume, Fox News; and\n",
      "Karen Brown, WMUR\n",
      "\n",
      "Transcript 141:\n",
      "MODERATORS:John Hook (KSAZ-TV); andRobert Novak (CNN)\n",
      "\n",
      "Transcript 142:\n",
      "MODERATORS:\n",
      "Judy Woodruff, CNN; and\n",
      "Tom Griffith, WMUR\n",
      "\n",
      "Transcript 143:\n",
      "So we'll start with the guy who drew the short stick, Gary Bauer, on the economy. You gentlemen are here in New Hampshire at a time that's not only beautiful physically, but it's quite happy economically. Eight years ago that was not the case here. It was in terrible shape, banks were closed, people were losing high tech jobs. Now things are very good here. Why would voters want to change?\n",
      "\n",
      "Transcript 144:\n",
      "We will follow a townhall-type format tonight. The questions over the next 90 minutes will come from 113 citizens of the greater San Diego area. They were chosen in the past week by the Gallup organization to represent a rough cross-section of voters as to political views, age, gender, and other factors. Each said he or she is undecided about this Presidential race.\n",
      "\n",
      "Transcript 145:\n",
      "This event is sponsored by the Commission on Presidential Debates. It will last 90 minutes, following a format and rules worked out by the two campaigns. There will be 2-minute opening and closing statements; in between, a series of questions, each having three parts: a 90-second answer, a 60-second rebuttal, and a 30-second response. I will assist the candidates in adhering to those time limits, with the help of a series of lights visible to both. Under their rules, the candidates are not allowed to question each other directly. I will ask the questions. There are no limitations on the subjects. The order for everything tonight was determined by coin toss.\n",
      "\n",
      "Transcript 146:\n",
      "KEMP: Wow, in 90 seconds? I can't clear my throat in 90 seconds. Jim, Bob Dole and myself do not see Al Gore and Bill Clinton as our enemy. We see them as our opponents. This is the greatest democracy in the world. People are watching not only throughout this country, but all over the world as to how this democracy can function with civility and respect, and decency and integrity. Bob Dole, um, is one of those men who served in the United States Senate, his public life is a public record. He fought on the battlefield. He has worked with Democrats and Republicans. In my opinion, it is beneath Bob Dole to go after anyone personally. Clearly, Abraham Lincoln put it best when he said you serve your party best by serving the nation first. And I can't think of a better way of serving this nation in 1996 than by electing Bob Dole as the President of the United States of America. These issues are fully capable of being understood and reflected upon by the American people. This is a democracy in which we have the freest press and the greatest First Amendment rights in the history of mankind. And Bob and I respect that. These issues will be aired, but they'll be aired with dignity and respect, and, ultimately, leave it to the American people to make up their minds about who should be the leader of this country into the 21st Century.\n",
      "\n",
      "Transcript 147:\n",
      "I am Jim Lehrer, of \"The MacNeil/Lehrer NewsHour\" on PBS. I will be the moderator for this debate, which is being sponsored by the Commission on Presidential Debates. It will be 90 minutes long. It is happening before an audience on the campus of Michigan State University in East Lansing.\n",
      "\n",
      "Transcript 148:\n",
      "My name is Carole Simpson, and I will be the moderator for tonight's 90-minute debate which is coming to you from the campus of the University of Richmond in Richmond, Virginia.\n",
      "\n",
      "Transcript 149:\n",
      "I am Jim Lehrer of \"The MacNeil/Lehrer NewsHour\" on PBS, and I will be the moderator for this 90-minute event, which is taking place before an audience here in the Athletic Complex on the campus of Washington University in St. Louis, Missouri.\n",
      "\n",
      "Transcript 150:\n",
      "(APPLAUSE)\n",
      "\n",
      "Transcript 151:\n",
      "SHAW: For the next 90 minutes we will be questioning the candidates following a format designed and agreed to by representatives of the two campaigns. However, there are no restrictions on the questions that my colleagues and I can ask this evening, and the candidates have no prior knowledge of our questions. By agreement between the candidates, the first question goes to Gov. Dukakis. You have two minutes to respond. Governor, if Kitty Dukakis were raped and murdered, would you favor an irrevocable death penalty for the killer?\n",
      "\n",
      "Transcript 152:\n",
      "(Applause)\n",
      "\n",
      "Transcript 153:\n",
      "WOODRUFF: For the next 90 minutes we will be questioning the candidates following a format designed and agreed to by representatives of the two campaigns. However, there are no restrictions on the questions that my colleagues and I may ask this evening. By prior agreement between the two candidates, the first question goes to Senator Quayle, and you have two minutes to respond. Senator, you have been criticized, as we all know, for your decision to stay out of the Vietnam War, for your poor academic record. But more troubling to some are some of the comments that have been made by people in your own party. Just last week former Secretary of State Haig said that your pick was the dumbest call George Bush could have made. Your leader in the Senate. (Applause)\n",
      "\n",
      "Transcript 154:\n",
      "Our panelists for tonight's debate on defense and foreign policy issues are Georgie Anne Geyer, syndicated columnist for Universal Press Syndicate; Marvin Kalb, chief diplomatic correspondent for NBC News; Morton Kondracke, executive editor of the New Republic magazine; and Henry Trewhitt, diplomatic correspondent for the Baltimore Sun. Edwin Newman, formerly of NBC News and now a syndicated columnist for King Features, is our moderator.\n",
      "\n",
      "Transcript 155:\n",
      "Tonight's debate marks the third consecutive Presidential election in which the League is presenting the candidates for the Nation's highest office in face-to-face debate.\n",
      "\n",
      "Transcript 156:\n",
      "VANOCUR: Thank you, Dorothy. A few words about the order of our format tonight. The order of questioning was determined by a toss of the coin. Congresswoman Ferraro won the toss. She elected to speak last. Therefore Vice President Bush will get the first question. The debate will be built upon a series of questions from the four reporters on the panel. A reporter will ask a candidate a question, a follow-up question and then the same to the other candidate; then each candidate will get to rebut the other. The debate will be divided into two parts. There'll be a section, the first: one, on domestic affairs; the second on foreign affairs. Now the manner of address was decided by the candidates. Therefore it will be Vice President Bush, Congresswoman Ferraro. And we begin our questioning with Mr. Mashek.\n",
      "\n",
      "Transcript 157:\n",
      "I'm Ruth Hinerfeld of the League of Women Voters Education Fund. Next Tuesday is election day. Before going to the polls, voters want to understand the issues and know the candidates' positions. Tonight, voters will have an opportunity to see and hear the major party candidates for the Presidency state their views on issues that affect us all. The League of Women Voters is proud to present this Presidential debate.\n",
      "\n",
      "Transcript 158:\n",
      "MR. MOYERS, HOST AND EXECUTIVE EDITOR, \"BILL MOYERS' JOURNAL,\" PUBLIC BROADCASTING SYSTEM: Thank you, Mrs. Hinerfeld. My colleagues and I agreed to participate tonight, although the questioners are limited by the constraints of the format, because we thought with the League of Women Voters, that it is desirable to seek a comparison of views on a few issues in a joint appearance by the men who would be the next President of the United States.\n",
      "\n",
      "Transcript 159:\n",
      "Welcome, President Ford, welcome, Governor Carter, and thank you for joining us this evening.\n",
      "\n",
      "Transcript 160:\n",
      "Thank you, President Ford, and thank you, Governor Carter, for being with us tonight.\n",
      "\n",
      "Transcript 161:\n",
      "We thank you, President Ford, and we thank you, Governor Carter, for being with us tonight.\n",
      "\n",
      "Transcript 162:\n",
      "DOLE: Thank you very much. First, I wish to thank the League of Women Voters, and this is a great privilege and honor for me. I also wanna thank my many friends in Russell, Kansas, for that big long telegram I received today. I think tonight may be sort of a fun evening. It's a very important evening; it's a very historic evening. But I've known ah my counterpart for some time, and we've been friends and we're - we'll be friends when this debate is over and we'll be friends when the election is over and he'll still be in the Senate. [audience laughter] And I think first of all I should make it very clear that I'm most proud to be on the ticket with President Ford. I've known President Ford for sixteen years - sixteen years. It's a long time. He's known me for that long. I know him to be a man of compassion and competence. He has that confidence and he projects that leadership that America needs and that you need right now. Now, I don't know much about uh - Governor Carter. I've tried to find out. I know he's very ambitious. I know he wants to be president. He's been running for three years. But I know he said uh - at least one thing - that he does agree with my opponent, my friend, uh - Walter Mondale, probably the most liberal senator in the United States Senate. And that's really what this debate's all about. If by some uh - tragic circumstance one of us should become president of the United States, where do we stand on the issues? I would just say in a very uh - summary way that I have a great deal of faith in you, the American people. I'm concerned about farmers and housewives and young people and professional people, working men and women. I think we can find our solutions working together. My opponent has a record of voting for ever- every inflationary spending program except in defense, where he votes for every cut. And we'll explore that as this debate goes on.\n",
      "\n",
      "Transcript 163:\n",
      "MR. NIXON: Good evening, Mr. Howe.\n",
      "\n",
      "Transcript 164:\n",
      "MR. KENNEDY: Good evening, Mr. Shadel.\n",
      "\n",
      "Transcript 165:\n",
      "MR. NIVEN: Mr. Vice President, Senator Kennedy said last night that the Administration must take responsibility for the loss of Cuba. Would you compare the validity of that statement with the validity of your own statements in previous campaigns that the Truman Administration was responsible for the loss of China to the Communists?\n",
      "\n",
      "Transcript 166:\n",
      "SENATOR KENNEDY: Mr. Smith, Mr. Nixon. In the election of 1860, Abraham Lincoln said the question was whether this nation could exist half-slave or half-free. In the election of 1960, and with the world around us, the question is whether the world will exist half-slave or half-free, whether it will move in the direction of freedom, in the direction of the road that we are taking, or whether it will move in the direction of slavery. I think it will depend in great measure upon what we do here in the United States, on the kind of society that we build, on the kind of strength that we maintain. We discuss tonight domestic issues, but I would not want that to be any implication to be given that this does not involve directly our struggle with Mr. Khrushchev for survival. Mr. Khrushchev is in New York, and he maintains the Communist offensive throughout the world because of the productive power of the Soviet Union itself. The Chinese Communists have always had a large population. But they are important and dangerous now because they are mounting a major effort within their own country. The kind of country we have here, the kind of society we have, the kind of strength we build in the United States will be the defense of freedom. If we do well here, if we meet our obligations, if we're moving ahead, then I think freedom will be secure around the world. If we fail, then freedom fails. Therefore, I think the question before the American people is: Are we doing as much as we can do? Are we as strong as we should be? Are we as strong as we must be if we're going to maintain our independence, and if we're going to maintain and hold out the hand of friendship to those who look to us for assistance, to those who look to us for survival? I should make it very clear that I do not think we're doing enough, that I am not satisfied as an American with the progress that we're making. This is a great country, but I think it could be a greater country; and this is a powerful country, but I think it could be a more powerful country. I'm not satisfied to have fifty percent of our steel-mill capacity unused. I'm not satisfied when the United States had last year the lowest rate of economic growth of any major industrialized society in the world. Because economic growth means strength and vitality; it means we're able to sustain our defenses; it means we're able to meet our commitments abroad. I'm not satisfied when we have over nine billion dollars worth of food - some of it rotting - even though there is a hungry world, and even though four million Americans wait every month for a food package from the government, which averages five cents a day per individual. I saw cases in West Virginia, here in the United States, where children took home part of their school lunch in order to feed their families because I don't think we're meeting our obligations toward these Americans. I'm not satisfied when the Soviet Union is turning out twice as many scientists and engineers as we are. I'm not satisfied when many of our teachers are inadequately paid, or when our children go to school part-time shifts. I think we should have an educational system second to none. I'm not satisfied when I see men like Jimmy Hoffa - in charge of the largest union in the United States - still free. I'm not satisfied when we are failing to develop the natural resources of the United States to the fullest. Here in the United States, which developed the Tennessee Valley and which built the Grand Coulee and the other dams in the Northwest United States at the present rate of hydropower production - and that is the hallmark of an industrialized society - the Soviet Union by 1975 will be producing more power than we are. These are all the things, I think, in this country that can make our society strong, or can mean that it stands still. I'm not satisfied until every American enjoys his full constitutional rights. If a Negro baby is born - and this is true also of Puerto Ricans and Mexicans in some of our cities - he has about one-half as much chance to get through high school as a white baby. He has one-third as much chance to get through college as a white student. He has about a third as much chance to be a professional man, about half as much chance to own a house. He has about uh - four times as much chance that he'll be out of work in his life as the white baby. I think we can do better. I don't want the talents of any American to go to waste. I know that there are those who want to turn everything over to the government. I don't at all. I want the individuals to meet their responsibilities. And I want the states to meet their responsibilities. But I think there is also a national responsibility. The argument has been used against every piece of social legislation in the last twenty-five years. The people of the United States individually could not have developed the Tennessee Valley; collectively they could have. A cotton farmer in Georgia or a peanut farmer or a dairy farmer in Wisconsin and Minnesota, he cannot protect himself against the forces of supply and demand in the market place; but working together in effective governmental programs he can do so. Seventeen million Americans, who live over sixty-five on an average Social Security check of about seventy-eight dollars a month, they're not able to sustain themselves individually, but they can sustain themselves through the social security system. I don't believe in big government, but I believe in effective governmental action. And I think that's the only way that the United States is going to maintain its freedom. It's the only way that we're going to move ahead. I think we can do a better job. I think we're going to have to do a better job if we are going to meet the responsibilities which time and events have placed upon us. We cannot turn the job over to anyone else. If the United States fails, then the whole cause of freedom fails. And I think it depends in great measure on what we do here in this country. The reason Franklin Roosevelt was a good neighbor in Latin America was because he was a good neighbor in the United States. Because they felt that the American society was moving again. I want us to recapture that image. I want people in Latin America and Africa and Asia to start to look to America; to see how we're doing things; to wonder what the resident of the United States is doing; and not to look at Khrushchev, or look at the Chinese Communists. That is the obligation upon our generation. In 1933, Franklin Roosevelt said in his inaugural that this generation of Americans has a rendezvous with destiny. I think our generation of Americans has the same rendezvous. The question now is: Can freedom be maintained under the most severe tack - attack it has ever known? I think it can be. And I think in the final analysis it depends upon what we do here. I think it's time America started moving again.\n",
      "\n",
      "Transcript 167:\n",
      "And tonight, the President will be taking questions from voters here in Miami, who we should mention are socially distanced and they're wearing masks. And I should say, this audience looks a bit like America, it's divided. Some here voted for the president in 2016 and plan to again, some support Joe Biden, and some say they are truly undecided. We're going to get a mix of questions on a range of topics, and we're going to get to those questions in a moment. But first with all of that ado, welcome, Mr. President, and thank you for being here.\n",
      "\n",
      "Transcript 168:\n",
      "And welcome to our town hall with Joe Biden.\n",
      "\n"
     ]
    }
   ],
   "source": [
    "#Checking out the second item of each transcript, to see if that will be the correct starting point:\n",
    "for i, transcript in enumerate(app_transcripts):\n",
    "    print('Transcript {}:'.format(i))\n",
    "    print(transcript[1]+ '\\n')"
   ]
  },
  {
   "cell_type": "markdown",
   "metadata": {},
   "source": [
    "Based on the above, the following transcripts have started the debate speech by index 1:"
   ]
  },
  {
   "cell_type": "code",
   "execution_count": 8,
   "metadata": {},
   "outputs": [],
   "source": [
    "early = [49, 50, 51, 52, 73, 74, 75, 76, 94, 102, 109, 110, 112, 113, 114, 115, 116, 117, 118, 119, 120, 121, 139, 143, 144, 145, 146, 147, 148, 149, 150, 151, 152, 153, 154, 155, 156, 157, 158, 159, 160, 161, 162, 163, 164, 165, 166, 167, 168]"
   ]
  },
  {
   "cell_type": "markdown",
   "metadata": {},
   "source": [
    "Do those all start at 0?"
   ]
  },
  {
   "cell_type": "code",
   "execution_count": 9,
   "metadata": {
    "scrolled": true
   },
   "outputs": [
    {
     "name": "stdout",
     "output_type": "stream",
     "text": [
      "Transcript 49:\n",
      "Moderator Bob Schieffer. Good evening from the campus of Lynn University here in Boca Raton, Florida. This is the fourth and last debate of the 2012 campaign, brought to you by the Commission on Presidential Debates. This one is on foreign policy. I'm Bob Schieffer of CBS News.\n",
      "\n",
      "\n",
      "Transcript 50:\n",
      "Moderator Candy Crowley. Good evening from Hofstra University in Hempstead, New York. I'm Candy Crowley from CNN's \"State of the Union.\"\n",
      "\n",
      "\n",
      "Transcript 51:\n",
      "Moderator Jim Lehrer. Good evening from the Magness Arena at the University of Denver, in Denver, Colorado. I'm Jim Lehrer of the PBS NewsHour, and I welcome you to the first of the 2012 Presidential Debates between President Barack Obama, the Democratic nominee, and former Massachusetts Governor Mitt Romney, the Republican nominee.\n",
      "\n",
      "\n",
      "Transcript 52:\n",
      "MARTHA RADDATZ, MODERATOR: Good evening, and welcome to the first and only vice presidential debate of 2012, sponsored by the Commission on Presidential Debates. I'm Martha Raddatz of ABC News, and I am honored to moderate this debate between two men who have dedicated much of their lives to public service.\n",
      "\n",
      "Transcript 73:\n",
      "[moderated by Bob Schieffer of CBS News]\n",
      "\n",
      "Transcript 74:\n",
      "[moderated by Tom Brokaw of NBC News]\n",
      "\n",
      "Transcript 75:\n",
      "[moderated by Jim Lehrer of PBS]\n",
      "\n",
      "Transcript 76:\n",
      "[moderated by Gwen Ifill of PBS]\n",
      "\n",
      "Transcript 94:\n",
      "WOLF BLITZER: Let's meet the candidates. We've asked for no opening statements. However, I would like to ask each candidate to, in one short sentence -- and the emphasis is on the word \"short\" -- short sentence, about five seconds or so, to introduce themselves to the voters of New Hampshire.\n",
      "\n",
      "Transcript 102:\n",
      "PARTICIPANTS:\n",
      "Former Mayor Rudolph Giuliani (New York City);\n",
      "Former Governor Mike Huckabee (AR);\n",
      "Representative Duncan Hunter (CA);\n",
      "Senator John McCain (AZ);\n",
      "Representative Ron Paul (TX);\n",
      "Former Governor Mitt Romney (MA); and\n",
      "Former Senator Fred Thompson (TN)\n",
      "\n",
      "Transcript 109:\n",
      "Participants:\n",
      "Senator Sam Brownback,\n",
      "former Virginia Gov. James Gilmore\n",
      "former New York City mayor Rudy Giuliani,\n",
      "Rep. Duncan Hunter (CA),\n",
      "former Arkansas Gov. Mike Huckabee,\n",
      "Sen. John McCain (AZ),\n",
      "Rep. Ron Paul (TX),\n",
      "former Massachusetts Gov. Mitt Romney,\n",
      "Rep. Tom Tancredo (CO), and\n",
      "former Wisconsin Gov. Tommy Thompson\n",
      "Moderator: Wolf Blitzer, CNN\n",
      "\n",
      "Transcript 110:\n",
      "Participants: Senator Sam Brownback; former Virginia Governor James Gilmore; former New York Mayor Rudy Giuliani; Represenatative Duncan Hunter; former Arkansas Gov. Mike Huckabee; Senator John McCain (R-AZ); Representative Ron Paul; former Massachusetts Gov. Mitt Romney; Represenatative Tom Tancredo; and former Wisconsin Gov. Tommy Thompson. Moderated by Fox News Channel's Brit Hume and Chris Wallace.\n",
      "\n",
      "Transcript 112:\n",
      "Bob Schieffer. Good evening from Arizona State University in Tempe, Arizona. I'm Bob Schieffer of CBS News. I want to welcome you to the third and last of the 2004 debates between President George Bush and Senator John Kerry.\n",
      "\n",
      "Transcript 113:\n",
      "Charles Gibson. Good evening from the Field House at Washington University in St. Louis. I'm Charles Gibson of ABC News and \"Good Morning America.\" I welcome you to the second of the 2004 Presidential debates between President George W. Bush, the Republican nominee, and Senator John Kerry, the Democratic nominee. The debates are sponsored by the Commission on Presidential Debates.\n",
      "\n",
      "Transcript 114:\n",
      "Jim Lehrer. Good evening from the University of Miami Convocation Center in Coral Gables, Florida. I'm Jim Lehrer of the News Hour on PBS. And I welcome you to the first of the 2004 Presidential debates between President George W. Bush, the Republican nominee, and Senator John Kerry, the Democratic nominee.\n",
      "\n",
      "Transcript 115:\n",
      "[moderated by Gwen Ifill of PBS]\n",
      "\n",
      "Transcript 116:\n",
      "TOM BROKAW: Good evening. Good evening. Love that southern hospitality. Good evening to all of you in the Peace Center for Performing Arts here in Greenville, South Carolina, and to our national television audience as well. This is a very important occasion, obviously. This is the first of the southern primaries in this long election year, one of seven states that will hold primaries or caucuses next Tuesday.\n",
      "\n",
      "Transcript 117:\n",
      "BRIT HUME, FOX NEWS: Good evening, and welcome to Koonz Auditorium here at St. Anselm College in Manchester, New Hampshire.\n",
      "\n",
      "Transcript 118:\n",
      "MODERATOR: Good evening from the Field House at Washington University in St. Louis. I'm Jim Lehrer of the News Hour on PBS. And I welcome you to this third and final Campaign 2000 debate between the Democratic candidate for president, Vice President Al Gore, and the Republican candidate, Governor George W. Bush of Texas. Let's welcome the candidates now. Before proceeding tonight we would like to observe a moment of silence in memory of Governor Mel Carnahan of Missouri, who along with his son and his former chief of staff, died in a private plane crash last night near St. Louis. A reminder, as we continue now, that these debates are sponsored by the Commission on Presidential Debates. The formats and the rules were worked out by the commission and the two campaigns. Tonight's questions will be asked by St. Louis area voters who were identified as being uncommitted by the Gallup organization. Earlier today each of them wrote a question on a small card like this. Those cards were collected and then given to me this afternoon. My job, under the rules of the evening, was to decide the order the questions will be asked and to call on the questioners accordingly. I also have the option of asking follow-ups which -- in order to get to more of the panel's questions. For the record, I plan to do sparingly and mostly for clarifications. The audience participants are bound by the following rule. They shall not ask follow-up questions or otherwise participate in the extended discussion. And the questioner's microphone will be turned off after he or she completes asking the question. Those are the rules. As in Winston-Salem last week, no single answer or response from a candidate can exceed two minutes. There is an audience here in the hall and they have promised to remain absolutely quiet, as did their predecessors this year in Boston, Danville, and Winston-Salem. Before we begin, a correction from last week's debate. I was wrong when I said Vice President Gore's campaign commercials had called Governor Bush a bumbler. That specific charge was made in a press statement by Gore campaign spokesman Mark Fabiani, not in a TV Guide.\n",
      "\n",
      "Transcript 119:\n",
      "MODERATOR: Let's welcome the candidates, Governor Bush and Vice President Gore. Good evening, from Wake Chapel at Wake Forest University at Winston-Salem, North Carolina. I'm Jim Lehrer of the News Hour on PBS. Welcome to this second election 2000 debate between the Republican candidate for president, George W. Bush of Texas, and the Democratic candidate, Vice President Al Gore. These debates are sponsored by the Commission on Presidential Debates. The format and the rules are those negotiated by representatives of the two campaigns. Only the subjects tonight and the questions are mine. The format tonight is that of a conversation. The only prevailing rule is that no single response can ever, ever exceed two minutes. The prevailing rule for the audience here in the hall is as always, absolute quiet, please. Good evening, Governor Bush, Vice President Gore. The end of our 90 minutes last week in Boston, the total time each of you took was virtually the same. Let's see if we can do the same tonight, or come close. Governor Bush, the first question goes to you. One of you is about to be elected the leader of the single-most powerful nation in the world, economically, financially, militarily, diplomatically, you name it. Have you formed any guiding principles for exercising this enormous power?\n",
      "\n",
      "Transcript 120:\n",
      "MODERATOR: Good evening from the Clark Athletic Center at the University of Massachusetts in Boston. I'm Jim Lehrer of the NewsHour on PBS, and I welcome you to the first of three 90-minute debates between the Democratic candidate for president, Vice President Al Gore and the Republican candidate, Governor George W. Bush of Texas. The debates are sponsored by the Commission on Presidential Debates and they will be conducted within formats agreed to between the two campaigns. We'll have the candidates at podiums. No answer to a question can exceed two minutes. Rebuttal is limited to one minute. But as moderator I have the option to follow up and extend any give and take any three-and-a-half minutes. Even then, no single answer can exceed two minutes. The candidates under their rules may not question each other directly. There will be no opening statements, but each candidate may have up to two minutes for a closing statement. The questions and the subjects were chosen by me alone. I have told no one from the two campaigns, or the Commission, or anyone else involved what they are. There is a small audience in the hall tonight. They are not here to participate, only to listen. I have asked, and they have agreed, to remain silent for the next 90 minutes. Except for right now, when they will applaud as we welcome the two candidates, Governor Bush and Vice President Gore.\n",
      "\n",
      "Transcript 121:\n",
      "MODERATOR: From Centre College in historic Danville, Kentucky, good evening, and welcome to this year's only vice presidential debate sponsored by the Commission on Presidential Debates. I'm Bernard Shaw, moderator. Tonight we come to you from the hall in the Northern Center for the Arts on the campus of Centre College. Thank you to President John Rausch, the faculty, students and community leaders state-wide, we thank you for hosting this debate. The candidates are the Republican nominee, former Defense Secretary Dick Cheney of Wyoming, and the Democratic nominee, Senator Joseph Lieberman of Connecticut. The Commission, these candidates and their campaign staffs have agreed to the following rules. A candidate shall have two minutes to respond to the moderator's question. The other candidate shall have two minutes to comment on the question or the first candidate's answer. When I exercise the moderator's discretion of extending discussion of a question, no candidate may speak for more than two minutes at one time. This audience has been told no disruptions will be tolerated. A prior coin toss has determined that the first question will go to the Democratic candidate. Senator, few hard working Americans would base their well-being on bonuses they hope to get five or ten years from now. Why do you, and you, Secretary Cheney, predict surpluses you cannot possibly guarantee to pay for your proposed programs?\n",
      "\n",
      "Transcript 139:\n",
      "ANNOUNCER: This is a CNN Election 2000 special presentation: \"The Arizona Republican Primary Debate.\" Presidential candidates take questions from reporters and from one another in a key primary state.\n",
      "\n",
      "Transcript 143:\n",
      "COKIE ROBERTS: Good evening. We're here tonight in the studios of New Hampshire Public Television. Joining us are five Republican candidates--and one who is not. They are Gary Bauer, Senator Orrin Hatch, Steve Forbes, John McCain and Alan Keyes. Tonight's forum will be divided into the following three categories: first the economy and health care, then foreign affairs, finally social issues and education. And the candidates have chosen their seating order and each question that begins by a draw--who begins each section by a draw.\n",
      "\n",
      "Transcript 144:\n",
      "Jim Lehrer. Good evening from the Shiley Theatre at the University of San Diego, San Diego, California. I'm Jim Lehrer of the \"NewsHour\" on PBS. Welcome to this second 1996 Presidential debate between Senator Bob Dole, the Republican nominee, and President Bill Clinton, the Democratic nominee. It is sponsored by the Commission on Presidential Debates.\n",
      "\n",
      "Transcript 145:\n",
      "Jim Lehrer. Good evening from the Bushnell Theater in Hartford, Connecticut. I'm Jim Lehrer, of the \"NewsHour\" on PBS. Welcome to the first of the 1996 Presidential debates between President Bill Clinton, the Democratic nominee, and Senator Bob Dole, the Republican nominee.\n",
      "\n",
      "Transcript 146:\n",
      "LEHRER: Good evening from the Mahaffey Theater at the Bayfront Center in St. Petersburg, Florida. I'm Jim Lehrer of the \"News Hour\" on PBS. Welcome to the 1996 Vice Presidential Debate between Vice President Al Gore, the democratic nominee, and Jack Kemp, the republican nominee. This event is sponsored by the Commission on Presidential Debates. The rules and format, as drawn and agreed to by the two campaigns are almost identical to those of the presidential debate last Sunday night in Hartford. It is 90 minutes long. The candidates are not permitted to question each other directly. I will ask the questions with no limitations on the subjects. There will be a 90-second answer, a 60-second rebuttal, and a 30-second response to each question. And with the help of some lights, I will help the candidates abide by those time limits. The order for everything was determined by a coin toss. There will be three-minute closing statements, but no opening statements. So, we go now to the first question and to Mr. Kemp. Some supporters of Senator Dole have expressed disappointment over his unwillingness in Hartford Sunday night to draw personal and ethical differences between him and President Clinton. How do you feel about it?\n",
      "\n",
      "Transcript 147:\n",
      "Jim Lehrer. Good evening. Welcome to this third and final debate among the three major candidates for President of the United States: Governor Bill Clinton, the Democratic nominee; President George Bush, the Republican nominee; and independent candidate Ross Perot.\n",
      "\n",
      "Transcript 148:\n",
      "Carole Simpson. Good evening, and welcome to the second of three Presidential debates between the major candidates for President of the United States. The candidates are the Republican nominee, President George Bush; the independent, Ross Perot; and Governor Bill Clinton, the Democratic nominee.\n",
      "\n",
      "Transcript 149:\n",
      "Jim Lehrer. Good evening, and welcome to the first of three debates among the major candidates for President of the United States, sponsored by the Commission on Presidential Debates. The candidates are independent candidate Ross Perot; Governor Bill Clinton, the Democratic nominee; and President George Bush, the Republican nominee.\n",
      "\n",
      "Transcript 150:\n",
      "HAL BRUNO: Good evening from Atlanta and welcome to the vice presidential debate sponsored by the Nonpartisan Commission on Presidential Debates. It's being held here in the Theater for the Arts on the campus of Georgia Tech. I'm Hal Bruno from ABC News and I'm going to be moderating tonight's debate. The participants are Republican Vice President Dan Quayle.\n",
      "\n",
      "Transcript 151:\n",
      "SHAW: On behalf of the Commission on Presidential Debates, I am pleased to welcome you to the second presidential debate. I am Bernard Shaw of CNN, Cable News Network. My colleagues on the panel are Ann Compton of ABC NEWS; Margaret Warner of Newsweek magazine; and Andrea Mitchell of NBC NEWS. The candidates are Vice President George Bush, the Republican nominee; and Governor Michael Dukakis, the Democratic nominee. (Applause)\n",
      "\n",
      "Transcript 152:\n",
      "LEHRER: Good evening. On behalf of the Commission on Presidential Debates I am pleased to welcome you to this first presidential debate of the 1988 campaign. I'm Jim Lehrer of the McNeil-Lehrer News Hour. My colleagues on the panel are John Mashek of The Atlanta Journal-Constitution; Ann Groer of The Orlando Sentinel; and Peter Jennings of ABC News. For the next 90 minutes we will be questioning the candidates for president of the United States following a format designed and agreed to by representatives of the two candidates. The candidates are Vice President George Bush, the Republican nominee; Governor Michael Dukakis, the Democratic nominee.\n",
      "\n",
      "Transcript 153:\n",
      "WOODRUFF: On behalf of the Commission on Presidential Debates, I am pleased to welcome you to this Vice Presidential debate. I'm Judy Woodruff of PBS' MacNeil-Lehrer News Hour and Frontline. My colleagues on the panel are: John Margolis of the Chicago Tribune; Tom Brokaw of NBC NEWS; and Brit Hume of ABC NEWS. The importance of tonight's debate is underscored by two facts. Both George Bush and Michael Dukakis said their selections of a running mate would reveal a lot about themselves. And based on the history since World War II, there is almost a 50-50 chance that one of the two men here tonight will become President of the United States. The candidates are Senator Dan Quayle, the Republican nominee, and Senator Lloyd Bentsen, the Democratic nominee. (Applause)\n",
      "\n",
      "Transcript 154:\n",
      "Ms. Ridings. Good evening from the Municipal Auditorium in Kansas City. I am Dorothy Ridings, the president of the League of Women Voters, the sponsor of this final Presidential debate of the 1984 campaign between Republican Ronald Reagan and Democrat Walter Mondale.\n",
      "\n",
      "Transcript 155:\n",
      "Ms. Ridings. Good evening from the Kentucky Center for the Arts in Louisville, Kentucky. I'm Dorothy Ridings, president of the League of Women Voters, the sponsor of tonight's first Presidential debate between Republican Ronald Reagan and Democrat Walter Mondale.\n",
      "\n",
      "Transcript 156:\n",
      "DOROTHY S. RIDINGS: Good evening from the Civic Center in Philadelphia, Pennsylvania. I'm Dorothy Ridings, president of the League of Women Voters, the sponsor of tonight's vice-presidential debate between Republican George Bush and Democrat Geraldine Ferraro. Our panelists for tonight's debate are John Mashek, correspondent for U.S. News & World Report; Jack White, correspondent for Time magazine; Norma Quarles, correspondent for NBC News; and Robert Boyd, Washington bureau chief for Knight-Ridder Newspapers. Sander Vanocur, senior political correspondent for ABC News, is our moderator tonight. Sandy.\n",
      "\n",
      "Transcript 157:\n",
      "MRS. HINERFELD. Good evening.\n",
      "\n",
      "Transcript 158:\n",
      "RUTH J. HINERFELD, CHAIR, LEAGUE OF WOMEN VOTERS EDUCATION FUND: Good evening. I'm Ruth Hinerfeld of the League of Women Voters Education Fund. We're pleased to be in Baltimore for the first of our 1980 Presidential Debates. The League is a non-partisan organization. We're presenting these debates to provide citizens an opportunity to see and hear the candidates state their positions on important issues of concern to us all. Our moderator is Bill Moyers.\n",
      "\n",
      "Transcript 159:\n",
      "THE MODERATOR. Good evening, I am Barbara Walters, moderator of the last of the debates of 1976 between Gerald R. Ford, Republican candidate for President, and Jimmy Carter, Democratic candidate for President.\n",
      "\n",
      "Transcript 160:\n",
      "THE MODERATOR. Good evening. I am Pauline Frederick of NPR [National Public Radio], moderator of the second of the historic debates of the 1976 campaign between Gerald R. Ford of Michigan, Republican candidate for President, and Jimmy Carter of Georgia, Democratic candidate for President.\n",
      "\n",
      "Transcript 161:\n",
      "THE MODERATOR. I am Edwin Newman, moderator of this first debate of the 1976 campaign between Gerald R. Ford of Michigan, Republican candidate for President, and Jimmy Carter of Georgia, Democratic candidate for President.\n",
      "\n",
      "Transcript 162:\n",
      "HOGE: Good evening, I'm James Hoge, editor of the Chicago Sun Times, and moderator of this third of the historic debates of the 1976 campaign. Tonight we have the vice-presidential candidates: for the Democrats, Senator Walter Mondale of Minnesota; for the Republicans, Senator Robert Dole of Kansas. Thank you, Senator Mondale, and thank you, Senator Dole, for being with us this evening. This debate is taking place before an audience in the Alley Theater in Houston, Texas. It is also being broadcast by radio and television to an audience estimated at some eighty-five million persons in this nation and overseas. As far as we can tell this is the first formal debate ever held between vice-presidential candidates. Their views are important not only because they seek the second highest office in the land, but because as potential vice presidents, they must be judged on their capacities to serve as president of the United States. For example, of the last five presidents, three have become president due to death, or resignation, by a chief executive. We will begin this debate tonight with opening statements of up to two minutes by each candidate. By the toss of a coin it was determined that Senator Dole would go first. Senator Dole, your opening statement.\n",
      "\n",
      "Transcript 163:\n",
      "QUINCY HOWE, MODERATOR: I am Quincy Howe of ABC News saying good evening from New York where the two major candidates for president of the United States are about to engage in their fourth radio-television discussion of the present campaign. Tonight these men will confine that discussion to foreign policy. Good evening, Vice President Nixon.\n",
      "\n",
      "Transcript 164:\n",
      "BILL SHADEL, MODERATOR: Good evening. I'm Bill Shadel of ABC News. It's my privilege this evening to preside at this the third in the series of meetings on radio and television of the two major presidential candidates. Now like the last meeting the subjects to be discussed will be suggested by questions from a panel of correspondents. Unlike the first two programs, however, the two candidates will not be sharing the same platform. In New York the Democratic presidential nominee, Senator John F. Kennedy; separated by three thousand miles in a Los Angeles studio, the Republican presidential nominee, Vice President Richard M. Nixon; now joined for tonight's discussion by a network of electronic facilities which permits each candidate to see and hear the other. Good evening, Senator Kennedy.\n",
      "\n",
      "Transcript 165:\n",
      "FRANK McGEE, MODERATOR: Good evening. This is Frank McGee, NBC News in Washington. This is the second in a series of programs unmatched in history. Never have so many people seen the major candidates for president of the United States at the same time; and never until this series have Americans seen the candidates in face-to-face exchange. Tonight the candidates have agreed to devote the full hour to answering questions on any issue of the campaign. And here tonight are: the Republican candidate, Vice President Richard M. Nixon; and the Democratic candidate, Senator John F. Kennedy. Now representatives of the candidates and of all the radio and television networks have agreed on these rules: neither candidate will make an opening statement or a closing summation; each will be questioned in turn; each will have an opportunity to comment upon the answer of the other; each reporter will ask only one question in turn. He is free to ask any question he chooses. Neither candidate knows what questions will be asked and only the clock will determine who will be asked the last question. These programs represent an unprecedented opportunity for the candidates to present their philosophies and programs directly to the people and for the people to compare these and the candidates. The four reporters on tonight's panel include a newspaperman and a wire service representative. These two were selected by lot by the press secretaries of the candidates from among the reporters traveling with the candidates. The broadcasting representatives were selected by their respective companies. The reporters are: Paul Niven of CBS, Edward P. Morgan of ABC, Alvin Spivak of United Press International, and Harold R. Levy of Newsday. Now the first question is from Mr. Niven and is for Vice President Nixon.\n",
      "\n",
      "Transcript 166:\n",
      "HOWARD K. SMITH, MODERATOR: Good evening. The television and radio stations of the United States and their affiliated stations are proud to provide facilities for a discussion of issues in the current political campaign by the two major candidates for the presidency. The candidates need no introduction. The Republican candidate, Vice President Richard M. Nixon, and the Democratic candidate, Senator John F. Kennedy. According to rules set by the candidates themselves, each man shall make an opening statement of approximately eight minutes' duration and a closing statement of approximately three minutes' duration. In between the candidates will answer, or comment upon answers to questions put by a panel of correspondents. In this, the first discussion in a series of four uh - joint appearances, the subject-matter has been agreed, will be restricted to internal or domestic American matters. And now for the first opening statement by Senator John F. Kennedy.\n",
      "\n",
      "Transcript 167:\n",
      "SAVANNAH GUTHRIE: Hi everybody, and good evening. It's good to have you with us, and welcome to Miami and our town hall with President Donald Trump. And we want to say right off the top, this is not how things were supposed to go tonight. This was supposed to be a town hall debate between Donald Trump and Joe Biden. But after the President contracted COVID, the debate commission announced it would have to be a virtual debate because of health concerns. The President then said he would not participate in a virtual debate. At that point, Joe Biden scheduled a town hall tonight in Pennsylvania on another network, and now the President is doing the same, his own town hall with the same venue format and time as NBC's town hall with Joe Biden last week. So the two candidates go head to head tonight, though, not face to face, each in a key battleground state.\n",
      "\n",
      "Transcript 168:\n",
      "STEPHANOPOULOS: Good evening. From the National Constitution Center in Philadelphia, our town hall with Joe Biden starts right now.\n",
      "\n"
     ]
    }
   ],
   "source": [
    "for i, transcript in enumerate(app_transcripts):\n",
    "    if i in early:\n",
    "        print('Transcript {}:'.format(i))\n",
    "        print(transcript[0]+ '\\n')"
   ]
  },
  {
   "cell_type": "markdown",
   "metadata": {},
   "source": [
    "Based on the above, the following transcripts start at index 0:"
   ]
  },
  {
   "cell_type": "code",
   "execution_count": 10,
   "metadata": {},
   "outputs": [],
   "source": [
    "starts_at_zero = [49, 50, 51, 52, 94, 112, 113, 114, 116, 117, 118, 119, 120, 121, 143, 144, 145, 146, 147, 148, 149, 150, 151, 152, 153, 154, 155, 156, 157, 158, 159, 160, 161, 162, 163, 164, 165, 166, 167, 168]"
   ]
  },
  {
   "cell_type": "markdown",
   "metadata": {},
   "source": [
    "The remaining in the early list start at index 1:"
   ]
  },
  {
   "cell_type": "code",
   "execution_count": 11,
   "metadata": {},
   "outputs": [],
   "source": [
    "starts_at_one = [73, 74, 75, 76, 102, 109, 110, 115, 139]"
   ]
  },
  {
   "cell_type": "markdown",
   "metadata": {},
   "source": [
    "Taking a closer look at those that start at 2 or later:"
   ]
  },
  {
   "cell_type": "code",
   "execution_count": 12,
   "metadata": {},
   "outputs": [
    {
     "name": "stdout",
     "output_type": "stream",
     "text": [
      "Transcript 0:\n",
      "WELKER: A very good evening to both of you. This debate will cover six major topics. At the beginning of each section, each candidate will have two minutes, uninterrupted, to answer my first question. The debate commission will then turn on their microphone only when it is their turn to answer, and the commission will turn it off exactly when the two minutes have expired. After that, both microphones will remain on, but on behalf of the voters, I'm going to ask you to please speak one at a time. The goal is for you to hear each other and for the American people to hear every word of what you both have to say. And so with that, if you're ready, let's start.\n",
      "\n",
      "Transcript 1:\n",
      "WALLACE: Good evening from the Health Education Campus of Case Western Reserve University and the Cleveland Clinic. I'm Chris Wallace of Fox News and I welcome you to the first of the 2020 presidential debates between President Donald J. Trump and former Vice President Joe Biden. This debate is sponsored by the Commission on Presidential Debates. The Commission has designed the format, six roughly 15 minute segments with two minute answers from each candidate to the first question, then open discussion for the rest of each segment. Both campaigns have agreed to these rules. For the record, I decided the topics and the questions in each topic. I can assure you none of the questions has been shared with the Commission or the two candidates.\n",
      "\n",
      "Transcript 2:\n",
      "PAGE: Good evening. From the University of Utah in Salt Lake City, welcome to the first, and only, vice presidential debate of 2020, sponsored by the nonpartisan Commission on Presidential Debates. I'm Susan Page of USA TODAY. It is my honor to moderate this debate, an important part of our democracy. In Kingsbury Hall tonight we have a small and socially distant audience and we've taken extra precautions during this pandemic. Among other things, everyone in the audience is required to wear a face mask and the candidates will be seated 12 feet apart. The audience is enthusiastic about their candidates, but they've agreed to express that enthusiasm, only twice. At the end of the debate and now when I introduce the candidates. Please welcome California Senator Kamala Harris and Vice President Mike Pence.\n",
      "\n",
      "Transcript 3:\n",
      "TAPPER: Good evening from Washington, D.C. And welcome to this unique event, the CNN-Univision Democratic presidential debate with the two leading candidates for the Democratic nomination, former Vice President Joe Biden and Vermont Senator Bernie Sanders.\n",
      "\n",
      "Transcript 4:\n",
      "O'DONNELL: Tonight, the battle for the 2020 Democratic presidential nomination, where everything is on the line.\n",
      "\n",
      "Transcript 5:\n",
      "HOLT: Good evening, everyone. I'm Lester Holt. Welcome to Las Vegas.\n",
      "\n",
      "Transcript 6:\n",
      "STEPHANOPOULOS: Candidates, welcome. Vice President Biden, the first question is for you. In the last few days, you've been saying that Democrats will be taking too big a risk if they nominate Senator Sanders or Mayor Buttigieg, but they came out on top in Iowa. What risks did the Iowa Democrats miss?\n",
      "\n",
      "Transcript 7:\n",
      "BLITZER: Live from Drake University in Iowa, this is the CNN Democratic presidential debate, in partnership with the Des Moines Register. We want to welcome our viewers in the United States and around the world. I'm Wolf Blitzer, along with CNN's Abby Phillip and the Des Moines Register's chief politics reporter Brianne Pfannenstiel.\n",
      "\n",
      "Transcript 8:\n",
      "WOODRUFF: Welcome back.\n",
      "\n",
      "Transcript 9:\n",
      "MADDOW: Hello, and welcome to the MSNBC-Washington Post Democratic candidates debate. At least some of us are very, very happy to be here tonight. I'm Rachel Maddow here in Atlanta, Georgia, tonight with my fellow moderators. Andrea Mitchell is NBC news foreign affairs correspondent and the host of \"Andrea Mitchell Reports\" on MSNBC. Ashley Parker is White House reporter for the Washington Post. And Kristen Welker is NBC News White House correspondent.\n",
      "\n",
      "Transcript 10:\n",
      "COOPER: And live from Otterbein University, just north of Columbus, Ohio, this is the CNN-New York Times Democratic presidential debate.\n",
      "\n",
      "Transcript 11:\n",
      "STEPHANOPOULOS: Good evening, and welcome to Houston. We are live from Texas Southern University for tonight's Democratic debate. The top 10 candidates are here. It's going to start right now.\n",
      "\n",
      "Transcript 12:\n",
      "TAPPER: An enthusiastic audience at the historic Fox Theatre in downtown Detroit, Michigan. Welcome to our viewers in the United States and around the world watching us on CNN, CNN International, CNN en Espanol, CNN.com, and listening on SiriusXM and the Westwood One Radio Network.\n",
      "\n",
      "Transcript 13:\n",
      "TAPPER: Welcome back to the CNN Democratic presidential debate candidates. We're about to begin opening statements. But first, a review of the ground rules that your campaigns agreed to earlier this month to ensure a fair debate. As moderators, we will attempt to guide the discussion.\n",
      "\n",
      "Transcript 14:\n",
      "HOLT: And good evening once again. Welcome to the candidates and our spirited audience here tonight in the Arsht Center and across America. Tonight we continue the spirited debate about the future of the country, how to tackle our most pressing problems and getting to the heart of the biggest issues in this Democratic primary.\n",
      "\n",
      "Transcript 15:\n",
      "HOLT: Good evening everyone, I am Lester Holt and welcome to the first democratic debate in the 2020 race for president.\n",
      "\n",
      "Transcript 16:\n",
      "WALLACE: Good evening from the Thomas and Mack Center at the University of Nevada, Las Vegas. I'm Chris Wallace of Fox News, and I welcome you to the third and final of the 2016 presidential debates between Secretary of State Hillary Clinton and Donald J. Trump.\n",
      "\n",
      "Transcript 17:\n",
      "RADDATZ: Ladies and gentlemen the Republican nominee for president, Donald J. Trump, and the Democratic nominee for president, Hillary Clinton. [applause]\n",
      "\n",
      "Transcript 18:\n",
      "HOLT: Good evening from Hofstra University in Hempstead, New York. I'm Lester Holt, anchor of \"NBC Nightly News.\" I want to welcome you to the first presidential debate.\n",
      "\n",
      "Transcript 19:\n",
      "QUIJANO: Good evening. From Longwood University in Farmville, Virginia, and welcome to the first, and only, vice presidential debate of 2016, sponsored by the Commission on Presidential Debates.\n",
      "\n",
      "Transcript 20:\n",
      "PANELISTS:Dana Bash (CNN); andErrol Louis (NY1)\n",
      "\n",
      "Transcript 21:\n",
      "RAMOS: [Speaking in Spanish]\n",
      "\n",
      "Transcript 22:\n",
      "COOPER: And welcome to The Whiting Auditorium on the campus of the Flint Cultural Center in Flint, Michigan for a special CNN democratic presidential debate.\n",
      "\n",
      "Transcript 23:\n",
      "WOODRUFF: Good evening, and thank you. We are happy to welcome you to Milwaukee for this Democratic debate.\n",
      "\n",
      "Transcript 24:\n",
      "TODD: Good evening, and welcome to the MSNBC Democratic candidates debate.\n",
      "\n",
      "Transcript 25:\n",
      "CUOMO: All right. We are live at Drake University in Des Moines, Iowa, to hear from the Democratic presidential candidates and the people who matter most in this election, the voters.\n",
      "\n",
      "Transcript 26:\n",
      "HOLT: Good evening and welcome to the NBC News Youtube Democratic candidate's debate. After all the campaigning, soon, Americans will have their say with the first votes of the 2016 campaign just 15 days away in Iowa. And New Hampshire not far behind.\n",
      "\n",
      "Transcript 27:\n",
      "RADDATZ: Good evening to you all. The rules for tonight are very basic and have been agreed to by all three campaigns in advance. Candidates can take up to a minute-and-a-half to respond directly to a question. For a rebuttal, for a follow-up, 45 seconds will be allowed. There are green, yellow, and red lights that each candidate will see to signal when time is running out and when they're supposed to be finished with their answers.\n",
      "\n",
      "Transcript 28:\n",
      "DICKERSON: Before we start the debate here are the rules. The candidates have one minute to respond to our questions and 30 seconds to respond to our follow-up. Any candidate who is attacked by another candidate gets 30 seconds for rebuttal. Here's how we'll keep time, after a question is asked the green light goes on. When there are 15 seconds left the candidate gets a yellow warning light.\n",
      "\n",
      "Transcript 29:\n",
      "COOPER: I'm Anderson Cooper. Thanks for joining us. We've already welcomed the candidates on stage. They are in place at their podiums. Before we dive into the issues, I want to quickly explain some of the groundrules tonight.\n",
      "\n",
      "Transcript 30:\n",
      "TAPPER: Live from the Bank United Center on the campus of the University of Miami, this is the CNN Republican Presidential debate. For our viewers in the United States and around the world, welcome to Miami Florida, I'm Jake Tapper.\n",
      "\n",
      "Transcript 31:\n",
      "KELLY: Good evening, and welcome to the fabulous FOX Theatre in downtown Detroit, the site of the 11th Republican presidential debate of the 2016 campaign.\n",
      "\n",
      "Transcript 32:\n",
      "PANELISTS:Maria Celeste Arrarás (Telemundo);Dana Bash (CNN); andHugh Hewitt (Salem Radio Network)\n",
      "\n",
      "Transcript 33:\n",
      "PANELISTS:Major Garrett (CBS News); andKimberly Strassel (The Wall Street Journal)\n",
      "\n",
      "Transcript 34:\n",
      "MUIR: Good evening, again, everyone. This is the first time since Iowa and the only time before the New Hampshire primary that the Republican candidates will have the opportunity to face each other.\n",
      "\n",
      "Transcript 35:\n",
      "BAIER: Nine p.m. on the East Coast. Eight o'clock here in Des Moines, Iowa. Welcome to the seventh Republican presidential debate of the 2016 campaign. I'm Bret Baier, along with my comoderators Megyn Kelly and Chris Wallace.\n",
      "\n",
      "Transcript 36:\n",
      "CAVUTO: It is 9:00 p.m. here at the North Charleston Coliseum and Performing Arts Center in South Carolina. Welcome to the sixth Republican presidential of the 2016 campaign, here on the Fox Business Network. I'm Neil Cavuto, alongside my friend and co-moderator Maria Bartiromo.\n",
      "\n",
      "Transcript 37:\n",
      "BLITZER: Welcome to the CNN-Facebook Republican presidential debate here at the Venetian Las Vegas.\n",
      "\n",
      "Transcript 38:\n",
      "CAVUTO: It is 9:00 p.m. on the East Coast, 8:00 p.m. here inside the Milwaukee theater. Welcome to the Republican presidential debate here on the Fox Business Network. I'm Neil Cavuto, alongside my co-moderators, Maria Bartiromo, and the editor-in-chief of the Wall Street Journal, Gerard Baker.\n",
      "\n",
      "Transcript 39:\n",
      "QUINTANILLA: Good evening, I'm Carl Quintanilla, with my colleagues Becky Quick and John Harwood. We'll be joined tonight by some of CNBC's top experts on the markets and personal finance.\n",
      "\n",
      "Transcript 40:\n",
      "TAPPER: I'm Jake Tapper. We're live at the Ronald Reagan Library in Simi Valley, California for the main event. Round 2 of CNN's presidential debate starts now.\n",
      "\n",
      "Transcript 41:\n",
      "KELLY: Welcome to the first debate night of the 2016 presidential campaign, live from Quicken Loans Arena in Cleveland, Ohio.\n",
      "\n",
      "Transcript 42:\n",
      "HEMMER: So, here we go. Ninety-seven hours before Iowa chooses, in fact the last two winners in this state are on this stage tonight. Governor Huckabee, in 2008, you won by nine points here, but this time your support seems to be going to Senator Ted Cruz and Donald Trump. Why, Governor, is your message not working this time?\n",
      "\n",
      "Transcript 43:\n",
      "[The candidates are introduced by the moderators]\n",
      "\n",
      "Transcript 44:\n",
      "BLITZER: I'd now like to ask the candidates to please take your places while I tell you a little bit more about how tonight's debate will work. As the moderator, I'll guide the discussion asking questions and follow-ups, as will Dana Bash and Hugh Hewitt.\n",
      "\n",
      "Transcript 45:\n",
      "REGAN: Good evening, and welcome to the historic Milwaukee Theater. Tonight, you'll hear from 12 Republican candidates vying to become the next President of the United States. I'm Trish Regan, along with my co-moderators, Sandra Smith, and from the Wall Street Journal, Jerry Seib.\n",
      "\n",
      "Transcript 46:\n",
      "QUICK: Good evening, everyone. I'm Becky Quick, along with my CNBC colleagues, Carl Quintanilla and John Harwood. Some of CNBC's experts on the markets and personal finance will be here with us tonight as well.\n",
      "\n",
      "Transcript 47:\n",
      "TAPPER: We're live at the Ronald Reagan Presidential Library in Simi Valley, California for one of the most highly anticipated primary season debates ever. On this stage 15 candidates in two rounds of questioning with one goal, to show they have what it takes to be the Republican Presidential Nominee.\n",
      "\n",
      "Transcript 48:\n",
      "HEMMER: This is first official event in the campaign for the Republican nomination for president. Welcome to Cleveland Ohio. It is debate night.\n",
      "\n",
      "Transcript 53:\n",
      "KING: Gentlemen, I want to ask you to take your seats. I'll take a moment now to explain to you how our debate will work.\n",
      "\n",
      "Transcript 54:\n",
      "BLITZER: Candidates, please take your podiums while I tell you more about how this debate will work tonight.\n",
      "\n",
      "Transcript 55:\n",
      "WILLIAMS: As for topics, it's a wide-open evening, so let's begin.\n",
      "\n",
      "Transcript 56:\n",
      "KING: From the North Charleston Coliseum, this is the Southern Republican Presidential Debate. Tonight, the four remaining Republican candidates are with us with their ultimate goal now in sight.\n",
      "\n",
      "Transcript 57:\n",
      "BAIER: Thanks, Bill, and welcome to the Myrtle Beach Convention Center and the Republican presidential debate. It's being sponsored by Fox News, the Wall Street Journal, and the South Carolina Republican Party.\n",
      "\n",
      "Transcript 58:\n",
      "GREGORY: And good morning and welcome to this special edition of \"Meet the Press,\" the final debate before New Hampshire voting begins. All six candidates are here. And before we begin, you know the drill. We quickly go through the rules.\n",
      "\n",
      "Transcript 59:\n",
      "SAWYER: And good evening to all of you. Welcome to Saint Anselm College and the first debate of the year, 2012. The voting is underway. And, George, those eight votes in Iowa reminded us on Tuesday every vote counts.\n",
      "\n",
      "Transcript 60:\n",
      "MODERATOR: Speaker Gingrich, since our last debate, your position in this race has changed dramatically. You are now physically at the center of the stage, which means you're at the top of the polls, yet many Republicans seem conflicted about you. They say that you're smart, that you're a big thinker. At the same time, many of those same Republicans worry deeply about your electability in a general election, saying perhaps Governor Romney is a safer bet.\n",
      "\n",
      "Transcript 61:\n",
      "SAWYER: And a good evening to all of you welcome to Iowa, welcome to Drake University as the presidential voting draws near, the time is coming. And the political team of ABC News has been out in force throughout this state. And we just wanna say to the people of Iowa, we are endlessly struck by how seriously you take your role as first in line for the vote.\n",
      "\n",
      "Transcript 62:\n",
      "BLITZER: From Constitution Hall in the nation's capital, this is the Republican presidential debate.\n",
      "\n",
      "Transcript 63:\n",
      "PELLEY: Good evening from Wofford College in Spartanburg, South Carolina. I'm Scott Pelley with CBS News along with my colleague Major Garrett of National Journal. In just under a year now, Americans will go to the polls to choose a president. Tonight, CBS News and National Journal are pleased to bring you a discussion of the issues by the Republican candidates for their party's nomination.\n",
      "\n",
      "Transcript 64:\n",
      "BARTIROMO: And good evening, everyone. I'm Maria Bartiromo.\n",
      "\n",
      "Transcript 65:\n",
      "COOPER: I want to ask the candidates to please take your podiums. While the candidates are taking their podiums, I just want to tell you a little bit more about how tonight's debate is going to work. I'll be the moderator. I'll ask questions on a wide range of issues. And I'll work to make sure that each candidate is getting his or her fair share of questions.\n",
      "\n",
      "Transcript 66:\n",
      "ROSE: I'm Charlie Rose. Welcome to Dartmouth College in Hanover, New Hampshire, this great college established in 1769 in a state that often plays a crucial role in picking presidents. Tonight, it is the site of an important Republican presidential debate brought to you by Bloomberg, the Washington Post, and WBIN Television.\n",
      "\n",
      "Transcript 67:\n",
      "BAIER: Welcome to the Orange County Convention Center in Orlando, Florida, the site of our Republican presidential debate. It is being sponsored by Fox News and Google in conjunction with the Florida Republican Party.\n",
      "\n",
      "Transcript 68:\n",
      "BLITZER: And welcome to the Florida State Fairgrounds here in Tampa, the site of the first ever Tea Party/Republican presidential debate.\n",
      "\n",
      "Transcript 69:\n",
      "WILLIAMS: Tonight, from the Ronald Reagan Presidential Foundation and Library, in a place dedicated to the memory of this Republican icon, in the 100th year after his birth, we will hear from the eight candidates who would like to claim his legacy. They're all here tonight ready to explain and defend their positions on job creation, on spending, debt, and taxes, on America's costly dual wars, and the toxic gridlock that is Washington, D.C.\n",
      "\n",
      "Transcript 70:\n",
      "JOHN KING, CNN ANCHOR: Ted, thank you and welcome to this special edition of the CNN NEWSROOM. As Ted noted that we're live in Colombia, South Carolina today. Five Republican candidates for president are here on this Labor Day, to appear at a forum hosted by the conservative South Carolina Republican Senator Jim DeMint. He is a Tea Party favorite.\n",
      "\n",
      "Transcript 71:\n",
      "BAIER: Welcome to Ames, Iowa, on the campus of Iowa State University and the Republican presidential debate.\n",
      "\n",
      "Transcript 72:\n",
      "JOHN KING: Welcome to Saint Anselm College in Manchester, New Hampshire, and the first Republican presidential debate in this first-in-the-nation primary state. Behind me on this stage, the Republican candidates for president appearing together on the same stage for the first time tonight.\n",
      "\n",
      "Transcript 77:\n",
      "GIBSON: So we're going to begin with opening statements, and we had a flip of the coin, and the brief opening statement first from Senator Obama.\n",
      "\n",
      "Transcript 78:\n",
      "WILLIAMS: A lot has been said since we last gathered in this forum, certainly since -- in the few days since you two last debated. Senator Clinton, in your comments especially, the difference has been striking. And let's begin by taking a look.\n",
      "\n",
      "Transcript 79:\n",
      "MS. BROWN: And we have given the candidates the opportunity to make opening statements. The order was determined by a draw. Senator Obama won the draw and elected to go second, so please go ahead, Senator Clinton.\n",
      "\n",
      "Transcript 80:\n",
      "BLITZER: And this time we're giving them, by the way, 90 seconds right now to say whatever they want in opening statements. So let's begin with Senator Obama.\n",
      "\n",
      "Transcript 81:\n",
      "JOHNS: Senator Clinton, good evening.\n",
      "\n",
      "Transcript 82:\n",
      "WILLIAMS: As we sit here this, as may you may know, is the Reverend Dr. Martin Luther King's birthday. Race was one of the issues we expected to discuss here tonight. Our sponsors expected it of us. No one, however, expected it to be quite so prominent in this race as it has been over the last 10 days.\n",
      "\n",
      "Transcript 83:\n",
      "CHARLES GIBSON, ABC: We are back at the Dana Humanities Center at Saint Anselm College here in Manchester, New Hampshire.\n",
      "\n",
      "Transcript 84:\n",
      "CAROLYN WASHBURN, EDITOR, DES MOINES REGISTER: Hello. I'm Carolyn Washburn, editor of the Des Moines Register. And welcome to day two of our Des Moines Register debates.\n",
      "\n",
      "Transcript 85:\n",
      "MODERATOR: The new national intelligence estimate contains a major change. It says that Iran stopped its nuclear weapons program in the fall of 2003.\n",
      "\n",
      "Transcript 86:\n",
      "MR. BLITZER: So let's begin our questioning tonight, Campbell Brown. Campbell?\n",
      "\n",
      "Transcript 87:\n",
      "MR. WILLIAMS: Senator Obama, we'll begin with you.\n",
      "\n",
      "Transcript 88:\n",
      "RUSSERT: Good evening, and welcome. We have some big issues to talk about tonight, so let's start right now.\n",
      "\n",
      "Transcript 89:\n",
      "MODERATOR: Before beginning, we want to thank all of you for having accepted coming to this presidential forum. In the name of the millions of Hispanics and Latin Americans who are seeing this, thank you very much.\n",
      "\n",
      "Transcript 90:\n",
      "STEPHANOPOULOS: Good morning, everyone, and welcome to this special edition of \"This Week.\" We're back here at Drake University in Iowa for the first Democratic presidential debate in Iowa. It's been sanctioned by the Democratic National Committee. All of our guests here have been invited by the Iowa Democratic Party, and all eight Democratic candidates are here.\n",
      "\n",
      "Transcript 91:\n",
      "These formalities out of the way, the lucky recipient of our first question has been determined by lottery. Senator Dodd, that would be you.\n",
      "\n",
      "Transcript 92:\n",
      "MR. COOPER: Our first question tonight is from Zack Kempf in Provo, Utah.\n",
      "\n",
      "Transcript 93:\n",
      "Panelists:\n",
      "Michel Martin, journalist and NPR host;\n",
      "Ruben Navarrette, Jr., nationally syndicated columnist;\n",
      "Dewayne Wickham, USA Today and Gannett News Service columnist.\n",
      "\n",
      "Transcript 95:\n",
      "Brian Williams: Let's now begin the questioning.\n",
      "\n",
      "Transcript 96:\n",
      "COOPER: That said, let's begin. The first question is actually a question that will go to all of you, but I'll start with Governor Romney.\n",
      "\n",
      "Transcript 97:\n",
      "MR. WILLIAMS: So to our candidates, gentlemen, welcome to you all. Thank you for being here, and let's begin. And Governor Romney, I thought we'd begin with you. The president just today signed off on this economic stimulus plan that would send out 116 million checks to American homes. The plan is somewhat contrary to yours, providing lots of short-term stimulus to individuals. Your plan, as you know, focuses as much on the long term as the short term. Are you disappointed that your recipe for the economy was not embraced by the president? And as a follow-up, will you now embrace his plan?\n",
      "\n",
      "Transcript 98:\n",
      "HUME: And now let's meet the candidates.\n",
      "\n",
      "Transcript 99:\n",
      "WALLACE: One of the five men sitting at this table tonight will be the Republican presidential nominee. We hope the discussion over the next 90 minutes will help you choose which one it should be.\n",
      "\n",
      "Transcript 100:\n",
      "DIANE SAWYER: Well, it is time for the great debate to begin. Let's go to Charlie Gibson at St. Anselm College in Manchester, New Hampshire.\n",
      "\n",
      "Transcript 101:\n",
      "WASHBURN: Hello, I'm Carolyn Washburn, editor of the Des Moines Register, and welcome to day one of the Des Moines Register debates.\n",
      "\n",
      "Transcript 103:\n",
      "OTHERS:\n",
      "Governor Charlie Crist (FL);\n",
      "Jim Greer, Chairman, Republican Party of Florida\n",
      "\n",
      "Transcript 104:\n",
      "OTHERS:\n",
      "Governor Charlie Crist (FL);\n",
      "Jim Greer, Chairman, Republican Party of Florida\n",
      "\n",
      "Transcript 105:\n",
      "MR. MATTHEWS: And good evening from me. I'm Chris Matthews of MSNBC. Joining Marie (sic) and me in questioning the presidential hopefuls this evening will be John Harwood, chief Washington correspondent for CNBC, and Gerry Seib of the Wall Street Journal.\n",
      "\n",
      "Transcript 106:\n",
      "PANELISTS:\n",
      "Cynthia Tucker (Atlanta Journal Constitution);\n",
      "Ray Suarez (PBS); and\n",
      "Juan Williams (National Public Radio)\n",
      "\n",
      "Transcript 107:\n",
      "PANELISTS:\n",
      "Carl Cameron;\n",
      "Wendell Goler; and\n",
      "Chris Wallace\n",
      "\n",
      "Transcript 108:\n",
      "STEPHANOPOULOS: Our goal today is to get a real debate going among all of you, to find out where you stand on the issues, but also to figure out the real differences that separate you. And in that spirit, here in Iowa you've already been going at each other, somewhat beneath the radar screen, on the issue of abortion.\n",
      "\n",
      "Transcript 111:\n",
      "Moderator: In the NBC-Wall Street Journal poll, just 22 percent believe this country is on the right track.\n",
      "\n",
      "Transcript 122:\n",
      "PANELISTS:\n",
      "Ron Brownstein, Los Angeles Times; and\n",
      "Jeff Greenfield, CNN\n",
      "\n",
      "Transcript 123:\n",
      "Shaw: Good evening and welcome to the eight joint appearance between Vice President Al Gore and former New Jersey Senator Bill Bradley, in which they will have responded to questions in their quest for the Democratic Party's presidential nomination.\n",
      "\n",
      "Transcript 124:\n",
      "Woodruff: Thank you for joining us as the Democratic presidential contenders hold their final debate before the New Hampshire primary next Tuesday. If you were with us earlier, you know that the Republican candidates finished their debate in this very studio just half an hour ago.\n",
      "\n",
      "Transcript 125:\n",
      "O'Brien: And we welcome you to North High School in Des Moines, Iowa. As we celebrate the birthday of the Reverend Dr. Martin Luther King, Jr., we also look ahead to the Iowa caucus, just one week from today. This evening we are joined by two men who are seeking the nomination of the Democratic Party for president of the United States. They are Vice President Al Gore and former New Jersey Senator Bill Bradley.\n",
      "\n",
      "Transcript 126:\n",
      "Ryerson: Welcome. We're very glad you're with us today for what has become an important Iowa campaign tradition: the \"Des Moines Register's\" pre-caucus presidential candidate debates.\n",
      "\n",
      "Transcript 127:\n",
      "JENNINGS: Good evening everybody at home and here in New Hampshire. Thank you very much for joining us. This is the first debate of 2000, and tonight we hope to bring the Democratic candidates into even sharper focus for eligible voters. The format will be evident to you as the debate unfolds. Mr. Gore and Mr. Bradley know the format in that their campaigns helped to fashion it.\n",
      "\n",
      "Transcript 128:\n",
      "RUSSERT: MR. Vice President, Senator Bradley, welcome both.\n",
      "\n",
      "Transcript 129:\n",
      "Koppel: The ground rules are either so tightly drawn that you've eliminated any hope of one candidate laying a glove on another, or there are time limits which guarantee that every answer has been prechewed to fit into a 30-, 60-or 90-second capsule.\n",
      "\n",
      "Transcript 130:\n",
      "Brown: Good evening and thank you for joining us as we uphold a New Hampshire tradition: the town meeting — a direct exchange between voters and candidates a little more than three months before the presidential primary here.\n",
      "\n",
      "Transcript 131:\n",
      "Woodruff: Good evening, and welcome to the headquarters of the Los Angeles Times. We are here in the Harry Chandler Auditorium. This is the 12th time the Republican presidential candidates have met, and the last time they will answer questions before they compete in their 13 crucial primaries across the country next Tuesday.\n",
      "\n",
      "Transcript 132:\n",
      "King: Tonight, a crucial debate for the three remaining Republican presidential candidates. Joining me in South Carolina, site of Saturday's GOP primary, Senator John McCain of Arizona; former Reagan administration official, Ambassador Alan Keyes; and Texas Governor George W. Bush. They're next on a special edition of \"LARRY KING LIVE: Election 2000.\" This is the South Carolina Republican debate.\n",
      "\n",
      "Transcript 133:\n",
      "Brown: Good evening and thank you for joining us for this final round of presidential debates before Tuesday's primary here in New Hampshire. This evening we offer voters in this state and across the nation an unusual opportunity to see Republicans square off and then the Democrats on the same night in back-to-back debates.\n",
      "\n",
      "Transcript 134:\n",
      "Ryerson: Thanks for being with us once again for our second presidential debate. Last week we had the Democrats seeking their party's nomination for the presidency. And this week we have the Republican candidates, who are seeking the support of Iowans in the January 24 caucuses.\n",
      "\n",
      "Transcript 135:\n",
      "Russert: Good evening and welcome. First, let's meet the candidates: Gary Bauer, John McCain, George W. Bush, Steve Forbes, Alan Keyes and Orrin Hatch. Gentlemen, welcome all. [applause]\n",
      "\n",
      "Transcript 136:\n",
      "Williams: Good evening and welcome, on behalf of NBC News, MSNBC, and WIS TV in Columbia, South Carolina — a big night in a big state, considered politically the gateway to the American South for its presidential primary February 19th.\n",
      "\n",
      "Transcript 137:\n",
      "RUSSERT: Good evening. We welcome our six Republican candidates. Time is precious. Let's start the questioning. John DiStaso from the Union-Leader.\n",
      "\n",
      "Transcript 138:\n",
      "BROKAW: Good evening from Des Moines. In just six weeks in the balmy closing days of January, out here in the nation's heartland, the good people of Iowa, hundreds of thousands of them, will gather in caucuses across this state — Democrats and Republicans alike. They will gather in city halls and in churches and in school buildings, also in kitchens. They'll discuss politics and they will decide who they'd like to have be their next president of the United States.\n",
      "\n",
      "Transcript 140:\n",
      "Brown: Good evening. Here in New Hampshire we have the privilege of casting the first votes for president in the nation. It also affords us the opportunity for extensive interaction with the presidential candidates every four years.\n",
      "\n",
      "Transcript 141:\n",
      "NOVAK: Good evening. Welcome to Grady Gammage Memorial Auditorium on the campus of Arizona State University. I'm Robert Novak of CNN and the Chicago Sun-Times.\n",
      "\n",
      "Transcript 142:\n",
      "Griffith: Good evening, and thank you all very much for joining us here in New Hampshire tonight. As you all well know, here in New Hampshire we get a great opportunity to see the candidates up close and ask them very important questions face to face.\n",
      "\n"
     ]
    }
   ],
   "source": [
    "for i, transcript in enumerate(app_transcripts):\n",
    "    if i not in early:\n",
    "        print('Transcript {}:'.format(i))\n",
    "        print(transcript[2]+ '\\n')"
   ]
  },
  {
   "cell_type": "markdown",
   "metadata": {},
   "source": [
    "The following transcripts start after index 2:"
   ]
  },
  {
   "cell_type": "code",
   "execution_count": 13,
   "metadata": {},
   "outputs": [],
   "source": [
    "starts_at_three = [20, 21, 32, 33, 43, 93, 103, 104, 106, 107, 122]"
   ]
  },
  {
   "cell_type": "code",
   "execution_count": 14,
   "metadata": {
    "scrolled": true
   },
   "outputs": [
    {
     "name": "stdout",
     "output_type": "stream",
     "text": [
      "Transcript 20:\n",
      "BLITZER: Secretary Clinton and Senator Sanders, you can now move to your lecterns while I explain a few ground rules. As moderator, I'll guide the discussion, asking questions and follow-ups. You'll also get questions from Dana Bash and Errol Louis. You'll each have one minute and 15 seconds to answer questions, 30 seconds for follow- ups. Timing lights will signal when your time is up. Both candidates have agreed to these rules now. Opening statements, you'll each have two minutes.\n",
      "\n",
      "Transcript 21:\n",
      "SALINAS [through translator]: This will be the first and only debate the candidates will do, taking into account the millions of [inaudible] voters [inaudible] Univision News, together with the Washington Post.\n",
      "\n",
      "Transcript 32:\n",
      "BLITZER: We're live here at the University of Houston for the 10th Republican presidential debate. [applause]\n",
      "\n",
      "Transcript 33:\n",
      "DICKERSON: Good evening. I'm John Dickerson. This holiday weekend, as America honors our first president, we're about to hear from six men who hope to be the 45th. The candidates for the Republican nomination are here in South Carolina for their ninth debate, one week before this state holds the first-in-the-South primary.\n",
      "\n",
      "Transcript 43:\n",
      "REGAN: In Tuesday's State of the Union Address, the president said that our economy is strong. He cited the significant decline we've seen in unemployment rate and the millions of jobs that have been created.\n",
      "\n",
      "Transcript 93:\n",
      "MR. SMILEY: To ask the first question tonight, I'm pleased to be joined by Crecilla Cohen Scott from Bowie, Maryland. She is a winner of our online contest in which we asked the listeners of the Tom Joyner Morning Show to submit questions to the website, BlackAmerica.com. This question will go first to Senator Clinton, and we'll work our way, of course, down the line. Please welcome, from Bowie, Maryland, Crecilla Cohen Scott for tonight's first question.\n",
      "\n",
      "Transcript 103:\n",
      "Florida Republican Party Chairman Jim Greer: Welcome to tonight's presidential debate, co-sponsored by the Republican Party of Florida. It is my pleasure tonight to introduce the man who has brought new ideas to state government, and whose leadership has been embraced by the voters of Florida, and who has become the nation's most popular governor.\n",
      "\n",
      "Transcript 104:\n",
      "HUME: Welcome to Orlando in the heart of central Florida. Tonight we're insight the Shingle Creek Resort, where we've turned a huge convention hall into an intimate debate stage for eight candidates and an audience of more than 3,000 people who, you'll soon notice, are raring for a lively debate.\n",
      "\n",
      "Transcript 106:\n",
      "MR. SMILEY: The podium order was determined by a random drawing that included all 10 announced GOP candidates.\n",
      "\n",
      "Transcript 107:\n",
      "MR. HUME: Let's get started. We will cover a number of issues tonight, but first a political question about the man who isn't here and will not even announce his candidacy for president until tomorrow. I'm talking, of course, about Senator Fred Thompson.\n",
      "\n",
      "Transcript 122:\n",
      "Shaw: From the historic \"Los Angeles Times\" headquarters building and the Harry Chandler Auditorium, good evening and welcome.\n",
      "\n"
     ]
    }
   ],
   "source": [
    "for i, transcript in enumerate(app_transcripts):\n",
    "    if i in starts_at_three:\n",
    "        print('Transcript {}:'.format(i))\n",
    "        print(transcript[3]+ '\\n')"
   ]
  },
  {
   "cell_type": "markdown",
   "metadata": {},
   "source": [
    "Great, these are all set now.  I can no slice the transcripts to begin at the right point.  The below start at indexes other than 2, with the remainder starting at 2:"
   ]
  },
  {
   "cell_type": "code",
   "execution_count": 15,
   "metadata": {},
   "outputs": [],
   "source": [
    "starts_at_zero = [49, 50, 51, 52, 94, 112, 113, 114, 116, 117, 118, 119, 120, 121, 143, 144, 145, 146, 147, 148, 149, 150, 151, 152, 153, 154, 155, 156, 157, 158, 159, 160, 161, 162, 163, 164, 165, 166, 167, 168]\n",
    "starts_at_one = [73, 74, 75, 76, 102, 109, 110, 115, 139]\n",
    "starts_at_three = [20, 21, 32, 33, 43, 93, 103, 104, 106, 107, 122]"
   ]
  },
  {
   "cell_type": "markdown",
   "metadata": {},
   "source": [
    "Creating a new list, with the correct starting points:"
   ]
  },
  {
   "cell_type": "code",
   "execution_count": 16,
   "metadata": {},
   "outputs": [],
   "source": [
    "new_app_transcripts = []\n",
    "for i, transcript in enumerate(app_transcripts):\n",
    "    if i in starts_at_zero:\n",
    "        new_app_transcripts.append(transcript)\n",
    "    elif i in starts_at_one:\n",
    "        new_app_transcripts.append(transcript[1:])\n",
    "    elif i in starts_at_three:\n",
    "        new_app_transcripts.append(transcript[3:])\n",
    "    else:\n",
    "        new_app_transcripts.append(transcript[2:])"
   ]
  },
  {
   "cell_type": "markdown",
   "metadata": {},
   "source": [
    "The list new_app_transcripts now houses the right text for each."
   ]
  },
  {
   "cell_type": "code",
   "execution_count": 17,
   "metadata": {},
   "outputs": [
    {
     "data": {
      "text/plain": [
       "169"
      ]
     },
     "execution_count": 17,
     "metadata": {},
     "output_type": "execute_result"
    }
   ],
   "source": [
    "len(new_app_transcripts)"
   ]
  },
  {
   "cell_type": "markdown",
   "metadata": {},
   "source": [
    "### Adding Date / Debate Name:"
   ]
  },
  {
   "cell_type": "markdown",
   "metadata": {},
   "source": [
    "In order to add these, I need to scrape the debate dates from the American Presidency Project Page, along with the debate name.  "
   ]
  },
  {
   "cell_type": "code",
   "execution_count": 18,
   "metadata": {},
   "outputs": [],
   "source": [
    "from bs4 import BeautifulSoup\n",
    "import requests\n",
    "import re\n",
    "from IPython.core.display import display, HTML "
   ]
  },
  {
   "cell_type": "code",
   "execution_count": 19,
   "metadata": {},
   "outputs": [],
   "source": [
    "app_link = 'https://www.presidency.ucsb.edu/documents/presidential-documents-archive-guidebook/presidential-campaigns-debates-and-endorsements-0'"
   ]
  },
  {
   "cell_type": "markdown",
   "metadata": {},
   "source": [
    "Pulling Dates:"
   ]
  },
  {
   "cell_type": "code",
   "execution_count": 122,
   "metadata": {},
   "outputs": [],
   "source": [
    "response = requests.get(app_link)\n",
    "page = response.text\n",
    "app_soup_object = BeautifulSoup(page, 'lxml')"
   ]
  },
  {
   "cell_type": "code",
   "execution_count": 123,
   "metadata": {},
   "outputs": [],
   "source": [
    "dates = app_soup_object.find_all('td', class_='xl71')\n",
    "date_list = [date.get_text() for date in dates]"
   ]
  },
  {
   "cell_type": "code",
   "execution_count": 124,
   "metadata": {},
   "outputs": [
    {
     "data": {
      "text/plain": [
       "209"
      ]
     },
     "execution_count": 124,
     "metadata": {},
     "output_type": "execute_result"
    }
   ],
   "source": [
    "len(date_list)"
   ]
  },
  {
   "cell_type": "code",
   "execution_count": 125,
   "metadata": {},
   "outputs": [
    {
     "data": {
      "text/plain": [
       "['October 22, 2020',\n",
       " 'October 15, 2020',\n",
       " 'September 29, 2020',\n",
       " 'October 7, 2020',\n",
       " 'March 15, 2020',\n",
       " 'February 25, 2020',\n",
       " 'February 19, 2020',\n",
       " 'February 7, 2020',\n",
       " 'January 14, 2020',\n",
       " 'December 19, 2020',\n",
       " 'November 20, 2019',\n",
       " 'October 15, 2019',\n",
       " 'September 12, 2019',\n",
       " 'July 31, 2019',\n",
       " 'July 30, 2019',\n",
       " 'June 27, 2019',\n",
       " 'June 26, 2019',\n",
       " 'October 19, 2016',\n",
       " 'October 9, 2016',\n",
       " 'Presidential Debate at Washington University in St. Louis, Missouri',\n",
       " 'September 26, 2016',\n",
       " 'October 4, 2016',\n",
       " 'Vice Presidential Debate at Longwood University in Farmville, Virginia',\n",
       " 'April 14, 2016',\n",
       " 'March 9, 2016',\n",
       " 'March 6, 2016',\n",
       " 'February 11, 2016',\n",
       " 'February 4, 2016',\n",
       " 'January 25, 2016',\n",
       " 'January 17, 2016',\n",
       " 'December 19, 2015',\n",
       " 'November 14, 2015',\n",
       " 'October 13, 2015',\n",
       " 'March 10, 2016',\n",
       " 'March 3, 2016',\n",
       " 'February 25, 2016',\n",
       " 'February 13, 2016',\n",
       " 'February 6, 2016',\n",
       " 'January 28, 2016',\n",
       " 'January 14, 2016',\n",
       " 'December 15, 2015',\n",
       " 'November 10, 2015',\n",
       " 'October 28, 2015',\n",
       " 'September 16, 2015',\n",
       " 'August 6, 2015',\n",
       " 'January 28, 2016',\n",
       " 'January 14, 2016',\n",
       " 'December 15, 2015',\n",
       " 'November 10, 2015',\n",
       " 'October 28, 2015',\n",
       " 'September 16, 2015',\n",
       " 'August 6, 2015',\n",
       " 'October 22, 2012',\n",
       " 'October 16, 2012',\n",
       " 'Presidential Debate at Hofstra University in Hempstead, New York',\n",
       " 'October 3, 2012',\n",
       " 'October 11, 2012',\n",
       " 'Vice Presidential Debate at Centre College in Danville, Kentucky',\n",
       " 'February 22, 2012',\n",
       " 'January 26, 2012',\n",
       " 'January 23, 2012',\n",
       " 'January 19, 2012',\n",
       " 'January 16, 2012',\n",
       " 'January 8, 2012',\n",
       " 'January 7, 2012',\n",
       " 'December 15, 2011',\n",
       " 'December 10, 2011',\n",
       " 'November 22, 2011',\n",
       " 'November 12, 2011',\n",
       " 'November 9, 2011',\n",
       " 'October 18, 2011',\n",
       " 'October 11, 2011',\n",
       " 'September 22, 2011',\n",
       " 'September 12, 2011',\n",
       " 'September 7, 2011',\n",
       " 'September 5, 2011',\n",
       " 'August 11, 2011',\n",
       " 'June 13, 2011',\n",
       " 'October 15, 2008',\n",
       " 'October 7, 2008',\n",
       " 'Presidential Debate in Nashville, Tennessee',\n",
       " 'September 26, 2008',\n",
       " 'October 2, 2008',\n",
       " 'Vice Presidential Debate in St. Louis, Missouri',\n",
       " 'April 16, 2008',\n",
       " 'February 26, 2008',\n",
       " 'February 21, 2008',\n",
       " 'January 31, 2008',\n",
       " 'January 21, 2008',\n",
       " 'January 15, 2008',\n",
       " 'January 5, 2008',\n",
       " 'December 13, 2007',\n",
       " 'December 4, 2007',\n",
       " 'November 15, 2007',\n",
       " 'October 30, 2007',\n",
       " 'September 26, 2007',\n",
       " 'September 9, 2007',\n",
       " 'August 19, 2007',\n",
       " 'August 7, 2007',\n",
       " 'July 23, 2007',\n",
       " 'June 28, 2007',\n",
       " 'June 3, 2007',\n",
       " 'April 26, 2007',\n",
       " 'January 30, 2008',\n",
       " 'January 24, 2008',\n",
       " 'January 10, 2008',\n",
       " 'January 6, 2008',\n",
       " 'January 5, 2008',\n",
       " 'December 12, 2007',\n",
       " 'December 9, 2007',\n",
       " 'November 28, 2007',\n",
       " 'October 21, 2007',\n",
       " 'October 9, 2007',\n",
       " 'September 27, 2007',\n",
       " 'September 5, 2007',\n",
       " 'August 5, 2007',\n",
       " 'June 5, 2007',\n",
       " 'May 15, 2007',\n",
       " 'May 3, 2007',\n",
       " 'October 13, 2004',\n",
       " 'October 8, 2004',\n",
       " 'Presidential Debate in St. Louis, Missouri',\n",
       " 'September 30, 2004',\n",
       " 'October 5, 2004',\n",
       " 'Vice Presidential Debate in Cleveland',\n",
       " 'January 29, 2004',\n",
       " 'January 22, 2004',\n",
       " 'Democratic Candidates Debate in Manchester, New Hampshire',\n",
       " 'October 17, 2000',\n",
       " 'October 11, 2000',\n",
       " 'Presidential Debate in Winston-Salem, North Carolina',\n",
       " 'October 3, 2000',\n",
       " 'October 5, 2000',\n",
       " 'Vice Presidential Debate in Danville, Kentucky',\n",
       " 'March 1, 2000',\n",
       " 'February 21, 2000',\n",
       " 'Democratic Candidates Debate in New York City',\n",
       " 'January 26, 2000',\n",
       " 'January 17, 2000',\n",
       " 'Democratic Candidates Black-Brown Forum in Des Moines, Iowa',\n",
       " 'January 8, 2000',\n",
       " 'January 5, 2000',\n",
       " 'Democratic Candidates Debate in Durham, New Hampshire',\n",
       " 'December 19, 1999',\n",
       " 'Democratic Candidates Debate on NBC News \"Meet the Press\"',\n",
       " 'December 17, 1999',\n",
       " 'Democratic Candidates Town Hall in Nashua, New Hampshire',\n",
       " 'October 27, 1999',\n",
       " 'Democratic Candidates Town Hall in Hanover, New Hampshire',\n",
       " 'March 2, 2000',\n",
       " 'February 15, 2000',\n",
       " 'Republican Candidates Debate in Columbia, South Carolina',\n",
       " 'January 26, 2000',\n",
       " 'January 15, 2000',\n",
       " 'Republican Candidates Debate in Johnston, Iowa',\n",
       " 'January 10, 2000',\n",
       " 'January 7, 2000',\n",
       " 'Republican Candidates Debate in Columbia, South Carolina',\n",
       " 'January 6, 2000',\n",
       " 'December 13, 1999',\n",
       " 'December 6, 1999',\n",
       " 'Republican Candidates Debate in Phoenix, Arizona',\n",
       " 'December 2, 1999',\n",
       " 'November 21, 1999',\n",
       " 'October 28, 1999',\n",
       " 'Republican Candidates Town Hall in Hanover, New Hampshire',\n",
       " 'October 22, 1999',\n",
       " '1996',\n",
       " 'October 16, 1996',\n",
       " 'October 6, 1996',\n",
       " 'Presidential Debate in Hartford',\n",
       " 'October 9, 1996',\n",
       " '1992',\n",
       " 'October 19, 1992',\n",
       " 'October 15, 1992',\n",
       " 'Presidential Debate in Richmond, Virginia',\n",
       " 'October 11, 1992',\n",
       " 'October 13, 1992',\n",
       " 'Vice Presidential Debate in Atlanta',\n",
       " '1988',\n",
       " 'October 13, 1988',\n",
       " 'September 25, 1988',\n",
       " 'Presidential Debate in Winston-Salem, North Carolina',\n",
       " 'October 5, 1988',\n",
       " '1984',\n",
       " 'October 21, 1984',\n",
       " 'October 7, 1984',\n",
       " 'Presidential Debate in Louisville, Kentucky',\n",
       " 'October 11, 1984',\n",
       " '1980',\n",
       " 'October 28, 1980',\n",
       " 'September 21, 1980',\n",
       " 'Presidential Debate in Baltimore (Reagan-Anderson)',\n",
       " '1976',\n",
       " 'October 22, 1976',\n",
       " 'October 6, 1976',\n",
       " 'Presidential Campaign Debate in San Francisco ',\n",
       " 'September 23, 1976',\n",
       " 'October 15, 1976',\n",
       " 'Vice Presidential Debate in Houston',\n",
       " '1960',\n",
       " 'October 21, 1960',\n",
       " 'October 13, 1960',\n",
       " 'Presidential Debate Broadcast from New York and Los Angeles',\n",
       " 'October 7, 1960',\n",
       " 'September 26, 1960',\n",
       " 'Presidential Debate in Chicago',\n",
       " '\\xa0',\n",
       " '(1) The second presidential debate, a \"town hall\" style format, scheduled for October 15, 2020 was cancelled on October 9, 2020.\\xa0 The Commission on Presidential Debates modified the format of this debate stating that it would be held \"virtually\" because of concerns about public health due to President Trump\\'s COVID-19 diagnosis.\\xa0 The President then chose not to participate in this modified format.\\xa0 Both Donald Trump and Joe Biden held \"town-hall\" events in lieu of the debate.\\xa0 These event transcripts are below:President Trump: Remarks in a Town Hall Meeting with Savannah Guthrie of NBC News at the Perez Art Museum in Miami, FloridaFormer Vice President Biden: Remarks in a Town Hall Meeting with George Stephanopoulos of ABC News at the National Constitution Center in Philadelphia, Pennsylvania']"
      ]
     },
     "execution_count": 125,
     "metadata": {},
     "output_type": "execute_result"
    }
   ],
   "source": [
    "date_list"
   ]
  },
  {
   "cell_type": "markdown",
   "metadata": {},
   "source": [
    "Need to remove the non-dates."
   ]
  },
  {
   "cell_type": "code",
   "execution_count": 129,
   "metadata": {},
   "outputs": [],
   "source": [
    "for date in date_list:\n",
    "    if \"\\xa0\" in date or \"Presidential\" in date or \"Republican\" in date or \"Democratic\" in date:\n",
    "        date_list.remove(date) #Removes the ones with text\n",
    "    elif len(date) < 5:\n",
    "        date_list.remove(date) #Removes just years"
   ]
  },
  {
   "cell_type": "code",
   "execution_count": 127,
   "metadata": {},
   "outputs": [],
   "source": [
    "#Adding Biden/Trump townhalls from 2020\n",
    "date_list.append('October 15, 2020')\n",
    "date_list.append('October 15, 2020')"
   ]
  },
  {
   "cell_type": "code",
   "execution_count": 130,
   "metadata": {},
   "outputs": [
    {
     "data": {
      "text/plain": [
       "170"
      ]
     },
     "execution_count": 130,
     "metadata": {},
     "output_type": "execute_result"
    }
   ],
   "source": [
    "len(date_list)"
   ]
  },
  {
   "cell_type": "markdown",
   "metadata": {},
   "source": [
    "Length is still one longer than the transcript list - which is it?"
   ]
  },
  {
   "cell_type": "code",
   "execution_count": 131,
   "metadata": {
    "scrolled": true
   },
   "outputs": [
    {
     "data": {
      "text/plain": [
       "['October 22, 2020',\n",
       " 'October 15, 2020',\n",
       " 'September 29, 2020',\n",
       " 'October 7, 2020',\n",
       " 'March 15, 2020',\n",
       " 'February 25, 2020',\n",
       " 'February 19, 2020',\n",
       " 'February 7, 2020',\n",
       " 'January 14, 2020',\n",
       " 'December 19, 2020',\n",
       " 'November 20, 2019',\n",
       " 'October 15, 2019',\n",
       " 'September 12, 2019',\n",
       " 'July 31, 2019',\n",
       " 'July 30, 2019',\n",
       " 'June 27, 2019',\n",
       " 'June 26, 2019',\n",
       " 'October 19, 2016',\n",
       " 'October 9, 2016',\n",
       " 'September 26, 2016',\n",
       " 'October 4, 2016',\n",
       " 'April 14, 2016',\n",
       " 'March 9, 2016',\n",
       " 'March 6, 2016',\n",
       " 'February 11, 2016',\n",
       " 'February 4, 2016',\n",
       " 'January 25, 2016',\n",
       " 'January 17, 2016',\n",
       " 'December 19, 2015',\n",
       " 'November 14, 2015',\n",
       " 'October 13, 2015',\n",
       " 'March 10, 2016',\n",
       " 'March 3, 2016',\n",
       " 'February 25, 2016',\n",
       " 'February 13, 2016',\n",
       " 'February 6, 2016',\n",
       " 'January 28, 2016',\n",
       " 'January 14, 2016',\n",
       " 'December 15, 2015',\n",
       " 'November 10, 2015',\n",
       " 'October 28, 2015',\n",
       " 'September 16, 2015',\n",
       " 'August 6, 2015',\n",
       " 'January 28, 2016',\n",
       " 'January 14, 2016',\n",
       " 'December 15, 2015',\n",
       " 'November 10, 2015',\n",
       " 'October 28, 2015',\n",
       " 'September 16, 2015',\n",
       " 'August 6, 2015',\n",
       " 'October 22, 2012',\n",
       " 'October 16, 2012',\n",
       " 'October 3, 2012',\n",
       " 'October 11, 2012',\n",
       " 'February 22, 2012',\n",
       " 'January 26, 2012',\n",
       " 'January 23, 2012',\n",
       " 'January 19, 2012',\n",
       " 'January 16, 2012',\n",
       " 'January 8, 2012',\n",
       " 'January 7, 2012',\n",
       " 'December 15, 2011',\n",
       " 'December 10, 2011',\n",
       " 'November 22, 2011',\n",
       " 'November 12, 2011',\n",
       " 'November 9, 2011',\n",
       " 'October 18, 2011',\n",
       " 'October 11, 2011',\n",
       " 'September 22, 2011',\n",
       " 'September 12, 2011',\n",
       " 'September 7, 2011',\n",
       " 'September 5, 2011',\n",
       " 'August 11, 2011',\n",
       " 'June 13, 2011',\n",
       " 'October 15, 2008',\n",
       " 'October 7, 2008',\n",
       " 'September 26, 2008',\n",
       " 'October 2, 2008',\n",
       " 'April 16, 2008',\n",
       " 'February 26, 2008',\n",
       " 'February 21, 2008',\n",
       " 'January 31, 2008',\n",
       " 'January 21, 2008',\n",
       " 'January 15, 2008',\n",
       " 'January 5, 2008',\n",
       " 'December 13, 2007',\n",
       " 'December 4, 2007',\n",
       " 'November 15, 2007',\n",
       " 'October 30, 2007',\n",
       " 'September 26, 2007',\n",
       " 'September 9, 2007',\n",
       " 'August 19, 2007',\n",
       " 'August 7, 2007',\n",
       " 'July 23, 2007',\n",
       " 'June 28, 2007',\n",
       " 'June 3, 2007',\n",
       " 'April 26, 2007',\n",
       " 'January 30, 2008',\n",
       " 'January 24, 2008',\n",
       " 'January 10, 2008',\n",
       " 'January 6, 2008',\n",
       " 'January 5, 2008',\n",
       " 'December 12, 2007',\n",
       " 'December 9, 2007',\n",
       " 'November 28, 2007',\n",
       " 'October 21, 2007',\n",
       " 'October 9, 2007',\n",
       " 'September 27, 2007',\n",
       " 'September 5, 2007',\n",
       " 'August 5, 2007',\n",
       " 'June 5, 2007',\n",
       " 'May 15, 2007',\n",
       " 'May 3, 2007',\n",
       " 'October 13, 2004',\n",
       " 'October 8, 2004',\n",
       " 'September 30, 2004',\n",
       " 'October 5, 2004',\n",
       " 'January 29, 2004',\n",
       " 'January 22, 2004',\n",
       " 'October 17, 2000',\n",
       " 'October 11, 2000',\n",
       " 'October 3, 2000',\n",
       " 'October 5, 2000',\n",
       " 'March 1, 2000',\n",
       " 'February 21, 2000',\n",
       " 'January 26, 2000',\n",
       " 'January 17, 2000',\n",
       " 'January 8, 2000',\n",
       " 'January 5, 2000',\n",
       " 'December 19, 1999',\n",
       " 'December 17, 1999',\n",
       " 'October 27, 1999',\n",
       " 'March 2, 2000',\n",
       " 'February 15, 2000',\n",
       " 'January 26, 2000',\n",
       " 'January 15, 2000',\n",
       " 'January 10, 2000',\n",
       " 'January 7, 2000',\n",
       " 'January 6, 2000',\n",
       " 'December 13, 1999',\n",
       " 'December 6, 1999',\n",
       " 'December 2, 1999',\n",
       " 'November 21, 1999',\n",
       " 'October 28, 1999',\n",
       " 'October 22, 1999',\n",
       " 'October 16, 1996',\n",
       " 'October 6, 1996',\n",
       " 'October 9, 1996',\n",
       " 'October 19, 1992',\n",
       " 'October 15, 1992',\n",
       " 'October 11, 1992',\n",
       " 'October 13, 1992',\n",
       " 'October 13, 1988',\n",
       " 'September 25, 1988',\n",
       " 'October 5, 1988',\n",
       " 'October 21, 1984',\n",
       " 'October 7, 1984',\n",
       " 'October 11, 1984',\n",
       " 'October 28, 1980',\n",
       " 'September 21, 1980',\n",
       " 'October 22, 1976',\n",
       " 'October 6, 1976',\n",
       " 'September 23, 1976',\n",
       " 'October 15, 1976',\n",
       " 'October 21, 1960',\n",
       " 'October 13, 1960',\n",
       " 'October 7, 1960',\n",
       " 'September 26, 1960',\n",
       " 'October 15, 2020',\n",
       " 'October 15, 2020']"
      ]
     },
     "execution_count": 131,
     "metadata": {},
     "output_type": "execute_result"
    }
   ],
   "source": [
    "date_list"
   ]
  },
  {
   "cell_type": "markdown",
   "metadata": {},
   "source": [
    "It is October 15, 2020 - the first one (index 1).  THis was the cancelled debate between Trump and Biden.  Solo town-hall transcripts are the last two indices in the list."
   ]
  },
  {
   "cell_type": "code",
   "execution_count": 132,
   "metadata": {},
   "outputs": [
    {
     "data": {
      "text/plain": [
       "'October 15, 2020'"
      ]
     },
     "execution_count": 132,
     "metadata": {},
     "output_type": "execute_result"
    }
   ],
   "source": [
    "date_list.pop(1)"
   ]
  },
  {
   "cell_type": "code",
   "execution_count": 133,
   "metadata": {},
   "outputs": [
    {
     "data": {
      "text/plain": [
       "169"
      ]
     },
     "execution_count": 133,
     "metadata": {},
     "output_type": "execute_result"
    }
   ],
   "source": [
    "len(date_list)"
   ]
  },
  {
   "cell_type": "markdown",
   "metadata": {},
   "source": [
    "Dates are all set."
   ]
  },
  {
   "cell_type": "markdown",
   "metadata": {},
   "source": [
    "Adding the Debate Names (should be 169)"
   ]
  },
  {
   "cell_type": "code",
   "execution_count": 30,
   "metadata": {},
   "outputs": [],
   "source": [
    "names = app_soup_object.find('div', class_='col-sm-12').find_all('a')\n",
    "name_list = [name.get_text() for name in names]"
   ]
  },
  {
   "cell_type": "code",
   "execution_count": 31,
   "metadata": {},
   "outputs": [
    {
     "data": {
      "text/plain": [
       "['Presidential Debate at Belmont University in Nashville, Tennessee',\n",
       " 'Presidential Debate in Cleveland, Ohio',\n",
       " 'Vice Presidential Debate the University of Utah in Salt Lake City',\n",
       " 'Democratic Candidates Debate in Washington, DC',\n",
       " 'Democratic Candidates Debate in Charleston, South Carolina',\n",
       " 'Democratic Candidates Debate in Las Vegas, Nevada',\n",
       " 'Democratic Candidates Debate in Manchester, New Hampshire',\n",
       " 'Democratic Candidates Debate in Des Moines, Iowa',\n",
       " 'Democratic Candidates Debate in Los Angeles, California',\n",
       " 'Democratic Candidates Debate in Atlanta, Georgia',\n",
       " 'Democratic Candidates Debate in Westerville, Ohio',\n",
       " 'Democratic Candidates Debate in Houston, Texas',\n",
       " 'Democratic Candidates Debate in Detroit, Michigan: Group 2',\n",
       " 'Democratic Candidates Debate in Detroit, Michigan: Group 1',\n",
       " 'Democratic Candidates Debate in Miami, Florida: Group 2',\n",
       " 'Democratic Candidates Debate in Miami, Florida: Group 1',\n",
       " 'Presidential Debate at the University of Nevada in Las Vegas',\n",
       " 'Presidential Debate at Washington University in St. Louis, Missouri',\n",
       " 'Presidential Debate at Hofstra University in Hempstead, New York',\n",
       " 'Vice Presidential Debate at Longwood University in Farmville, Virginia',\n",
       " 'Democratic Candidates Debate in Brooklyn, New York',\n",
       " 'Democratic Candidates Debate in Miami, Florida',\n",
       " 'Democratic Candidates Debate in Flint, Michigan',\n",
       " 'Democratic Candidates Debate in Milwaukee, Wisconsin',\n",
       " 'Democratic Candidates Debate in Durham, New Hampshire',\n",
       " 'Democratic Candidates Forum in Des Moines, Iowa',\n",
       " 'Democratic Candidates Debate in Charleston, South Carolina',\n",
       " 'Democratic Candidates Debate in Manchester, New Hampshire',\n",
       " 'Democratic Candidates Debate in Des Moines, Iowa',\n",
       " 'Democratic Candidates Debate in Las Vegas, Nevada',\n",
       " 'Republican Candidates Debate in Miami, Florida',\n",
       " 'Republican Candidates Debate in Detroit, Michigan',\n",
       " 'Republican Candidates Debate in Houston, Texas',\n",
       " 'Republican Candidates Debate in Greenville, South Carolina',\n",
       " 'Republican Candidates Debate in Manchester, New Hampshire',\n",
       " 'Republican Candidates Debate in Des Monies, Iowa',\n",
       " 'Republican Candidates Debate in North Charleston, South Carolina',\n",
       " 'Republican Candidates Debate in Las Vegas, Nevada',\n",
       " 'Republican Candidates Debate in Milwaukee, Wisconsin',\n",
       " 'Republican Candidates Debate in Boulder, Colorado',\n",
       " 'Republican Candidates Debate in Simi Valley, California',\n",
       " 'Republican Candidates Debate in Cleveland, Ohio',\n",
       " 'Republican Candidates \"Undercard\" Debate in Des Moines, Iowa',\n",
       " 'Republican Candidates \"Undercard\" Debate in North Charleston, South Carolina',\n",
       " 'Republican Candidates \"Undercard\" Debate in Las Vegas, Nevada',\n",
       " 'Republican Candidates \"Undercard\" Debate in Milwaukee, Wisconsin',\n",
       " 'Republican Candidates \"Undercard\" Debate in Boulder, Colorado',\n",
       " 'Republican Candidates \"Undercard\" Debate in Simi Valley, California',\n",
       " 'Republican Candidates \"Undercard\" Debate in Cleveland, Ohio',\n",
       " 'Presidential Debate at Lynn University in Boca Raton, Florida',\n",
       " 'Presidential Debate at Hofstra University in Hempstead, New York',\n",
       " 'Presidential Debate at the University of Denver',\n",
       " 'Vice Presidential Debate at Centre College in Danville, Kentucky',\n",
       " 'Republican Candidates Debate in Mesa, Arizona',\n",
       " 'Republican Candidates Debate in Jacksonville, Florida',\n",
       " 'Republican Candidates Debate in Tampa, Florida',\n",
       " 'Republican Candidates Debate in Charleston, South Carolina',\n",
       " 'Republican Candidates Debate in Myrtle Beach, South Carolina',\n",
       " 'Republican Candidates Debate in Concord, New Hampshire',\n",
       " 'Republican Candidates Debate in Manchester, New Hampshire',\n",
       " 'Republican Candidates Debate in Sioux City, Iowa',\n",
       " 'Republican Candidates Debate in Des Moines, Iowa',\n",
       " 'Republican Candidates Debate in Washington, DC',\n",
       " 'Republican Candidates Debate in Spartanburg, South Carolina',\n",
       " 'Republican Candidates Debate in Rochester, Michigan',\n",
       " 'Republican Candidates Debate in Las Vegas, Nevada',\n",
       " 'Republican Candidates Debate in Hanover, New Hampshire',\n",
       " 'Republican Candidates Debate in Orlando, Florida',\n",
       " 'Republican Candidates Debate in Tampa, Florida',\n",
       " 'Republican Candidates Debate in Simi Valley, California',\n",
       " 'Palmetto Freedom Forum in Columbia, South Carolina',\n",
       " 'Republican Candidates Debate in Ames, Iowa',\n",
       " 'Republican Candidates Debate in Manchester, New Hampshire',\n",
       " 'Presidential Debate in Hempstead, New York',\n",
       " 'Presidential Debate in Nashville, Tennessee',\n",
       " 'Presidential Debate in Oxford, Mississippi',\n",
       " 'Vice Presidential Debate in St. Louis, Missouri',\n",
       " 'Democratic Candidates Debate in Philadelphia, Pennsylvania ',\n",
       " 'Democratic Candidates Debate in Cleveland, Ohio ',\n",
       " 'Democratic Candidates Debate in Austin, Texas ',\n",
       " 'Democratic Candidates Debate in Los Angeles, California ',\n",
       " 'Democratic Candidates Debate in Myrtle Beach, South Carolina ',\n",
       " 'Democratic Candidates Debate in Las Vegas, Nevada ',\n",
       " 'Democratic Candidates Debate in Manchester, New Hampshire',\n",
       " 'Democratic Candidates Debate in Johnston, Iowa',\n",
       " 'Democratic Candidates Radio Debate in Des Monies, Iowa',\n",
       " 'Democratic Candidates Debate in Las Vegas, Nevada ',\n",
       " 'Democratic Candidates Debate in Philadelphia, Pennsylvania ',\n",
       " 'Democratic Candidates Debate in Hanover, New Hampshire',\n",
       " 'Democratic Candidates Debate in Miami, Florida ',\n",
       " 'Democratic Candidates Debate in Des Monies, Iowa',\n",
       " 'Democratic Candidates Forum in Chicago, Illinois ',\n",
       " 'Democratic Candidates Debate in Charleston, South Carolina',\n",
       " 'Democratic Candidates Forum in Washington, DC',\n",
       " 'Democratic Candidates Debate in Manchester, New Hampshire',\n",
       " 'Democratic Candidates Debate in Orangeburg, South Carolina ',\n",
       " 'Republican Candidates Debate in Simi Valley, California',\n",
       " 'Republican Candidates Debate in Boca Raton, Florida ',\n",
       " 'Republican Candidates Debate in Myrtle Beach, South Carolina ',\n",
       " 'Republican Candidates Forum in Milford, New Hampshire ',\n",
       " 'Republican Candidates Debate in Manchester, New Hampshire',\n",
       " 'Republican Candidates Debate in Johnston, Iowa',\n",
       " 'Republican Candidates Debate in Miami, Florida ',\n",
       " 'Republican Candidates Debate in St. Petersburg, Florida',\n",
       " 'Republican Candidates Debate in Orlando, Florida ',\n",
       " 'Republican Candidates Debate in Dearborn, Michigan ',\n",
       " 'Republican Candidates Forum in Baltimore, Maryland ',\n",
       " 'Republican Candidates Debate in Durham, New Hampshire ',\n",
       " 'Republican Candidates Debate in Des Monies, Iowa',\n",
       " 'Republican Candidates Debate in Manchester, New Hampshire',\n",
       " 'Republican Candidates Debate in Columbia, South Carolina ',\n",
       " 'Republican Candidates Debate in Simi Valley, California',\n",
       " 'Presidential Debate in Tempe, Arizona',\n",
       " 'Presidential Debate in St. Louis, Missouri',\n",
       " 'Presidential Debate in Coral Gables, Florida',\n",
       " 'Vice Presidential Debate in Cleveland',\n",
       " 'Democratic Candidates Debate in Greenville, South Carolina',\n",
       " 'Democratic Candidates Debate in Manchester, New Hampshire',\n",
       " 'Presidential Debate in St. Louis',\n",
       " 'Presidential Debate in Winston-Salem, North Carolina',\n",
       " 'Presidential Debate in Boston',\n",
       " 'Vice Presidential Debate in Danville, Kentucky',\n",
       " 'Democratic Candidates Debate in Los Angeles, California',\n",
       " 'Democratic Candidates Debate in New York City',\n",
       " 'Democratic Candidates Debate in Manchester, New Hampshire',\n",
       " 'Democratic Candidates Black-Brown Forum in Des Moines, Iowa',\n",
       " 'Democratic Candidates Debate in Des Moines, Iowa',\n",
       " 'Democratic Candidates Debate in Durham, New Hampshire',\n",
       " 'Democratic Candidates Debate on NBC News \"Meet the Press\"',\n",
       " 'Democratic Candidates Town Hall in Nashua, New Hampshire',\n",
       " 'Democratic Candidates Town Hall in Hanover, New Hampshire',\n",
       " 'Republican Candidates Debate in Los Angeles, California',\n",
       " 'Republican Candidates Debate in Columbia, South Carolina',\n",
       " 'Republican Candidates Debate in Manchester, New Hampshire',\n",
       " 'Republican Candidates Debate in Johnston, Iowa',\n",
       " 'Republican Candidates Debate in Grand Rapids, Michigan',\n",
       " 'Republican Candidates Debate in Columbia, South Carolina',\n",
       " 'Republican Candidates Debate in Durham, New Hampshire',\n",
       " 'Republican Candidates Debate in Des Monies, Iowa',\n",
       " 'Republican Candidates Debate in Phoenix, Arizona',\n",
       " 'Republican Candidates Debate in Manchester, New Hampshire',\n",
       " 'Republican Candidates Debate in Tempe, Arizona',\n",
       " 'Republican Candidates Town Hall in Hanover, New Hampshire',\n",
       " 'Republican Candidates Forum in Durham, New Hampshire',\n",
       " 'Presidential Debate in San Diego',\n",
       " 'Presidential Debate in Hartford',\n",
       " 'Vice Presidential Debate in St. Petersburg',\n",
       " 'Presidential Debate in East Lansing, Michigan',\n",
       " 'Presidential Debate in Richmond, Virginia',\n",
       " 'Presidential Debate in St. Louis',\n",
       " 'Vice Presidential Debate in Atlanta',\n",
       " 'Presidential Debate in Los Angeles',\n",
       " 'Presidential Debate in Winston-Salem, North Carolina',\n",
       " 'Vice Presidential Debate in Omaha, Nebraska',\n",
       " 'Presidential Debate in Kansas City, Missouri',\n",
       " 'Presidential Debate in Louisville, Kentucky',\n",
       " 'Vice Presidential Debate in Philadelphia',\n",
       " 'Presidential Debate in Cleveland',\n",
       " 'Presidential Debate in Baltimore (Reagan-Anderson)',\n",
       " 'Presidential Campaign Debate in Williamsburg, Virginia ',\n",
       " 'Presidential Campaign Debate in San Francisco ',\n",
       " 'Presidential Campaign Debate in Philadelphia ',\n",
       " 'Vice Presidential Debate in Houston',\n",
       " 'Presidential Debate in New York',\n",
       " 'Presidential Debate Broadcast from New York and Los Angeles',\n",
       " 'Presidential Debate in Washington, DC',\n",
       " 'Presidential Debate in Chicago',\n",
       " 'Remarks in a Town Hall Meeting with Savannah Guthrie of NBC News at the Perez Art Museum in Miami, Florida',\n",
       " 'Remarks in a Town Hall Meeting with George Stephanopoulos of ABC News at the National Constitution Center in Philadelphia, Pennsylvania',\n",
       " '‹ 2016 Presidential Election Documents',\n",
       " 'up',\n",
       " ' Presidential Election Victory Speeches ›']"
      ]
     },
     "execution_count": 31,
     "metadata": {},
     "output_type": "execute_result"
    }
   ],
   "source": [
    "name_list"
   ]
  },
  {
   "cell_type": "code",
   "execution_count": 32,
   "metadata": {},
   "outputs": [
    {
     "data": {
      "text/plain": [
       "172"
      ]
     },
     "execution_count": 32,
     "metadata": {},
     "output_type": "execute_result"
    }
   ],
   "source": [
    "len(name_list)"
   ]
  },
  {
   "cell_type": "markdown",
   "metadata": {},
   "source": [
    "There are three missing - looking at the list, they are the last three indices (links from teh bottom of the page)."
   ]
  },
  {
   "cell_type": "code",
   "execution_count": 33,
   "metadata": {},
   "outputs": [
    {
     "data": {
      "text/plain": [
       "'‹ 2016 Presidential Election Documents'"
      ]
     },
     "execution_count": 33,
     "metadata": {},
     "output_type": "execute_result"
    }
   ],
   "source": [
    "name_list.pop()\n",
    "name_list.pop()\n",
    "name_list.pop()"
   ]
  },
  {
   "cell_type": "code",
   "execution_count": 34,
   "metadata": {},
   "outputs": [
    {
     "data": {
      "text/plain": [
       "169"
      ]
     },
     "execution_count": 34,
     "metadata": {},
     "output_type": "execute_result"
    }
   ],
   "source": [
    "len(name_list)"
   ]
  },
  {
   "cell_type": "markdown",
   "metadata": {},
   "source": [
    "Ok, now i have all the names and dates, along with the debates."
   ]
  },
  {
   "cell_type": "markdown",
   "metadata": {},
   "source": [
    "### Debate Transcript Data Frame:"
   ]
  },
  {
   "cell_type": "markdown",
   "metadata": {},
   "source": [
    "Using the names, dates, and the text, I am going to build a basic dataframe using these lists:"
   ]
  },
  {
   "cell_type": "code",
   "execution_count": 35,
   "metadata": {},
   "outputs": [],
   "source": [
    "first_df = pd.DataFrame(list(zip(date_list, name_list,new_app_transcripts)), columns=['Date', 'Debate_Name', 'Transcript'])"
   ]
  },
  {
   "cell_type": "markdown",
   "metadata": {},
   "source": [
    "A few other things that could be added: debate type (general-president, general-vice president, republican primary, democrat primary).  These should be helpful in classifying data points later."
   ]
  },
  {
   "cell_type": "code",
   "execution_count": 36,
   "metadata": {},
   "outputs": [],
   "source": [
    "first_df['Debate_Type'] = 0\n",
    "for i, name in enumerate(first_df.Debate_Name):\n",
    "    if 'Republican Candidates' in name:\n",
    "        first_df.iloc[i, 3] = 'Primary-Republican'\n",
    "    elif 'Democratic Candidates' in name:\n",
    "        first_df.iloc[i, 3] = 'Primary-Democrat'\n",
    "    elif 'Vice Presidential' in name:\n",
    "        first_df.iloc[i, 3] = 'General-VP'\n",
    "    else:\n",
    "        first_df.iloc[i, 3] = 'General-President'"
   ]
  },
  {
   "cell_type": "code",
   "execution_count": 37,
   "metadata": {},
   "outputs": [
    {
     "data": {
      "text/plain": [
       "Primary-Republican    67\n",
       "Primary-Democrat      53\n",
       "General-President     38\n",
       "General-VP            11\n",
       "Name: Debate_Type, dtype: int64"
      ]
     },
     "execution_count": 37,
     "metadata": {},
     "output_type": "execute_result"
    }
   ],
   "source": [
    "first_df.Debate_Type.value_counts()"
   ]
  },
  {
   "cell_type": "markdown",
   "metadata": {},
   "source": [
    "From there, df.explode can be used to separate the individual debate \"responses\" into individual rows."
   ]
  },
  {
   "cell_type": "code",
   "execution_count": 38,
   "metadata": {},
   "outputs": [],
   "source": [
    "transcript_df = first_df.explode('Transcript')"
   ]
  },
  {
   "cell_type": "code",
   "execution_count": 39,
   "metadata": {},
   "outputs": [
    {
     "data": {
      "text/html": [
       "<div>\n",
       "<style scoped>\n",
       "    .dataframe tbody tr th:only-of-type {\n",
       "        vertical-align: middle;\n",
       "    }\n",
       "\n",
       "    .dataframe tbody tr th {\n",
       "        vertical-align: top;\n",
       "    }\n",
       "\n",
       "    .dataframe thead th {\n",
       "        text-align: right;\n",
       "    }\n",
       "</style>\n",
       "<table border=\"1\" class=\"dataframe\">\n",
       "  <thead>\n",
       "    <tr style=\"text-align: right;\">\n",
       "      <th></th>\n",
       "      <th>Date</th>\n",
       "      <th>Debate_Name</th>\n",
       "      <th>Transcript</th>\n",
       "      <th>Debate_Type</th>\n",
       "    </tr>\n",
       "  </thead>\n",
       "  <tbody>\n",
       "    <tr>\n",
       "      <th>0</th>\n",
       "      <td>October 22, 2020</td>\n",
       "      <td>Presidential Debate at Belmont University in N...</td>\n",
       "      <td>WELKER: A very good evening to both of you. Th...</td>\n",
       "      <td>General-President</td>\n",
       "    </tr>\n",
       "    <tr>\n",
       "      <th>1</th>\n",
       "      <td>October 22, 2020</td>\n",
       "      <td>Presidential Debate at Belmont University in N...</td>\n",
       "      <td>And we will begin with the fight against the c...</td>\n",
       "      <td>General-President</td>\n",
       "    </tr>\n",
       "    <tr>\n",
       "      <th>2</th>\n",
       "      <td>October 22, 2020</td>\n",
       "      <td>Presidential Debate at Belmont University in N...</td>\n",
       "      <td>TRUMP: So, as you know, more 2.2 million peopl...</td>\n",
       "      <td>General-President</td>\n",
       "    </tr>\n",
       "    <tr>\n",
       "      <th>3</th>\n",
       "      <td>October 22, 2020</td>\n",
       "      <td>Presidential Debate at Belmont University in N...</td>\n",
       "      <td>WELKER: OK, former Vice President Biden, to yo...</td>\n",
       "      <td>General-President</td>\n",
       "    </tr>\n",
       "    <tr>\n",
       "      <th>4</th>\n",
       "      <td>October 22, 2020</td>\n",
       "      <td>Presidential Debate at Belmont University in N...</td>\n",
       "      <td>BIDEN: 220,000 Americans dead. If you hear not...</td>\n",
       "      <td>General-President</td>\n",
       "    </tr>\n",
       "  </tbody>\n",
       "</table>\n",
       "</div>"
      ],
      "text/plain": [
       "               Date                                        Debate_Name  \\\n",
       "0  October 22, 2020  Presidential Debate at Belmont University in N...   \n",
       "1  October 22, 2020  Presidential Debate at Belmont University in N...   \n",
       "2  October 22, 2020  Presidential Debate at Belmont University in N...   \n",
       "3  October 22, 2020  Presidential Debate at Belmont University in N...   \n",
       "4  October 22, 2020  Presidential Debate at Belmont University in N...   \n",
       "\n",
       "                                          Transcript        Debate_Type  \n",
       "0  WELKER: A very good evening to both of you. Th...  General-President  \n",
       "1  And we will begin with the fight against the c...  General-President  \n",
       "2  TRUMP: So, as you know, more 2.2 million peopl...  General-President  \n",
       "3  WELKER: OK, former Vice President Biden, to yo...  General-President  \n",
       "4  BIDEN: 220,000 Americans dead. If you hear not...  General-President  "
      ]
     },
     "execution_count": 39,
     "metadata": {},
     "output_type": "execute_result"
    }
   ],
   "source": [
    "transcript_df.reset_index(drop=True, inplace=True)\n",
    "transcript_df.head()"
   ]
  },
  {
   "cell_type": "code",
   "execution_count": 40,
   "metadata": {},
   "outputs": [
    {
     "data": {
      "text/plain": [
       "(79347, 4)"
      ]
     },
     "execution_count": 40,
     "metadata": {},
     "output_type": "execute_result"
    }
   ],
   "source": [
    "transcript_df.shape"
   ]
  },
  {
   "cell_type": "markdown",
   "metadata": {},
   "source": [
    "From here, I'll want to add the speaker of each row in the transcript column.  This will be helpful for knowing who actually said each line.  Once that is in place, I can add speaker type (candidate or moderator), as well as party tags (Democrat/Republican)."
   ]
  },
  {
   "cell_type": "markdown",
   "metadata": {},
   "source": [
    "Test on a small subset:"
   ]
  },
  {
   "cell_type": "code",
   "execution_count": 41,
   "metadata": {},
   "outputs": [],
   "source": [
    "my_list = list(transcript_df.Transcript[0:10])"
   ]
  },
  {
   "cell_type": "code",
   "execution_count": 42,
   "metadata": {
    "scrolled": true
   },
   "outputs": [
    {
     "data": {
      "text/plain": [
       "[\"WELKER: A very good evening to both of you. This debate will cover six major topics. At the beginning of each section, each candidate will have two minutes, uninterrupted, to answer my first question. The debate commission will then turn on their microphone only when it is their turn to answer, and the commission will turn it off exactly when the two minutes have expired. After that, both microphones will remain on, but on behalf of the voters, I'm going to ask you to please speak one at a time. The goal is for you to hear each other and for the American people to hear every word of what you both have to say. And so with that, if you're ready, let's start. And we will begin with the fight against the coronavirus. President Trump, the first question is for you. The country is heading into a dangerous new phase. More than 40,000 Americans are in the hospital tonight with COVID, including record numbers here in Tennessee. And since the two of you last shared a stage, 16,000 Americans have died from COVID. So please be specific: how would you leave the country during this next stage of the coronavirus crisis? Two minutes, uninterrupted.\",\n",
       " \"TRUMP: So, as you know, more 2.2 million people, modeled out, were expected to die. We closed up the greatest economy in the world in order to fight this horrible disease that came from China. It's a worldwide pandemic. It's all over the world. You see the spikes in Europe and many other places right now. If you notice, the mortality rate is down, 85%. The excess mortality rate is way down, and much lower than almost any other country. And we're fighting it and we're fighting it hard. There is a spike. There was a spike in Florida, and it's now gone. There was a very big spike in Texas, it's now gone. There was a very big spike in Arizona, it's now gone. And there were some spikes and surges in other places. They will soon be gone. We have a vaccine that's coming, it's ready. It's going to be announced within weeks, and it's going to be delivered. We have Operation Warp Speed, which is the military, is going to distribute the vaccine. I can tell you from personal experience that I was in the hospital, I had it. And I got better and I will tell you that I had something that they gave me — a therapeutic, I guess they would call it. Some people could say it was a cure. But I was in for a short period of time and I got better very fast or I wouldn't be here tonight. And now they say I'm immune. Whether it's four months or a lifetime, nobody's been able to say that, but I'm immune. More and more people are getting better. We have a problem that's a worldwide problem. This is a worldwide problem, but I've been congratulated by the heads of many countries on what we've been able to do with the — if you take a look at what we've done in terms of goggles and masks and gowns and everything else, and in particular, ventilators. We're now making ventilators. All over the world, thousands and thousands a month, distributing them all over the world, it will go away and as I say, we're rounding the turn, we're rounding the corner, it's going away.\",\n",
       " 'WELKER: OK, former Vice President Biden, to you, how would you lead the country out of this crisis? You have two minutes uninterrupted.',\n",
       " \"BIDEN: 220,000 Americans dead. If you hear nothing else I say tonight, hear this. Anyone who's responsible for not taking control — in fact, not saying, I take no responsibility, initially — anyone who is responsible for that many deaths should not remain as President of the United States of America. We're in a situation where there are thousands of deaths a day, a thousand deaths a day. And there are over 70,000 new cases per day. Compared to what's going on in Europe, as the New England Medical Journal said, they're starting from a very low rate. We're starting from a very high rate. The expectation is we'll have another 200,000 Americans dead by the time, between now and the end of the year. If we just wore these masks — the President's own advisors told them — we could save 100,000 lives. And we're in a circumstance where the President, thus far, still has no plan. No comprehensive plan. What I would do is make sure we have everyone encouraged to wear a mask, all the time. I would make sure we move in the direction of rapid testing, investing in rapid testing. I would make sure that we set up national standards as to how to open up schools and open up businesses so they can be safe, and give them the wherewithal and financial resources to be able to do that. We're in a situation now where the New England Medical Journal — one of the serious, most serious journals in the whole world — said for the first time ever that this, the way this President has responded to this crisis has been absolutely tragic. And so folks, I will take care of this, I will end this, I will make sure we have a plan.\",\n",
       " \"WELKER: President Trump, I'd like to follow up with you and your comments. You talked about taking a therapeutic. I assume you're referencing Regeneron. You also said a vaccine will be coming within weeks. Is that a guarantee?\",\n",
       " 'TRUMP: It is not a guarantee but it will be by the end of the year, but I think it has a good chance. One or two companies, I think, within a matter of weeks, and it will be distributed very quickly.',\n",
       " 'WELKER: Can you tell us what companies?',\n",
       " \"TRUMP: Johnson and Johnson is doing very well. Moderna is doing very well. Pfizer is doing very well, and we have numerous others. And then we also have others that we're working on very closely with other countries, in particular Europe.\",\n",
       " 'WELKER: Let me follow up with you, and because this is new information — You have said a vaccine is coming soon, within weeks now. Your own officials say it could take well into 2021 at the earliest for enough Americans to get vaccinated, and even then they say the country will be wearing masks and distancing into 2022. Is your timeline realistic?']"
      ]
     },
     "execution_count": 42,
     "metadata": {},
     "output_type": "execute_result"
    }
   ],
   "source": [
    "for i, line in enumerate(my_list):\n",
    "    #If the speaker is listed, it will be in the NAME: format.  This checks for the :\n",
    "    if \":\" not in line[0:35]:\n",
    "        #If no speaker change, combines into one answer, tagged with the speaker at the start.\n",
    "        my_list[i-1] = my_list[i-1] + ' ' + line\n",
    "        my_list.remove(line)\n",
    "my_list"
   ]
  },
  {
   "cell_type": "code",
   "execution_count": 43,
   "metadata": {},
   "outputs": [
    {
     "data": {
      "text/plain": [
       "9"
      ]
     },
     "execution_count": 43,
     "metadata": {},
     "output_type": "execute_result"
    }
   ],
   "source": [
    "len(my_list)"
   ]
  },
  {
   "cell_type": "markdown",
   "metadata": {},
   "source": [
    "So that worked - will it work on the whole data frame?"
   ]
  },
  {
   "cell_type": "markdown",
   "metadata": {},
   "source": [
    "No, there's too much inconsistency in the text structure across debates (example [here](https://www.presidency.ucsb.edu/documents/presidential-debate-tempe-arizona)).  Will need to determine how to best do this later."
   ]
  },
  {
   "cell_type": "code",
   "execution_count": 44,
   "metadata": {},
   "outputs": [],
   "source": [
    "transcript_df['Data_Source'] = 'American Presidency Project'"
   ]
  },
  {
   "cell_type": "markdown",
   "metadata": {},
   "source": [
    "Next step: doing similar work for the Commission for Presidential Debates site, since that may be easier to parse through for speaker info."
   ]
  },
  {
   "cell_type": "markdown",
   "metadata": {},
   "source": [
    "## Making a Dataframe of the Commission for Presidential Debate List\n",
    "This data does seem to be more consistent in terms of speaker"
   ]
  },
  {
   "cell_type": "code",
   "execution_count": 45,
   "metadata": {},
   "outputs": [],
   "source": [
    "with open('cpd_transcript_list.pickle','rb') as read_file:\n",
    "    cpd_transcripts = pickle.load(read_file)"
   ]
  },
  {
   "cell_type": "code",
   "execution_count": 46,
   "metadata": {},
   "outputs": [
    {
     "data": {
      "text/plain": [
       "48"
      ]
     },
     "execution_count": 46,
     "metadata": {},
     "output_type": "execute_result"
    }
   ],
   "source": [
    "len(cpd_transcripts)"
   ]
  },
  {
   "cell_type": "code",
   "execution_count": 47,
   "metadata": {},
   "outputs": [
    {
     "data": {
      "text/plain": [
       "['Debate',\n",
       " 'Transcript Translation',\n",
       " 'The First Gore-Bush Presidential Debate',\n",
       " 'University of Massachusetts Boston, Massachusetts October 3, 2000',\n",
       " 'French German Italian Japanese Portuguese Spanish',\n",
       " 'The Second Gore-Bush Presidential Debate',\n",
       " 'Wake Forest University Winston-Salem, North Carolina October 11, 2000',\n",
       " 'French German Italian Japanese Portuguese Spanish',\n",
       " 'The Third Gore-Bush Presidential Debate',\n",
       " 'Washington University St. Louis, Missouri October 17, 2000',\n",
       " 'French German Italian Japanese Portuguese Spanish',\n",
       " 'The Lieberman-Cheney Vice Presidential Debate',\n",
       " 'Centre College Danville, Kentucky October 5, 2000',\n",
       " 'French German Italian Japanese Portuguese Spanish',\n",
       " 'Transcripts provided by Speche Communications, Inc.',\n",
       " '']"
      ]
     },
     "execution_count": 47,
     "metadata": {},
     "output_type": "execute_result"
    }
   ],
   "source": [
    "#23rd element is just a link to translations, not an actual transcript:\n",
    "cpd_transcripts.pop(23)"
   ]
  },
  {
   "cell_type": "code",
   "execution_count": 48,
   "metadata": {},
   "outputs": [
    {
     "data": {
      "text/plain": [
       "47"
      ]
     },
     "execution_count": 48,
     "metadata": {},
     "output_type": "execute_result"
    }
   ],
   "source": [
    "len(cpd_transcripts)"
   ]
  },
  {
   "cell_type": "code",
   "execution_count": 49,
   "metadata": {},
   "outputs": [
    {
     "name": "stdout",
     "output_type": "stream",
     "text": [
      "15561\n"
     ]
    }
   ],
   "source": [
    "counter = 0\n",
    "for transcript in cpd_transcripts:\n",
    "    counter += len(transcript)\n",
    "print(counter)"
   ]
  },
  {
   "cell_type": "markdown",
   "metadata": {},
   "source": [
    "So there are 48 total debates, with 15,577 total paragraphs in the transcript."
   ]
  },
  {
   "cell_type": "markdown",
   "metadata": {},
   "source": [
    "### Adding Date / Debate Name:"
   ]
  },
  {
   "cell_type": "markdown",
   "metadata": {},
   "source": [
    "In order to add these, I need to scrape the debate dates from the American Presidency Project Page, along with the debate name.  "
   ]
  },
  {
   "cell_type": "code",
   "execution_count": 50,
   "metadata": {},
   "outputs": [],
   "source": [
    "cpd_link = 'https://www.debates.org/voter-education/debate-transcripts/'"
   ]
  },
  {
   "cell_type": "markdown",
   "metadata": {},
   "source": [
    "Pulling Dates:"
   ]
  },
  {
   "cell_type": "code",
   "execution_count": 51,
   "metadata": {},
   "outputs": [],
   "source": [
    "response = requests.get(cpd_link)\n",
    "page = response.text\n",
    "cpd_soup_object = BeautifulSoup(page, 'lxml')"
   ]
  },
  {
   "cell_type": "code",
   "execution_count": 52,
   "metadata": {},
   "outputs": [],
   "source": [
    "info = cpd_soup_object.find('div', id='content-sm').find_all('a')\n",
    "info_list = [stuff.get_text() for stuff in info]"
   ]
  },
  {
   "cell_type": "code",
   "execution_count": 53,
   "metadata": {},
   "outputs": [
    {
     "data": {
      "text/plain": [
       "48"
      ]
     },
     "execution_count": 53,
     "metadata": {},
     "output_type": "execute_result"
    }
   ],
   "source": [
    "len(info_list)"
   ]
  },
  {
   "cell_type": "markdown",
   "metadata": {},
   "source": [
    "The length matches, so it is set up well.  Some debates are broken in half, so adding the debate date/title info:"
   ]
  },
  {
   "cell_type": "code",
   "execution_count": 54,
   "metadata": {},
   "outputs": [],
   "source": [
    "info_list[30] = 'October 15, 1992: The Second Clinton-Bush-Perot Presidential Debate ' + info_list[30]"
   ]
  },
  {
   "cell_type": "code",
   "execution_count": 55,
   "metadata": {},
   "outputs": [],
   "source": [
    "info_list[31] = 'October 15, 1992: The Second Clinton-Bush-Perot Presidential Debate ' + info_list[31]"
   ]
  },
  {
   "cell_type": "code",
   "execution_count": 56,
   "metadata": {},
   "outputs": [],
   "source": [
    "info_list[27] = 'October 11, 1992: The First Clinton-Bush-Perot Presidential Debate ' + info_list[27]\n",
    "info_list[28] = 'October 11, 1992: The First Clinton-Bush-Perot Presidential Debate ' + info_list[28]"
   ]
  },
  {
   "cell_type": "markdown",
   "metadata": {},
   "source": [
    "Popping off 23rd item, since that is just a link to translations of the 2000 debates"
   ]
  },
  {
   "cell_type": "code",
   "execution_count": 57,
   "metadata": {},
   "outputs": [
    {
     "data": {
      "text/plain": [
       "'The 2000 Debate Transcripts: Transcripts of the debates translated into six languages'"
      ]
     },
     "execution_count": 57,
     "metadata": {},
     "output_type": "execute_result"
    }
   ],
   "source": [
    "info_list.pop(23)"
   ]
  },
  {
   "cell_type": "code",
   "execution_count": 58,
   "metadata": {},
   "outputs": [
    {
     "data": {
      "text/plain": [
       "47"
      ]
     },
     "execution_count": 58,
     "metadata": {},
     "output_type": "execute_result"
    }
   ],
   "source": [
    "len(info_list)"
   ]
  },
  {
   "cell_type": "markdown",
   "metadata": {},
   "source": [
    "Now, pulling debate dates and names into separate list:"
   ]
  },
  {
   "cell_type": "code",
   "execution_count": 59,
   "metadata": {},
   "outputs": [],
   "source": [
    "date_list = [info.split(':')[0] for info in info_list]\n",
    "name_list = [info.split(':')[1] for info in info_list]\n",
    "name_list[0] = 'First Trump-Biden Presidential Debate'\n",
    "name_list[1] = 'Pence-Harris Vice Presidential Debate'\n",
    "name_list[2] = 'Second Trump-Biden Presidential Debate'"
   ]
  },
  {
   "cell_type": "markdown",
   "metadata": {},
   "source": [
    "Now, slicing the transcripts so they all start right:"
   ]
  },
  {
   "cell_type": "code",
   "execution_count": 60,
   "metadata": {},
   "outputs": [],
   "source": [
    "starts_at_2 = [19, 20, 21, 22, 23, 24, 25, 32, 33, 34, 35, 36, 37, 38, 39, 40, 41, 42, 43, 44, 45, 46]"
   ]
  },
  {
   "cell_type": "code",
   "execution_count": 61,
   "metadata": {},
   "outputs": [],
   "source": [
    "starts_at_3 = [27, 29, 30]"
   ]
  },
  {
   "cell_type": "code",
   "execution_count": 62,
   "metadata": {},
   "outputs": [],
   "source": [
    "starts_at_4 = [0, 1, 2, 8, 26, 28, 31]"
   ]
  },
  {
   "cell_type": "code",
   "execution_count": 63,
   "metadata": {},
   "outputs": [],
   "source": [
    "starts_at_5 = [7,9,10]\n",
    "starts_at_6 = [17,18]\n",
    "starts_at_7 = [3, 4, 6, 11, 12, 13, 14, 15, 16]"
   ]
  },
  {
   "cell_type": "code",
   "execution_count": 64,
   "metadata": {},
   "outputs": [
    {
     "name": "stdout",
     "output_type": "stream",
     "text": [
      "Transcript 5:\n",
      "RADDATZ: Good evening. I’m Martha Raddatz from ABC News.\n",
      "\n"
     ]
    }
   ],
   "source": [
    "for i, transcript in enumerate(cpd_transcripts):\n",
    "    if i not in starts_at_7 and i not in starts_at_6 and i not in starts_at_2 and i not in starts_at_3 and i not in starts_at_4 and i not in starts_at_5:\n",
    "        print('Transcript {}:'.format(i))\n",
    "        print(transcript[8]+ '\\n')"
   ]
  },
  {
   "cell_type": "code",
   "execution_count": 65,
   "metadata": {},
   "outputs": [],
   "source": [
    "new_cpd_transcripts = []\n",
    "for i, transcript in enumerate(cpd_transcripts):\n",
    "    if i in starts_at_2:\n",
    "        new_cpd_transcripts.append(transcript[2:])\n",
    "    elif i in starts_at_3:\n",
    "        new_cpd_transcripts.append(transcript[3:])\n",
    "    elif i in starts_at_4:\n",
    "        new_cpd_transcripts.append(transcript[4:])\n",
    "    elif i in starts_at_5:\n",
    "        new_cpd_transcripts.append(transcript[5:])\n",
    "    elif i in starts_at_6:\n",
    "        new_cpd_transcripts.append(transcript[6:])\n",
    "    elif i in starts_at_7:\n",
    "        new_cpd_transcripts.append(transcript[7:])\n",
    "    else:\n",
    "        new_cpd_transcripts.append(transcript[8:])"
   ]
  },
  {
   "cell_type": "markdown",
   "metadata": {},
   "source": [
    "Making a dataframe of the new data:"
   ]
  },
  {
   "cell_type": "code",
   "execution_count": 66,
   "metadata": {},
   "outputs": [],
   "source": [
    "cpd_df = pd.DataFrame(list(zip(date_list, name_list,new_cpd_transcripts)), columns=['Date', 'Debate_Name', 'Transcript'])"
   ]
  },
  {
   "cell_type": "code",
   "execution_count": 67,
   "metadata": {},
   "outputs": [],
   "source": [
    "cpd_df['Debate_Type'] = 0\n",
    "for i, name in enumerate(cpd_df.Debate_Name):\n",
    "    if 'Vice Presidential' in name:\n",
    "        cpd_df.iloc[i, 3] = 'General-VP'\n",
    "    else:\n",
    "        cpd_df.iloc[i, 3] = 'General-President'"
   ]
  },
  {
   "cell_type": "code",
   "execution_count": 68,
   "metadata": {},
   "outputs": [
    {
     "data": {
      "text/plain": [
       "(47, 4)"
      ]
     },
     "execution_count": 68,
     "metadata": {},
     "output_type": "execute_result"
    }
   ],
   "source": [
    "cpd_df.shape"
   ]
  },
  {
   "cell_type": "markdown",
   "metadata": {},
   "source": [
    "From there, df.explode can be used to separate the individual debate \"responses\" into individual rows."
   ]
  },
  {
   "cell_type": "code",
   "execution_count": 69,
   "metadata": {},
   "outputs": [],
   "source": [
    "cpd_transcript_df = cpd_df.explode('Transcript')"
   ]
  },
  {
   "cell_type": "code",
   "execution_count": 70,
   "metadata": {},
   "outputs": [
    {
     "data": {
      "text/plain": [
       "(15382, 4)"
      ]
     },
     "execution_count": 70,
     "metadata": {},
     "output_type": "execute_result"
    }
   ],
   "source": [
    "cpd_transcript_df.reset_index(drop=True, inplace=True)\n",
    "cpd_transcript_df.shape"
   ]
  },
  {
   "cell_type": "code",
   "execution_count": 71,
   "metadata": {},
   "outputs": [],
   "source": [
    "cpd_transcript_df['Data_Source'] = 'Commission For Presidential Debates'"
   ]
  },
  {
   "cell_type": "markdown",
   "metadata": {},
   "source": [
    "## Concatenating the Dataframes"
   ]
  },
  {
   "cell_type": "markdown",
   "metadata": {},
   "source": [
    "So I have all the data to work with, I'll be concatenating the CPD and APP dataframes:"
   ]
  },
  {
   "cell_type": "code",
   "execution_count": 72,
   "metadata": {},
   "outputs": [
    {
     "data": {
      "text/plain": [
       "(79347, 5)"
      ]
     },
     "execution_count": 72,
     "metadata": {},
     "output_type": "execute_result"
    }
   ],
   "source": [
    "transcript_df.shape"
   ]
  },
  {
   "cell_type": "code",
   "execution_count": 73,
   "metadata": {},
   "outputs": [
    {
     "data": {
      "text/plain": [
       "(15382, 5)"
      ]
     },
     "execution_count": 73,
     "metadata": {},
     "output_type": "execute_result"
    }
   ],
   "source": [
    "cpd_transcript_df.shape"
   ]
  },
  {
   "cell_type": "code",
   "execution_count": 74,
   "metadata": {},
   "outputs": [],
   "source": [
    "combined_transcript_df = pd.concat([transcript_df, cpd_transcript_df])"
   ]
  },
  {
   "cell_type": "code",
   "execution_count": 75,
   "metadata": {},
   "outputs": [
    {
     "data": {
      "text/html": [
       "<div>\n",
       "<style scoped>\n",
       "    .dataframe tbody tr th:only-of-type {\n",
       "        vertical-align: middle;\n",
       "    }\n",
       "\n",
       "    .dataframe tbody tr th {\n",
       "        vertical-align: top;\n",
       "    }\n",
       "\n",
       "    .dataframe thead th {\n",
       "        text-align: right;\n",
       "    }\n",
       "</style>\n",
       "<table border=\"1\" class=\"dataframe\">\n",
       "  <thead>\n",
       "    <tr style=\"text-align: right;\">\n",
       "      <th></th>\n",
       "      <th>Date</th>\n",
       "      <th>Debate_Name</th>\n",
       "      <th>Transcript</th>\n",
       "      <th>Debate_Type</th>\n",
       "      <th>Data_Source</th>\n",
       "    </tr>\n",
       "  </thead>\n",
       "  <tbody>\n",
       "    <tr>\n",
       "      <th>0</th>\n",
       "      <td>October 22, 2020</td>\n",
       "      <td>Presidential Debate at Belmont University in N...</td>\n",
       "      <td>WELKER: A very good evening to both of you. Th...</td>\n",
       "      <td>General-President</td>\n",
       "      <td>American Presidency Project</td>\n",
       "    </tr>\n",
       "    <tr>\n",
       "      <th>1</th>\n",
       "      <td>October 22, 2020</td>\n",
       "      <td>Presidential Debate at Belmont University in N...</td>\n",
       "      <td>And we will begin with the fight against the c...</td>\n",
       "      <td>General-President</td>\n",
       "      <td>American Presidency Project</td>\n",
       "    </tr>\n",
       "    <tr>\n",
       "      <th>2</th>\n",
       "      <td>October 22, 2020</td>\n",
       "      <td>Presidential Debate at Belmont University in N...</td>\n",
       "      <td>TRUMP: So, as you know, more 2.2 million peopl...</td>\n",
       "      <td>General-President</td>\n",
       "      <td>American Presidency Project</td>\n",
       "    </tr>\n",
       "    <tr>\n",
       "      <th>3</th>\n",
       "      <td>October 22, 2020</td>\n",
       "      <td>Presidential Debate at Belmont University in N...</td>\n",
       "      <td>WELKER: OK, former Vice President Biden, to yo...</td>\n",
       "      <td>General-President</td>\n",
       "      <td>American Presidency Project</td>\n",
       "    </tr>\n",
       "    <tr>\n",
       "      <th>4</th>\n",
       "      <td>October 22, 2020</td>\n",
       "      <td>Presidential Debate at Belmont University in N...</td>\n",
       "      <td>BIDEN: 220,000 Americans dead. If you hear not...</td>\n",
       "      <td>General-President</td>\n",
       "      <td>American Presidency Project</td>\n",
       "    </tr>\n",
       "  </tbody>\n",
       "</table>\n",
       "</div>"
      ],
      "text/plain": [
       "               Date                                        Debate_Name  \\\n",
       "0  October 22, 2020  Presidential Debate at Belmont University in N...   \n",
       "1  October 22, 2020  Presidential Debate at Belmont University in N...   \n",
       "2  October 22, 2020  Presidential Debate at Belmont University in N...   \n",
       "3  October 22, 2020  Presidential Debate at Belmont University in N...   \n",
       "4  October 22, 2020  Presidential Debate at Belmont University in N...   \n",
       "\n",
       "                                          Transcript        Debate_Type  \\\n",
       "0  WELKER: A very good evening to both of you. Th...  General-President   \n",
       "1  And we will begin with the fight against the c...  General-President   \n",
       "2  TRUMP: So, as you know, more 2.2 million peopl...  General-President   \n",
       "3  WELKER: OK, former Vice President Biden, to yo...  General-President   \n",
       "4  BIDEN: 220,000 Americans dead. If you hear not...  General-President   \n",
       "\n",
       "                   Data_Source  \n",
       "0  American Presidency Project  \n",
       "1  American Presidency Project  \n",
       "2  American Presidency Project  \n",
       "3  American Presidency Project  \n",
       "4  American Presidency Project  "
      ]
     },
     "execution_count": 75,
     "metadata": {},
     "output_type": "execute_result"
    }
   ],
   "source": [
    "combined_transcript_df.head()"
   ]
  },
  {
   "cell_type": "code",
   "execution_count": 76,
   "metadata": {},
   "outputs": [
    {
     "data": {
      "text/plain": [
       "(94729, 5)"
      ]
     },
     "execution_count": 76,
     "metadata": {},
     "output_type": "execute_result"
    }
   ],
   "source": [
    "combined_transcript_df.shape"
   ]
  },
  {
   "cell_type": "code",
   "execution_count": 77,
   "metadata": {},
   "outputs": [
    {
     "data": {
      "text/plain": [
       "American Presidency Project            79347\n",
       "Commission For Presidential Debates    15382\n",
       "Name: Data_Source, dtype: int64"
      ]
     },
     "execution_count": 77,
     "metadata": {},
     "output_type": "execute_result"
    }
   ],
   "source": [
    "combined_transcript_df.Data_Source.value_counts()"
   ]
  },
  {
   "cell_type": "markdown",
   "metadata": {},
   "source": [
    "That matches up, so I will be pickling these dataframes to work with further."
   ]
  },
  {
   "cell_type": "markdown",
   "metadata": {},
   "source": [
    "### Pickling Combined Dataframe:"
   ]
  },
  {
   "cell_type": "code",
   "execution_count": 78,
   "metadata": {},
   "outputs": [],
   "source": [
    "#with open('combined_transcript_df.pickle', 'wb') as to_write:\n",
    "#    pickle.dump(combined_transcript_df, to_write)"
   ]
  },
  {
   "cell_type": "markdown",
   "metadata": {},
   "source": [
    "### Next steps: secondary_text_clean_eda.ipynb\n",
    "- Add speaker, speaker type, party tags to the rows\n",
    "- Perform initial EDA of the data"
   ]
  },
  {
   "cell_type": "markdown",
   "metadata": {},
   "source": [
    "# Adding in Speaker:"
   ]
  },
  {
   "cell_type": "markdown",
   "metadata": {},
   "source": [
    "Using speaker lists from model_tagging.ipynb, I will be adding in speakers to this dataframe."
   ]
  },
  {
   "cell_type": "code",
   "execution_count": 79,
   "metadata": {},
   "outputs": [],
   "source": [
    "with open('new_app_speakers.pickle','rb') as read_file:\n",
    "    app_speakers = pickle.load(read_file)"
   ]
  },
  {
   "cell_type": "code",
   "execution_count": 80,
   "metadata": {},
   "outputs": [],
   "source": [
    "with open('new_cpd_speakers.pickle','rb') as read_file:\n",
    "    cpd_speakers = pickle.load(read_file)"
   ]
  },
  {
   "cell_type": "markdown",
   "metadata": {},
   "source": [
    "### First, CPD:"
   ]
  },
  {
   "cell_type": "code",
   "execution_count": 135,
   "metadata": {},
   "outputs": [],
   "source": [
    "speaker_cpd_df = pd.DataFrame(list(zip(date_list, name_list,new_cpd_transcripts)), columns=['Date', 'Debate_Name', 'Transcript'])"
   ]
  },
  {
   "cell_type": "code",
   "execution_count": 136,
   "metadata": {
    "scrolled": true
   },
   "outputs": [
    {
     "data": {
      "text/plain": [
       "(47, 3)"
      ]
     },
     "execution_count": 136,
     "metadata": {},
     "output_type": "execute_result"
    }
   ],
   "source": [
    "speaker_cpd_df.shape"
   ]
  },
  {
   "cell_type": "code",
   "execution_count": 137,
   "metadata": {},
   "outputs": [],
   "source": [
    "speaker_cpd_df['Debate_Type'] = 0\n",
    "for i, name in enumerate(speaker_cpd_df.Debate_Name):\n",
    "    if 'Vice Presidential' in name:\n",
    "        speaker_cpd_df.iloc[i, 3] = 'General-VP'\n",
    "    else:\n",
    "        speaker_cpd_df.iloc[i, 3] = 'General-President'"
   ]
  },
  {
   "cell_type": "code",
   "execution_count": 138,
   "metadata": {},
   "outputs": [],
   "source": [
    "speaker_cpd_df['Data_Source'] = 'Commission For Presidential Debates'"
   ]
  },
  {
   "cell_type": "code",
   "execution_count": 139,
   "metadata": {},
   "outputs": [
    {
     "data": {
      "text/html": [
       "<div>\n",
       "<style scoped>\n",
       "    .dataframe tbody tr th:only-of-type {\n",
       "        vertical-align: middle;\n",
       "    }\n",
       "\n",
       "    .dataframe tbody tr th {\n",
       "        vertical-align: top;\n",
       "    }\n",
       "\n",
       "    .dataframe thead th {\n",
       "        text-align: right;\n",
       "    }\n",
       "</style>\n",
       "<table border=\"1\" class=\"dataframe\">\n",
       "  <thead>\n",
       "    <tr style=\"text-align: right;\">\n",
       "      <th></th>\n",
       "      <th>Date</th>\n",
       "      <th>Debate_Name</th>\n",
       "      <th>Transcript</th>\n",
       "      <th>Debate_Type</th>\n",
       "      <th>Data_Source</th>\n",
       "    </tr>\n",
       "  </thead>\n",
       "  <tbody>\n",
       "    <tr>\n",
       "      <th>42</th>\n",
       "      <td>January 28, 2016</td>\n",
       "      <td>The Third Carter-Ford Presidential Debate</td>\n",
       "      <td>[MS. WALTERS: Good evening, I’m Barbara Walter...</td>\n",
       "      <td>General-President</td>\n",
       "      <td>Commission For Presidential Debates</td>\n",
       "    </tr>\n",
       "    <tr>\n",
       "      <th>43</th>\n",
       "      <td>January 14, 2016</td>\n",
       "      <td>The First Kennedy-Nixon Presidential Debate</td>\n",
       "      <td>[HOWARD K. SMITH, MODERATOR: Good evening. The...</td>\n",
       "      <td>General-President</td>\n",
       "      <td>Commission For Presidential Debates</td>\n",
       "    </tr>\n",
       "    <tr>\n",
       "      <th>44</th>\n",
       "      <td>December 15, 2015</td>\n",
       "      <td>The Second Kennedy-Nixon Presidential Debate</td>\n",
       "      <td>[FRANK McGEE, MODERATOR: Good evening. This is...</td>\n",
       "      <td>General-President</td>\n",
       "      <td>Commission For Presidential Debates</td>\n",
       "    </tr>\n",
       "    <tr>\n",
       "      <th>45</th>\n",
       "      <td>November 10, 2015</td>\n",
       "      <td>The Third Kennedy-Nixon Presidential Debate</td>\n",
       "      <td>[BILL SHADEL, MODERATOR: Good evening. I’m Bil...</td>\n",
       "      <td>General-President</td>\n",
       "      <td>Commission For Presidential Debates</td>\n",
       "    </tr>\n",
       "    <tr>\n",
       "      <th>46</th>\n",
       "      <td>October 28, 2015</td>\n",
       "      <td>The Fourth Kennedy-Nixon Presidential Debate</td>\n",
       "      <td>[QUINCY HOWE, MODERATOR: I am Quincy Howe of C...</td>\n",
       "      <td>General-President</td>\n",
       "      <td>Commission For Presidential Debates</td>\n",
       "    </tr>\n",
       "  </tbody>\n",
       "</table>\n",
       "</div>"
      ],
      "text/plain": [
       "                 Date                                    Debate_Name  \\\n",
       "42   January 28, 2016      The Third Carter-Ford Presidential Debate   \n",
       "43   January 14, 2016    The First Kennedy-Nixon Presidential Debate   \n",
       "44  December 15, 2015   The Second Kennedy-Nixon Presidential Debate   \n",
       "45  November 10, 2015    The Third Kennedy-Nixon Presidential Debate   \n",
       "46   October 28, 2015   The Fourth Kennedy-Nixon Presidential Debate   \n",
       "\n",
       "                                           Transcript        Debate_Type  \\\n",
       "42  [MS. WALTERS: Good evening, I’m Barbara Walter...  General-President   \n",
       "43  [HOWARD K. SMITH, MODERATOR: Good evening. The...  General-President   \n",
       "44  [FRANK McGEE, MODERATOR: Good evening. This is...  General-President   \n",
       "45  [BILL SHADEL, MODERATOR: Good evening. I’m Bil...  General-President   \n",
       "46  [QUINCY HOWE, MODERATOR: I am Quincy Howe of C...  General-President   \n",
       "\n",
       "                            Data_Source  \n",
       "42  Commission For Presidential Debates  \n",
       "43  Commission For Presidential Debates  \n",
       "44  Commission For Presidential Debates  \n",
       "45  Commission For Presidential Debates  \n",
       "46  Commission For Presidential Debates  "
      ]
     },
     "execution_count": 139,
     "metadata": {},
     "output_type": "execute_result"
    }
   ],
   "source": [
    "speaker_cpd_df.tail()"
   ]
  },
  {
   "cell_type": "code",
   "execution_count": 86,
   "metadata": {},
   "outputs": [],
   "source": [
    "speaker_df = pd.Series(cpd_speakers)"
   ]
  },
  {
   "cell_type": "markdown",
   "metadata": {},
   "source": [
    "Before Exploding out the rows, I want to only take in the ones I need:\n",
    "\n",
    "- 1992 Presidential Debates\n",
    "- 1984 Presidential Debates\n",
    "- 1980 All Debates\n",
    "- 1976 All Debates\n",
    "\n",
    "The rest will come from the American Presidency Project Data. "
   ]
  },
  {
   "cell_type": "markdown",
   "metadata": {},
   "source": [
    "Will need to only save indices: 26, 27, 35, 37, 38, 39, 40,41,42"
   ]
  },
  {
   "cell_type": "code",
   "execution_count": 87,
   "metadata": {},
   "outputs": [],
   "source": [
    "save_indexes = [26, 27, 35, 37, 38, 39, 40,41,42]"
   ]
  },
  {
   "cell_type": "code",
   "execution_count": 88,
   "metadata": {},
   "outputs": [],
   "source": [
    "right_cpd_df = speaker_cpd_df.iloc[save_indexes, :]"
   ]
  },
  {
   "cell_type": "code",
   "execution_count": 89,
   "metadata": {},
   "outputs": [],
   "source": [
    "right_speaker_df = speaker_df.iloc[save_indexes]"
   ]
  },
  {
   "cell_type": "markdown",
   "metadata": {},
   "source": [
    "Pickling to work with in secondary_text_clean_speakers:"
   ]
  },
  {
   "cell_type": "code",
   "execution_count": 120,
   "metadata": {},
   "outputs": [],
   "source": [
    "with open('cpd_transcript_list_filtered.pickle', 'wb') as to_write:\n",
    "    pickle.dump(list(right_cpd_df.Transcript), to_write)"
   ]
  },
  {
   "cell_type": "code",
   "execution_count": 121,
   "metadata": {},
   "outputs": [],
   "source": [
    "with open('cpd_speaker_list_filtered.pickle', 'wb') as to_write:\n",
    "    pickle.dump(list(right_speaker_df), to_write)"
   ]
  },
  {
   "cell_type": "code",
   "execution_count": 90,
   "metadata": {
    "scrolled": true
   },
   "outputs": [
    {
     "data": {
      "text/html": [
       "<div>\n",
       "<style scoped>\n",
       "    .dataframe tbody tr th:only-of-type {\n",
       "        vertical-align: middle;\n",
       "    }\n",
       "\n",
       "    .dataframe tbody tr th {\n",
       "        vertical-align: top;\n",
       "    }\n",
       "\n",
       "    .dataframe thead th {\n",
       "        text-align: right;\n",
       "    }\n",
       "</style>\n",
       "<table border=\"1\" class=\"dataframe\">\n",
       "  <thead>\n",
       "    <tr style=\"text-align: right;\">\n",
       "      <th></th>\n",
       "      <th>Date</th>\n",
       "      <th>Debate_Name</th>\n",
       "      <th>Transcript</th>\n",
       "      <th>Debate_Type</th>\n",
       "      <th>Data_Source</th>\n",
       "    </tr>\n",
       "  </thead>\n",
       "  <tbody>\n",
       "    <tr>\n",
       "      <th>26</th>\n",
       "      <td>October 11, 1992</td>\n",
       "      <td>The First Clinton-Bush-Perot Presidential Deb...</td>\n",
       "      <td>[LEHRER: Good evening, and welcome to the firs...</td>\n",
       "      <td>General-President</td>\n",
       "      <td>Commission For Presidential Debates</td>\n",
       "    </tr>\n",
       "    <tr>\n",
       "      <th>27</th>\n",
       "      <td>October 11, 1992</td>\n",
       "      <td>The First Clinton-Bush-Perot Presidential Deb...</td>\n",
       "      <td>[LEHRER: All right, moving on now to divisions...</td>\n",
       "      <td>General-President</td>\n",
       "      <td>Commission For Presidential Debates</td>\n",
       "    </tr>\n",
       "    <tr>\n",
       "      <th>35</th>\n",
       "      <td>October 7, 1984</td>\n",
       "      <td>The First Reagan-Mondale Presidential Debate</td>\n",
       "      <td>[MS. RIDINGS: Good evening from the Kentucky C...</td>\n",
       "      <td>General-President</td>\n",
       "      <td>Commission For Presidential Debates</td>\n",
       "    </tr>\n",
       "    <tr>\n",
       "      <th>37</th>\n",
       "      <td>October 21, 1984</td>\n",
       "      <td>The Second Reagan-Mondale Presidential Debate</td>\n",
       "      <td>[MS. RIDINGS: Good evening from the Municipal ...</td>\n",
       "      <td>General-President</td>\n",
       "      <td>Commission For Presidential Debates</td>\n",
       "    </tr>\n",
       "    <tr>\n",
       "      <th>38</th>\n",
       "      <td>September 21, 1980</td>\n",
       "      <td>The Anderson-Reagan Presidential Debate</td>\n",
       "      <td>[RUTH J. HINERFELD, CHAIR, LEAGUE OF WOMEN VOT...</td>\n",
       "      <td>General-President</td>\n",
       "      <td>Commission For Presidential Debates</td>\n",
       "    </tr>\n",
       "    <tr>\n",
       "      <th>39</th>\n",
       "      <td>October 28, 1980</td>\n",
       "      <td>The Carter-Reagan Presidential Debate</td>\n",
       "      <td>[RUTH HINERFELD, LEAGUE OF WOMEN VOTERS, EDUCA...</td>\n",
       "      <td>General-President</td>\n",
       "      <td>Commission For Presidential Debates</td>\n",
       "    </tr>\n",
       "    <tr>\n",
       "      <th>40</th>\n",
       "      <td>September 23, 1976</td>\n",
       "      <td>The First Carter-Ford Presidential Debate</td>\n",
       "      <td>[EDWIN NEWMAN, MODERATOR: Good evening. I’m Ed...</td>\n",
       "      <td>General-President</td>\n",
       "      <td>Commission For Presidential Debates</td>\n",
       "    </tr>\n",
       "    <tr>\n",
       "      <th>41</th>\n",
       "      <td>October 6, 1976</td>\n",
       "      <td>The Second Carter-Ford Presidential Debate</td>\n",
       "      <td>[MS. FREDERICK: Good evening. I’m Pauline Fred...</td>\n",
       "      <td>General-President</td>\n",
       "      <td>Commission For Presidential Debates</td>\n",
       "    </tr>\n",
       "    <tr>\n",
       "      <th>42</th>\n",
       "      <td>October 22, 1976</td>\n",
       "      <td>The Third Carter-Ford Presidential Debate</td>\n",
       "      <td>[MS. WALTERS: Good evening, I’m Barbara Walter...</td>\n",
       "      <td>General-President</td>\n",
       "      <td>Commission For Presidential Debates</td>\n",
       "    </tr>\n",
       "  </tbody>\n",
       "</table>\n",
       "</div>"
      ],
      "text/plain": [
       "                  Date                                        Debate_Name  \\\n",
       "26    October 11, 1992   The First Clinton-Bush-Perot Presidential Deb...   \n",
       "27    October 11, 1992   The First Clinton-Bush-Perot Presidential Deb...   \n",
       "35     October 7, 1984       The First Reagan-Mondale Presidential Debate   \n",
       "37    October 21, 1984      The Second Reagan-Mondale Presidential Debate   \n",
       "38  September 21, 1980            The Anderson-Reagan Presidential Debate   \n",
       "39    October 28, 1980              The Carter-Reagan Presidential Debate   \n",
       "40  September 23, 1976          The First Carter-Ford Presidential Debate   \n",
       "41     October 6, 1976         The Second Carter-Ford Presidential Debate   \n",
       "42    October 22, 1976          The Third Carter-Ford Presidential Debate   \n",
       "\n",
       "                                           Transcript        Debate_Type  \\\n",
       "26  [LEHRER: Good evening, and welcome to the firs...  General-President   \n",
       "27  [LEHRER: All right, moving on now to divisions...  General-President   \n",
       "35  [MS. RIDINGS: Good evening from the Kentucky C...  General-President   \n",
       "37  [MS. RIDINGS: Good evening from the Municipal ...  General-President   \n",
       "38  [RUTH J. HINERFELD, CHAIR, LEAGUE OF WOMEN VOT...  General-President   \n",
       "39  [RUTH HINERFELD, LEAGUE OF WOMEN VOTERS, EDUCA...  General-President   \n",
       "40  [EDWIN NEWMAN, MODERATOR: Good evening. I’m Ed...  General-President   \n",
       "41  [MS. FREDERICK: Good evening. I’m Pauline Fred...  General-President   \n",
       "42  [MS. WALTERS: Good evening, I’m Barbara Walter...  General-President   \n",
       "\n",
       "                            Data_Source  \n",
       "26  Commission For Presidential Debates  \n",
       "27  Commission For Presidential Debates  \n",
       "35  Commission For Presidential Debates  \n",
       "37  Commission For Presidential Debates  \n",
       "38  Commission For Presidential Debates  \n",
       "39  Commission For Presidential Debates  \n",
       "40  Commission For Presidential Debates  \n",
       "41  Commission For Presidential Debates  \n",
       "42  Commission For Presidential Debates  "
      ]
     },
     "execution_count": 90,
     "metadata": {},
     "output_type": "execute_result"
    }
   ],
   "source": [
    "right_cpd_df"
   ]
  },
  {
   "cell_type": "code",
   "execution_count": 91,
   "metadata": {},
   "outputs": [],
   "source": [
    "right_cpd_df_full = right_cpd_df.explode('Transcript')"
   ]
  },
  {
   "cell_type": "code",
   "execution_count": 92,
   "metadata": {},
   "outputs": [
    {
     "data": {
      "text/plain": [
       "(1305, 5)"
      ]
     },
     "execution_count": 92,
     "metadata": {},
     "output_type": "execute_result"
    }
   ],
   "source": [
    "right_cpd_df_full.reset_index(drop=True, inplace=True)\n",
    "right_cpd_df_full.shape"
   ]
  },
  {
   "cell_type": "code",
   "execution_count": null,
   "metadata": {},
   "outputs": [],
   "source": [
    "with open('app_speaker_list_filtered.pickle', 'wb') as to_write:\n",
    "    pickle.dump(list(app_speaker_df), to_write)"
   ]
  },
  {
   "cell_type": "code",
   "execution_count": 93,
   "metadata": {},
   "outputs": [],
   "source": [
    "right_speaker_df_exp = right_speaker_df.explode()"
   ]
  },
  {
   "cell_type": "code",
   "execution_count": 94,
   "metadata": {},
   "outputs": [
    {
     "data": {
      "text/plain": [
       "(1305,)"
      ]
     },
     "execution_count": 94,
     "metadata": {},
     "output_type": "execute_result"
    }
   ],
   "source": [
    "right_speaker_df_exp.reset_index(drop=True, inplace=True)\n",
    "right_speaker_df_exp.shape"
   ]
  },
  {
   "cell_type": "code",
   "execution_count": 95,
   "metadata": {},
   "outputs": [],
   "source": [
    "right_cpd_df_full['Speaker'] = right_speaker_df_exp"
   ]
  },
  {
   "cell_type": "code",
   "execution_count": 96,
   "metadata": {
    "scrolled": true
   },
   "outputs": [
    {
     "data": {
      "text/html": [
       "<div>\n",
       "<style scoped>\n",
       "    .dataframe tbody tr th:only-of-type {\n",
       "        vertical-align: middle;\n",
       "    }\n",
       "\n",
       "    .dataframe tbody tr th {\n",
       "        vertical-align: top;\n",
       "    }\n",
       "\n",
       "    .dataframe thead th {\n",
       "        text-align: right;\n",
       "    }\n",
       "</style>\n",
       "<table border=\"1\" class=\"dataframe\">\n",
       "  <thead>\n",
       "    <tr style=\"text-align: right;\">\n",
       "      <th></th>\n",
       "      <th>Date</th>\n",
       "      <th>Debate_Name</th>\n",
       "      <th>Transcript</th>\n",
       "      <th>Debate_Type</th>\n",
       "      <th>Data_Source</th>\n",
       "      <th>Speaker</th>\n",
       "    </tr>\n",
       "  </thead>\n",
       "  <tbody>\n",
       "    <tr>\n",
       "      <th>1285</th>\n",
       "      <td>October 22, 1976</td>\n",
       "      <td>The Third Carter-Ford Presidential Debate</td>\n",
       "      <td>MR. CARTER: Okay, I thought I answered it by s...</td>\n",
       "      <td>General-President</td>\n",
       "      <td>Commission For Presidential Debates</td>\n",
       "      <td>MR. CARTER</td>\n",
       "    </tr>\n",
       "    <tr>\n",
       "      <th>536</th>\n",
       "      <td>October 7, 1984</td>\n",
       "      <td>The First Reagan-Mondale Presidential Debate</td>\n",
       "      <td>THE PRESIDENT: I don’t think so. I’m all confu...</td>\n",
       "      <td>General-President</td>\n",
       "      <td>Commission For Presidential Debates</td>\n",
       "      <td>THE PRESIDENT</td>\n",
       "    </tr>\n",
       "    <tr>\n",
       "      <th>226</th>\n",
       "      <td>October 11, 1992</td>\n",
       "      <td>The First Clinton-Bush-Perot Presidential Deb...</td>\n",
       "      <td>LEHRER: President Bush, one minute.</td>\n",
       "      <td>General-President</td>\n",
       "      <td>Commission For Presidential Debates</td>\n",
       "      <td>LEHRER</td>\n",
       "    </tr>\n",
       "    <tr>\n",
       "      <th>723</th>\n",
       "      <td>October 21, 1984</td>\n",
       "      <td>The Second Reagan-Mondale Presidential Debate</td>\n",
       "      <td>Armageddon</td>\n",
       "      <td>General-President</td>\n",
       "      <td>Commission For Presidential Debates</td>\n",
       "      <td>no speaker!</td>\n",
       "    </tr>\n",
       "    <tr>\n",
       "      <th>997</th>\n",
       "      <td>October 28, 1980</td>\n",
       "      <td>The Carter-Reagan Presidential Debate</td>\n",
       "      <td>MR. SMITH: Governor Reagan, you have the last ...</td>\n",
       "      <td>General-President</td>\n",
       "      <td>Commission For Presidential Debates</td>\n",
       "      <td>MR. SMITH</td>\n",
       "    </tr>\n",
       "    <tr>\n",
       "      <th>863</th>\n",
       "      <td>September 21, 1980</td>\n",
       "      <td>The Anderson-Reagan Presidential Debate</td>\n",
       "      <td>REAGAN: I’ll catch up with it later.</td>\n",
       "      <td>General-President</td>\n",
       "      <td>Commission For Presidential Debates</td>\n",
       "      <td>REAGAN</td>\n",
       "    </tr>\n",
       "    <tr>\n",
       "      <th>976</th>\n",
       "      <td>October 28, 1980</td>\n",
       "      <td>The Carter-Reagan Presidential Debate</td>\n",
       "      <td>MR. STONE: Yes. President Carter, both of you ...</td>\n",
       "      <td>General-President</td>\n",
       "      <td>Commission For Presidential Debates</td>\n",
       "      <td>MR. STONE</td>\n",
       "    </tr>\n",
       "    <tr>\n",
       "      <th>1001</th>\n",
       "      <td>October 28, 1980</td>\n",
       "      <td>The Carter-Reagan Presidential Debate</td>\n",
       "      <td>MR. REAGAN: The Social Security system was bas...</td>\n",
       "      <td>General-President</td>\n",
       "      <td>Commission For Presidential Debates</td>\n",
       "      <td>MR. REAGAN</td>\n",
       "    </tr>\n",
       "    <tr>\n",
       "      <th>345</th>\n",
       "      <td>October 7, 1984</td>\n",
       "      <td>The First Reagan-Mondale Presidential Debate</td>\n",
       "      <td>MR. BARNES: Mr. Mondale, would you describe yo...</td>\n",
       "      <td>General-President</td>\n",
       "      <td>Commission For Presidential Debates</td>\n",
       "      <td>MR. BARNES</td>\n",
       "    </tr>\n",
       "    <tr>\n",
       "      <th>1185</th>\n",
       "      <td>October 6, 1976</td>\n",
       "      <td>The Second Carter-Ford Presidential Debate</td>\n",
       "      <td>MR. FRANKEL: Mr. President, just clarify one p...</td>\n",
       "      <td>General-President</td>\n",
       "      <td>Commission For Presidential Debates</td>\n",
       "      <td>MR. FRANKEL</td>\n",
       "    </tr>\n",
       "  </tbody>\n",
       "</table>\n",
       "</div>"
      ],
      "text/plain": [
       "                    Date                                        Debate_Name  \\\n",
       "1285    October 22, 1976          The Third Carter-Ford Presidential Debate   \n",
       "536      October 7, 1984       The First Reagan-Mondale Presidential Debate   \n",
       "226     October 11, 1992   The First Clinton-Bush-Perot Presidential Deb...   \n",
       "723     October 21, 1984      The Second Reagan-Mondale Presidential Debate   \n",
       "997     October 28, 1980              The Carter-Reagan Presidential Debate   \n",
       "863   September 21, 1980            The Anderson-Reagan Presidential Debate   \n",
       "976     October 28, 1980              The Carter-Reagan Presidential Debate   \n",
       "1001    October 28, 1980              The Carter-Reagan Presidential Debate   \n",
       "345      October 7, 1984       The First Reagan-Mondale Presidential Debate   \n",
       "1185     October 6, 1976         The Second Carter-Ford Presidential Debate   \n",
       "\n",
       "                                             Transcript        Debate_Type  \\\n",
       "1285  MR. CARTER: Okay, I thought I answered it by s...  General-President   \n",
       "536   THE PRESIDENT: I don’t think so. I’m all confu...  General-President   \n",
       "226                 LEHRER: President Bush, one minute.  General-President   \n",
       "723                                          Armageddon  General-President   \n",
       "997   MR. SMITH: Governor Reagan, you have the last ...  General-President   \n",
       "863                REAGAN: I’ll catch up with it later.  General-President   \n",
       "976   MR. STONE: Yes. President Carter, both of you ...  General-President   \n",
       "1001  MR. REAGAN: The Social Security system was bas...  General-President   \n",
       "345   MR. BARNES: Mr. Mondale, would you describe yo...  General-President   \n",
       "1185  MR. FRANKEL: Mr. President, just clarify one p...  General-President   \n",
       "\n",
       "                              Data_Source        Speaker  \n",
       "1285  Commission For Presidential Debates     MR. CARTER  \n",
       "536   Commission For Presidential Debates  THE PRESIDENT  \n",
       "226   Commission For Presidential Debates         LEHRER  \n",
       "723   Commission For Presidential Debates    no speaker!  \n",
       "997   Commission For Presidential Debates      MR. SMITH  \n",
       "863   Commission For Presidential Debates         REAGAN  \n",
       "976   Commission For Presidential Debates      MR. STONE  \n",
       "1001  Commission For Presidential Debates     MR. REAGAN  \n",
       "345   Commission For Presidential Debates     MR. BARNES  \n",
       "1185  Commission For Presidential Debates    MR. FRANKEL  "
      ]
     },
     "execution_count": 96,
     "metadata": {},
     "output_type": "execute_result"
    }
   ],
   "source": [
    "right_cpd_df_full.sample(10)"
   ]
  },
  {
   "cell_type": "markdown",
   "metadata": {},
   "source": [
    "## American Presidency Project"
   ]
  },
  {
   "cell_type": "code",
   "execution_count": 97,
   "metadata": {},
   "outputs": [
    {
     "data": {
      "text/html": [
       "<div>\n",
       "<style scoped>\n",
       "    .dataframe tbody tr th:only-of-type {\n",
       "        vertical-align: middle;\n",
       "    }\n",
       "\n",
       "    .dataframe tbody tr th {\n",
       "        vertical-align: top;\n",
       "    }\n",
       "\n",
       "    .dataframe thead th {\n",
       "        text-align: right;\n",
       "    }\n",
       "</style>\n",
       "<table border=\"1\" class=\"dataframe\">\n",
       "  <thead>\n",
       "    <tr style=\"text-align: right;\">\n",
       "      <th></th>\n",
       "      <th>Date</th>\n",
       "      <th>Debate_Name</th>\n",
       "      <th>Transcript</th>\n",
       "      <th>Debate_Type</th>\n",
       "    </tr>\n",
       "  </thead>\n",
       "  <tbody>\n",
       "    <tr>\n",
       "      <th>0</th>\n",
       "      <td>October 22, 2020</td>\n",
       "      <td>Presidential Debate at Belmont University in N...</td>\n",
       "      <td>[WELKER: A very good evening to both of you. T...</td>\n",
       "      <td>General-President</td>\n",
       "    </tr>\n",
       "    <tr>\n",
       "      <th>1</th>\n",
       "      <td>September 29, 2020</td>\n",
       "      <td>Presidential Debate in Cleveland, Ohio</td>\n",
       "      <td>[WALLACE: Good evening from the Health Educati...</td>\n",
       "      <td>General-President</td>\n",
       "    </tr>\n",
       "    <tr>\n",
       "      <th>2</th>\n",
       "      <td>October 7, 2020</td>\n",
       "      <td>Vice Presidential Debate the University of Uta...</td>\n",
       "      <td>[PAGE: Good evening. From the University of Ut...</td>\n",
       "      <td>General-VP</td>\n",
       "    </tr>\n",
       "    <tr>\n",
       "      <th>3</th>\n",
       "      <td>March 15, 2020</td>\n",
       "      <td>Democratic Candidates Debate in Washington, DC</td>\n",
       "      <td>[TAPPER: Good evening from Washington, D.C. An...</td>\n",
       "      <td>Primary-Democrat</td>\n",
       "    </tr>\n",
       "    <tr>\n",
       "      <th>4</th>\n",
       "      <td>February 25, 2020</td>\n",
       "      <td>Democratic Candidates Debate in Charleston, So...</td>\n",
       "      <td>[O'DONNELL: Tonight, the battle for the 2020 D...</td>\n",
       "      <td>Primary-Democrat</td>\n",
       "    </tr>\n",
       "  </tbody>\n",
       "</table>\n",
       "</div>"
      ],
      "text/plain": [
       "                 Date                                        Debate_Name  \\\n",
       "0    October 22, 2020  Presidential Debate at Belmont University in N...   \n",
       "1  September 29, 2020             Presidential Debate in Cleveland, Ohio   \n",
       "2     October 7, 2020  Vice Presidential Debate the University of Uta...   \n",
       "3      March 15, 2020     Democratic Candidates Debate in Washington, DC   \n",
       "4   February 25, 2020  Democratic Candidates Debate in Charleston, So...   \n",
       "\n",
       "                                          Transcript        Debate_Type  \n",
       "0  [WELKER: A very good evening to both of you. T...  General-President  \n",
       "1  [WALLACE: Good evening from the Health Educati...  General-President  \n",
       "2  [PAGE: Good evening. From the University of Ut...         General-VP  \n",
       "3  [TAPPER: Good evening from Washington, D.C. An...   Primary-Democrat  \n",
       "4  [O'DONNELL: Tonight, the battle for the 2020 D...   Primary-Democrat  "
      ]
     },
     "execution_count": 97,
     "metadata": {},
     "output_type": "execute_result"
    }
   ],
   "source": [
    "first_df.head()"
   ]
  },
  {
   "cell_type": "markdown",
   "metadata": {},
   "source": [
    "Similar to above, I need to drop indices for the following debates from the following, since those debates' data will come from teh American Presidency Project:\n",
    "\n",
    "1992 Presidential Debates\n",
    "1984 Presidential Debates\n",
    "1980 All Debates\n",
    "1976 All Debates\n",
    "\n",
    "These are indices: 147, 148, 149, 154, 155, 157, 158, 159, 160, 161, 162"
   ]
  },
  {
   "cell_type": "code",
   "execution_count": 98,
   "metadata": {},
   "outputs": [],
   "source": [
    "right_app_df = first_df.drop(index=[147, 148, 149, 154, 155, 157, 158, 159, 160, 161, 162])"
   ]
  },
  {
   "cell_type": "markdown",
   "metadata": {},
   "source": [
    "Pickling the list to work with in secondary_text_clean.ipynb:"
   ]
  },
  {
   "cell_type": "code",
   "execution_count": 119,
   "metadata": {},
   "outputs": [],
   "source": [
    "with open('app_transcript_list_filtered.pickle', 'wb') as to_write:\n",
    "    pickle.dump(list(right_app_df.Transcript), to_write)"
   ]
  },
  {
   "cell_type": "code",
   "execution_count": 99,
   "metadata": {},
   "outputs": [],
   "source": [
    "right_app_df_full = right_app_df.explode('Transcript')"
   ]
  },
  {
   "cell_type": "code",
   "execution_count": 100,
   "metadata": {},
   "outputs": [
    {
     "data": {
      "text/plain": [
       "(76676, 4)"
      ]
     },
     "execution_count": 100,
     "metadata": {},
     "output_type": "execute_result"
    }
   ],
   "source": [
    "right_app_df_full.reset_index(drop=True, inplace=True)\n",
    "right_app_df_full.shape"
   ]
  },
  {
   "cell_type": "markdown",
   "metadata": {},
   "source": [
    "Making speakers df for APP:"
   ]
  },
  {
   "cell_type": "code",
   "execution_count": 101,
   "metadata": {},
   "outputs": [],
   "source": [
    "app_speaker_df = pd.Series(app_speakers).drop(index=[147, 148, 149, 154, 155, 157, 158, 159, 160, 161, 162])"
   ]
  },
  {
   "cell_type": "markdown",
   "metadata": {},
   "source": [
    "Pickling the speaker list to work with in secondary_text_clean_speakers.ipynb:"
   ]
  },
  {
   "cell_type": "code",
   "execution_count": 118,
   "metadata": {},
   "outputs": [],
   "source": [
    "with open('app_speaker_list_filtered.pickle', 'wb') as to_write:\n",
    "    pickle.dump(list(app_speaker_df), to_write)"
   ]
  },
  {
   "cell_type": "code",
   "execution_count": 102,
   "metadata": {},
   "outputs": [],
   "source": [
    "right_speaker_explode = app_speaker_df.explode()\n",
    "right_speaker_explode.reset_index(drop=True, inplace=True)"
   ]
  },
  {
   "cell_type": "code",
   "execution_count": 103,
   "metadata": {},
   "outputs": [
    {
     "data": {
      "text/plain": [
       "(76676,)"
      ]
     },
     "execution_count": 103,
     "metadata": {},
     "output_type": "execute_result"
    }
   ],
   "source": [
    "right_speaker_explode.shape"
   ]
  },
  {
   "cell_type": "markdown",
   "metadata": {},
   "source": [
    "Adding speaker on as a column:"
   ]
  },
  {
   "cell_type": "code",
   "execution_count": 104,
   "metadata": {},
   "outputs": [],
   "source": [
    "right_app_df_full['Speaker'] = right_speaker_explode"
   ]
  },
  {
   "cell_type": "code",
   "execution_count": 105,
   "metadata": {},
   "outputs": [],
   "source": [
    "right_app_df_full['Data_Source'] = 'American Presidency Project'"
   ]
  },
  {
   "cell_type": "code",
   "execution_count": 106,
   "metadata": {},
   "outputs": [
    {
     "data": {
      "text/html": [
       "<div>\n",
       "<style scoped>\n",
       "    .dataframe tbody tr th:only-of-type {\n",
       "        vertical-align: middle;\n",
       "    }\n",
       "\n",
       "    .dataframe tbody tr th {\n",
       "        vertical-align: top;\n",
       "    }\n",
       "\n",
       "    .dataframe thead th {\n",
       "        text-align: right;\n",
       "    }\n",
       "</style>\n",
       "<table border=\"1\" class=\"dataframe\">\n",
       "  <thead>\n",
       "    <tr style=\"text-align: right;\">\n",
       "      <th></th>\n",
       "      <th>Date</th>\n",
       "      <th>Debate_Name</th>\n",
       "      <th>Transcript</th>\n",
       "      <th>Debate_Type</th>\n",
       "      <th>Speaker</th>\n",
       "      <th>Data_Source</th>\n",
       "    </tr>\n",
       "  </thead>\n",
       "  <tbody>\n",
       "    <tr>\n",
       "      <th>36893</th>\n",
       "      <td>October 18, 2011</td>\n",
       "      <td>Republican Candidates Debate in Las Vegas, Nevada</td>\n",
       "      <td>COOPER: We have another question. This one is ...</td>\n",
       "      <td>Primary-Republican</td>\n",
       "      <td>COOPER</td>\n",
       "      <td>American Presidency Project</td>\n",
       "    </tr>\n",
       "    <tr>\n",
       "      <th>1906</th>\n",
       "      <td>March 15, 2020</td>\n",
       "      <td>Democratic Candidates Debate in Washington, DC</td>\n",
       "      <td>In addition to that, we also have to -- I woul...</td>\n",
       "      <td>Primary-Democrat</td>\n",
       "      <td>no speaker!</td>\n",
       "      <td>American Presidency Project</td>\n",
       "    </tr>\n",
       "    <tr>\n",
       "      <th>61093</th>\n",
       "      <td>June 5, 2007</td>\n",
       "      <td>Republican Candidates Debate in Manchester, Ne...</td>\n",
       "      <td>GOV. HUCKABEE: I think the people of America a...</td>\n",
       "      <td>Primary-Republican</td>\n",
       "      <td>GOV. HUCKABEE</td>\n",
       "      <td>American Presidency Project</td>\n",
       "    </tr>\n",
       "    <tr>\n",
       "      <th>68003</th>\n",
       "      <td>December 17, 1999</td>\n",
       "      <td>Democratic Candidates Town Hall in Nashua, New...</td>\n",
       "      <td>It means we'll be able to have better disease ...</td>\n",
       "      <td>Primary-Democrat</td>\n",
       "      <td>no speaker!</td>\n",
       "      <td>American Presidency Project</td>\n",
       "    </tr>\n",
       "    <tr>\n",
       "      <th>30762</th>\n",
       "      <td>October 11, 2012</td>\n",
       "      <td>Vice Presidential Debate at Centre College in ...</td>\n",
       "      <td>RYAN: A nuclear-armed Iran which triggers a nu...</td>\n",
       "      <td>General-VP</td>\n",
       "      <td>RYAN</td>\n",
       "      <td>American Presidency Project</td>\n",
       "    </tr>\n",
       "    <tr>\n",
       "      <th>75802</th>\n",
       "      <td>1960</td>\n",
       "      <td>Presidential Debate in Washington, DC</td>\n",
       "      <td>MR. NIVEN: Mr. Vice President, you said that w...</td>\n",
       "      <td>General-President</td>\n",
       "      <td>MR. NIVEN</td>\n",
       "      <td>American Presidency Project</td>\n",
       "    </tr>\n",
       "    <tr>\n",
       "      <th>37740</th>\n",
       "      <td>September 22, 2011</td>\n",
       "      <td>Republican Candidates Debate in Orlando, Florida</td>\n",
       "      <td>Former Speaker of the House Newt Gingrich. [ap...</td>\n",
       "      <td>Primary-Republican</td>\n",
       "      <td>no speaker!</td>\n",
       "      <td>American Presidency Project</td>\n",
       "    </tr>\n",
       "  </tbody>\n",
       "</table>\n",
       "</div>"
      ],
      "text/plain": [
       "                     Date                                        Debate_Name  \\\n",
       "36893    October 18, 2011  Republican Candidates Debate in Las Vegas, Nevada   \n",
       "1906       March 15, 2020     Democratic Candidates Debate in Washington, DC   \n",
       "61093        June 5, 2007  Republican Candidates Debate in Manchester, Ne...   \n",
       "68003   December 17, 1999  Democratic Candidates Town Hall in Nashua, New...   \n",
       "30762    October 11, 2012  Vice Presidential Debate at Centre College in ...   \n",
       "75802                1960              Presidential Debate in Washington, DC   \n",
       "37740  September 22, 2011   Republican Candidates Debate in Orlando, Florida   \n",
       "\n",
       "                                              Transcript         Debate_Type  \\\n",
       "36893  COOPER: We have another question. This one is ...  Primary-Republican   \n",
       "1906   In addition to that, we also have to -- I woul...    Primary-Democrat   \n",
       "61093  GOV. HUCKABEE: I think the people of America a...  Primary-Republican   \n",
       "68003  It means we'll be able to have better disease ...    Primary-Democrat   \n",
       "30762  RYAN: A nuclear-armed Iran which triggers a nu...          General-VP   \n",
       "75802  MR. NIVEN: Mr. Vice President, you said that w...   General-President   \n",
       "37740  Former Speaker of the House Newt Gingrich. [ap...  Primary-Republican   \n",
       "\n",
       "             Speaker                  Data_Source  \n",
       "36893         COOPER  American Presidency Project  \n",
       "1906     no speaker!  American Presidency Project  \n",
       "61093  GOV. HUCKABEE  American Presidency Project  \n",
       "68003    no speaker!  American Presidency Project  \n",
       "30762           RYAN  American Presidency Project  \n",
       "75802      MR. NIVEN  American Presidency Project  \n",
       "37740    no speaker!  American Presidency Project  "
      ]
     },
     "execution_count": 106,
     "metadata": {},
     "output_type": "execute_result"
    }
   ],
   "source": [
    "right_app_df_full.sample(7)"
   ]
  },
  {
   "cell_type": "markdown",
   "metadata": {},
   "source": [
    "## Concatenating and Saving the Dataframes:"
   ]
  },
  {
   "cell_type": "code",
   "execution_count": 107,
   "metadata": {},
   "outputs": [],
   "source": [
    "speaker_combined_transcript_df = pd.concat([right_app_df_full, right_cpd_df_full])"
   ]
  },
  {
   "cell_type": "code",
   "execution_count": 108,
   "metadata": {},
   "outputs": [
    {
     "data": {
      "text/html": [
       "<div>\n",
       "<style scoped>\n",
       "    .dataframe tbody tr th:only-of-type {\n",
       "        vertical-align: middle;\n",
       "    }\n",
       "\n",
       "    .dataframe tbody tr th {\n",
       "        vertical-align: top;\n",
       "    }\n",
       "\n",
       "    .dataframe thead th {\n",
       "        text-align: right;\n",
       "    }\n",
       "</style>\n",
       "<table border=\"1\" class=\"dataframe\">\n",
       "  <thead>\n",
       "    <tr style=\"text-align: right;\">\n",
       "      <th></th>\n",
       "      <th>Date</th>\n",
       "      <th>Debate_Name</th>\n",
       "      <th>Transcript</th>\n",
       "      <th>Debate_Type</th>\n",
       "      <th>Speaker</th>\n",
       "      <th>Data_Source</th>\n",
       "    </tr>\n",
       "  </thead>\n",
       "  <tbody>\n",
       "    <tr>\n",
       "      <th>0</th>\n",
       "      <td>October 22, 2020</td>\n",
       "      <td>Presidential Debate at Belmont University in N...</td>\n",
       "      <td>WELKER: A very good evening to both of you. Th...</td>\n",
       "      <td>General-President</td>\n",
       "      <td>WELKER</td>\n",
       "      <td>American Presidency Project</td>\n",
       "    </tr>\n",
       "    <tr>\n",
       "      <th>1</th>\n",
       "      <td>October 22, 2020</td>\n",
       "      <td>Presidential Debate at Belmont University in N...</td>\n",
       "      <td>And we will begin with the fight against the c...</td>\n",
       "      <td>General-President</td>\n",
       "      <td>no speaker!</td>\n",
       "      <td>American Presidency Project</td>\n",
       "    </tr>\n",
       "    <tr>\n",
       "      <th>2</th>\n",
       "      <td>October 22, 2020</td>\n",
       "      <td>Presidential Debate at Belmont University in N...</td>\n",
       "      <td>TRUMP: So, as you know, more 2.2 million peopl...</td>\n",
       "      <td>General-President</td>\n",
       "      <td>TRUMP</td>\n",
       "      <td>American Presidency Project</td>\n",
       "    </tr>\n",
       "    <tr>\n",
       "      <th>3</th>\n",
       "      <td>October 22, 2020</td>\n",
       "      <td>Presidential Debate at Belmont University in N...</td>\n",
       "      <td>WELKER: OK, former Vice President Biden, to yo...</td>\n",
       "      <td>General-President</td>\n",
       "      <td>WELKER</td>\n",
       "      <td>American Presidency Project</td>\n",
       "    </tr>\n",
       "    <tr>\n",
       "      <th>4</th>\n",
       "      <td>October 22, 2020</td>\n",
       "      <td>Presidential Debate at Belmont University in N...</td>\n",
       "      <td>BIDEN: 220,000 Americans dead. If you hear not...</td>\n",
       "      <td>General-President</td>\n",
       "      <td>BIDEN</td>\n",
       "      <td>American Presidency Project</td>\n",
       "    </tr>\n",
       "  </tbody>\n",
       "</table>\n",
       "</div>"
      ],
      "text/plain": [
       "               Date                                        Debate_Name  \\\n",
       "0  October 22, 2020  Presidential Debate at Belmont University in N...   \n",
       "1  October 22, 2020  Presidential Debate at Belmont University in N...   \n",
       "2  October 22, 2020  Presidential Debate at Belmont University in N...   \n",
       "3  October 22, 2020  Presidential Debate at Belmont University in N...   \n",
       "4  October 22, 2020  Presidential Debate at Belmont University in N...   \n",
       "\n",
       "                                          Transcript        Debate_Type  \\\n",
       "0  WELKER: A very good evening to both of you. Th...  General-President   \n",
       "1  And we will begin with the fight against the c...  General-President   \n",
       "2  TRUMP: So, as you know, more 2.2 million peopl...  General-President   \n",
       "3  WELKER: OK, former Vice President Biden, to yo...  General-President   \n",
       "4  BIDEN: 220,000 Americans dead. If you hear not...  General-President   \n",
       "\n",
       "       Speaker                  Data_Source  \n",
       "0       WELKER  American Presidency Project  \n",
       "1  no speaker!  American Presidency Project  \n",
       "2        TRUMP  American Presidency Project  \n",
       "3       WELKER  American Presidency Project  \n",
       "4        BIDEN  American Presidency Project  "
      ]
     },
     "execution_count": 108,
     "metadata": {},
     "output_type": "execute_result"
    }
   ],
   "source": [
    "speaker_combined_transcript_df.head()"
   ]
  },
  {
   "cell_type": "code",
   "execution_count": 109,
   "metadata": {},
   "outputs": [
    {
     "data": {
      "text/plain": [
       "(77981, 6)"
      ]
     },
     "execution_count": 109,
     "metadata": {},
     "output_type": "execute_result"
    }
   ],
   "source": [
    "speaker_combined_transcript_df.shape"
   ]
  },
  {
   "cell_type": "code",
   "execution_count": 110,
   "metadata": {},
   "outputs": [
    {
     "data": {
      "text/plain": [
       "American Presidency Project            76676\n",
       "Commission For Presidential Debates     1305\n",
       "Name: Data_Source, dtype: int64"
      ]
     },
     "execution_count": 110,
     "metadata": {},
     "output_type": "execute_result"
    }
   ],
   "source": [
    "speaker_combined_transcript_df.Data_Source.value_counts()"
   ]
  },
  {
   "cell_type": "markdown",
   "metadata": {},
   "source": [
    "Pickling this new dataframe:"
   ]
  },
  {
   "cell_type": "code",
   "execution_count": 111,
   "metadata": {
    "scrolled": true
   },
   "outputs": [
    {
     "data": {
      "text/plain": [
       "'/Users/patrickbovard/Documents/GitHub/presidential_debate_analysis/Data'"
      ]
     },
     "execution_count": 111,
     "metadata": {},
     "output_type": "execute_result"
    }
   ],
   "source": [
    "pwd"
   ]
  },
  {
   "cell_type": "code",
   "execution_count": null,
   "metadata": {},
   "outputs": [],
   "source": [
    "with open('speaker_combined_transcript_df.pickle', 'wb') as to_write:\n",
    "    pickle.dump(speaker_combined_transcript_df, to_write)"
   ]
  },
  {
   "cell_type": "markdown",
   "metadata": {},
   "source": [
    "## NEXT: secondary_text_clean_speakers.ipynb"
   ]
  }
 ],
 "metadata": {
  "kernelspec": {
   "display_name": "Python [conda env:metis] *",
   "language": "python",
   "name": "conda-env-metis-py"
  },
  "language_info": {
   "codemirror_mode": {
    "name": "ipython",
    "version": 3
   },
   "file_extension": ".py",
   "mimetype": "text/x-python",
   "name": "python",
   "nbconvert_exporter": "python",
   "pygments_lexer": "ipython3",
   "version": "3.8.6"
  }
 },
 "nbformat": 4,
 "nbformat_minor": 4
}
