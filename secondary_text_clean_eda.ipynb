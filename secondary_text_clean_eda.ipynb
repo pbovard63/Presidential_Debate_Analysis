{
 "cells": [
  {
   "cell_type": "markdown",
   "metadata": {},
   "source": [
    "# Secondary Text Clean\n",
    "The purpose of this notebook is to continue cleaning text data, from the compiled dataframe in combined_transcript_df.pickle.  Next steps are to see if speaker can be added, and decide which General Election Presidential Debates to use - Commission for Presidential Dates or American President Project."
   ]
  },
  {
   "cell_type": "code",
   "execution_count": 1,
   "metadata": {},
   "outputs": [],
   "source": [
    "import nltk\n",
    "import pandas as pd\n",
    "import numpy as np\n",
    "import pickle\n",
    "import matplotlib.pyplot as plt\n",
    "from pylab import rcParams\n",
    "%matplotlib inline\n",
    "rcParams['figure.figsize'] = 20,10\n",
    "import pickle"
   ]
  },
  {
   "cell_type": "markdown",
   "metadata": {},
   "source": [
    "## Loading in the Data:"
   ]
  },
  {
   "cell_type": "markdown",
   "metadata": {},
   "source": [
    "Data is stored in the Data folder as combined_transcrip_df.pickle."
   ]
  },
  {
   "cell_type": "code",
   "execution_count": 2,
   "metadata": {},
   "outputs": [
    {
     "data": {
      "text/plain": [
       "'/Users/patrickbovard/Documents/GitHub/presidential_debate_analysis'"
      ]
     },
     "execution_count": 2,
     "metadata": {},
     "output_type": "execute_result"
    }
   ],
   "source": [
    "pwd"
   ]
  },
  {
   "cell_type": "code",
   "execution_count": 3,
   "metadata": {},
   "outputs": [
    {
     "name": "stdout",
     "output_type": "stream",
     "text": [
      "/Users/patrickbovard/Documents/GitHub/presidential_debate_analysis/Data\n"
     ]
    }
   ],
   "source": [
    "cd Data"
   ]
  },
  {
   "cell_type": "code",
   "execution_count": 4,
   "metadata": {},
   "outputs": [],
   "source": [
    "with open('combined_transcript_df.pickle','rb') as read_file:\n",
    "    combined_transcripts = pickle.load(read_file)"
   ]
  },
  {
   "cell_type": "code",
   "execution_count": 5,
   "metadata": {},
   "outputs": [
    {
     "data": {
      "text/html": [
       "<div>\n",
       "<style scoped>\n",
       "    .dataframe tbody tr th:only-of-type {\n",
       "        vertical-align: middle;\n",
       "    }\n",
       "\n",
       "    .dataframe tbody tr th {\n",
       "        vertical-align: top;\n",
       "    }\n",
       "\n",
       "    .dataframe thead th {\n",
       "        text-align: right;\n",
       "    }\n",
       "</style>\n",
       "<table border=\"1\" class=\"dataframe\">\n",
       "  <thead>\n",
       "    <tr style=\"text-align: right;\">\n",
       "      <th></th>\n",
       "      <th>Date</th>\n",
       "      <th>Debate_Name</th>\n",
       "      <th>Transcript</th>\n",
       "      <th>Debate_Type</th>\n",
       "      <th>Data_Source</th>\n",
       "    </tr>\n",
       "  </thead>\n",
       "  <tbody>\n",
       "    <tr>\n",
       "      <th>0</th>\n",
       "      <td>October 22, 2020</td>\n",
       "      <td>Presidential Debate at Belmont University in N...</td>\n",
       "      <td>WELKER: A very good evening to both of you. Th...</td>\n",
       "      <td>General-President</td>\n",
       "      <td>American Presidency Project</td>\n",
       "    </tr>\n",
       "    <tr>\n",
       "      <th>1</th>\n",
       "      <td>October 22, 2020</td>\n",
       "      <td>Presidential Debate at Belmont University in N...</td>\n",
       "      <td>And we will begin with the fight against the c...</td>\n",
       "      <td>General-President</td>\n",
       "      <td>American Presidency Project</td>\n",
       "    </tr>\n",
       "    <tr>\n",
       "      <th>2</th>\n",
       "      <td>October 22, 2020</td>\n",
       "      <td>Presidential Debate at Belmont University in N...</td>\n",
       "      <td>TRUMP: So, as you know, more 2.2 million peopl...</td>\n",
       "      <td>General-President</td>\n",
       "      <td>American Presidency Project</td>\n",
       "    </tr>\n",
       "    <tr>\n",
       "      <th>3</th>\n",
       "      <td>October 22, 2020</td>\n",
       "      <td>Presidential Debate at Belmont University in N...</td>\n",
       "      <td>WELKER: OK, former Vice President Biden, to yo...</td>\n",
       "      <td>General-President</td>\n",
       "      <td>American Presidency Project</td>\n",
       "    </tr>\n",
       "    <tr>\n",
       "      <th>4</th>\n",
       "      <td>October 22, 2020</td>\n",
       "      <td>Presidential Debate at Belmont University in N...</td>\n",
       "      <td>BIDEN: 220,000 Americans dead. If you hear not...</td>\n",
       "      <td>General-President</td>\n",
       "      <td>American Presidency Project</td>\n",
       "    </tr>\n",
       "  </tbody>\n",
       "</table>\n",
       "</div>"
      ],
      "text/plain": [
       "               Date                                        Debate_Name  \\\n",
       "0  October 22, 2020  Presidential Debate at Belmont University in N...   \n",
       "1  October 22, 2020  Presidential Debate at Belmont University in N...   \n",
       "2  October 22, 2020  Presidential Debate at Belmont University in N...   \n",
       "3  October 22, 2020  Presidential Debate at Belmont University in N...   \n",
       "4  October 22, 2020  Presidential Debate at Belmont University in N...   \n",
       "\n",
       "                                          Transcript        Debate_Type  \\\n",
       "0  WELKER: A very good evening to both of you. Th...  General-President   \n",
       "1  And we will begin with the fight against the c...  General-President   \n",
       "2  TRUMP: So, as you know, more 2.2 million peopl...  General-President   \n",
       "3  WELKER: OK, former Vice President Biden, to yo...  General-President   \n",
       "4  BIDEN: 220,000 Americans dead. If you hear not...  General-President   \n",
       "\n",
       "                   Data_Source  \n",
       "0  American Presidency Project  \n",
       "1  American Presidency Project  \n",
       "2  American Presidency Project  \n",
       "3  American Presidency Project  \n",
       "4  American Presidency Project  "
      ]
     },
     "execution_count": 5,
     "metadata": {},
     "output_type": "execute_result"
    }
   ],
   "source": [
    "combined_transcripts.head()"
   ]
  },
  {
   "cell_type": "code",
   "execution_count": 6,
   "metadata": {},
   "outputs": [
    {
     "data": {
      "text/plain": [
       "(94729, 5)"
      ]
     },
     "execution_count": 6,
     "metadata": {},
     "output_type": "execute_result"
    }
   ],
   "source": [
    "combined_transcripts.shape"
   ]
  },
  {
   "cell_type": "markdown",
   "metadata": {},
   "source": [
    "# Initial EDA"
   ]
  },
  {
   "cell_type": "markdown",
   "metadata": {},
   "source": [
    "In order to analyze any changes over time, I'll want to change the date to a date-time object."
   ]
  },
  {
   "cell_type": "code",
   "execution_count": 7,
   "metadata": {},
   "outputs": [
    {
     "data": {
      "text/plain": [
       "Date           object\n",
       "Debate_Name    object\n",
       "Transcript     object\n",
       "Debate_Type    object\n",
       "Data_Source    object\n",
       "dtype: object"
      ]
     },
     "execution_count": 7,
     "metadata": {},
     "output_type": "execute_result"
    }
   ],
   "source": [
    "combined_transcripts.dtypes"
   ]
  },
  {
   "cell_type": "code",
   "execution_count": 8,
   "metadata": {},
   "outputs": [],
   "source": [
    "combined_transcripts['Date_Time_Date'] = pd.to_datetime(combined_transcripts['Date'])"
   ]
  },
  {
   "cell_type": "code",
   "execution_count": 9,
   "metadata": {},
   "outputs": [
    {
     "name": "stderr",
     "output_type": "stream",
     "text": [
      "/Users/patrickbovard/opt/anaconda3/envs/metis/lib/python3.8/site-packages/pandas/core/indexing.py:670: SettingWithCopyWarning: \n",
      "A value is trying to be set on a copy of a slice from a DataFrame\n",
      "\n",
      "See the caveats in the documentation: https://pandas.pydata.org/pandas-docs/stable/user_guide/indexing.html#returning-a-view-versus-a-copy\n",
      "  iloc._setitem_with_indexer(indexer, value)\n"
     ]
    }
   ],
   "source": [
    "combined_transcripts['line_length'] = 0\n",
    "for i, text in enumerate(combined_transcripts.line_length):\n",
    "    combined_transcripts['line_length'].iloc[i] = len(combined_transcripts.Transcript.iloc[i].split(\" \"))"
   ]
  },
  {
   "cell_type": "code",
   "execution_count": 10,
   "metadata": {
    "scrolled": true
   },
   "outputs": [
    {
     "data": {
      "text/html": [
       "<div>\n",
       "<style scoped>\n",
       "    .dataframe tbody tr th:only-of-type {\n",
       "        vertical-align: middle;\n",
       "    }\n",
       "\n",
       "    .dataframe tbody tr th {\n",
       "        vertical-align: top;\n",
       "    }\n",
       "\n",
       "    .dataframe thead th {\n",
       "        text-align: right;\n",
       "    }\n",
       "</style>\n",
       "<table border=\"1\" class=\"dataframe\">\n",
       "  <thead>\n",
       "    <tr style=\"text-align: right;\">\n",
       "      <th></th>\n",
       "      <th>Date</th>\n",
       "      <th>Debate_Name</th>\n",
       "      <th>Transcript</th>\n",
       "      <th>Debate_Type</th>\n",
       "      <th>Data_Source</th>\n",
       "      <th>Date_Time_Date</th>\n",
       "      <th>line_length</th>\n",
       "    </tr>\n",
       "  </thead>\n",
       "  <tbody>\n",
       "    <tr>\n",
       "      <th>0</th>\n",
       "      <td>October 22, 2020</td>\n",
       "      <td>Presidential Debate at Belmont University in N...</td>\n",
       "      <td>WELKER: A very good evening to both of you. Th...</td>\n",
       "      <td>General-President</td>\n",
       "      <td>American Presidency Project</td>\n",
       "      <td>2020-10-22</td>\n",
       "      <td>124</td>\n",
       "    </tr>\n",
       "    <tr>\n",
       "      <th>1</th>\n",
       "      <td>October 22, 2020</td>\n",
       "      <td>Presidential Debate at Belmont University in N...</td>\n",
       "      <td>And we will begin with the fight against the c...</td>\n",
       "      <td>General-President</td>\n",
       "      <td>American Presidency Project</td>\n",
       "      <td>2020-10-22</td>\n",
       "      <td>81</td>\n",
       "    </tr>\n",
       "    <tr>\n",
       "      <th>2</th>\n",
       "      <td>October 22, 2020</td>\n",
       "      <td>Presidential Debate at Belmont University in N...</td>\n",
       "      <td>TRUMP: So, as you know, more 2.2 million peopl...</td>\n",
       "      <td>General-President</td>\n",
       "      <td>American Presidency Project</td>\n",
       "      <td>2020-10-22</td>\n",
       "      <td>372</td>\n",
       "    </tr>\n",
       "    <tr>\n",
       "      <th>3</th>\n",
       "      <td>October 22, 2020</td>\n",
       "      <td>Presidential Debate at Belmont University in N...</td>\n",
       "      <td>WELKER: OK, former Vice President Biden, to yo...</td>\n",
       "      <td>General-President</td>\n",
       "      <td>American Presidency Project</td>\n",
       "      <td>2020-10-22</td>\n",
       "      <td>23</td>\n",
       "    </tr>\n",
       "    <tr>\n",
       "      <th>4</th>\n",
       "      <td>October 22, 2020</td>\n",
       "      <td>Presidential Debate at Belmont University in N...</td>\n",
       "      <td>BIDEN: 220,000 Americans dead. If you hear not...</td>\n",
       "      <td>General-President</td>\n",
       "      <td>American Presidency Project</td>\n",
       "      <td>2020-10-22</td>\n",
       "      <td>301</td>\n",
       "    </tr>\n",
       "  </tbody>\n",
       "</table>\n",
       "</div>"
      ],
      "text/plain": [
       "               Date                                        Debate_Name  \\\n",
       "0  October 22, 2020  Presidential Debate at Belmont University in N...   \n",
       "1  October 22, 2020  Presidential Debate at Belmont University in N...   \n",
       "2  October 22, 2020  Presidential Debate at Belmont University in N...   \n",
       "3  October 22, 2020  Presidential Debate at Belmont University in N...   \n",
       "4  October 22, 2020  Presidential Debate at Belmont University in N...   \n",
       "\n",
       "                                          Transcript        Debate_Type  \\\n",
       "0  WELKER: A very good evening to both of you. Th...  General-President   \n",
       "1  And we will begin with the fight against the c...  General-President   \n",
       "2  TRUMP: So, as you know, more 2.2 million peopl...  General-President   \n",
       "3  WELKER: OK, former Vice President Biden, to yo...  General-President   \n",
       "4  BIDEN: 220,000 Americans dead. If you hear not...  General-President   \n",
       "\n",
       "                   Data_Source Date_Time_Date  line_length  \n",
       "0  American Presidency Project     2020-10-22          124  \n",
       "1  American Presidency Project     2020-10-22           81  \n",
       "2  American Presidency Project     2020-10-22          372  \n",
       "3  American Presidency Project     2020-10-22           23  \n",
       "4  American Presidency Project     2020-10-22          301  "
      ]
     },
     "execution_count": 10,
     "metadata": {},
     "output_type": "execute_result"
    }
   ],
   "source": [
    "combined_transcripts.head()"
   ]
  },
  {
   "cell_type": "markdown",
   "metadata": {},
   "source": [
    "Has the average length of responses changed over time?"
   ]
  },
  {
   "cell_type": "code",
   "execution_count": 11,
   "metadata": {},
   "outputs": [],
   "source": [
    "line_time = combined_transcripts.groupby(combined_transcripts.Date_Time_Date.dt.year).agg({'line_length':['count', 'mean']})"
   ]
  },
  {
   "cell_type": "markdown",
   "metadata": {},
   "source": [
    "Plotting the above line_time grouping as a visualization:"
   ]
  },
  {
   "cell_type": "code",
   "execution_count": 12,
   "metadata": {},
   "outputs": [],
   "source": [
    "X = list(line_time.index)\n",
    "y = list(line_time.iloc[:,1])"
   ]
  },
  {
   "cell_type": "code",
   "execution_count": 13,
   "metadata": {
    "scrolled": false
   },
   "outputs": [
    {
     "data": {
      "image/png": "[encoded data removed]",
      "text/plain": [
       "<Figure size 1440x720 with 1 Axes>"
      ]
     },
     "metadata": {
      "needs_background": "light"
     },
     "output_type": "display_data"
    }
   ],
   "source": [
    "plt.plot(X, y)\n",
    "plt.xlabel('Year', size=25)\n",
    "plt.ylabel('Avg. Response Length', size=25)\n",
    "plt.title('Average Debate Response Length (words)', size=30)\n",
    "plt.xticks(size=15)\n",
    "plt.yticks(size=15);"
   ]
  },
  {
   "cell_type": "markdown",
   "metadata": {},
   "source": [
    "As the above shows, the average line length decreases substantially from 1960 to 2020.  This seems to indicate the presence of more \"interjection\" between the candidates and moderator.  From 2000-present, it seems like the average has settled right around 40 words."
   ]
  },
  {
   "cell_type": "markdown",
   "metadata": {},
   "source": [
    "How many responses of under 40 words were there?"
   ]
  },
  {
   "cell_type": "code",
   "execution_count": 14,
   "metadata": {},
   "outputs": [],
   "source": [
    "less_than_40 = combined_transcripts[combined_transcripts.line_length <= 40]"
   ]
  },
  {
   "cell_type": "code",
   "execution_count": 15,
   "metadata": {},
   "outputs": [],
   "source": [
    "line_time_2 = less_than_40.groupby(less_than_40.Date_Time_Date.dt.year).agg({'line_length':'count'})"
   ]
  },
  {
   "cell_type": "code",
   "execution_count": 16,
   "metadata": {},
   "outputs": [
    {
     "data": {
      "image/png": "[encoded data removed]",
      "text/plain": [
       "<Figure size 1440x720 with 1 Axes>"
      ]
     },
     "metadata": {
      "needs_background": "light"
     },
     "output_type": "display_data"
    }
   ],
   "source": [
    "X = list(line_time_2.index)\n",
    "y2 = list(line_time_2.iloc[:,0])\n",
    "plt.plot(X, y2)\n",
    "plt.xlabel('Year', size=25)\n",
    "plt.ylabel('Lines Below 40 Words', size=25)\n",
    "plt.title('Lines Below 40 Words (count)', size=30)\n",
    "plt.xticks(size=15)\n",
    "plt.yticks(size=15);"
   ]
  },
  {
   "cell_type": "markdown",
   "metadata": {},
   "source": [
    "Finally, what percent of the lines (rows) are under 40 words?"
   ]
  },
  {
   "cell_type": "code",
   "execution_count": 17,
   "metadata": {},
   "outputs": [],
   "source": [
    "percent_df = pd.concat([line_time, line_time_2], axis=1)"
   ]
  },
  {
   "cell_type": "code",
   "execution_count": 18,
   "metadata": {},
   "outputs": [],
   "source": [
    "percent_df['under_40_rate'] = 100 * percent_df['line_length'] / percent_df[('line_length', 'count')]"
   ]
  },
  {
   "cell_type": "code",
   "execution_count": 19,
   "metadata": {
    "scrolled": true
   },
   "outputs": [
    {
     "data": {
      "image/png": "[encoded data removed]",
      "text/plain": [
       "<Figure size 1440x720 with 1 Axes>"
      ]
     },
     "metadata": {
      "needs_background": "light"
     },
     "output_type": "display_data"
    }
   ],
   "source": [
    "X = list(percent_df.index)\n",
    "y_3 = list(percent_df['under_40_rate'])\n",
    "plt.plot(X, y_3)\n",
    "plt.xlabel('Year', size=25)\n",
    "plt.ylabel('Rate of Lines Under 40 Words', size=25)\n",
    "plt.title('Rate of Lines Below 40 Words (count)', size=30)\n",
    "plt.xticks(size=15)\n",
    "plt.yticks(size=15);"
   ]
  },
  {
   "cell_type": "markdown",
   "metadata": {},
   "source": [
    "What is the Average Length of Response over time, by debate type?"
   ]
  },
  {
   "cell_type": "code",
   "execution_count": 39,
   "metadata": {},
   "outputs": [],
   "source": [
    "type_time = combined_transcripts.groupby([combined_transcripts.Date_Time_Date.dt.year, combined_transcripts.Debate_Type]).agg({'line_length':['mean']}).reset_index()"
   ]
  },
  {
   "cell_type": "code",
   "execution_count": 40,
   "metadata": {},
   "outputs": [],
   "source": [
    "types = ['General-President', 'General-VP', 'Primary-Democrat', 'Primary-Republican'] "
   ]
  },
  {
   "cell_type": "code",
   "execution_count": 41,
   "metadata": {},
   "outputs": [
    {
     "data": {
      "text/html": [
       "<div>\n",
       "<style scoped>\n",
       "    .dataframe tbody tr th:only-of-type {\n",
       "        vertical-align: middle;\n",
       "    }\n",
       "\n",
       "    .dataframe tbody tr th {\n",
       "        vertical-align: top;\n",
       "    }\n",
       "\n",
       "    .dataframe thead tr th {\n",
       "        text-align: left;\n",
       "    }\n",
       "</style>\n",
       "<table border=\"1\" class=\"dataframe\">\n",
       "  <thead>\n",
       "    <tr>\n",
       "      <th></th>\n",
       "      <th>Date_Time_Date</th>\n",
       "      <th>Debate_Type</th>\n",
       "      <th>line_length</th>\n",
       "    </tr>\n",
       "    <tr>\n",
       "      <th></th>\n",
       "      <th></th>\n",
       "      <th></th>\n",
       "      <th>mean</th>\n",
       "    </tr>\n",
       "  </thead>\n",
       "  <tbody>\n",
       "    <tr>\n",
       "      <th>0</th>\n",
       "      <td>1960</td>\n",
       "      <td>General-President</td>\n",
       "      <td>171.714844</td>\n",
       "    </tr>\n",
       "    <tr>\n",
       "      <th>1</th>\n",
       "      <td>1976</td>\n",
       "      <td>General-President</td>\n",
       "      <td>87.368421</td>\n",
       "    </tr>\n",
       "    <tr>\n",
       "      <th>2</th>\n",
       "      <td>1976</td>\n",
       "      <td>General-VP</td>\n",
       "      <td>167.426667</td>\n",
       "    </tr>\n",
       "    <tr>\n",
       "      <th>3</th>\n",
       "      <td>1980</td>\n",
       "      <td>General-President</td>\n",
       "      <td>91.298214</td>\n",
       "    </tr>\n",
       "    <tr>\n",
       "      <th>4</th>\n",
       "      <td>1984</td>\n",
       "      <td>General-President</td>\n",
       "      <td>54.631383</td>\n",
       "    </tr>\n",
       "  </tbody>\n",
       "</table>\n",
       "</div>"
      ],
      "text/plain": [
       "  Date_Time_Date        Debate_Type line_length\n",
       "                                           mean\n",
       "0           1960  General-President  171.714844\n",
       "1           1976  General-President   87.368421\n",
       "2           1976         General-VP  167.426667\n",
       "3           1980  General-President   91.298214\n",
       "4           1984  General-President   54.631383"
      ]
     },
     "execution_count": 41,
     "metadata": {},
     "output_type": "execute_result"
    }
   ],
   "source": [
    "type_time.head()"
   ]
  },
  {
   "cell_type": "code",
   "execution_count": 42,
   "metadata": {},
   "outputs": [
    {
     "data": {
      "text/plain": [
       "0      General-President\n",
       "1      General-President\n",
       "2             General-VP\n",
       "3      General-President\n",
       "4      General-President\n",
       "5             General-VP\n",
       "6      General-President\n",
       "7             General-VP\n",
       "8      General-President\n",
       "9             General-VP\n",
       "10     General-President\n",
       "11            General-VP\n",
       "12      Primary-Democrat\n",
       "13    Primary-Republican\n",
       "14     General-President\n",
       "15            General-VP\n",
       "16      Primary-Democrat\n",
       "17    Primary-Republican\n",
       "18     General-President\n",
       "19            General-VP\n",
       "20      Primary-Democrat\n",
       "21      Primary-Democrat\n",
       "22    Primary-Republican\n",
       "23     General-President\n",
       "24            General-VP\n",
       "25      Primary-Democrat\n",
       "26    Primary-Republican\n",
       "27     General-President\n",
       "28    Primary-Republican\n",
       "29     General-President\n",
       "30            General-VP\n",
       "31    Primary-Republican\n",
       "32      Primary-Democrat\n",
       "33    Primary-Republican\n",
       "34     General-President\n",
       "35            General-VP\n",
       "36      Primary-Democrat\n",
       "37    Primary-Republican\n",
       "38      Primary-Democrat\n",
       "39     General-President\n",
       "40            General-VP\n",
       "41      Primary-Democrat\n",
       "Name: (Debate_Type, ), dtype: object"
      ]
     },
     "execution_count": 42,
     "metadata": {},
     "output_type": "execute_result"
    }
   ],
   "source": [
    "type_time.iloc[:, 1]"
   ]
  },
  {
   "cell_type": "code",
   "execution_count": 43,
   "metadata": {},
   "outputs": [
    {
     "data": {
      "text/html": [
       "<div>\n",
       "<style scoped>\n",
       "    .dataframe tbody tr th:only-of-type {\n",
       "        vertical-align: middle;\n",
       "    }\n",
       "\n",
       "    .dataframe tbody tr th {\n",
       "        vertical-align: top;\n",
       "    }\n",
       "\n",
       "    .dataframe thead tr th {\n",
       "        text-align: left;\n",
       "    }\n",
       "</style>\n",
       "<table border=\"1\" class=\"dataframe\">\n",
       "  <thead>\n",
       "    <tr>\n",
       "      <th></th>\n",
       "      <th>Date_Time_Date</th>\n",
       "      <th>Debate_Type</th>\n",
       "      <th>line_length</th>\n",
       "    </tr>\n",
       "    <tr>\n",
       "      <th></th>\n",
       "      <th></th>\n",
       "      <th></th>\n",
       "      <th>mean</th>\n",
       "    </tr>\n",
       "  </thead>\n",
       "  <tbody>\n",
       "    <tr>\n",
       "      <th>2</th>\n",
       "      <td>1976</td>\n",
       "      <td>General-VP</td>\n",
       "      <td>167.426667</td>\n",
       "    </tr>\n",
       "    <tr>\n",
       "      <th>5</th>\n",
       "      <td>1984</td>\n",
       "      <td>General-VP</td>\n",
       "      <td>120.058824</td>\n",
       "    </tr>\n",
       "    <tr>\n",
       "      <th>7</th>\n",
       "      <td>1988</td>\n",
       "      <td>General-VP</td>\n",
       "      <td>97.437086</td>\n",
       "    </tr>\n",
       "    <tr>\n",
       "      <th>9</th>\n",
       "      <td>1992</td>\n",
       "      <td>General-VP</td>\n",
       "      <td>27.887681</td>\n",
       "    </tr>\n",
       "    <tr>\n",
       "      <th>11</th>\n",
       "      <td>1996</td>\n",
       "      <td>General-VP</td>\n",
       "      <td>123.203540</td>\n",
       "    </tr>\n",
       "    <tr>\n",
       "      <th>15</th>\n",
       "      <td>2000</td>\n",
       "      <td>General-VP</td>\n",
       "      <td>134.507109</td>\n",
       "    </tr>\n",
       "    <tr>\n",
       "      <th>19</th>\n",
       "      <td>2004</td>\n",
       "      <td>General-VP</td>\n",
       "      <td>28.287420</td>\n",
       "    </tr>\n",
       "    <tr>\n",
       "      <th>24</th>\n",
       "      <td>2008</td>\n",
       "      <td>General-VP</td>\n",
       "      <td>41.726161</td>\n",
       "    </tr>\n",
       "    <tr>\n",
       "      <th>30</th>\n",
       "      <td>2012</td>\n",
       "      <td>General-VP</td>\n",
       "      <td>26.895850</td>\n",
       "    </tr>\n",
       "    <tr>\n",
       "      <th>35</th>\n",
       "      <td>2016</td>\n",
       "      <td>General-VP</td>\n",
       "      <td>27.800609</td>\n",
       "    </tr>\n",
       "    <tr>\n",
       "      <th>40</th>\n",
       "      <td>2020</td>\n",
       "      <td>General-VP</td>\n",
       "      <td>62.544898</td>\n",
       "    </tr>\n",
       "  </tbody>\n",
       "</table>\n",
       "</div>"
      ],
      "text/plain": [
       "   Date_Time_Date Debate_Type line_length\n",
       "                                     mean\n",
       "2            1976  General-VP  167.426667\n",
       "5            1984  General-VP  120.058824\n",
       "7            1988  General-VP   97.437086\n",
       "9            1992  General-VP   27.887681\n",
       "11           1996  General-VP  123.203540\n",
       "15           2000  General-VP  134.507109\n",
       "19           2004  General-VP   28.287420\n",
       "24           2008  General-VP   41.726161\n",
       "30           2012  General-VP   26.895850\n",
       "35           2016  General-VP   27.800609\n",
       "40           2020  General-VP   62.544898"
      ]
     },
     "execution_count": 43,
     "metadata": {},
     "output_type": "execute_result"
    }
   ],
   "source": [
    "type_time[type_time.iloc[:, 1] == 'General-VP'] "
   ]
  },
  {
   "cell_type": "code",
   "execution_count": 45,
   "metadata": {
    "scrolled": true
   },
   "outputs": [
    {
     "data": {
      "image/png": "[encoded data removed]",
      "text/plain": [
       "<Figure size 1440x720 with 1 Axes>"
      ]
     },
     "metadata": {
      "needs_background": "light"
     },
     "output_type": "display_data"
    }
   ],
   "source": [
    "legend = []\n",
    "for election_type in types:\n",
    "    x = type_time[type_time.iloc[:, 1] == election_type].iloc[:, 0]\n",
    "    y = type_time[type_time.iloc[:, 1] == election_type].iloc[:, 2]\n",
    "    legend.append(type)\n",
    "    plt.plot(x,y)\n",
    "plt.xlabel('Year', size=25)\n",
    "plt.ylabel('Average Response Length', size=25)\n",
    "plt.xticks(size=15)\n",
    "plt.yticks(size=15)\n",
    "plt.title('Average Debate Response Length Over Time by Debate Type', size=30)\n",
    "plt.legend(labels=legend);"
   ]
  },
  {
   "cell_type": "markdown",
   "metadata": {},
   "source": [
    "# Text Pre-processing / NLP"
   ]
  },
  {
   "cell_type": "markdown",
   "metadata": {},
   "source": [
    "Creating a new database to work with for NLP:"
   ]
  },
  {
   "cell_type": "code",
   "execution_count": 46,
   "metadata": {},
   "outputs": [],
   "source": [
    "nlp_df = combined_transcripts.copy().reset_index(drop=True)"
   ]
  },
  {
   "cell_type": "markdown",
   "metadata": {},
   "source": [
    "For this section, will utilize NLTK for NLP:"
   ]
  },
  {
   "cell_type": "code",
   "execution_count": 47,
   "metadata": {},
   "outputs": [],
   "source": [
    "from __future__ import print_function\n",
    "import nltk\n",
    "import pandas as pd"
   ]
  },
  {
   "cell_type": "markdown",
   "metadata": {},
   "source": [
    "Tokenizing the transcript text using nltk's word_tokenizer:"
   ]
  },
  {
   "cell_type": "code",
   "execution_count": 48,
   "metadata": {},
   "outputs": [],
   "source": [
    "from nltk.tokenize import word_tokenize\n",
    "from nltk.tag import pos_tag\n",
    "from nltk.chunk import ne_chunk"
   ]
  },
  {
   "cell_type": "code",
   "execution_count": 49,
   "metadata": {
    "scrolled": true
   },
   "outputs": [
    {
     "data": {
      "text/html": [
       "<div>\n",
       "<style scoped>\n",
       "    .dataframe tbody tr th:only-of-type {\n",
       "        vertical-align: middle;\n",
       "    }\n",
       "\n",
       "    .dataframe tbody tr th {\n",
       "        vertical-align: top;\n",
       "    }\n",
       "\n",
       "    .dataframe thead th {\n",
       "        text-align: right;\n",
       "    }\n",
       "</style>\n",
       "<table border=\"1\" class=\"dataframe\">\n",
       "  <thead>\n",
       "    <tr style=\"text-align: right;\">\n",
       "      <th></th>\n",
       "      <th>Date</th>\n",
       "      <th>Debate_Name</th>\n",
       "      <th>Transcript</th>\n",
       "      <th>Debate_Type</th>\n",
       "      <th>Data_Source</th>\n",
       "      <th>Date_Time_Date</th>\n",
       "      <th>line_length</th>\n",
       "    </tr>\n",
       "  </thead>\n",
       "  <tbody>\n",
       "    <tr>\n",
       "      <th>0</th>\n",
       "      <td>October 22, 2020</td>\n",
       "      <td>Presidential Debate at Belmont University in N...</td>\n",
       "      <td>WELKER: A very good evening to both of you. Th...</td>\n",
       "      <td>General-President</td>\n",
       "      <td>American Presidency Project</td>\n",
       "      <td>2020-10-22</td>\n",
       "      <td>124</td>\n",
       "    </tr>\n",
       "    <tr>\n",
       "      <th>1</th>\n",
       "      <td>October 22, 2020</td>\n",
       "      <td>Presidential Debate at Belmont University in N...</td>\n",
       "      <td>And we will begin with the fight against the c...</td>\n",
       "      <td>General-President</td>\n",
       "      <td>American Presidency Project</td>\n",
       "      <td>2020-10-22</td>\n",
       "      <td>81</td>\n",
       "    </tr>\n",
       "    <tr>\n",
       "      <th>2</th>\n",
       "      <td>October 22, 2020</td>\n",
       "      <td>Presidential Debate at Belmont University in N...</td>\n",
       "      <td>TRUMP: So, as you know, more 2.2 million peopl...</td>\n",
       "      <td>General-President</td>\n",
       "      <td>American Presidency Project</td>\n",
       "      <td>2020-10-22</td>\n",
       "      <td>372</td>\n",
       "    </tr>\n",
       "    <tr>\n",
       "      <th>3</th>\n",
       "      <td>October 22, 2020</td>\n",
       "      <td>Presidential Debate at Belmont University in N...</td>\n",
       "      <td>WELKER: OK, former Vice President Biden, to yo...</td>\n",
       "      <td>General-President</td>\n",
       "      <td>American Presidency Project</td>\n",
       "      <td>2020-10-22</td>\n",
       "      <td>23</td>\n",
       "    </tr>\n",
       "    <tr>\n",
       "      <th>4</th>\n",
       "      <td>October 22, 2020</td>\n",
       "      <td>Presidential Debate at Belmont University in N...</td>\n",
       "      <td>BIDEN: 220,000 Americans dead. If you hear not...</td>\n",
       "      <td>General-President</td>\n",
       "      <td>American Presidency Project</td>\n",
       "      <td>2020-10-22</td>\n",
       "      <td>301</td>\n",
       "    </tr>\n",
       "  </tbody>\n",
       "</table>\n",
       "</div>"
      ],
      "text/plain": [
       "               Date                                        Debate_Name  \\\n",
       "0  October 22, 2020  Presidential Debate at Belmont University in N...   \n",
       "1  October 22, 2020  Presidential Debate at Belmont University in N...   \n",
       "2  October 22, 2020  Presidential Debate at Belmont University in N...   \n",
       "3  October 22, 2020  Presidential Debate at Belmont University in N...   \n",
       "4  October 22, 2020  Presidential Debate at Belmont University in N...   \n",
       "\n",
       "                                          Transcript        Debate_Type  \\\n",
       "0  WELKER: A very good evening to both of you. Th...  General-President   \n",
       "1  And we will begin with the fight against the c...  General-President   \n",
       "2  TRUMP: So, as you know, more 2.2 million peopl...  General-President   \n",
       "3  WELKER: OK, former Vice President Biden, to yo...  General-President   \n",
       "4  BIDEN: 220,000 Americans dead. If you hear not...  General-President   \n",
       "\n",
       "                   Data_Source Date_Time_Date  line_length  \n",
       "0  American Presidency Project     2020-10-22          124  \n",
       "1  American Presidency Project     2020-10-22           81  \n",
       "2  American Presidency Project     2020-10-22          372  \n",
       "3  American Presidency Project     2020-10-22           23  \n",
       "4  American Presidency Project     2020-10-22          301  "
      ]
     },
     "execution_count": 49,
     "metadata": {},
     "output_type": "execute_result"
    }
   ],
   "source": [
    "nlp_df.head()"
   ]
  },
  {
   "cell_type": "markdown",
   "metadata": {},
   "source": [
    "First, removing punctuation from the text and lower-casing all text:"
   ]
  },
  {
   "cell_type": "code",
   "execution_count": 50,
   "metadata": {
    "scrolled": true
   },
   "outputs": [
    {
     "data": {
      "text/html": [
       "<div>\n",
       "<style scoped>\n",
       "    .dataframe tbody tr th:only-of-type {\n",
       "        vertical-align: middle;\n",
       "    }\n",
       "\n",
       "    .dataframe tbody tr th {\n",
       "        vertical-align: top;\n",
       "    }\n",
       "\n",
       "    .dataframe thead th {\n",
       "        text-align: right;\n",
       "    }\n",
       "</style>\n",
       "<table border=\"1\" class=\"dataframe\">\n",
       "  <thead>\n",
       "    <tr style=\"text-align: right;\">\n",
       "      <th></th>\n",
       "      <th>Date</th>\n",
       "      <th>Debate_Name</th>\n",
       "      <th>Transcript</th>\n",
       "      <th>Debate_Type</th>\n",
       "      <th>Data_Source</th>\n",
       "      <th>Date_Time_Date</th>\n",
       "      <th>line_length</th>\n",
       "      <th>no_punc</th>\n",
       "    </tr>\n",
       "  </thead>\n",
       "  <tbody>\n",
       "    <tr>\n",
       "      <th>0</th>\n",
       "      <td>October 22, 2020</td>\n",
       "      <td>Presidential Debate at Belmont University in N...</td>\n",
       "      <td>WELKER: A very good evening to both of you. Th...</td>\n",
       "      <td>General-President</td>\n",
       "      <td>American Presidency Project</td>\n",
       "      <td>2020-10-22</td>\n",
       "      <td>124</td>\n",
       "      <td>welker  a very good evening to both of you  th...</td>\n",
       "    </tr>\n",
       "    <tr>\n",
       "      <th>1</th>\n",
       "      <td>October 22, 2020</td>\n",
       "      <td>Presidential Debate at Belmont University in N...</td>\n",
       "      <td>And we will begin with the fight against the c...</td>\n",
       "      <td>General-President</td>\n",
       "      <td>American Presidency Project</td>\n",
       "      <td>2020-10-22</td>\n",
       "      <td>81</td>\n",
       "      <td>and we will begin with the fight against the c...</td>\n",
       "    </tr>\n",
       "    <tr>\n",
       "      <th>2</th>\n",
       "      <td>October 22, 2020</td>\n",
       "      <td>Presidential Debate at Belmont University in N...</td>\n",
       "      <td>TRUMP: So, as you know, more 2.2 million peopl...</td>\n",
       "      <td>General-President</td>\n",
       "      <td>American Presidency Project</td>\n",
       "      <td>2020-10-22</td>\n",
       "      <td>372</td>\n",
       "      <td>trump  so  as you know  more     million peopl...</td>\n",
       "    </tr>\n",
       "    <tr>\n",
       "      <th>3</th>\n",
       "      <td>October 22, 2020</td>\n",
       "      <td>Presidential Debate at Belmont University in N...</td>\n",
       "      <td>WELKER: OK, former Vice President Biden, to yo...</td>\n",
       "      <td>General-President</td>\n",
       "      <td>American Presidency Project</td>\n",
       "      <td>2020-10-22</td>\n",
       "      <td>23</td>\n",
       "      <td>welker  ok  former vice president biden  to yo...</td>\n",
       "    </tr>\n",
       "    <tr>\n",
       "      <th>4</th>\n",
       "      <td>October 22, 2020</td>\n",
       "      <td>Presidential Debate at Belmont University in N...</td>\n",
       "      <td>BIDEN: 220,000 Americans dead. If you hear not...</td>\n",
       "      <td>General-President</td>\n",
       "      <td>American Presidency Project</td>\n",
       "      <td>2020-10-22</td>\n",
       "      <td>301</td>\n",
       "      <td>biden      americans dead  if you hear nothing...</td>\n",
       "    </tr>\n",
       "  </tbody>\n",
       "</table>\n",
       "</div>"
      ],
      "text/plain": [
       "               Date                                        Debate_Name  \\\n",
       "0  October 22, 2020  Presidential Debate at Belmont University in N...   \n",
       "1  October 22, 2020  Presidential Debate at Belmont University in N...   \n",
       "2  October 22, 2020  Presidential Debate at Belmont University in N...   \n",
       "3  October 22, 2020  Presidential Debate at Belmont University in N...   \n",
       "4  October 22, 2020  Presidential Debate at Belmont University in N...   \n",
       "\n",
       "                                          Transcript        Debate_Type  \\\n",
       "0  WELKER: A very good evening to both of you. Th...  General-President   \n",
       "1  And we will begin with the fight against the c...  General-President   \n",
       "2  TRUMP: So, as you know, more 2.2 million peopl...  General-President   \n",
       "3  WELKER: OK, former Vice President Biden, to yo...  General-President   \n",
       "4  BIDEN: 220,000 Americans dead. If you hear not...  General-President   \n",
       "\n",
       "                   Data_Source Date_Time_Date  line_length  \\\n",
       "0  American Presidency Project     2020-10-22          124   \n",
       "1  American Presidency Project     2020-10-22           81   \n",
       "2  American Presidency Project     2020-10-22          372   \n",
       "3  American Presidency Project     2020-10-22           23   \n",
       "4  American Presidency Project     2020-10-22          301   \n",
       "\n",
       "                                             no_punc  \n",
       "0  welker  a very good evening to both of you  th...  \n",
       "1  and we will begin with the fight against the c...  \n",
       "2  trump  so  as you know  more     million peopl...  \n",
       "3  welker  ok  former vice president biden  to yo...  \n",
       "4  biden      americans dead  if you hear nothing...  "
      ]
     },
     "execution_count": 50,
     "metadata": {},
     "output_type": "execute_result"
    }
   ],
   "source": [
    "import re\n",
    "import string\n",
    "\n",
    "alphanumeric = lambda x: re.sub('\\w*\\d\\w*', ' ', x)\n",
    "punc_lower = lambda x: re.sub('[%s]' % re.escape(string.punctuation), ' ', x.lower())\n",
    "\n",
    "nlp_df['no_punc'] = nlp_df.Transcript.map(alphanumeric).map(punc_lower)\n",
    "nlp_df.head()"
   ]
  },
  {
   "cell_type": "markdown",
   "metadata": {},
   "source": [
    "Adding in a word tokenization column on the lowercased/punctuation removed column:"
   ]
  },
  {
   "cell_type": "code",
   "execution_count": 51,
   "metadata": {},
   "outputs": [],
   "source": [
    "nlp_df['token'] = nlp_df['no_punc'].apply(word_tokenize)"
   ]
  },
  {
   "cell_type": "markdown",
   "metadata": {},
   "source": [
    "next, removing stop words from the tokenized column:"
   ]
  },
  {
   "cell_type": "code",
   "execution_count": 52,
   "metadata": {},
   "outputs": [],
   "source": [
    "from nltk.corpus import stopwords"
   ]
  },
  {
   "cell_type": "code",
   "execution_count": 53,
   "metadata": {},
   "outputs": [],
   "source": [
    "stop_words = stopwords.words('english')"
   ]
  },
  {
   "cell_type": "code",
   "execution_count": 54,
   "metadata": {
    "scrolled": true
   },
   "outputs": [
    {
     "data": {
      "text/plain": [
       "['i',\n",
       " 'me',\n",
       " 'my',\n",
       " 'myself',\n",
       " 'we',\n",
       " 'our',\n",
       " 'ours',\n",
       " 'ourselves',\n",
       " 'you',\n",
       " \"you're\",\n",
       " \"you've\",\n",
       " \"you'll\",\n",
       " \"you'd\",\n",
       " 'your',\n",
       " 'yours',\n",
       " 'yourself',\n",
       " 'yourselves',\n",
       " 'he',\n",
       " 'him',\n",
       " 'his',\n",
       " 'himself',\n",
       " 'she',\n",
       " \"she's\",\n",
       " 'her',\n",
       " 'hers',\n",
       " 'herself',\n",
       " 'it',\n",
       " \"it's\",\n",
       " 'its',\n",
       " 'itself',\n",
       " 'they',\n",
       " 'them',\n",
       " 'their',\n",
       " 'theirs',\n",
       " 'themselves',\n",
       " 'what',\n",
       " 'which',\n",
       " 'who',\n",
       " 'whom',\n",
       " 'this',\n",
       " 'that',\n",
       " \"that'll\",\n",
       " 'these',\n",
       " 'those',\n",
       " 'am',\n",
       " 'is',\n",
       " 'are',\n",
       " 'was',\n",
       " 'were',\n",
       " 'be',\n",
       " 'been',\n",
       " 'being',\n",
       " 'have',\n",
       " 'has',\n",
       " 'had',\n",
       " 'having',\n",
       " 'do',\n",
       " 'does',\n",
       " 'did',\n",
       " 'doing',\n",
       " 'a',\n",
       " 'an',\n",
       " 'the',\n",
       " 'and',\n",
       " 'but',\n",
       " 'if',\n",
       " 'or',\n",
       " 'because',\n",
       " 'as',\n",
       " 'until',\n",
       " 'while',\n",
       " 'of',\n",
       " 'at',\n",
       " 'by',\n",
       " 'for',\n",
       " 'with',\n",
       " 'about',\n",
       " 'against',\n",
       " 'between',\n",
       " 'into',\n",
       " 'through',\n",
       " 'during',\n",
       " 'before',\n",
       " 'after',\n",
       " 'above',\n",
       " 'below',\n",
       " 'to',\n",
       " 'from',\n",
       " 'up',\n",
       " 'down',\n",
       " 'in',\n",
       " 'out',\n",
       " 'on',\n",
       " 'off',\n",
       " 'over',\n",
       " 'under',\n",
       " 'again',\n",
       " 'further',\n",
       " 'then',\n",
       " 'once',\n",
       " 'here',\n",
       " 'there',\n",
       " 'when',\n",
       " 'where',\n",
       " 'why',\n",
       " 'how',\n",
       " 'all',\n",
       " 'any',\n",
       " 'both',\n",
       " 'each',\n",
       " 'few',\n",
       " 'more',\n",
       " 'most',\n",
       " 'other',\n",
       " 'some',\n",
       " 'such',\n",
       " 'no',\n",
       " 'nor',\n",
       " 'not',\n",
       " 'only',\n",
       " 'own',\n",
       " 'same',\n",
       " 'so',\n",
       " 'than',\n",
       " 'too',\n",
       " 'very',\n",
       " 's',\n",
       " 't',\n",
       " 'can',\n",
       " 'will',\n",
       " 'just',\n",
       " 'don',\n",
       " \"don't\",\n",
       " 'should',\n",
       " \"should've\",\n",
       " 'now',\n",
       " 'd',\n",
       " 'll',\n",
       " 'm',\n",
       " 'o',\n",
       " 're',\n",
       " 've',\n",
       " 'y',\n",
       " 'ain',\n",
       " 'aren',\n",
       " \"aren't\",\n",
       " 'couldn',\n",
       " \"couldn't\",\n",
       " 'didn',\n",
       " \"didn't\",\n",
       " 'doesn',\n",
       " \"doesn't\",\n",
       " 'hadn',\n",
       " \"hadn't\",\n",
       " 'hasn',\n",
       " \"hasn't\",\n",
       " 'haven',\n",
       " \"haven't\",\n",
       " 'isn',\n",
       " \"isn't\",\n",
       " 'ma',\n",
       " 'mightn',\n",
       " \"mightn't\",\n",
       " 'mustn',\n",
       " \"mustn't\",\n",
       " 'needn',\n",
       " \"needn't\",\n",
       " 'shan',\n",
       " \"shan't\",\n",
       " 'shouldn',\n",
       " \"shouldn't\",\n",
       " 'wasn',\n",
       " \"wasn't\",\n",
       " 'weren',\n",
       " \"weren't\",\n",
       " 'won',\n",
       " \"won't\",\n",
       " 'wouldn',\n",
       " \"wouldn't\"]"
      ]
     },
     "execution_count": 54,
     "metadata": {},
     "output_type": "execute_result"
    }
   ],
   "source": [
    "stop_words"
   ]
  },
  {
   "cell_type": "markdown",
   "metadata": {},
   "source": [
    "Adding common punctuation to the stop words:"
   ]
  },
  {
   "cell_type": "code",
   "execution_count": 238,
   "metadata": {},
   "outputs": [],
   "source": [
    "stop_words += ['.', ',', '(', ')', \"'\", '\"', \"!\"]"
   ]
  },
  {
   "cell_type": "markdown",
   "metadata": {},
   "source": [
    "Adding in some other phrases (applause, etc.)"
   ]
  },
  {
   "cell_type": "code",
   "execution_count": 55,
   "metadata": {},
   "outputs": [],
   "source": [
    "stop_words += ['(applause)', '[applause]', '[bells ring]']"
   ]
  },
  {
   "cell_type": "code",
   "execution_count": 57,
   "metadata": {},
   "outputs": [],
   "source": [
    "nlp_df['no_stop_words'] = nlp_df['token'].apply(lambda x: [word for word in x if word not in stop_words])"
   ]
  },
  {
   "cell_type": "code",
   "execution_count": 58,
   "metadata": {},
   "outputs": [
    {
     "data": {
      "text/html": [
       "<div>\n",
       "<style scoped>\n",
       "    .dataframe tbody tr th:only-of-type {\n",
       "        vertical-align: middle;\n",
       "    }\n",
       "\n",
       "    .dataframe tbody tr th {\n",
       "        vertical-align: top;\n",
       "    }\n",
       "\n",
       "    .dataframe thead th {\n",
       "        text-align: right;\n",
       "    }\n",
       "</style>\n",
       "<table border=\"1\" class=\"dataframe\">\n",
       "  <thead>\n",
       "    <tr style=\"text-align: right;\">\n",
       "      <th></th>\n",
       "      <th>Date</th>\n",
       "      <th>Debate_Name</th>\n",
       "      <th>Transcript</th>\n",
       "      <th>Debate_Type</th>\n",
       "      <th>Data_Source</th>\n",
       "      <th>Date_Time_Date</th>\n",
       "      <th>line_length</th>\n",
       "      <th>no_punc</th>\n",
       "      <th>token</th>\n",
       "      <th>no_stop_words</th>\n",
       "    </tr>\n",
       "  </thead>\n",
       "  <tbody>\n",
       "    <tr>\n",
       "      <th>0</th>\n",
       "      <td>October 22, 2020</td>\n",
       "      <td>Presidential Debate at Belmont University in N...</td>\n",
       "      <td>WELKER: A very good evening to both of you. Th...</td>\n",
       "      <td>General-President</td>\n",
       "      <td>American Presidency Project</td>\n",
       "      <td>2020-10-22</td>\n",
       "      <td>124</td>\n",
       "      <td>welker  a very good evening to both of you  th...</td>\n",
       "      <td>[welker, a, very, good, evening, to, both, of,...</td>\n",
       "      <td>[welker, good, evening, debate, cover, six, ma...</td>\n",
       "    </tr>\n",
       "    <tr>\n",
       "      <th>1</th>\n",
       "      <td>October 22, 2020</td>\n",
       "      <td>Presidential Debate at Belmont University in N...</td>\n",
       "      <td>And we will begin with the fight against the c...</td>\n",
       "      <td>General-President</td>\n",
       "      <td>American Presidency Project</td>\n",
       "      <td>2020-10-22</td>\n",
       "      <td>81</td>\n",
       "      <td>and we will begin with the fight against the c...</td>\n",
       "      <td>[and, we, will, begin, with, the, fight, again...</td>\n",
       "      <td>[begin, fight, coronavirus, president, trump, ...</td>\n",
       "    </tr>\n",
       "    <tr>\n",
       "      <th>2</th>\n",
       "      <td>October 22, 2020</td>\n",
       "      <td>Presidential Debate at Belmont University in N...</td>\n",
       "      <td>TRUMP: So, as you know, more 2.2 million peopl...</td>\n",
       "      <td>General-President</td>\n",
       "      <td>American Presidency Project</td>\n",
       "      <td>2020-10-22</td>\n",
       "      <td>372</td>\n",
       "      <td>trump  so  as you know  more     million peopl...</td>\n",
       "      <td>[trump, so, as, you, know, more, million, peop...</td>\n",
       "      <td>[trump, know, million, people, modeled, expect...</td>\n",
       "    </tr>\n",
       "    <tr>\n",
       "      <th>3</th>\n",
       "      <td>October 22, 2020</td>\n",
       "      <td>Presidential Debate at Belmont University in N...</td>\n",
       "      <td>WELKER: OK, former Vice President Biden, to yo...</td>\n",
       "      <td>General-President</td>\n",
       "      <td>American Presidency Project</td>\n",
       "      <td>2020-10-22</td>\n",
       "      <td>23</td>\n",
       "      <td>welker  ok  former vice president biden  to yo...</td>\n",
       "      <td>[welker, ok, former, vice, president, biden, t...</td>\n",
       "      <td>[welker, ok, former, vice, president, biden, w...</td>\n",
       "    </tr>\n",
       "    <tr>\n",
       "      <th>4</th>\n",
       "      <td>October 22, 2020</td>\n",
       "      <td>Presidential Debate at Belmont University in N...</td>\n",
       "      <td>BIDEN: 220,000 Americans dead. If you hear not...</td>\n",
       "      <td>General-President</td>\n",
       "      <td>American Presidency Project</td>\n",
       "      <td>2020-10-22</td>\n",
       "      <td>301</td>\n",
       "      <td>biden      americans dead  if you hear nothing...</td>\n",
       "      <td>[biden, americans, dead, if, you, hear, nothin...</td>\n",
       "      <td>[biden, americans, dead, hear, nothing, else, ...</td>\n",
       "    </tr>\n",
       "  </tbody>\n",
       "</table>\n",
       "</div>"
      ],
      "text/plain": [
       "               Date                                        Debate_Name  \\\n",
       "0  October 22, 2020  Presidential Debate at Belmont University in N...   \n",
       "1  October 22, 2020  Presidential Debate at Belmont University in N...   \n",
       "2  October 22, 2020  Presidential Debate at Belmont University in N...   \n",
       "3  October 22, 2020  Presidential Debate at Belmont University in N...   \n",
       "4  October 22, 2020  Presidential Debate at Belmont University in N...   \n",
       "\n",
       "                                          Transcript        Debate_Type  \\\n",
       "0  WELKER: A very good evening to both of you. Th...  General-President   \n",
       "1  And we will begin with the fight against the c...  General-President   \n",
       "2  TRUMP: So, as you know, more 2.2 million peopl...  General-President   \n",
       "3  WELKER: OK, former Vice President Biden, to yo...  General-President   \n",
       "4  BIDEN: 220,000 Americans dead. If you hear not...  General-President   \n",
       "\n",
       "                   Data_Source Date_Time_Date  line_length  \\\n",
       "0  American Presidency Project     2020-10-22          124   \n",
       "1  American Presidency Project     2020-10-22           81   \n",
       "2  American Presidency Project     2020-10-22          372   \n",
       "3  American Presidency Project     2020-10-22           23   \n",
       "4  American Presidency Project     2020-10-22          301   \n",
       "\n",
       "                                             no_punc  \\\n",
       "0  welker  a very good evening to both of you  th...   \n",
       "1  and we will begin with the fight against the c...   \n",
       "2  trump  so  as you know  more     million peopl...   \n",
       "3  welker  ok  former vice president biden  to yo...   \n",
       "4  biden      americans dead  if you hear nothing...   \n",
       "\n",
       "                                               token  \\\n",
       "0  [welker, a, very, good, evening, to, both, of,...   \n",
       "1  [and, we, will, begin, with, the, fight, again...   \n",
       "2  [trump, so, as, you, know, more, million, peop...   \n",
       "3  [welker, ok, former, vice, president, biden, t...   \n",
       "4  [biden, americans, dead, if, you, hear, nothin...   \n",
       "\n",
       "                                       no_stop_words  \n",
       "0  [welker, good, evening, debate, cover, six, ma...  \n",
       "1  [begin, fight, coronavirus, president, trump, ...  \n",
       "2  [trump, know, million, people, modeled, expect...  \n",
       "3  [welker, ok, former, vice, president, biden, w...  \n",
       "4  [biden, americans, dead, hear, nothing, else, ...  "
      ]
     },
     "execution_count": 58,
     "metadata": {},
     "output_type": "execute_result"
    }
   ],
   "source": [
    "nlp_df.head()"
   ]
  },
  {
   "cell_type": "markdown",
   "metadata": {},
   "source": [
    "Now that the text has been word tokenized and preprocessed, converting back to string and vectorizing to create a document-term Matrix "
   ]
  },
  {
   "cell_type": "markdown",
   "metadata": {},
   "source": [
    "For the time being, I am only going to use the American Presidency Project data, otherwise I'll have duplicate debates.."
   ]
  },
  {
   "cell_type": "code",
   "execution_count": 69,
   "metadata": {},
   "outputs": [],
   "source": [
    "new_df = nlp_df[nlp_df.Data_Source == 'American Presidency Project']['no_stop_words'].reset_index()"
   ]
  },
  {
   "cell_type": "code",
   "execution_count": 70,
   "metadata": {},
   "outputs": [
    {
     "data": {
      "text/html": [
       "<div>\n",
       "<style scoped>\n",
       "    .dataframe tbody tr th:only-of-type {\n",
       "        vertical-align: middle;\n",
       "    }\n",
       "\n",
       "    .dataframe tbody tr th {\n",
       "        vertical-align: top;\n",
       "    }\n",
       "\n",
       "    .dataframe thead th {\n",
       "        text-align: right;\n",
       "    }\n",
       "</style>\n",
       "<table border=\"1\" class=\"dataframe\">\n",
       "  <thead>\n",
       "    <tr style=\"text-align: right;\">\n",
       "      <th></th>\n",
       "      <th>index</th>\n",
       "      <th>no_stop_words</th>\n",
       "      <th>string</th>\n",
       "    </tr>\n",
       "  </thead>\n",
       "  <tbody>\n",
       "    <tr>\n",
       "      <th>0</th>\n",
       "      <td>0</td>\n",
       "      <td>[welker, good, evening, debate, cover, six, ma...</td>\n",
       "      <td>welker good evening debate cover six major top...</td>\n",
       "    </tr>\n",
       "    <tr>\n",
       "      <th>1</th>\n",
       "      <td>1</td>\n",
       "      <td>[begin, fight, coronavirus, president, trump, ...</td>\n",
       "      <td>begin fight coronavirus president trump first ...</td>\n",
       "    </tr>\n",
       "    <tr>\n",
       "      <th>2</th>\n",
       "      <td>2</td>\n",
       "      <td>[trump, know, million, people, modeled, expect...</td>\n",
       "      <td>trump know million people modeled expected die...</td>\n",
       "    </tr>\n",
       "    <tr>\n",
       "      <th>3</th>\n",
       "      <td>3</td>\n",
       "      <td>[welker, ok, former, vice, president, biden, w...</td>\n",
       "      <td>welker ok former vice president biden would le...</td>\n",
       "    </tr>\n",
       "    <tr>\n",
       "      <th>4</th>\n",
       "      <td>4</td>\n",
       "      <td>[biden, americans, dead, hear, nothing, else, ...</td>\n",
       "      <td>biden americans dead hear nothing else say ton...</td>\n",
       "    </tr>\n",
       "  </tbody>\n",
       "</table>\n",
       "</div>"
      ],
      "text/plain": [
       "   index                                      no_stop_words  \\\n",
       "0      0  [welker, good, evening, debate, cover, six, ma...   \n",
       "1      1  [begin, fight, coronavirus, president, trump, ...   \n",
       "2      2  [trump, know, million, people, modeled, expect...   \n",
       "3      3  [welker, ok, former, vice, president, biden, w...   \n",
       "4      4  [biden, americans, dead, hear, nothing, else, ...   \n",
       "\n",
       "                                              string  \n",
       "0  welker good evening debate cover six major top...  \n",
       "1  begin fight coronavirus president trump first ...  \n",
       "2  trump know million people modeled expected die...  \n",
       "3  welker ok former vice president biden would le...  \n",
       "4  biden americans dead hear nothing else say ton...  "
      ]
     },
     "execution_count": 70,
     "metadata": {},
     "output_type": "execute_result"
    }
   ],
   "source": [
    "new_df['string'] = 0\n",
    "for i, text in enumerate(new_df['no_stop_words']):\n",
    "    new_df.iloc[i, 2] = ' '.join(text)\n",
    "new_df.head()"
   ]
  },
  {
   "cell_type": "markdown",
   "metadata": {},
   "source": [
    "Initializing Count Vectorizer:"
   ]
  },
  {
   "cell_type": "code",
   "execution_count": 71,
   "metadata": {},
   "outputs": [],
   "source": [
    "from sklearn.feature_extraction.text import CountVectorizer\n",
    "\n",
    "cv1 = CountVectorizer(stop_words='english')"
   ]
  },
  {
   "cell_type": "code",
   "execution_count": 72,
   "metadata": {},
   "outputs": [],
   "source": [
    "X = new_df['string']\n",
    "cv_model = cv1.fit_transform(X)"
   ]
  },
  {
   "cell_type": "code",
   "execution_count": 73,
   "metadata": {},
   "outputs": [],
   "source": [
    "term_document_matrix = pd.DataFrame(cv_model.toarray(), columns=cv1.get_feature_names())"
   ]
  },
  {
   "cell_type": "code",
   "execution_count": 74,
   "metadata": {},
   "outputs": [
    {
     "data": {
      "text/plain": [
       "(79347, 24520)"
      ]
     },
     "execution_count": 74,
     "metadata": {},
     "output_type": "execute_result"
    }
   ],
   "source": [
    "term_document_matrix.shape"
   ]
  },
  {
   "cell_type": "code",
   "execution_count": 75,
   "metadata": {},
   "outputs": [
    {
     "data": {
      "text/html": [
       "<div>\n",
       "<style scoped>\n",
       "    .dataframe tbody tr th:only-of-type {\n",
       "        vertical-align: middle;\n",
       "    }\n",
       "\n",
       "    .dataframe tbody tr th {\n",
       "        vertical-align: top;\n",
       "    }\n",
       "\n",
       "    .dataframe thead th {\n",
       "        text-align: right;\n",
       "    }\n",
       "</style>\n",
       "<table border=\"1\" class=\"dataframe\">\n",
       "  <thead>\n",
       "    <tr style=\"text-align: right;\">\n",
       "      <th></th>\n",
       "      <th>aa</th>\n",
       "      <th>aaa</th>\n",
       "      <th>aapi</th>\n",
       "      <th>aaron</th>\n",
       "      <th>aarp</th>\n",
       "      <th>aback</th>\n",
       "      <th>abadnini</th>\n",
       "      <th>abandon</th>\n",
       "      <th>abandoned</th>\n",
       "      <th>abandoning</th>\n",
       "      <th>...</th>\n",
       "      <th>zones</th>\n",
       "      <th>zoning</th>\n",
       "      <th>zoom</th>\n",
       "      <th>zubowski</th>\n",
       "      <th>zuckerberg</th>\n",
       "      <th>zuckerburg</th>\n",
       "      <th>zuech</th>\n",
       "      <th>³mr</th>\n",
       "      <th>³well</th>\n",
       "      <th>³who</th>\n",
       "    </tr>\n",
       "  </thead>\n",
       "  <tbody>\n",
       "    <tr>\n",
       "      <th>0</th>\n",
       "      <td>0</td>\n",
       "      <td>0</td>\n",
       "      <td>0</td>\n",
       "      <td>0</td>\n",
       "      <td>0</td>\n",
       "      <td>0</td>\n",
       "      <td>0</td>\n",
       "      <td>0</td>\n",
       "      <td>0</td>\n",
       "      <td>0</td>\n",
       "      <td>...</td>\n",
       "      <td>0</td>\n",
       "      <td>0</td>\n",
       "      <td>0</td>\n",
       "      <td>0</td>\n",
       "      <td>0</td>\n",
       "      <td>0</td>\n",
       "      <td>0</td>\n",
       "      <td>0</td>\n",
       "      <td>0</td>\n",
       "      <td>0</td>\n",
       "    </tr>\n",
       "    <tr>\n",
       "      <th>1</th>\n",
       "      <td>0</td>\n",
       "      <td>0</td>\n",
       "      <td>0</td>\n",
       "      <td>0</td>\n",
       "      <td>0</td>\n",
       "      <td>0</td>\n",
       "      <td>0</td>\n",
       "      <td>0</td>\n",
       "      <td>0</td>\n",
       "      <td>0</td>\n",
       "      <td>...</td>\n",
       "      <td>0</td>\n",
       "      <td>0</td>\n",
       "      <td>0</td>\n",
       "      <td>0</td>\n",
       "      <td>0</td>\n",
       "      <td>0</td>\n",
       "      <td>0</td>\n",
       "      <td>0</td>\n",
       "      <td>0</td>\n",
       "      <td>0</td>\n",
       "    </tr>\n",
       "    <tr>\n",
       "      <th>2</th>\n",
       "      <td>0</td>\n",
       "      <td>0</td>\n",
       "      <td>0</td>\n",
       "      <td>0</td>\n",
       "      <td>0</td>\n",
       "      <td>0</td>\n",
       "      <td>0</td>\n",
       "      <td>0</td>\n",
       "      <td>0</td>\n",
       "      <td>0</td>\n",
       "      <td>...</td>\n",
       "      <td>0</td>\n",
       "      <td>0</td>\n",
       "      <td>0</td>\n",
       "      <td>0</td>\n",
       "      <td>0</td>\n",
       "      <td>0</td>\n",
       "      <td>0</td>\n",
       "      <td>0</td>\n",
       "      <td>0</td>\n",
       "      <td>0</td>\n",
       "    </tr>\n",
       "    <tr>\n",
       "      <th>3</th>\n",
       "      <td>0</td>\n",
       "      <td>0</td>\n",
       "      <td>0</td>\n",
       "      <td>0</td>\n",
       "      <td>0</td>\n",
       "      <td>0</td>\n",
       "      <td>0</td>\n",
       "      <td>0</td>\n",
       "      <td>0</td>\n",
       "      <td>0</td>\n",
       "      <td>...</td>\n",
       "      <td>0</td>\n",
       "      <td>0</td>\n",
       "      <td>0</td>\n",
       "      <td>0</td>\n",
       "      <td>0</td>\n",
       "      <td>0</td>\n",
       "      <td>0</td>\n",
       "      <td>0</td>\n",
       "      <td>0</td>\n",
       "      <td>0</td>\n",
       "    </tr>\n",
       "    <tr>\n",
       "      <th>4</th>\n",
       "      <td>0</td>\n",
       "      <td>0</td>\n",
       "      <td>0</td>\n",
       "      <td>0</td>\n",
       "      <td>0</td>\n",
       "      <td>0</td>\n",
       "      <td>0</td>\n",
       "      <td>0</td>\n",
       "      <td>0</td>\n",
       "      <td>0</td>\n",
       "      <td>...</td>\n",
       "      <td>0</td>\n",
       "      <td>0</td>\n",
       "      <td>0</td>\n",
       "      <td>0</td>\n",
       "      <td>0</td>\n",
       "      <td>0</td>\n",
       "      <td>0</td>\n",
       "      <td>0</td>\n",
       "      <td>0</td>\n",
       "      <td>0</td>\n",
       "    </tr>\n",
       "  </tbody>\n",
       "</table>\n",
       "<p>5 rows × 24520 columns</p>\n",
       "</div>"
      ],
      "text/plain": [
       "   aa  aaa  aapi  aaron  aarp  aback  abadnini  abandon  abandoned  \\\n",
       "0   0    0     0      0     0      0         0        0          0   \n",
       "1   0    0     0      0     0      0         0        0          0   \n",
       "2   0    0     0      0     0      0         0        0          0   \n",
       "3   0    0     0      0     0      0         0        0          0   \n",
       "4   0    0     0      0     0      0         0        0          0   \n",
       "\n",
       "   abandoning  ...  zones  zoning  zoom  zubowski  zuckerberg  zuckerburg  \\\n",
       "0           0  ...      0       0     0         0           0           0   \n",
       "1           0  ...      0       0     0         0           0           0   \n",
       "2           0  ...      0       0     0         0           0           0   \n",
       "3           0  ...      0       0     0         0           0           0   \n",
       "4           0  ...      0       0     0         0           0           0   \n",
       "\n",
       "   zuech  ³mr  ³well  ³who  \n",
       "0      0    0      0     0  \n",
       "1      0    0      0     0  \n",
       "2      0    0      0     0  \n",
       "3      0    0      0     0  \n",
       "4      0    0      0     0  \n",
       "\n",
       "[5 rows x 24520 columns]"
      ]
     },
     "execution_count": 75,
     "metadata": {},
     "output_type": "execute_result"
    }
   ],
   "source": [
    "term_document_matrix.head()"
   ]
  },
  {
   "cell_type": "markdown",
   "metadata": {},
   "source": [
    "### Pickling the current term_document_matrix:"
   ]
  },
  {
   "cell_type": "code",
   "execution_count": 77,
   "metadata": {},
   "outputs": [
    {
     "data": {
      "text/plain": [
       "'/Users/patrickbovard/Documents/GitHub/presidential_debate_analysis/Data'"
      ]
     },
     "execution_count": 77,
     "metadata": {},
     "output_type": "execute_result"
    }
   ],
   "source": [
    "pwd"
   ]
  },
  {
   "cell_type": "code",
   "execution_count": 78,
   "metadata": {},
   "outputs": [],
   "source": [
    "with open('initial_term_document_matrix.pickle', 'wb') as to_write:\n",
    "    pickle.dump(term_document_matrix, to_write)"
   ]
  },
  {
   "cell_type": "markdown",
   "metadata": {},
   "source": [
    "## Next Steps: \n",
    "- model_tagging.ipynb  \n",
    "    - Try to fix up the original dataframe to tag speakers, if I can get this done it would make my analysis more powerful since it could get down to the speaker level.\n",
    "- topic_modeling_intitial.ipynb\n",
    "    - Initial attempts at topic modeling on this pickled file."
   ]
  }
 ],
 "metadata": {
  "kernelspec": {
   "display_name": "Python [conda env:metis] *",
   "language": "python",
   "name": "conda-env-metis-py"
  },
  "language_info": {
   "codemirror_mode": {
    "name": "ipython",
    "version": 3
   },
   "file_extension": ".py",
   "mimetype": "text/x-python",
   "name": "python",
   "nbconvert_exporter": "python",
   "pygments_lexer": "ipython3",
   "version": "3.8.6"
  }
 },
 "nbformat": 4,
 "nbformat_minor": 4
}
