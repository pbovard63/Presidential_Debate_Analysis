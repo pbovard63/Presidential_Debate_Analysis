{
 "cells": [
  {
   "cell_type": "markdown",
   "metadata": {},
   "source": [
    "# Secondary Text Clean - w/ Speaker Data\n",
    "The purpose of this notebook is to continue to clean/build out the dataframe with speaker information tagged to each row.  This was generated in text_cleaning.ipynb, saved as speaker_combined_transcript_df.pickle."
   ]
  },
  {
   "cell_type": "markdown",
   "metadata": {},
   "source": [
    "Installing packages:"
   ]
  },
  {
   "cell_type": "code",
   "execution_count": 1,
   "metadata": {},
   "outputs": [],
   "source": [
    "import nltk\n",
    "import pandas as pd\n",
    "import numpy as np\n",
    "import pickle\n",
    "import matplotlib.pyplot as plt\n",
    "from pylab import rcParams\n",
    "%matplotlib inline\n",
    "rcParams['figure.figsize'] = 20,10"
   ]
  },
  {
   "cell_type": "markdown",
   "metadata": {},
   "source": [
    "Pickling in the lists to work with:"
   ]
  },
  {
   "cell_type": "markdown",
   "metadata": {},
   "source": [
    "### APP:"
   ]
  },
  {
   "cell_type": "code",
   "execution_count": 3,
   "metadata": {},
   "outputs": [],
   "source": [
    "#SPeaker list of lists:\n",
    "with open('Data/app_speaker_list_filtered.pickle','rb') as read_file:\n",
    "    new_app_speakers = pickle.load(read_file)"
   ]
  },
  {
   "cell_type": "code",
   "execution_count": 4,
   "metadata": {},
   "outputs": [],
   "source": [
    "#Transcript list of lists:\n",
    "with open('Data/app_transcript_list_filtered.pickle','rb') as read_file:\n",
    "    app_transcripts = pickle.load(read_file)"
   ]
  },
  {
   "cell_type": "markdown",
   "metadata": {},
   "source": [
    "Checking the lengths to make sure they match:"
   ]
  },
  {
   "cell_type": "code",
   "execution_count": 5,
   "metadata": {},
   "outputs": [
    {
     "data": {
      "text/plain": [
       "(158, 158)"
      ]
     },
     "execution_count": 5,
     "metadata": {},
     "output_type": "execute_result"
    }
   ],
   "source": [
    "len(new_app_speakers), len(app_transcripts)"
   ]
  },
  {
   "cell_type": "markdown",
   "metadata": {},
   "source": [
    "Slicing the transcript formatting:"
   ]
  },
  {
   "cell_type": "code",
   "execution_count": 6,
   "metadata": {},
   "outputs": [
    {
     "data": {
      "text/plain": [
       "(354, 354)"
      ]
     },
     "execution_count": 6,
     "metadata": {},
     "output_type": "execute_result"
    }
   ],
   "source": [
    "len(app_transcripts[0]), len(new_app_speakers[0])"
   ]
  },
  {
   "cell_type": "code",
   "execution_count": 7,
   "metadata": {},
   "outputs": [],
   "source": [
    "for i, speaker in enumerate(new_app_speakers):\n",
    "    if len(speaker) != len(app_transcripts[i]):\n",
    "        print('Index {} doesnt match!'.format(i))"
   ]
  },
  {
   "cell_type": "markdown",
   "metadata": {},
   "source": [
    "Nothing printed, so they all match.  \n",
    "\n",
    "Next goal is to condense the two lists into each other - in other words, if there is \"no speaker!\" listed, that means its a new paragraph in a current speaking line, so the previous speaker should be carried down.\n",
    "\n",
    "The one exception will be for the first row of each debate - if that is \"no speaker\", I'll have to take a closer look."
   ]
  },
  {
   "cell_type": "markdown",
   "metadata": {},
   "source": [
    "Now, to test out which have a no speaker! in the first line:"
   ]
  },
  {
   "cell_type": "code",
   "execution_count": 8,
   "metadata": {},
   "outputs": [
    {
     "name": "stdout",
     "output_type": "stream",
     "text": [
      "Index 91 starts with no speaker!\n",
      "Index 139 starts with no speaker!\n",
      "Index 154 starts with no speaker!\n"
     ]
    }
   ],
   "source": [
    "for i, speaker in enumerate(new_app_speakers):\n",
    "    if speaker[0] == 'no speaker!':\n",
    "        print('Index {} starts with no speaker!'.format(i))"
   ]
  },
  {
   "cell_type": "markdown",
   "metadata": {},
   "source": [
    "**Index 91:**"
   ]
  },
  {
   "cell_type": "code",
   "execution_count": 9,
   "metadata": {},
   "outputs": [
    {
     "data": {
      "text/plain": [
       "['no speaker!', 'no speaker!', 'SEN. DODD']"
      ]
     },
     "execution_count": 9,
     "metadata": {},
     "output_type": "execute_result"
    }
   ],
   "source": [
    "new_app_speakers[91][0:3]"
   ]
  },
  {
   "cell_type": "code",
   "execution_count": 10,
   "metadata": {},
   "outputs": [
    {
     "data": {
      "text/plain": [
       "['These formalities out of the way, the lucky recipient of our first question has been determined by lottery. Senator Dodd, that would be you.',\n",
       " 'Obviously, in the light of what happened in Minnesota last week, maintaining infrastructure requires spending, and how tax dollars are spent is a matter of priorities. What should we not build, what should we not be funding to see to it that our highways and our bridges and our tunnels and our mines are all properly maintained?',\n",
       " \"SEN. DODD: Well, thank you, first of all. And thank you for the warm welcome this evening. I'm a union guy -- (cheers) -- proudly a union man, and thank you for inviting us to be here tonight.\"]"
      ]
     },
     "execution_count": 10,
     "metadata": {},
     "output_type": "execute_result"
    }
   ],
   "source": [
    "app_transcripts[91][0:3]"
   ]
  },
  {
   "cell_type": "markdown",
   "metadata": {},
   "source": [
    "This should be 'Moderator'"
   ]
  },
  {
   "cell_type": "code",
   "execution_count": 11,
   "metadata": {},
   "outputs": [],
   "source": [
    "new_app_speakers[91][0] = 'Moderator'"
   ]
  },
  {
   "cell_type": "markdown",
   "metadata": {},
   "source": [
    "**Index 139:**"
   ]
  },
  {
   "cell_type": "code",
   "execution_count": 12,
   "metadata": {
    "scrolled": true
   },
   "outputs": [
    {
     "data": {
      "text/plain": [
       "['no speaker!', 'JUDY WOODRUFF, CNN ANCHOR', 'no speaker!']"
      ]
     },
     "execution_count": 12,
     "metadata": {},
     "output_type": "execute_result"
    }
   ],
   "source": [
    "new_app_speakers[139][0:3]"
   ]
  },
  {
   "cell_type": "code",
   "execution_count": 13,
   "metadata": {},
   "outputs": [
    {
     "data": {
      "text/plain": [
       "['From the Orpheum Theater in downtown Phoenix, here now is the moderator: Judy Woodruff.',\n",
       " 'JUDY WOODRUFF, CNN ANCHOR: Thank you for joining us. Tonight we hope to give voters here in Arizona and all across the nation their best opportunity yet to compare the six Republican candidates for president and their specific views on the issues.',\n",
       " 'We are in the spectacular 70-year-old Orpheum Theater. Built for vaudeville performances and movies, it is now a performing arts center. More than 1,300 people are in the audience here; they were invited by the Arizona Republican Party.']"
      ]
     },
     "execution_count": 13,
     "metadata": {},
     "output_type": "execute_result"
    }
   ],
   "source": [
    "app_transcripts[139][0:3]"
   ]
  },
  {
   "cell_type": "markdown",
   "metadata": {},
   "source": [
    "This should be 'Moderator'."
   ]
  },
  {
   "cell_type": "code",
   "execution_count": 14,
   "metadata": {},
   "outputs": [],
   "source": [
    "new_app_speakers[139][0] = 'Moderator'"
   ]
  },
  {
   "cell_type": "markdown",
   "metadata": {},
   "source": [
    "**Index 154:**"
   ]
  },
  {
   "cell_type": "code",
   "execution_count": 15,
   "metadata": {},
   "outputs": [
    {
     "data": {
      "text/plain": [
       "['no speaker!', 'MR. NIVEN', 'MR. NIXON']"
      ]
     },
     "execution_count": 15,
     "metadata": {},
     "output_type": "execute_result"
    }
   ],
   "source": [
    "new_app_speakers[154][0:3]"
   ]
  },
  {
   "cell_type": "code",
   "execution_count": 16,
   "metadata": {
    "scrolled": true
   },
   "outputs": [
    {
     "data": {
      "text/plain": [
       "[\"FRANK McGEE, MODERATOR: Good evening. This is Frank McGee, NBC News in Washington. This is the second in a series of programs unmatched in history. Never have so many people seen the major candidates for president of the United States at the same time; and never until this series have Americans seen the candidates in face-to-face exchange. Tonight the candidates have agreed to devote the full hour to answering questions on any issue of the campaign. And here tonight are: the Republican candidate, Vice President Richard M. Nixon; and the Democratic candidate, Senator John F. Kennedy. Now representatives of the candidates and of all the radio and television networks have agreed on these rules: neither candidate will make an opening statement or a closing summation; each will be questioned in turn; each will have an opportunity to comment upon the answer of the other; each reporter will ask only one question in turn. He is free to ask any question he chooses. Neither candidate knows what questions will be asked and only the clock will determine who will be asked the last question. These programs represent an unprecedented opportunity for the candidates to present their philosophies and programs directly to the people and for the people to compare these and the candidates. The four reporters on tonight's panel include a newspaperman and a wire service representative. These two were selected by lot by the press secretaries of the candidates from among the reporters traveling with the candidates. The broadcasting representatives were selected by their respective companies. The reporters are: Paul Niven of CBS, Edward P. Morgan of ABC, Alvin Spivak of United Press International, and Harold R. Levy of Newsday. Now the first question is from Mr. Niven and is for Vice President Nixon.\",\n",
       " 'MR. NIVEN: Mr. Vice President, Senator Kennedy said last night that the Administration must take responsibility for the loss of Cuba. Would you compare the validity of that statement with the validity of your own statements in previous campaigns that the Truman Administration was responsible for the loss of China to the Communists?',\n",
       " \"MR. NIXON: Well first of all, I don't agree with Senator Kennedy that Cuba is lost and certainly China was lost when this Administration came into power in 1953. As I look at Cuba today, I believe that we are following the right course, a course which is difficult but a course which under the circumstance is the only proper one which will see that the Cuban people get a chance to realize their aspirations of progress through freedom and that they get that with our cooperation with the other organi- of the states in the Organization of American States. Now Senator Kennedy has made some very strong criticisms of my part - or alleged part - in what has happened in Cuba. He points to the fact that I visited Cuba while Mr. Batista was in power there. I can only point out that if we are going to judge the Administrations in terms of our attitude toward dictators, we're glad to have a comparison with the previous administration. There were eleven dictators in South America and in Central America when we came in, in 1953. Today there are only three left including the one in Cuba. We think that's pretty good progress. Senator Kennedy also indicated with regard to Cuba that he thought that I had made a mistake when I was in Cuba in not calling for free elections in that country. Now I'm very surprised that Senator Kennedy, who is on the Foreign Relations Committee, would have made such a statement as this kind. As a matter of fact in his book, The Strategy for Peace, he took the right position. And that position is that the United States has a treaty - a treaty with all of the Organization of American States - which prohibits us from interfering in the internal affairs of any other state and prohibits them as well. For me to have made such a statement would been in direct uh - opposition to that treaty. Now with regard to Cuba, let me make one thing clear. There isn't any question but that we will defend our rights there. There isn't any question but that we will defend Guantanamo if it's attacked. There also isn't any question but that the free people of Cuba - the people who want to be free - are going to be supported and that they will attain their freedom. No, Cuba is not lost, and I don't think this kind of defeatist talk by Senator Kennedy helps the situation one bit.\"]"
      ]
     },
     "execution_count": 16,
     "metadata": {},
     "output_type": "execute_result"
    }
   ],
   "source": [
    "app_transcripts[154][0:3]"
   ]
  },
  {
   "cell_type": "markdown",
   "metadata": {},
   "source": [
    "Should be 'FRANK McGEE, MODERATOR'"
   ]
  },
  {
   "cell_type": "code",
   "execution_count": 17,
   "metadata": {},
   "outputs": [],
   "source": [
    "new_app_speakers[154][0] = 'FRANK McGEE, MODERATOR'"
   ]
  },
  {
   "cell_type": "markdown",
   "metadata": {},
   "source": [
    "Removing some certain transcript rows, such as those w/ (laughter), etc. as the speaker:"
   ]
  },
  {
   "cell_type": "code",
   "execution_count": 18,
   "metadata": {},
   "outputs": [],
   "source": [
    "for i,transcript in enumerate(app_transcripts):\n",
    "    for j, line in enumerate(transcript):\n",
    "        text = line.strip('().,').lower()\n",
    "        if text == 'laughter' or text == 'applause':\n",
    "            app_transcripts[i].pop(j)\n",
    "            new_app_speakers[i].pop(j)"
   ]
  },
  {
   "cell_type": "markdown",
   "metadata": {},
   "source": [
    "With that corrected, running the below loop, which will assign the previous row's speaker for each speaker that has \"no speaker!\" listed:"
   ]
  },
  {
   "cell_type": "code",
   "execution_count": 19,
   "metadata": {},
   "outputs": [],
   "source": [
    "for i, speaker_list in enumerate(new_app_speakers):\n",
    "    for j, speaker in enumerate(speaker_list):\n",
    "        if speaker == 'no speaker!':\n",
    "            new_app_speakers[i][j] = new_app_speakers[i][j-1]"
   ]
  },
  {
   "cell_type": "code",
   "execution_count": 20,
   "metadata": {},
   "outputs": [],
   "source": [
    "for i, speaker in enumerate(new_app_speakers):\n",
    "    if len(speaker) != len(app_transcripts[i]):\n",
    "        print('Index {} doesnt match!'.format(i))"
   ]
  },
  {
   "cell_type": "markdown",
   "metadata": {},
   "source": [
    "Again, everything matches, so it seems to have worked."
   ]
  },
  {
   "cell_type": "markdown",
   "metadata": {},
   "source": [
    "### Commission for Presidential Debates:"
   ]
  },
  {
   "cell_type": "code",
   "execution_count": 21,
   "metadata": {},
   "outputs": [],
   "source": [
    "#Transcript list of lists:\n",
    "with open('Data/cpd_transcript_list_filtered.pickle','rb') as read_file:\n",
    "    cpd_transcripts = pickle.load(read_file)"
   ]
  },
  {
   "cell_type": "code",
   "execution_count": 22,
   "metadata": {},
   "outputs": [],
   "source": [
    "#Transcript list of lists:\n",
    "with open('Data/cpd_speaker_list_filtered.pickle','rb') as read_file:\n",
    "    cpd_speakers = pickle.load(read_file)"
   ]
  },
  {
   "cell_type": "code",
   "execution_count": 23,
   "metadata": {},
   "outputs": [
    {
     "data": {
      "text/plain": [
       "(9, 9)"
      ]
     },
     "execution_count": 23,
     "metadata": {},
     "output_type": "execute_result"
    }
   ],
   "source": [
    "len(cpd_transcripts), len(cpd_speakers)"
   ]
  },
  {
   "cell_type": "code",
   "execution_count": 24,
   "metadata": {},
   "outputs": [],
   "source": [
    "for i, speaker in enumerate(cpd_speakers):\n",
    "    if len(speaker) != len(cpd_transcripts[i]):\n",
    "        print('Index {} doesnt match!'.format(i))"
   ]
  },
  {
   "cell_type": "markdown",
   "metadata": {},
   "source": [
    "Lengths all match!  Testing no speakers:"
   ]
  },
  {
   "cell_type": "code",
   "execution_count": 25,
   "metadata": {},
   "outputs": [],
   "source": [
    "for i, speaker in enumerate(cpd_speakers):\n",
    "    if speaker[0] == 'no speaker!':\n",
    "        print('Index {} starts with no speaker!'.format(i))"
   ]
  },
  {
   "cell_type": "markdown",
   "metadata": {},
   "source": [
    "Removing laughter lines:"
   ]
  },
  {
   "cell_type": "code",
   "execution_count": 26,
   "metadata": {},
   "outputs": [],
   "source": [
    "for i,transcript in enumerate(cpd_transcripts):\n",
    "    for j, line in enumerate(transcript):\n",
    "        text = line.strip('().,').lower()\n",
    "        if text == 'laughter' or text == 'applause':\n",
    "            cpd_transcripts[i].pop(j)\n",
    "            cpd_speakers[i].pop(j)"
   ]
  },
  {
   "cell_type": "markdown",
   "metadata": {},
   "source": [
    "None, so all set."
   ]
  },
  {
   "cell_type": "code",
   "execution_count": 27,
   "metadata": {},
   "outputs": [],
   "source": [
    "for i, speaker_list in enumerate(cpd_speakers):\n",
    "    for j, speaker in enumerate(speaker_list):\n",
    "        if speaker == 'no speaker!':\n",
    "            cpd_speakers[i][j] = cpd_speakers[i][j-1]"
   ]
  },
  {
   "cell_type": "code",
   "execution_count": 28,
   "metadata": {},
   "outputs": [],
   "source": [
    "for i, speaker in enumerate(cpd_speakers):\n",
    "    if len(speaker) != len(cpd_transcripts[i]):\n",
    "        print('Index {} doesnt match!'.format(i))"
   ]
  },
  {
   "cell_type": "markdown",
   "metadata": {},
   "source": [
    "Great, all indices match."
   ]
  },
  {
   "cell_type": "markdown",
   "metadata": {},
   "source": [
    "Checking if there are any no speakers! left:"
   ]
  },
  {
   "cell_type": "code",
   "execution_count": 29,
   "metadata": {},
   "outputs": [],
   "source": [
    "for i, speaker_list in enumerate(cpd_speakers):\n",
    "    for j,speaker in enumerate(speaker_list):\n",
    "        if speaker == 'no speaker!':\n",
    "            print('no speaker is at cpd_speakers[{}][{}]'.format(i, j))\n",
    "        "
   ]
  },
  {
   "cell_type": "code",
   "execution_count": 30,
   "metadata": {},
   "outputs": [],
   "source": [
    "for i, speaker_list in enumerate(new_app_speakers):\n",
    "    for j,speaker in enumerate(speaker_list):\n",
    "        if speaker == 'no speaker!':\n",
    "            print('no speaker is at new_app_speakers[{}][{}]'.format(i, j))"
   ]
  },
  {
   "cell_type": "markdown",
   "metadata": {},
   "source": [
    "Great, no \"no speaker!\"'s are left."
   ]
  },
  {
   "cell_type": "markdown",
   "metadata": {},
   "source": [
    "Next step, to make a data frame with the new data set up:"
   ]
  },
  {
   "cell_type": "markdown",
   "metadata": {},
   "source": [
    "## Building a new dataframe:"
   ]
  },
  {
   "cell_type": "markdown",
   "metadata": {},
   "source": [
    "### APP:"
   ]
  },
  {
   "cell_type": "markdown",
   "metadata": {},
   "source": [
    "Pulling in dates:"
   ]
  },
  {
   "cell_type": "code",
   "execution_count": 31,
   "metadata": {},
   "outputs": [],
   "source": [
    "from bs4 import BeautifulSoup\n",
    "import requests\n",
    "import re\n",
    "from IPython.core.display import display, HTML "
   ]
  },
  {
   "cell_type": "code",
   "execution_count": 32,
   "metadata": {},
   "outputs": [],
   "source": [
    "app_link = 'https://www.presidency.ucsb.edu/documents/presidential-documents-archive-guidebook/presidential-campaigns-debates-and-endorsements-0'"
   ]
  },
  {
   "cell_type": "code",
   "execution_count": 33,
   "metadata": {},
   "outputs": [],
   "source": [
    "response = requests.get(app_link)\n",
    "page = response.text\n",
    "app_soup_object = BeautifulSoup(page, 'lxml')"
   ]
  },
  {
   "cell_type": "code",
   "execution_count": 34,
   "metadata": {},
   "outputs": [],
   "source": [
    "dates = app_soup_object.find_all('td', class_='xl71')\n",
    "app_date_list = [date.get_text() for date in dates]"
   ]
  },
  {
   "cell_type": "code",
   "execution_count": 35,
   "metadata": {},
   "outputs": [],
   "source": [
    "for date in app_date_list:\n",
    "    if \"\\xa0\" in date or \"Presidential\" in date or \"Republican\" in date or \"Democratic\" in date:\n",
    "        app_date_list.remove(date) #Removes the ones with text\n",
    "    elif len(date) < 5:\n",
    "        app_date_list.remove(date) #Removes just years"
   ]
  },
  {
   "cell_type": "code",
   "execution_count": 36,
   "metadata": {},
   "outputs": [],
   "source": [
    "app_date_list.append('October 15, 2020')\n",
    "app_date_list.append('October 15, 2020')"
   ]
  },
  {
   "cell_type": "code",
   "execution_count": 37,
   "metadata": {},
   "outputs": [
    {
     "data": {
      "text/plain": [
       "174"
      ]
     },
     "execution_count": 37,
     "metadata": {},
     "output_type": "execute_result"
    }
   ],
   "source": [
    "len(app_date_list)"
   ]
  },
  {
   "cell_type": "code",
   "execution_count": 38,
   "metadata": {},
   "outputs": [
    {
     "data": {
      "text/plain": [
       "'October 15, 2020'"
      ]
     },
     "execution_count": 38,
     "metadata": {},
     "output_type": "execute_result"
    }
   ],
   "source": [
    "app_date_list.pop(1)"
   ]
  },
  {
   "cell_type": "code",
   "execution_count": 39,
   "metadata": {},
   "outputs": [],
   "source": [
    "for date in app_date_list:\n",
    "    if \"\\xa0\" in date or \"Presidential\" in date or \"Republican\" in date or \"Democratic\" in date:\n",
    "        app_date_list.remove(date) #Removes the ones with text\n",
    "    elif len(date) < 5:\n",
    "        app_date_list.remove(date) #Removes just years"
   ]
  },
  {
   "cell_type": "code",
   "execution_count": 40,
   "metadata": {},
   "outputs": [
    {
     "data": {
      "text/plain": [
       "169"
      ]
     },
     "execution_count": 40,
     "metadata": {},
     "output_type": "execute_result"
    }
   ],
   "source": [
    "len(app_date_list)"
   ]
  },
  {
   "cell_type": "markdown",
   "metadata": {},
   "source": [
    "Pulling in debate names:"
   ]
  },
  {
   "cell_type": "code",
   "execution_count": 41,
   "metadata": {},
   "outputs": [],
   "source": [
    "names = app_soup_object.find('div', class_='col-sm-12').find_all('a')\n",
    "app_name_list = [name.get_text() for name in names]"
   ]
  },
  {
   "cell_type": "code",
   "execution_count": 42,
   "metadata": {},
   "outputs": [
    {
     "data": {
      "text/plain": [
       "'‹ 2016 Presidential Election Documents'"
      ]
     },
     "execution_count": 42,
     "metadata": {},
     "output_type": "execute_result"
    }
   ],
   "source": [
    "app_name_list.pop()\n",
    "app_name_list.pop()\n",
    "app_name_list.pop()"
   ]
  },
  {
   "cell_type": "code",
   "execution_count": 43,
   "metadata": {},
   "outputs": [
    {
     "data": {
      "text/plain": [
       "169"
      ]
     },
     "execution_count": 43,
     "metadata": {},
     "output_type": "execute_result"
    }
   ],
   "source": [
    "len(app_name_list)"
   ]
  },
  {
   "cell_type": "markdown",
   "metadata": {},
   "source": [
    "Making an initial DF:"
   ]
  },
  {
   "cell_type": "code",
   "execution_count": 44,
   "metadata": {},
   "outputs": [],
   "source": [
    "first_app_df = pd.DataFrame(list(zip(app_date_list, app_name_list)), columns=['Date', 'Debate_Name'])"
   ]
  },
  {
   "cell_type": "markdown",
   "metadata": {},
   "source": [
    "Dropping out the unneeded rows:"
   ]
  },
  {
   "cell_type": "code",
   "execution_count": 45,
   "metadata": {},
   "outputs": [],
   "source": [
    "first_app_df.drop(index=[147, 148, 149, 154, 155, 157, 158, 159, 160, 161, 162], inplace=True)"
   ]
  },
  {
   "cell_type": "markdown",
   "metadata": {},
   "source": [
    "Adding in speaker, transcript, debate_type, and data_source:"
   ]
  },
  {
   "cell_type": "code",
   "execution_count": 46,
   "metadata": {},
   "outputs": [],
   "source": [
    "first_app_df['Transcript'] = app_transcripts\n",
    "first_app_df['Speaker'] = new_app_speakers\n",
    "first_app_df['Data_Source'] = 'American Presidency Project'\n",
    "first_app_df['Debate_Type'] = 0\n",
    "for i, name in enumerate(first_app_df.Debate_Name):\n",
    "    if 'Republican Candidates' in name:\n",
    "        first_app_df.iloc[i, 5] = 'Primary-Republican'\n",
    "    elif 'Democratic Candidates' in name:\n",
    "        first_app_df.iloc[i, 5] = 'Primary-Democrat'\n",
    "    elif 'Vice Presidential' in name:\n",
    "        first_app_df.iloc[i, 5] = 'General-VP'\n",
    "    else:\n",
    "        first_app_df.iloc[i, 5] = 'General-President'"
   ]
  },
  {
   "cell_type": "code",
   "execution_count": 47,
   "metadata": {},
   "outputs": [
    {
     "data": {
      "text/html": [
       "<div>\n",
       "<style scoped>\n",
       "    .dataframe tbody tr th:only-of-type {\n",
       "        vertical-align: middle;\n",
       "    }\n",
       "\n",
       "    .dataframe tbody tr th {\n",
       "        vertical-align: top;\n",
       "    }\n",
       "\n",
       "    .dataframe thead th {\n",
       "        text-align: right;\n",
       "    }\n",
       "</style>\n",
       "<table border=\"1\" class=\"dataframe\">\n",
       "  <thead>\n",
       "    <tr style=\"text-align: right;\">\n",
       "      <th></th>\n",
       "      <th>Date</th>\n",
       "      <th>Debate_Name</th>\n",
       "      <th>Transcript</th>\n",
       "      <th>Speaker</th>\n",
       "      <th>Data_Source</th>\n",
       "      <th>Debate_Type</th>\n",
       "    </tr>\n",
       "  </thead>\n",
       "  <tbody>\n",
       "    <tr>\n",
       "      <th>0</th>\n",
       "      <td>October 22, 2020</td>\n",
       "      <td>Presidential Debate at Belmont University in N...</td>\n",
       "      <td>[WELKER: A very good evening to both of you. T...</td>\n",
       "      <td>[WELKER, WELKER, TRUMP, WELKER, BIDEN, WELKER,...</td>\n",
       "      <td>American Presidency Project</td>\n",
       "      <td>General-President</td>\n",
       "    </tr>\n",
       "    <tr>\n",
       "      <th>1</th>\n",
       "      <td>September 29, 2020</td>\n",
       "      <td>Presidential Debate in Cleveland, Ohio</td>\n",
       "      <td>[WALLACE: Good evening from the Health Educati...</td>\n",
       "      <td>[WALLACE, WALLACE, BIDEN, TRUMP, BIDEN, WALLAC...</td>\n",
       "      <td>American Presidency Project</td>\n",
       "      <td>General-President</td>\n",
       "    </tr>\n",
       "    <tr>\n",
       "      <th>2</th>\n",
       "      <td>October 7, 2020</td>\n",
       "      <td>Vice Presidential Debate the University of Uta...</td>\n",
       "      <td>[PAGE: Good evening. From the University of Ut...</td>\n",
       "      <td>[PAGE, PENCE, PAGE, HARRIS, PAGE, PENCE, PAGE,...</td>\n",
       "      <td>American Presidency Project</td>\n",
       "      <td>General-VP</td>\n",
       "    </tr>\n",
       "    <tr>\n",
       "      <th>3</th>\n",
       "      <td>March 15, 2020</td>\n",
       "      <td>Democratic Candidates Debate in Washington, DC</td>\n",
       "      <td>[TAPPER: Good evening from Washington, D.C. An...</td>\n",
       "      <td>[TAPPER, TAPPER, BASH, CALDERON, TAPPER, TAPPE...</td>\n",
       "      <td>American Presidency Project</td>\n",
       "      <td>Primary-Democrat</td>\n",
       "    </tr>\n",
       "    <tr>\n",
       "      <th>4</th>\n",
       "      <td>February 25, 2020</td>\n",
       "      <td>Democratic Candidates Debate in Charleston, So...</td>\n",
       "      <td>[O'DONNELL: Tonight, the battle for the 2020 D...</td>\n",
       "      <td>[O'DONNELL, KING, KING, O'DONNELL, O'DONNELL, ...</td>\n",
       "      <td>American Presidency Project</td>\n",
       "      <td>Primary-Democrat</td>\n",
       "    </tr>\n",
       "  </tbody>\n",
       "</table>\n",
       "</div>"
      ],
      "text/plain": [
       "                 Date                                        Debate_Name  \\\n",
       "0    October 22, 2020  Presidential Debate at Belmont University in N...   \n",
       "1  September 29, 2020             Presidential Debate in Cleveland, Ohio   \n",
       "2     October 7, 2020  Vice Presidential Debate the University of Uta...   \n",
       "3      March 15, 2020     Democratic Candidates Debate in Washington, DC   \n",
       "4   February 25, 2020  Democratic Candidates Debate in Charleston, So...   \n",
       "\n",
       "                                          Transcript  \\\n",
       "0  [WELKER: A very good evening to both of you. T...   \n",
       "1  [WALLACE: Good evening from the Health Educati...   \n",
       "2  [PAGE: Good evening. From the University of Ut...   \n",
       "3  [TAPPER: Good evening from Washington, D.C. An...   \n",
       "4  [O'DONNELL: Tonight, the battle for the 2020 D...   \n",
       "\n",
       "                                             Speaker  \\\n",
       "0  [WELKER, WELKER, TRUMP, WELKER, BIDEN, WELKER,...   \n",
       "1  [WALLACE, WALLACE, BIDEN, TRUMP, BIDEN, WALLAC...   \n",
       "2  [PAGE, PENCE, PAGE, HARRIS, PAGE, PENCE, PAGE,...   \n",
       "3  [TAPPER, TAPPER, BASH, CALDERON, TAPPER, TAPPE...   \n",
       "4  [O'DONNELL, KING, KING, O'DONNELL, O'DONNELL, ...   \n",
       "\n",
       "                   Data_Source        Debate_Type  \n",
       "0  American Presidency Project  General-President  \n",
       "1  American Presidency Project  General-President  \n",
       "2  American Presidency Project         General-VP  \n",
       "3  American Presidency Project   Primary-Democrat  \n",
       "4  American Presidency Project   Primary-Democrat  "
      ]
     },
     "execution_count": 47,
     "metadata": {},
     "output_type": "execute_result"
    }
   ],
   "source": [
    "first_app_df.head()"
   ]
  },
  {
   "cell_type": "markdown",
   "metadata": {},
   "source": [
    "### Commission for Presidential Debates:"
   ]
  },
  {
   "cell_type": "markdown",
   "metadata": {},
   "source": [
    "Pulling in dates/names:"
   ]
  },
  {
   "cell_type": "code",
   "execution_count": 48,
   "metadata": {},
   "outputs": [],
   "source": [
    "cpd_link = 'https://www.debates.org/voter-education/debate-transcripts/'"
   ]
  },
  {
   "cell_type": "code",
   "execution_count": 49,
   "metadata": {},
   "outputs": [
    {
     "data": {
      "text/plain": [
       "48"
      ]
     },
     "execution_count": 49,
     "metadata": {},
     "output_type": "execute_result"
    }
   ],
   "source": [
    "response = requests.get(cpd_link)\n",
    "page = response.text\n",
    "cpd_soup_object = BeautifulSoup(page, 'lxml')\n",
    "info = cpd_soup_object.find('div', id='content-sm').find_all('a')\n",
    "info_list = [stuff.get_text() for stuff in info]\n",
    "len(info_list)"
   ]
  },
  {
   "cell_type": "markdown",
   "metadata": {},
   "source": [
    "Adding in ones that are broken into halves:"
   ]
  },
  {
   "cell_type": "code",
   "execution_count": 50,
   "metadata": {},
   "outputs": [],
   "source": [
    "info_list[30] = 'October 15, 1992: The Second Clinton-Bush-Perot Presidential Debate ' + info_list[30]"
   ]
  },
  {
   "cell_type": "code",
   "execution_count": 51,
   "metadata": {},
   "outputs": [],
   "source": [
    "info_list[31] = 'October 15, 1992: The Second Clinton-Bush-Perot Presidential Debate ' + info_list[31]"
   ]
  },
  {
   "cell_type": "code",
   "execution_count": 52,
   "metadata": {},
   "outputs": [],
   "source": [
    "info_list[27] = 'October 11, 1992: The First Clinton-Bush-Perot Presidential Debate ' + info_list[27]\n",
    "info_list[28] = 'October 11, 1992: The First Clinton-Bush-Perot Presidential Debate ' + info_list[28]"
   ]
  },
  {
   "cell_type": "markdown",
   "metadata": {},
   "source": [
    "Popping off 23rd item, since that is just a link to translations of the 2000 debates"
   ]
  },
  {
   "cell_type": "code",
   "execution_count": 53,
   "metadata": {},
   "outputs": [
    {
     "data": {
      "text/plain": [
       "'The 2000 Debate Transcripts: Transcripts of the debates translated into six languages'"
      ]
     },
     "execution_count": 53,
     "metadata": {},
     "output_type": "execute_result"
    }
   ],
   "source": [
    "info_list.pop(23)"
   ]
  },
  {
   "cell_type": "markdown",
   "metadata": {},
   "source": [
    "Now, pulling debate dates and names into separate list:"
   ]
  },
  {
   "cell_type": "code",
   "execution_count": 54,
   "metadata": {},
   "outputs": [],
   "source": [
    "cpd_date_list = [info.split(':')[0] for info in info_list]\n",
    "cpd_name_list = [info.split(':')[1] for info in info_list]\n",
    "cpd_name_list[0] = 'First Trump-Biden Presidential Debate'\n",
    "cpd_name_list[1] = 'Pence-Harris Vice Presidential Debate'\n",
    "cpd_name_list[2] = 'Second Trump-Biden Presidential Debate'"
   ]
  },
  {
   "cell_type": "code",
   "execution_count": 55,
   "metadata": {},
   "outputs": [],
   "source": [
    "first_cpd_df = pd.DataFrame(list(zip(cpd_date_list, cpd_name_list)), columns=['Date', 'Debate_Name'])"
   ]
  },
  {
   "cell_type": "markdown",
   "metadata": {},
   "source": [
    "Keeping only the needed indices:"
   ]
  },
  {
   "cell_type": "code",
   "execution_count": 56,
   "metadata": {
    "scrolled": true
   },
   "outputs": [],
   "source": [
    "right_first_cpd_df = first_cpd_df.iloc[[26, 27, 35, 37, 38, 39, 40,41,42], :]"
   ]
  },
  {
   "cell_type": "code",
   "execution_count": 57,
   "metadata": {
    "scrolled": true
   },
   "outputs": [
    {
     "data": {
      "text/plain": [
       "(9, 2)"
      ]
     },
     "execution_count": 57,
     "metadata": {},
     "output_type": "execute_result"
    }
   ],
   "source": [
    "right_first_cpd_df.shape"
   ]
  },
  {
   "cell_type": "markdown",
   "metadata": {},
   "source": [
    "Adding in other columns:"
   ]
  },
  {
   "cell_type": "code",
   "execution_count": 58,
   "metadata": {
    "scrolled": true
   },
   "outputs": [
    {
     "name": "stderr",
     "output_type": "stream",
     "text": [
      "<ipython-input-58-67eff7b99c28>:1: SettingWithCopyWarning: \n",
      "A value is trying to be set on a copy of a slice from a DataFrame.\n",
      "Try using .loc[row_indexer,col_indexer] = value instead\n",
      "\n",
      "See the caveats in the documentation: https://pandas.pydata.org/pandas-docs/stable/user_guide/indexing.html#returning-a-view-versus-a-copy\n",
      "  right_first_cpd_df['Transcript'] = cpd_transcripts\n",
      "<ipython-input-58-67eff7b99c28>:2: SettingWithCopyWarning: \n",
      "A value is trying to be set on a copy of a slice from a DataFrame.\n",
      "Try using .loc[row_indexer,col_indexer] = value instead\n",
      "\n",
      "See the caveats in the documentation: https://pandas.pydata.org/pandas-docs/stable/user_guide/indexing.html#returning-a-view-versus-a-copy\n",
      "  right_first_cpd_df['Speaker'] = cpd_speakers\n",
      "<ipython-input-58-67eff7b99c28>:3: SettingWithCopyWarning: \n",
      "A value is trying to be set on a copy of a slice from a DataFrame.\n",
      "Try using .loc[row_indexer,col_indexer] = value instead\n",
      "\n",
      "See the caveats in the documentation: https://pandas.pydata.org/pandas-docs/stable/user_guide/indexing.html#returning-a-view-versus-a-copy\n",
      "  right_first_cpd_df['Data_Source'] = 'Commission for Presidential Debates'\n",
      "<ipython-input-58-67eff7b99c28>:4: SettingWithCopyWarning: \n",
      "A value is trying to be set on a copy of a slice from a DataFrame.\n",
      "Try using .loc[row_indexer,col_indexer] = value instead\n",
      "\n",
      "See the caveats in the documentation: https://pandas.pydata.org/pandas-docs/stable/user_guide/indexing.html#returning-a-view-versus-a-copy\n",
      "  right_first_cpd_df['Debate_Type'] = 0\n",
      "/Users/patrickbovard/opt/anaconda3/envs/metis/lib/python3.8/site-packages/pandas/core/indexing.py:1763: SettingWithCopyWarning: \n",
      "A value is trying to be set on a copy of a slice from a DataFrame.\n",
      "Try using .loc[row_indexer,col_indexer] = value instead\n",
      "\n",
      "See the caveats in the documentation: https://pandas.pydata.org/pandas-docs/stable/user_guide/indexing.html#returning-a-view-versus-a-copy\n",
      "  isetter(loc, value)\n",
      "/Users/patrickbovard/opt/anaconda3/envs/metis/lib/python3.8/site-packages/pandas/core/indexing.py:670: SettingWithCopyWarning: \n",
      "A value is trying to be set on a copy of a slice from a DataFrame\n",
      "\n",
      "See the caveats in the documentation: https://pandas.pydata.org/pandas-docs/stable/user_guide/indexing.html#returning-a-view-versus-a-copy\n",
      "  iloc._setitem_with_indexer(indexer, value)\n",
      "<ipython-input-58-67eff7b99c28>:13: SettingWithCopyWarning: \n",
      "A value is trying to be set on a copy of a slice from a DataFrame\n",
      "\n",
      "See the caveats in the documentation: https://pandas.pydata.org/pandas-docs/stable/user_guide/indexing.html#returning-a-view-versus-a-copy\n",
      "  right_first_cpd_df.iloc[i, 5] = 'General-President'\n"
     ]
    }
   ],
   "source": [
    "right_first_cpd_df['Transcript'] = cpd_transcripts\n",
    "right_first_cpd_df['Speaker'] = cpd_speakers\n",
    "right_first_cpd_df['Data_Source'] = 'Commission for Presidential Debates'\n",
    "right_first_cpd_df['Debate_Type'] = 0\n",
    "for i, name in enumerate(right_first_cpd_df.Debate_Name):\n",
    "    if 'Republican Candidates' in name:\n",
    "        right_first_cpd_df.iloc[i, 5] = 'Primary-Republican'\n",
    "    elif 'Democratic Candidates' in name:\n",
    "        right_first_cpd_df.iloc[i, 5] = 'Primary-Democrat'\n",
    "    elif 'Vice Presidential' in name:\n",
    "        right_first_cpd_df.iloc[i, 5] = 'General-VP'\n",
    "    else:\n",
    "        right_first_cpd_df.iloc[i, 5] = 'General-President'"
   ]
  },
  {
   "cell_type": "markdown",
   "metadata": {},
   "source": [
    "## Concatenating the Dataframes:"
   ]
  },
  {
   "cell_type": "markdown",
   "metadata": {},
   "source": [
    "Combining the two current ones:"
   ]
  },
  {
   "cell_type": "code",
   "execution_count": 60,
   "metadata": {},
   "outputs": [],
   "source": [
    "final_combined_transcript_df = pd.concat([right_first_cpd_df, first_app_df])"
   ]
  },
  {
   "cell_type": "code",
   "execution_count": 61,
   "metadata": {},
   "outputs": [],
   "source": [
    "final_combined_transcript_df.reset_index(drop=True, inplace=True)"
   ]
  },
  {
   "cell_type": "code",
   "execution_count": 62,
   "metadata": {},
   "outputs": [
    {
     "data": {
      "text/html": [
       "<div>\n",
       "<style scoped>\n",
       "    .dataframe tbody tr th:only-of-type {\n",
       "        vertical-align: middle;\n",
       "    }\n",
       "\n",
       "    .dataframe tbody tr th {\n",
       "        vertical-align: top;\n",
       "    }\n",
       "\n",
       "    .dataframe thead th {\n",
       "        text-align: right;\n",
       "    }\n",
       "</style>\n",
       "<table border=\"1\" class=\"dataframe\">\n",
       "  <thead>\n",
       "    <tr style=\"text-align: right;\">\n",
       "      <th></th>\n",
       "      <th>Date</th>\n",
       "      <th>Debate_Name</th>\n",
       "      <th>Transcript</th>\n",
       "      <th>Speaker</th>\n",
       "      <th>Data_Source</th>\n",
       "      <th>Debate_Type</th>\n",
       "    </tr>\n",
       "  </thead>\n",
       "  <tbody>\n",
       "    <tr>\n",
       "      <th>0</th>\n",
       "      <td>October 11, 1992</td>\n",
       "      <td>The First Clinton-Bush-Perot Presidential Deb...</td>\n",
       "      <td>[LEHRER: Good evening, and welcome to the firs...</td>\n",
       "      <td>[LEHRER, PEROT, LEHRER, CLINTON, LEHRER, PRESI...</td>\n",
       "      <td>Commission for Presidential Debates</td>\n",
       "      <td>General-President</td>\n",
       "    </tr>\n",
       "    <tr>\n",
       "      <th>1</th>\n",
       "      <td>October 11, 1992</td>\n",
       "      <td>The First Clinton-Bush-Perot Presidential Deb...</td>\n",
       "      <td>[LEHRER: All right, moving on now to divisions...</td>\n",
       "      <td>[LEHRER, COMPTON, CLINTON, CLINTON, CLINTON, L...</td>\n",
       "      <td>Commission for Presidential Debates</td>\n",
       "      <td>General-President</td>\n",
       "    </tr>\n",
       "    <tr>\n",
       "      <th>2</th>\n",
       "      <td>October 7, 1984</td>\n",
       "      <td>The First Reagan-Mondale Presidential Debate</td>\n",
       "      <td>[MS. RIDINGS: Good evening from the Kentucky C...</td>\n",
       "      <td>[MS. RIDINGS, MS. RIDINGS, MS. RIDINGS, MS. RI...</td>\n",
       "      <td>Commission for Presidential Debates</td>\n",
       "      <td>General-President</td>\n",
       "    </tr>\n",
       "    <tr>\n",
       "      <th>3</th>\n",
       "      <td>October 21, 1984</td>\n",
       "      <td>The Second Reagan-Mondale Presidential Debate</td>\n",
       "      <td>[MS. RIDINGS: Good evening from the Municipal ...</td>\n",
       "      <td>[MS. RIDINGS, MS. RIDINGS, MS. RIDINGS, MR. NE...</td>\n",
       "      <td>Commission for Presidential Debates</td>\n",
       "      <td>General-President</td>\n",
       "    </tr>\n",
       "    <tr>\n",
       "      <th>4</th>\n",
       "      <td>September 21, 1980</td>\n",
       "      <td>The Anderson-Reagan Presidential Debate</td>\n",
       "      <td>[RUTH J. HINERFELD, CHAIR, LEAGUE OF WOMEN VOT...</td>\n",
       "      <td>[RUTH J. HINERFELD, CHAIR, LEAGUE OF WOMEN VOT...</td>\n",
       "      <td>Commission for Presidential Debates</td>\n",
       "      <td>General-President</td>\n",
       "    </tr>\n",
       "  </tbody>\n",
       "</table>\n",
       "</div>"
      ],
      "text/plain": [
       "                 Date                                        Debate_Name  \\\n",
       "0    October 11, 1992   The First Clinton-Bush-Perot Presidential Deb...   \n",
       "1    October 11, 1992   The First Clinton-Bush-Perot Presidential Deb...   \n",
       "2     October 7, 1984       The First Reagan-Mondale Presidential Debate   \n",
       "3    October 21, 1984      The Second Reagan-Mondale Presidential Debate   \n",
       "4  September 21, 1980            The Anderson-Reagan Presidential Debate   \n",
       "\n",
       "                                          Transcript  \\\n",
       "0  [LEHRER: Good evening, and welcome to the firs...   \n",
       "1  [LEHRER: All right, moving on now to divisions...   \n",
       "2  [MS. RIDINGS: Good evening from the Kentucky C...   \n",
       "3  [MS. RIDINGS: Good evening from the Municipal ...   \n",
       "4  [RUTH J. HINERFELD, CHAIR, LEAGUE OF WOMEN VOT...   \n",
       "\n",
       "                                             Speaker  \\\n",
       "0  [LEHRER, PEROT, LEHRER, CLINTON, LEHRER, PRESI...   \n",
       "1  [LEHRER, COMPTON, CLINTON, CLINTON, CLINTON, L...   \n",
       "2  [MS. RIDINGS, MS. RIDINGS, MS. RIDINGS, MS. RI...   \n",
       "3  [MS. RIDINGS, MS. RIDINGS, MS. RIDINGS, MR. NE...   \n",
       "4  [RUTH J. HINERFELD, CHAIR, LEAGUE OF WOMEN VOT...   \n",
       "\n",
       "                           Data_Source        Debate_Type  \n",
       "0  Commission for Presidential Debates  General-President  \n",
       "1  Commission for Presidential Debates  General-President  \n",
       "2  Commission for Presidential Debates  General-President  \n",
       "3  Commission for Presidential Debates  General-President  \n",
       "4  Commission for Presidential Debates  General-President  "
      ]
     },
     "execution_count": 62,
     "metadata": {},
     "output_type": "execute_result"
    }
   ],
   "source": [
    "final_combined_transcript_df.head()"
   ]
  },
  {
   "cell_type": "markdown",
   "metadata": {},
   "source": [
    "Exploding Transcripts, to make each row one paragraph:"
   ]
  },
  {
   "cell_type": "code",
   "execution_count": 63,
   "metadata": {},
   "outputs": [],
   "source": [
    "t_exp_final_combined_transcript_df = final_combined_transcript_df.explode('Transcript')"
   ]
  },
  {
   "cell_type": "code",
   "execution_count": 64,
   "metadata": {},
   "outputs": [],
   "source": [
    "t_exp_final_combined_transcript_df.reset_index(drop=True, inplace=True)"
   ]
  },
  {
   "cell_type": "code",
   "execution_count": 65,
   "metadata": {},
   "outputs": [
    {
     "data": {
      "text/plain": [
       "(76700, 6)"
      ]
     },
     "execution_count": 65,
     "metadata": {},
     "output_type": "execute_result"
    }
   ],
   "source": [
    "t_exp_final_combined_transcript_df.shape"
   ]
  },
  {
   "cell_type": "code",
   "execution_count": 66,
   "metadata": {},
   "outputs": [],
   "source": [
    "speakers = final_combined_transcript_df.Speaker"
   ]
  },
  {
   "cell_type": "code",
   "execution_count": 67,
   "metadata": {},
   "outputs": [
    {
     "data": {
      "text/plain": [
       "(76700,)"
      ]
     },
     "execution_count": 67,
     "metadata": {},
     "output_type": "execute_result"
    }
   ],
   "source": [
    "exploded_speakers = speakers.explode()\n",
    "exploded_speakers.reset_index(drop=True, inplace=True)\n",
    "exploded_speakers.shape"
   ]
  },
  {
   "cell_type": "markdown",
   "metadata": {},
   "source": [
    "Reassigning the speaker column to the exploded version:"
   ]
  },
  {
   "cell_type": "code",
   "execution_count": 68,
   "metadata": {},
   "outputs": [],
   "source": [
    "t_exp_final_combined_transcript_df['Speaker'] = exploded_speakers"
   ]
  },
  {
   "cell_type": "code",
   "execution_count": 69,
   "metadata": {},
   "outputs": [
    {
     "data": {
      "text/html": [
       "<div>\n",
       "<style scoped>\n",
       "    .dataframe tbody tr th:only-of-type {\n",
       "        vertical-align: middle;\n",
       "    }\n",
       "\n",
       "    .dataframe tbody tr th {\n",
       "        vertical-align: top;\n",
       "    }\n",
       "\n",
       "    .dataframe thead th {\n",
       "        text-align: right;\n",
       "    }\n",
       "</style>\n",
       "<table border=\"1\" class=\"dataframe\">\n",
       "  <thead>\n",
       "    <tr style=\"text-align: right;\">\n",
       "      <th></th>\n",
       "      <th>Date</th>\n",
       "      <th>Debate_Name</th>\n",
       "      <th>Transcript</th>\n",
       "      <th>Speaker</th>\n",
       "      <th>Data_Source</th>\n",
       "      <th>Debate_Type</th>\n",
       "    </tr>\n",
       "  </thead>\n",
       "  <tbody>\n",
       "    <tr>\n",
       "      <th>0</th>\n",
       "      <td>October 11, 1992</td>\n",
       "      <td>The First Clinton-Bush-Perot Presidential Deb...</td>\n",
       "      <td>LEHRER: Good evening, and welcome to the first...</td>\n",
       "      <td>LEHRER</td>\n",
       "      <td>Commission for Presidential Debates</td>\n",
       "      <td>General-President</td>\n",
       "    </tr>\n",
       "    <tr>\n",
       "      <th>1</th>\n",
       "      <td>October 11, 1992</td>\n",
       "      <td>The First Clinton-Bush-Perot Presidential Deb...</td>\n",
       "      <td>PEROT: I think the principal that separates me...</td>\n",
       "      <td>PEROT</td>\n",
       "      <td>Commission for Presidential Debates</td>\n",
       "      <td>General-President</td>\n",
       "    </tr>\n",
       "    <tr>\n",
       "      <th>2</th>\n",
       "      <td>October 11, 1992</td>\n",
       "      <td>The First Clinton-Bush-Perot Presidential Deb...</td>\n",
       "      <td>LEHRER: Governor Clinton, a one minute response.</td>\n",
       "      <td>LEHRER</td>\n",
       "      <td>Commission for Presidential Debates</td>\n",
       "      <td>General-President</td>\n",
       "    </tr>\n",
       "    <tr>\n",
       "      <th>3</th>\n",
       "      <td>October 11, 1992</td>\n",
       "      <td>The First Clinton-Bush-Perot Presidential Deb...</td>\n",
       "      <td>CLINTON: The most important distinction in thi...</td>\n",
       "      <td>CLINTON</td>\n",
       "      <td>Commission for Presidential Debates</td>\n",
       "      <td>General-President</td>\n",
       "    </tr>\n",
       "    <tr>\n",
       "      <th>4</th>\n",
       "      <td>October 11, 1992</td>\n",
       "      <td>The First Clinton-Bush-Perot Presidential Deb...</td>\n",
       "      <td>LEHRER: President Bush, one minute response, sir.</td>\n",
       "      <td>LEHRER</td>\n",
       "      <td>Commission for Presidential Debates</td>\n",
       "      <td>General-President</td>\n",
       "    </tr>\n",
       "  </tbody>\n",
       "</table>\n",
       "</div>"
      ],
      "text/plain": [
       "               Date                                        Debate_Name  \\\n",
       "0  October 11, 1992   The First Clinton-Bush-Perot Presidential Deb...   \n",
       "1  October 11, 1992   The First Clinton-Bush-Perot Presidential Deb...   \n",
       "2  October 11, 1992   The First Clinton-Bush-Perot Presidential Deb...   \n",
       "3  October 11, 1992   The First Clinton-Bush-Perot Presidential Deb...   \n",
       "4  October 11, 1992   The First Clinton-Bush-Perot Presidential Deb...   \n",
       "\n",
       "                                          Transcript  Speaker  \\\n",
       "0  LEHRER: Good evening, and welcome to the first...   LEHRER   \n",
       "1  PEROT: I think the principal that separates me...    PEROT   \n",
       "2   LEHRER: Governor Clinton, a one minute response.   LEHRER   \n",
       "3  CLINTON: The most important distinction in thi...  CLINTON   \n",
       "4  LEHRER: President Bush, one minute response, sir.   LEHRER   \n",
       "\n",
       "                           Data_Source        Debate_Type  \n",
       "0  Commission for Presidential Debates  General-President  \n",
       "1  Commission for Presidential Debates  General-President  \n",
       "2  Commission for Presidential Debates  General-President  \n",
       "3  Commission for Presidential Debates  General-President  \n",
       "4  Commission for Presidential Debates  General-President  "
      ]
     },
     "execution_count": 69,
     "metadata": {},
     "output_type": "execute_result"
    }
   ],
   "source": [
    "t_exp_final_combined_transcript_df.head()"
   ]
  },
  {
   "cell_type": "code",
   "execution_count": 70,
   "metadata": {},
   "outputs": [
    {
     "data": {
      "text/plain": [
       "(76700, 6)"
      ]
     },
     "execution_count": 70,
     "metadata": {},
     "output_type": "execute_result"
    }
   ],
   "source": [
    "t_exp_final_combined_transcript_df.shape"
   ]
  },
  {
   "cell_type": "markdown",
   "metadata": {},
   "source": [
    "Pickling this dataframe to work on in a new notebook:"
   ]
  },
  {
   "cell_type": "code",
   "execution_count": 71,
   "metadata": {},
   "outputs": [],
   "source": [
    "with open('Data/final_speaker_df.pickle', 'wb') as to_write:\n",
    "    pickle.dump(t_exp_final_combined_transcript_df, to_write)"
   ]
  },
  {
   "cell_type": "markdown",
   "metadata": {},
   "source": [
    "## MOVE TO: final_dataframe_cleanup.ipynb"
   ]
  }
 ],
 "metadata": {
  "kernelspec": {
   "display_name": "Python [conda env:metis] *",
   "language": "python",
   "name": "conda-env-metis-py"
  },
  "language_info": {
   "codemirror_mode": {
    "name": "ipython",
    "version": 3
   },
   "file_extension": ".py",
   "mimetype": "text/x-python",
   "name": "python",
   "nbconvert_exporter": "python",
   "pygments_lexer": "ipython3",
   "version": "3.8.6"
  }
 },
 "nbformat": 4,
 "nbformat_minor": 4
}
