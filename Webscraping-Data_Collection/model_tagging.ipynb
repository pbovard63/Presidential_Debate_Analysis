{
 "cells": [
  {
   "cell_type": "markdown",
   "metadata": {},
   "source": [
    "# Model Tagging\n",
    "The purpose of this notebook is to work with the original data to see if i can properly tag the speaker of each line.  Additional scraping may be required to make sure it is classified properly."
   ]
  },
  {
   "cell_type": "markdown",
   "metadata": {},
   "source": [
    "Importing packages:"
   ]
  },
  {
   "cell_type": "code",
   "execution_count": 1,
   "metadata": {},
   "outputs": [],
   "source": [
    "import nltk\n",
    "import pandas as pd\n",
    "import numpy as np\n",
    "import pickle\n",
    "import matplotlib.pyplot as plt\n",
    "from pylab import rcParams\n",
    "%matplotlib inline\n",
    "rcParams['figure.figsize'] = 20,10\n",
    "import pickle\n",
    "from bs4 import BeautifulSoup\n",
    "import requests\n",
    "import re\n",
    "from IPython.core.display import display, HTML    # make sure Jupyter knows to display it as HTML\n",
    "import time, os\n",
    "from selenium import webdriver\n",
    "from selenium.webdriver.common.keys import Keys\n",
    "chromedriver = \"/Applications/chromedriver\" # path to the chromedriver executable\n",
    "os.environ[\"webdriver.chrome.driver\"] = chromedriver"
   ]
  },
  {
   "cell_type": "markdown",
   "metadata": {},
   "source": [
    "In the American Presidency Project, the transcripts are formatted in different ways with how the speaker is listed - sometimes in bold, sometimes not.  If I can scrape these properly, I should be able to properly pull out the speaker from each line."
   ]
  },
  {
   "cell_type": "markdown",
   "metadata": {},
   "source": [
    "**American President Project:**  \n",
    "Group 1: Bold, w/ colons: \n",
    "- Everything in 2019/2020 (including Trump/Biden townhalls)\n",
    "- Everything in 2015-16\n",
    "- 2012: VP, all Primaries\n",
    "- 2008 General/Primaries: All others, besides below\n",
    "- 2004: Democratic Primaries\n",
    "- 2000: All Democratic Primaries, All Republican Primaries\n",
    "\n",
    "Group 2: Italics, w/Period:\n",
    "- 2012: Presidential\n",
    "- 2004: All Three Presidential\n",
    "- 1996: All Three Presidential\n",
    "\n",
    "Group 3: Colon, no italics or bold:\n",
    "- 2008: Democratic Candidates Debate in Miami, Florida; Republican Candidates Debate in Miami, Florida\n",
    "- 2004: VP\n",
    "- 2000: All General Election Debates\n",
    "- 1996: VP\n",
    "- 1992: All\n",
    "- 1988: All\n",
    "- 1984: All\n",
    "- 1981: All\n",
    "- 1976: All\n",
    "- 1960: All\n",
    "\n",
    "Goal: find ones in Commission for Presidential Debates that are easier to work with, particularly those in Group 3.\n",
    "\n",
    "**CPD:**  \n",
    "- Those aren't better, so let me see if I can write scraping code for those first two groups."
   ]
  },
  {
   "cell_type": "markdown",
   "metadata": {},
   "source": [
    "### Group 1: Bold, w/ colons:"
   ]
  },
  {
   "cell_type": "code",
   "execution_count": 2,
   "metadata": {},
   "outputs": [],
   "source": [
    "test_link = 'https://www.presidency.ucsb.edu/documents/presidential-debate-belmont-university-nashville-tennessee-0'"
   ]
  },
  {
   "cell_type": "code",
   "execution_count": 3,
   "metadata": {},
   "outputs": [],
   "source": [
    "response = requests.get(test_link)\n",
    "page = response.text\n",
    "soup_object = BeautifulSoup(page, 'lxml')"
   ]
  },
  {
   "cell_type": "code",
   "execution_count": 4,
   "metadata": {},
   "outputs": [],
   "source": [
    "transcript = soup_object.find('div', class_='field-docs-content').find_all('p')"
   ]
  },
  {
   "cell_type": "markdown",
   "metadata": {},
   "source": [
    "Below loop will go through each paragraph, and if there is a speaker (in bold), then it will print the bold text (i.e. the speaker).  If not, it will print \"no speaker!\":"
   ]
  },
  {
   "cell_type": "code",
   "execution_count": 5,
   "metadata": {},
   "outputs": [
    {
     "name": "stdout",
     "output_type": "stream",
     "text": [
      "PARTICIPANTS\n",
      "MODERATOR\n",
      "WELKER\n",
      "no speaker!\n",
      "TRUMP\n",
      "WELKER\n",
      "BIDEN\n",
      "WELKER\n",
      "TRUMP\n",
      "WELKER\n",
      "TRUMP\n",
      "WELKER\n",
      "TRUMP\n",
      "WELKER\n",
      "BIDEN\n",
      "WELKER\n",
      "TRUMP\n",
      "WELKER\n",
      "BIDEN\n",
      "WELKER\n",
      "TRUMP\n",
      "WELKER\n",
      "BIDEN\n",
      "WELKER\n",
      "BIDEN\n",
      "WELKER\n",
      "TRUMP\n",
      "WELKER\n",
      "TRUMP\n",
      "WELKER\n",
      "BIDEN\n",
      "WELKER\n",
      "TRUMP\n",
      "BIDEN\n",
      "TRUMP\n",
      "BIDEN\n",
      "WELKER\n",
      "TRUMP\n",
      "WELKER\n",
      "BIDEN\n",
      "WELKER\n",
      "BIDEN\n",
      "WELKER\n",
      "BIDEN\n",
      "WELKER\n",
      "TRUMP\n",
      "WELKER\n",
      "TRUMP\n",
      "WELKER\n",
      "TRUMP\n",
      "WELKER\n",
      "BIDEN\n",
      "WELKER\n",
      "TRUMP\n",
      "WELKER\n",
      "BIDEN\n",
      "TRUMP\n",
      "WELKER\n",
      "TRUMP\n",
      "WELKER\n",
      "TRUMP\n",
      "WELKER\n",
      "BIDEN\n",
      "TRUMP\n",
      "WELKER\n",
      "TRUMP\n",
      "WELKER\n",
      "BIDEN\n",
      "WELKER\n",
      "BIDEN\n",
      "WELKER\n",
      "TRUMP\n",
      "WELKER\n",
      "BIDEN\n",
      "WELKER\n",
      "TRUMP\n",
      "WELKER\n",
      "TRUMP\n",
      "WELKER\n",
      "TRUMP\n",
      "WELKER\n",
      "BIDEN\n",
      "WELKER\n",
      "BIDEN\n",
      "WELKER\n",
      "TRUMP\n",
      "WELKER\n",
      "BIDEN\n",
      "WELKER\n",
      "TRUMP\n",
      "WELKER\n",
      "TRUMP\n",
      "WELKER\n",
      "BIDEN\n",
      "WELKER\n",
      "TRUMP\n",
      "WELKER\n",
      "TRUMP\n",
      "WELKER\n",
      "BIDEN\n",
      "WELKER\n",
      "TRUMP\n",
      "WELKER\n",
      "TRUMP\n",
      "BIDEN\n",
      "TRUMP\n",
      "BIDEN\n",
      "WELKER\n",
      "TRUMP\n",
      "WELKER\n",
      "TRUMP\n",
      "BIDEN\n",
      "TRUMP\n",
      "BIDEN\n",
      "TRUMP\n",
      "BIDEN\n",
      "TRUMP\n",
      "WELKER\n",
      "BIDEN\n",
      "WELKER\n",
      "TRUMP\n",
      "WELKER\n",
      "TRUMP\n",
      "WELKER\n",
      "TRUMP\n",
      "WELKER\n",
      "TRUMP\n",
      "WELKER\n",
      "TRUMP\n",
      "WELKER\n",
      "BIDEN\n",
      "WELKER\n",
      "BIDEN\n",
      "WELKER\n",
      "TRUMP\n",
      "WELKER\n",
      "TRUMP\n",
      "WELKER\n",
      "TRUMP\n",
      "WELKER\n",
      "BIDEN\n",
      "TRUMP\n",
      "WELKER\n",
      "TRUMP\n",
      "WELKER\n",
      "TRUMP\n",
      "WELKER\n",
      "TRUMP\n",
      "WELKER\n",
      "BIDEN\n",
      "WELKER\n",
      "BIDEN\n",
      "WELKER\n",
      "TRUMP\n",
      "WELKER\n",
      "TRUMP\n",
      "WELKER\n",
      "TRUMP\n",
      "WELKER\n",
      "BIDEN\n",
      "TRUMP\n",
      "WELKER\n",
      "TRUMP\n",
      "WELKER\n",
      "TRUMP\n",
      "WELKER\n",
      "BIDEN\n",
      "TRUMP\n",
      "WELKER\n",
      "TRUMP\n",
      "WELKER\n",
      "TRUMP\n",
      "WELKER\n",
      "BIDEN\n",
      "WELKER\n",
      "BIDEN\n",
      "TRUMP\n",
      "WELKER\n",
      "TRUMP\n",
      "WELKER\n",
      "TRUMP\n",
      "WELKER\n",
      "TRUMP\n",
      "WELKER\n",
      "TRUMP\n",
      "WELKER\n",
      "BIDEN\n",
      "WELKER\n",
      "TRUMP\n",
      "WELKER\n",
      "BIDEN\n",
      "TRUMP\n",
      "WELKER\n",
      "BIDEN\n",
      "WELKER\n",
      "BIDEN\n",
      "WELKER\n",
      "TRUMP\n",
      "WELKER\n",
      "TRUMP\n",
      "WELKER\n",
      "TRUMP\n",
      "WELKER\n",
      "TRUMP\n",
      "WELKER\n",
      "BIDEN\n",
      "no speaker!\n",
      "WELKER\n",
      "TRUMP\n",
      "WELKER\n",
      "TRUMP\n",
      "WELKER\n",
      "TRUMP\n",
      "WELKER\n",
      "BIDEN\n",
      "WELKER\n",
      "TRUMP\n",
      "BIDEN\n",
      "TRUMP\n",
      "BIDEN\n",
      "WELKER\n",
      "TRUMP\n",
      "WELKER\n",
      "TRUMP\n",
      "WELKER\n",
      "BIDEN\n",
      "WELKER\n",
      "TRUMP\n",
      "WELKER\n",
      "BIDEN\n",
      "WELKER\n",
      "TRUMP\n",
      "BIDEN\n",
      "TRUMP\n",
      "WELKER\n",
      "TRUMP\n",
      "WELKER\n",
      "BIDEN\n",
      "TRUMP\n",
      "BIDEN\n",
      "WELKER\n",
      "TRUMP\n",
      "WELKER\n",
      "BIDEN\n",
      "TRUMP\n",
      "WELKER\n",
      "BIDEN\n",
      "WELKER\n",
      "TRUMP\n",
      "WELKER\n",
      "BIDEN\n",
      "TRUMP\n",
      "BIDEN\n",
      "TRUMP\n",
      "BIDEN\n",
      "TRUMP\n",
      "WELKER\n",
      "BIDEN\n",
      "WELKER\n",
      "TRUMP\n",
      "WELKER\n",
      "TRUMP\n",
      "BIDEN\n",
      "WELKER\n",
      "TRUMP\n",
      "WELKER\n",
      "BIDEN\n",
      "WELKER\n",
      "BIDEN\n",
      "TRUMP\n",
      "BIDEN\n",
      "TRUMP\n",
      "WELKER\n",
      "TRUMP\n",
      "WELKER\n",
      "TRUMP\n",
      "WELKER\n",
      "TRUMP\n",
      "WELKER\n",
      "BIDEN\n",
      "WELKER\n",
      "TRUMP\n",
      "BIDEN\n",
      "TRUMP\n",
      "BIDEN\n",
      "TRUMP\n",
      "WELKER\n",
      "BIDEN\n",
      "TRUMP\n",
      "BIDEN\n",
      "TRUMP\n",
      "BIDEN\n",
      "TRUMP\n",
      "WELKER\n",
      "BIDEN\n",
      "WELKER\n",
      "TRUMP\n",
      "WELKER\n",
      "TRUMP\n",
      "WELKER\n",
      "TRUMP\n",
      "WELKER\n",
      "TRUMP\n",
      "WELKER\n",
      "BIDEN\n",
      "WELKER\n",
      "TRUMP\n",
      "WELKER\n",
      "BIDEN\n",
      "WELKER\n",
      "TRUMP\n",
      "BIDEN\n",
      "TRUMP\n",
      "BIDEN\n",
      "TRUMP\n",
      "WELKER\n",
      "BIDEN\n",
      "TRUMP\n",
      "BIDEN\n",
      "TRUMP\n",
      "BIDEN\n",
      "WELKER\n",
      "BIDEN\n",
      "WELKER\n",
      "TRUMP\n",
      "BIDEN\n",
      "WELKER\n",
      "TRUMP\n",
      "WELKER\n",
      "BIDEN\n",
      "WELKER\n",
      "TRUMP\n",
      "BIDEN\n",
      "TRUMP\n",
      "BIDEN\n",
      "WELKER\n",
      "BIDEN\n",
      "TRUMP\n",
      "BIDEN\n",
      "TRUMP\n",
      "WELKER\n",
      "TRUMP\n",
      "WELKER\n",
      "TRUMP\n",
      "WELKER\n",
      "BIDEN\n",
      "WELKER\n",
      "TRUMP\n",
      "WELKER\n",
      "BIDEN\n",
      "TRUMP\n",
      "WELKER\n",
      "TRUMP\n",
      "WELKER\n",
      "BIDEN\n",
      "WELKER\n"
     ]
    }
   ],
   "source": [
    "for paragraph in transcript:\n",
    "    if paragraph.find('b'):\n",
    "        print(paragraph.find('b').get_text().strip(':'))\n",
    "    else:\n",
    "        print('no speaker!')"
   ]
  },
  {
   "cell_type": "markdown",
   "metadata": {},
   "source": [
    "The thought is, once I have a list of speakers next to paragraph, any row with \"no speaker!\" can have the preceding speaker pulled down to it, since this would indicate that line is a continuation of the previous speaker's line."
   ]
  },
  {
   "cell_type": "markdown",
   "metadata": {},
   "source": [
    "### Group 2: Italics, w/Period:"
   ]
  },
  {
   "cell_type": "markdown",
   "metadata": {},
   "source": [
    "Testing on one debate:"
   ]
  },
  {
   "cell_type": "code",
   "execution_count": 6,
   "metadata": {},
   "outputs": [],
   "source": [
    "test_link = 'https://www.presidency.ucsb.edu/documents/presidential-debate-boca-raton-florida'"
   ]
  },
  {
   "cell_type": "code",
   "execution_count": 7,
   "metadata": {},
   "outputs": [],
   "source": [
    "response = requests.get(test_link)\n",
    "page = response.text\n",
    "soup_object = BeautifulSoup(page, 'lxml')"
   ]
  },
  {
   "cell_type": "code",
   "execution_count": 8,
   "metadata": {},
   "outputs": [],
   "source": [
    "transcript = soup_object.find('div', class_='field-docs-content').find_all('p')"
   ]
  },
  {
   "cell_type": "markdown",
   "metadata": {},
   "source": [
    "Below loop will go through each paragraph, and if there is a speaker (in italics), then it will print the bold text (i.e. the speaker).  If not, it will print \"no speaker!\":"
   ]
  },
  {
   "cell_type": "code",
   "execution_count": 9,
   "metadata": {},
   "outputs": [
    {
     "name": "stdout",
     "output_type": "stream",
     "text": [
      "Moderator Bob Schieffer\n",
      "no speaker!\n",
      "no speaker!\n",
      "no speaker!\n",
      "no speaker!\n",
      "Situation in the Middle East and North Africa/Al Qaida Terrorist Organization\n",
      "no speaker!\n",
      "no speaker!\n",
      "no speaker!\n",
      "Republican Presidential Nominee W. Mitt Romney\n",
      "no speaker!\n",
      "no speaker!\n",
      "no speaker!\n",
      "no speaker!\n",
      "Mr. Schieffer. \n",
      "Counterterrorism Efforts/Libya\n",
      "The President\n",
      "no speaker!\n",
      "no speaker!\n",
      "no speaker!\n",
      "no speaker!\n",
      "Counterterrorism Efforts/Situation in the Middle East and North Africa\n",
      "Gov. Romney. \n",
      "no speaker!\n",
      "no speaker!\n",
      "no speaker!\n",
      "Mr. Schieffer\n",
      "Gov. Romney\n",
      "Mr. Schieffer. \n",
      "Governor Romney's Foreign Policy Agenda\n",
      "The President\n",
      "no speaker!\n",
      "no speaker!\n",
      "no speaker!\n",
      "no speaker!\n",
      "Mr. Schieffer. \n",
      "Situation in the Middle East/Russia/Iraq\n",
      "Gov. Romney. \n",
      "no speaker!\n",
      "no speaker!\n",
      "The President\n",
      "Gov. Romney. \n",
      "no speaker!\n",
      "The President\n",
      "Gov. Romney. \n",
      "The President\n",
      "Gov. Romney. \n",
      "The President\n",
      "Gov. Romney. \n",
      "The President\n",
      "Gov. Romney. \n",
      "The President\n",
      "Gov. Romney. \n",
      "The President\n",
      "Gov. Romney. \n",
      "The President\n",
      "Gov. Romney. \n",
      "The President\n",
      "Gov. Romney. \n",
      "The President\n",
      "Gov. Romney. \n",
      "The President\n",
      "Gov. Romney. ——at the end of the conflict that existed in Iraq.\n",
      "\n",
      "no speaker!\n",
      "Mr. Schieffer. \n",
      "The President's Foreign Policy Agenda\n",
      "The President\n",
      "no speaker!\n",
      "no speaker!\n",
      "no speaker!\n",
      "no speaker!\n",
      "Mr. Schieffer\n",
      "The President\n",
      "Syria\n",
      "Mr. Schieffer. \n",
      "no speaker!\n",
      "The President\n",
      "no speaker!\n",
      "no speaker!\n",
      "no speaker!\n",
      "Mr. Schieffer. \n",
      "Gov. Romney. \n",
      "no speaker!\n",
      "no speaker!\n",
      "no speaker!\n",
      "no speaker!\n",
      "Mr. Schieffer. \n",
      "Syria/Libya\n",
      "The President\n",
      "no speaker!\n",
      "no speaker!\n",
      "no speaker!\n",
      "Syria\n",
      "Mr. Schieffer. \n",
      "Gov. Romney. \n",
      "no speaker!\n",
      "no speaker!\n",
      "no speaker!\n",
      "Mr. Schieffer. \n",
      "The President\n",
      "Arab Spring/Egypt/National Economy\n",
      "Mr. Schieffer. \n",
      "The President\n",
      "Mr. Schieffer. \n",
      "The President\n",
      "no speaker!\n",
      "no speaker!\n",
      "no speaker!\n",
      "no speaker!\n",
      "Arab Spring/National Economy/U.S. Global Influence\n",
      "Mr. Schieffer. \n",
      "Gov. Romney. \n",
      "no speaker!\n",
      "no speaker!\n",
      "no speaker!\n",
      "no speaker!\n",
      "no speaker!\n",
      "no speaker!\n",
      "Mr. Schieffer. \n",
      "Gov. Romney. \n",
      "The President\n",
      "Gov. Romney. \n",
      "Governor Romney's Foreign Policy Agenda/National Economy/U.S. Armed Forces\n",
      "Mr. Schieffer. \n",
      "Gov. Romney. \n",
      "no speaker!\n",
      "no speaker!\n",
      "no speaker!\n",
      "no speaker!\n",
      "Mr. Schieffer. \n",
      "The President's Foreign Policy Agenda/National Economy\n",
      "The President\n",
      "no speaker!\n",
      "no speaker!\n",
      "no speaker!\n",
      "no speaker!\n",
      "no speaker!\n",
      "National Economy\n",
      "Mr. Schieffer. \n",
      "Gov. Romney. \n",
      "no speaker!\n",
      "no speaker!\n",
      "no speaker!\n",
      "no speaker!\n",
      "no speaker!\n",
      "no speaker!\n",
      "Small-Business Promotion/Education\n",
      "The President\n",
      "no speaker!\n",
      "no speaker!\n",
      "no speaker!\n",
      "Mr. Schieffer. \n",
      "Gov. Romney. \n",
      "Mr. Schieffer. \n",
      "Gov. Romney. \n",
      "Mr. Schieffer. \n",
      "Education\n",
      "Gov. Romney. \n",
      "no speaker!\n",
      "The President\n",
      "Gov. Romney. \n",
      "The President\n",
      "no speaker!\n",
      "Mr. Schieffer. \n",
      "Gov. Romney. \n",
      "The President\n",
      "Gov. Romney. \n",
      "Mr. Schieffer. \n",
      "Gov. Romney. \n",
      "The President\n",
      "Mr. Schieffer. \n",
      "Gov. Romney. \n",
      "Deficit and National Debt\n",
      "Mr. Schieffer. \n",
      "Gov. Romney. \n",
      "Mr. Schieffer. \n",
      "Gov. Romney. \n",
      "no speaker!\n",
      "Mr. Schieffer. \n",
      "Gov. Romney. \n",
      "The President\n",
      "Gov. Romney. \n",
      "The President\n",
      "Mr. Schieffer. \n",
      "Gov. Romney. \n",
      "Mr. Schieffer. \n",
      "Deficit and National Debt\n",
      "The President\n",
      "no speaker!\n",
      "no speaker!\n",
      "no speaker!\n",
      "no speaker!\n",
      "no speaker!\n",
      "Deficit and National Debt/U.S. Armed Forces/Defense Spending\n",
      "Gov. Romney. \n",
      "no speaker!\n",
      "Mr. Schieffer\n",
      "Gov. Romney. \n",
      "no speaker!\n",
      "Mr. Schieffer. \n",
      "Gov. Romney. \n",
      "no speaker!\n",
      "no speaker!\n",
      "The President\n",
      "no speaker!\n",
      "no speaker!\n",
      "Mr. Schieffer\n",
      "The President\n",
      "Israel/Iran\n",
      "Mr. Schieffer. \n",
      "no speaker!\n",
      "The President\n",
      "Mr. Schieffer. \n",
      "The President\n",
      "no speaker!\n",
      "no speaker!\n",
      "no speaker!\n",
      "no speaker!\n",
      "Mr. Schieffer. \n",
      "Gov. Romney. \n",
      "no speaker!\n",
      "no speaker!\n",
      "no speaker!\n",
      "no speaker!\n",
      "no speaker!\n",
      "Iran\n",
      "Mr. Schieffer. \n",
      "The President\n",
      "no speaker!\n",
      "no speaker!\n",
      "no speaker!\n",
      "no speaker!\n",
      "no speaker!\n",
      "no speaker!\n",
      "Mr. Schieffer. \n",
      "The President\n",
      "Mr. Schieffer. \n",
      "Gov. Romney. \n",
      "no speaker!\n",
      "no speaker!\n",
      "no speaker!\n",
      "no speaker!\n",
      "The President\n",
      "no speaker!\n",
      "no speaker!\n",
      "no speaker!\n",
      "Iran/The President's Foreign Policy Agenda/Israel\n",
      "Gov. Romney. \n",
      "no speaker!\n",
      "The President\n",
      "no speaker!\n",
      "no speaker!\n",
      "Israel/The President's Foreign Policy Agenda\n",
      "Mr. Schieffer. \n",
      "Gov. Romney. \n",
      "Mr. Schieffer. \n",
      "Gov. Romney. \n",
      "Mr. Schieffer. \n",
      "Gov. Romney. \n",
      "The President\n",
      "Gov. Romney\n",
      "no speaker!\n",
      "The President\n",
      "Gov. Romney\n",
      "Mr. Schieffer. \n",
      "Governor Romney's Foreign Policy Agenda/The President's Foreign Policy Agenda\n",
      "The President\n",
      "no speaker!\n",
      "no speaker!\n",
      "no speaker!\n",
      "Mr. Schieffer. \n",
      "The President\n",
      "Mr. Schieffer. \n",
      "Gov. Romney. \n",
      "Mr. Schieffer. \n",
      "Gov. Romney. \n",
      "Mr. Schieffer. \n",
      "Gov. Romney. \n",
      "Mr. Schieffer. \n",
      "The President\n",
      "Afghanistan/Pakistan\n",
      "Mr. Schieffer. \n",
      "Gov. Romney. \n",
      "no speaker!\n",
      "no speaker!\n",
      "no speaker!\n",
      "Afghanistan/Pakistan/Veterans\n",
      "Mr. Schieffer. \n",
      "The President\n",
      "no speaker!\n",
      "no speaker!\n",
      "no speaker!\n",
      "no speaker!\n",
      "no speaker!\n",
      "Pakistan\n",
      "Mr. Schieffer. \n",
      "Gov. Romney. \n",
      "no speaker!\n",
      "no speaker!\n",
      "no speaker!\n",
      "no speaker!\n",
      "Counterterrorism/The President's Foreign Policy Agenda/Israel\n",
      "Mr. Schieffer. \n",
      "Gov. Romney. \n",
      "no speaker!\n",
      "no speaker!\n",
      "Counterterrorism/Democracy Promotion\n",
      "The President\n",
      "no speaker!\n",
      "no speaker!\n",
      "China\n",
      "Mr. Schieffer. \n",
      "The President\n",
      "no speaker!\n",
      "no speaker!\n",
      "no speaker!\n",
      "no speaker!\n",
      "Mr. Schieffer. \n",
      "Gov. Romney. \n",
      "no speaker!\n",
      "no speaker!\n",
      "no speaker!\n",
      "no speaker!\n",
      "China\n",
      "Mr. Schieffer. \n",
      "Gov. Romney. \n",
      "no speaker!\n",
      "no speaker!\n",
      "Global Competitiveness/China\n",
      "The President\n",
      "no speaker!\n",
      "no speaker!\n",
      "no speaker!\n",
      "no speaker!\n",
      "no speaker!\n",
      "U.S. Automobile Industry\n",
      "Gov. Romney. \n",
      "no speaker!\n",
      "The President\n",
      "Gov. Romney. \n",
      "The President\n",
      "Gov. Romney. \n",
      "The President\n",
      "Gov. Romney. \n",
      "The President\n",
      "Gov. Romney. \n",
      "The President\n",
      "Global Competitiveness\n",
      "Gov. Romney. \n",
      "The President\n",
      "Gov. Romney. \n",
      "The President\n",
      "Gov. Romney. \n",
      "The President\n",
      "Gov. Romney. \n",
      "The President\n",
      "Gov. Romney. \n",
      "The President\n",
      "Gov. Romney. \n",
      "The President\n",
      "Gov. Romney. \n",
      "The President\n",
      "no speaker!\n",
      "The President's Economic Record\n",
      "Gov. Romney. \n",
      "no speaker!\n",
      "no speaker!\n",
      "no speaker!\n",
      "Mr. Schieffer. \n",
      "Gov. Romney. \n",
      "Mr. Schieffer. \n",
      "no speaker!\n",
      "Closing Statements\n",
      "no speaker!\n",
      "Laughter\n",
      "no speaker!\n",
      "no speaker!\n",
      "no speaker!\n",
      "no speaker!\n",
      "no speaker!\n",
      "Mr. Schieffer. \n",
      "no speaker!\n",
      "no speaker!\n",
      "no speaker!\n",
      "no speaker!\n",
      "no speaker!\n",
      "no speaker!\n",
      "no speaker!\n",
      "Mr. Schieffer. \n",
      "The President\n",
      "Mr. Schieffer. \n"
     ]
    }
   ],
   "source": [
    "for paragraph in transcript:\n",
    "    if paragraph.find('i'):\n",
    "        print(paragraph.find('i').get_text().strip('.'))\n",
    "    else:\n",
    "        print('no speaker!')"
   ]
  },
  {
   "cell_type": "markdown",
   "metadata": {},
   "source": [
    "With groups 1 and 2, I can collapse the text in the \"no speaker!\" rows to the preceding speaker, and thus get each individual speaking line."
   ]
  },
  {
   "cell_type": "markdown",
   "metadata": {},
   "source": [
    "### Group 3: Colon, no italics or bold:"
   ]
  },
  {
   "cell_type": "markdown",
   "metadata": {},
   "source": [
    "With the group 3 ones, is there a way to classify the speaker lines? I.e. Upper Case, etc.  \n",
    "**American Presidency Project:**\n",
    "- 2008: Democratic Candidates Debate in Miami, Florida; Republican Candidates Debate in Miami, Florida - split by :, speaker is in all caps (i.e. use .isupper())\n",
    "- 2004: VP - split by :, speaker is in all caps (i.e. use .isupper())\n",
    "- 2000: All General Election Debates - split by :, speaker is in all caps (i.e. use .isupper())\n",
    "- 1996: VP - split by :, speaker is in all caps (i.e. use .isupper())\n",
    "- 1992: All - VP can be split by :, isupper.  Presidential use Name. as the intro --> check CPD site\n",
    "- 1988: All - split by :, speaker is in all caps (i.e. use .isupper())\n",
    "- 1984: All - VP can be split by :, .isupper.  Presidential use Name. as the intro --> check CPD site\n",
    "- 1980: All --> one split by :, one split by ., speaker is in all caps (i.e. use .isupper())\n",
    "- 1976: All -> one split by :, rest split by ., speaker is in all caps (i.e. use .isupper())\n",
    "- 1960: All --> split by :, speaker is in all caps (i.e. use .isupper())"
   ]
  },
  {
   "cell_type": "markdown",
   "metadata": {},
   "source": [
    "Looking at CPD for potential help:\n",
    "- 1992 Presidential: use CPD site, since it has : with speaker in all caps\n",
    "- 1984 Presidential: use CPD site, has NAME: as the format (split by :, index 0 .isupper())\n",
    "- 1980 All: Use CPD site, has NAME: as the format (split by :, index 0 .isupper())\n",
    "- 1976 All: Use CPD site, has NAME: as the format (split by :, index 0 .isupper()) \n",
    "\n",
    "Therefore, in Group 3, I'll be using APP for all in this group except the following using CPD:\n",
    "- 1992 Presidential Debates\n",
    "- 1984 Presidential Debates\n",
    "- 1980 All Debates\n",
    "- 1976 All Debates"
   ]
  },
  {
   "cell_type": "code",
   "execution_count": 10,
   "metadata": {},
   "outputs": [],
   "source": [
    "test_link = 'https://www.debates.org/voter-education/debate-transcripts/october-13-1960-debate-transcript/'"
   ]
  },
  {
   "cell_type": "code",
   "execution_count": 11,
   "metadata": {},
   "outputs": [],
   "source": [
    "response = requests.get(test_link)\n",
    "page = response.text\n",
    "soup_object = BeautifulSoup(page, 'lxml')"
   ]
  },
  {
   "cell_type": "code",
   "execution_count": 12,
   "metadata": {},
   "outputs": [],
   "source": [
    "transcript = soup_object.find('div', id='content-sm').find_all('p')"
   ]
  },
  {
   "cell_type": "markdown",
   "metadata": {},
   "source": [
    "Below loops will find the speaker info, for APP and CPD:"
   ]
  },
  {
   "cell_type": "code",
   "execution_count": 13,
   "metadata": {
    "scrolled": true
   },
   "outputs": [
    {
     "name": "stdout",
     "output_type": "stream",
     "text": [
      "no speaker!\n",
      "no speaker!\n",
      "BILL SHADEL, MODERATOR\n",
      "MR. KENNEDY\n",
      "MR. SHADEL\n",
      "MR. NIXON\n",
      "MR. SHADEL\n",
      "MR. McGEE\n",
      "MR. KENNEDY\n",
      "MR. SHADEL\n",
      "MR. NIXON\n",
      "MR. SHADEL\n",
      "MR. VON FREMD\n",
      "MR. NIXON\n",
      "MR. SHADEL\n",
      "MR. KENNEDY\n",
      "MR. SHADEL\n",
      "MR. CATER\n",
      "MR. KENNEDY\n",
      "MR. SHADEL\n",
      "MR. NIXON\n",
      "MR. SHADEL\n",
      "MR. DRUMMOND\n",
      "MR. NIXON\n",
      "MR. SHADEL\n",
      "MR. KENNEDY\n",
      "MR. SHADEL\n",
      "MR. VON FREMD\n",
      "MR. KENNEDY\n",
      "MR. SHADEL\n",
      "MR. NIXON\n",
      "MR. SHADEL\n",
      "MR. CATER\n",
      "MR. NIXON\n",
      "MR. SHADEL\n",
      "MR. KENNEDY\n",
      "MR. SHADEL\n",
      "MR. DRUMMOND\n",
      "MR. KENNEDY\n",
      "MR. SHADEL\n",
      "MR. NIXON\n",
      "MR. SHADEL\n",
      "MR. McGEE\n",
      "MR. NIXON\n",
      "MR. SHADEL\n",
      "MR. KENNEDY\n",
      "MR. SHADEL\n",
      "MR. CATER\n",
      "MR. KENNEDY\n",
      "MR. SHADEL\n",
      "MR. NIXON\n",
      "MR. SHADEL\n",
      "MR. DRUMMOND\n",
      "MR. NIXON\n",
      "MR. SHADEL\n",
      "MR. KENNEDY\n",
      "MR. SHADEL\n",
      "MR. McGEE\n",
      "MR. KENNEDY\n",
      "MR. SHADEL\n",
      "MR. NIXON\n",
      "MR. SHADEL\n",
      "MR. VON FREMD\n",
      "MR. NIXON\n",
      "MR. SHADEL\n",
      "MR. KENNEDY\n",
      "MR. SHADEL\n",
      "MR. DRUMMOND\n",
      "MR. KENNEDY\n",
      "MR. SHADEL\n",
      "MR. NIXON\n",
      "MR. SHADEL\n"
     ]
    }
   ],
   "source": [
    "#CPD\n",
    "for paragraph in transcript:\n",
    "    #Need McGEE from the 1960 debates:\n",
    "    if paragraph.get_text().split(':')[0].isupper() or paragraph.get_text().split(':')[0] == 'MR. McGEE':\n",
    "        print(paragraph.get_text().split(':')[0])\n",
    "    else:\n",
    "        print('no speaker!')"
   ]
  },
  {
   "cell_type": "markdown",
   "metadata": {},
   "source": [
    "# Combining the Above"
   ]
  },
  {
   "cell_type": "markdown",
   "metadata": {},
   "source": [
    "## American Presidency Project:"
   ]
  },
  {
   "cell_type": "markdown",
   "metadata": {},
   "source": [
    "In order to combine the above into a dataframe with speaker, I'll need to build out lists with the speaker index matched up with the line, debate name, and date.  I'll work these into my functions in debate_scraping_functions.py."
   ]
  },
  {
   "cell_type": "markdown",
   "metadata": {},
   "source": [
    "For American Presidency Project, if i can create a list of tuples with the link and group number, I can write a function to pull the speakers out in order."
   ]
  },
  {
   "cell_type": "code",
   "execution_count": 14,
   "metadata": {},
   "outputs": [],
   "source": [
    "from debate_scraping_functions import app_url_puller"
   ]
  },
  {
   "cell_type": "code",
   "execution_count": 15,
   "metadata": {},
   "outputs": [],
   "source": [
    "link_list = app_url_puller('https://www.presidency.ucsb.edu/documents/presidential-documents-archive-guidebook/presidential-campaigns-debates-and-endorsements-0')"
   ]
  },
  {
   "cell_type": "code",
   "execution_count": 16,
   "metadata": {},
   "outputs": [
    {
     "data": {
      "text/plain": [
       "169"
      ]
     },
     "execution_count": 16,
     "metadata": {},
     "output_type": "execute_result"
    }
   ],
   "source": [
    "len(link_list)"
   ]
  },
  {
   "cell_type": "markdown",
   "metadata": {},
   "source": [
    "Groups from above list in markdown:"
   ]
  },
  {
   "cell_type": "code",
   "execution_count": 17,
   "metadata": {},
   "outputs": [
    {
     "data": {
      "text/plain": [
       "169"
      ]
     },
     "execution_count": 17,
     "metadata": {},
     "output_type": "execute_result"
    }
   ],
   "source": [
    "group_list = [1,1,1,1,1,1,1,1,1,1,1,1,1,1,1,1,1,1,1,1,1,1,1,1,1,1,1,1,1,1,1,1,1,1,1,1,1,1,1,1,1,1,1,1,1,1,1,1,1,2,2,2,1,1,1,1,1,1,1,1,1,1,1,1,1,1,1,1,1,1,1,1,1,1,1,1,1,1,1,1,1,1,1,1,1,1,1,1,1,3,1,1,1,1,1,1,1,1,1,1,1,1,3,1,1,1,1,1,1,1,1,1,2,2,2,3,1,1,3,3,3,3,1,1,1,1,1,1,1,1,1,1,1,1,1,1,1,1,1,1,1,1,1,1,2,2,3,3,3,3,3,3,3,3,3,3,3,3,3,3,3,3,3,3,3,3,3,1,1]\n",
    "len(group_list)"
   ]
  },
  {
   "cell_type": "markdown",
   "metadata": {},
   "source": [
    "They match in length, so will combine in a tuple:"
   ]
  },
  {
   "cell_type": "code",
   "execution_count": 18,
   "metadata": {},
   "outputs": [
    {
     "data": {
      "text/plain": [
       "[(1,\n",
       "  'https://www.presidency.ucsb.edu/documents/presidential-debate-belmont-university-nashville-tennessee-0'),\n",
       " (1,\n",
       "  'https://www.presidency.ucsb.edu/documents/presidential-debate-case-western-reserve-university-cleveland-ohio'),\n",
       " (1,\n",
       "  'https://www.presidency.ucsb.edu/documents/vice-presidential-debate-the-university-utah-salt-lake-city'),\n",
       " (1,\n",
       "  'https://www.presidency.ucsb.edu/documents/democratic-candidates-debate-washington-dc'),\n",
       " (1,\n",
       "  'https://www.presidency.ucsb.edu/documents/democratic-candidates-debate-charleston-south-carolina-0'),\n",
       " (1,\n",
       "  'https://www.presidency.ucsb.edu/documents/democratic-candidates-debate-las-vegas-nevada-0'),\n",
       " (1,\n",
       "  'https://www.presidency.ucsb.edu/documents/democratic-candidates-debate-manchester-new-hampshire-0'),\n",
       " (1,\n",
       "  'https://www.presidency.ucsb.edu/documents/democratic-candidates-debate-des-moines-iowa-0'),\n",
       " (1,\n",
       "  'https://www.presidency.ucsb.edu/documents/democratic-candidates-debate-los-angeles-california'),\n",
       " (1,\n",
       "  'https://www.presidency.ucsb.edu/documents/democratic-candidates-debate-atlanta-georgia'),\n",
       " (1,\n",
       "  'https://www.presidency.ucsb.edu/documents/democratic-candidates-debate-westerville-ohio'),\n",
       " (1,\n",
       "  'https://www.presidency.ucsb.edu/documents/democratic-candidates-debate-houston-texas'),\n",
       " (1,\n",
       "  'https://www.presidency.ucsb.edu/documents/democratic-candidates-debate-detroit-michigan-group-2'),\n",
       " (1,\n",
       "  'https://www.presidency.ucsb.edu/documents/democratic-candidates-debate-detroit-michigan-group-1'),\n",
       " (1,\n",
       "  'https://www.presidency.ucsb.edu/documents/democratic-candidates-debate-miami-florida-group-2'),\n",
       " (1,\n",
       "  'https://www.presidency.ucsb.edu/documents/democratic-candidates-debate-miami-florida-group-1'),\n",
       " (1, 'https://www.presidency.ucsb.edu/ws/index.php?pid=119039'),\n",
       " (1, 'https://www.presidency.ucsb.edu/ws/index.php?pid=119038'),\n",
       " (1, 'https://www.presidency.ucsb.edu/ws/index.php?pid=118971'),\n",
       " (1, 'https://www.presidency.ucsb.edu/ws/index.php?pid=119012'),\n",
       " (1, 'https://www.presidency.ucsb.edu/ws/index.php?pid=116995'),\n",
       " (1, 'https://www.presidency.ucsb.edu/ws/index.php?pid=112719'),\n",
       " (1, 'https://www.presidency.ucsb.edu/ws/index.php?pid=112718'),\n",
       " (1, 'https://www.presidency.ucsb.edu/ws/index.php?pid=111520'),\n",
       " (1, 'https://www.presidency.ucsb.edu/ws/index.php?pid=111471'),\n",
       " (1, 'https://www.presidency.ucsb.edu/ws/index.php?pid=123351'),\n",
       " (1, 'https://www.presidency.ucsb.edu/ws/index.php?pid=111409'),\n",
       " (1, 'https://www.presidency.ucsb.edu/ws/index.php?pid=111178'),\n",
       " (1, 'https://www.presidency.ucsb.edu/ws/index.php?pid=110910'),\n",
       " (1, 'https://www.presidency.ucsb.edu/ws/index.php?pid=110903'),\n",
       " (1, 'https://www.presidency.ucsb.edu/ws/index.php?pid=115148'),\n",
       " (1, 'https://www.presidency.ucsb.edu/ws/index.php?pid=111711'),\n",
       " (1, 'https://www.presidency.ucsb.edu/ws/index.php?pid=111634'),\n",
       " (1, 'https://www.presidency.ucsb.edu/ws/index.php?pid=111500'),\n",
       " (1, 'https://www.presidency.ucsb.edu/ws/index.php?pid=111472'),\n",
       " (1, 'https://www.presidency.ucsb.edu/ws/index.php?pid=111412'),\n",
       " (1, 'https://www.presidency.ucsb.edu/ws/index.php?pid=111395'),\n",
       " (1, 'https://www.presidency.ucsb.edu/ws/index.php?pid=111177'),\n",
       " (1, 'https://www.presidency.ucsb.edu/ws/index.php?pid=110908'),\n",
       " (1, 'https://www.presidency.ucsb.edu/ws/index.php?pid=110906'),\n",
       " (1, 'https://www.presidency.ucsb.edu/ws/index.php?pid=110756'),\n",
       " (1, 'https://www.presidency.ucsb.edu/ws/index.php?pid=110489'),\n",
       " (1, 'https://www.presidency.ucsb.edu/ws/index.php?pid=111413'),\n",
       " (1, 'https://www.presidency.ucsb.edu/ws/index.php?pid=111394'),\n",
       " (1, 'https://www.presidency.ucsb.edu/ws/index.php?pid=111176'),\n",
       " (1, 'https://www.presidency.ucsb.edu/ws/index.php?pid=110909'),\n",
       " (1, 'https://www.presidency.ucsb.edu/ws/index.php?pid=110907'),\n",
       " (1, 'https://www.presidency.ucsb.edu/ws/index.php?pid=110758'),\n",
       " (1, 'https://www.presidency.ucsb.edu/ws/index.php?pid=110757'),\n",
       " (2, 'https://www.presidency.ucsb.edu/ws/index.php?pid=102344'),\n",
       " (2, 'https://www.presidency.ucsb.edu/ws/index.php?pid=102343'),\n",
       " (2, 'https://www.presidency.ucsb.edu/ws/index.php?pid=102317'),\n",
       " (1, 'https://www.presidency.ucsb.edu/ws/index.php?pid=102322'),\n",
       " (1, 'https://www.presidency.ucsb.edu/ws/index.php?pid=99556'),\n",
       " (1, 'https://www.presidency.ucsb.edu/ws/index.php?pid=99075'),\n",
       " (1, 'https://www.presidency.ucsb.edu/ws/index.php?pid=99001'),\n",
       " (1, 'https://www.presidency.ucsb.edu/ws/index.php?pid=98936'),\n",
       " (1, 'https://www.presidency.ucsb.edu/ws/index.php?pid=98929'),\n",
       " (1, 'https://www.presidency.ucsb.edu/ws/index.php?pid=98814'),\n",
       " (1, 'https://www.presidency.ucsb.edu/ws/index.php?pid=98813'),\n",
       " (1, 'https://www.presidency.ucsb.edu/ws/index.php?pid=97978'),\n",
       " (1, 'https://www.presidency.ucsb.edu/ws/index.php?pid=97703'),\n",
       " (1, 'https://www.presidency.ucsb.edu/ws/index.php?pid=97332'),\n",
       " (1, 'https://www.presidency.ucsb.edu/ws/index.php?pid=97038'),\n",
       " (1, 'https://www.presidency.ucsb.edu/ws/index.php?pid=97022'),\n",
       " (1, 'https://www.presidency.ucsb.edu/ws/index.php?pid=96914'),\n",
       " (1, 'https://www.presidency.ucsb.edu/ws/index.php?pid=96894'),\n",
       " (1, 'https://www.presidency.ucsb.edu/ws/index.php?pid=96795'),\n",
       " (1, 'https://www.presidency.ucsb.edu/ws/index.php?pid=96683'),\n",
       " (1, 'https://www.presidency.ucsb.edu/ws/index.php?pid=96659'),\n",
       " (1, 'https://www.presidency.ucsb.edu/ws/index.php?pid=96660'),\n",
       " (1, 'https://www.presidency.ucsb.edu/ws/index.php?pid=90711'),\n",
       " (1, 'https://www.presidency.ucsb.edu/ws/index.php?pid=90513'),\n",
       " (1, 'https://www.presidency.ucsb.edu/ws/index.php?pid=84526'),\n",
       " (1, 'https://www.presidency.ucsb.edu/ws/index.php?pid=84482'),\n",
       " (1, 'https://www.presidency.ucsb.edu/ws/index.php?pid=78691'),\n",
       " (1, 'https://www.presidency.ucsb.edu/ws/index.php?pid=84382'),\n",
       " (1, 'https://www.presidency.ucsb.edu/ws/index.php?pid=76913'),\n",
       " (1, 'https://www.presidency.ucsb.edu/ws/index.php?pid=76688'),\n",
       " (1, 'https://www.presidency.ucsb.edu/ws/index.php?pid=76563'),\n",
       " (1, 'https://www.presidency.ucsb.edu/ws/index.php?pid=76339'),\n",
       " (1, 'https://www.presidency.ucsb.edu/ws/index.php?pid=76271'),\n",
       " (1, 'https://www.presidency.ucsb.edu/ws/index.php?pid=76237'),\n",
       " (1, 'https://www.presidency.ucsb.edu/ws/index.php?pid=76224'),\n",
       " (1, 'https://www.presidency.ucsb.edu/ws/index.php?pid=76123'),\n",
       " (1, 'https://www.presidency.ucsb.edu/ws/index.php?pid=76122'),\n",
       " (1, 'https://www.presidency.ucsb.edu/ws/index.php?pid=76041'),\n",
       " (1, 'https://www.presidency.ucsb.edu/ws/index.php?pid=75950'),\n",
       " (1, 'https://www.presidency.ucsb.edu/ws/index.php?pid=75796'),\n",
       " (3, 'https://www.presidency.ucsb.edu/ws/index.php?pid=76561'),\n",
       " (1, 'https://www.presidency.ucsb.edu/ws/index.php?pid=75664'),\n",
       " (1, 'https://www.presidency.ucsb.edu/ws/index.php?pid=75631'),\n",
       " (1, 'https://www.presidency.ucsb.edu/ws/index.php?pid=75575'),\n",
       " (1, 'https://www.presidency.ucsb.edu/ws/index.php?pid=75489'),\n",
       " (1, 'https://www.presidency.ucsb.edu/ws/index.php?pid=75140'),\n",
       " (1, 'https://www.presidency.ucsb.edu/ws/index.php?pid=74349'),\n",
       " (1, 'https://www.presidency.ucsb.edu/ws/index.php?pid=76338'),\n",
       " (1, 'https://www.presidency.ucsb.edu/ws/index.php?pid=76300'),\n",
       " (1, 'https://www.presidency.ucsb.edu/ws/index.php?pid=62265'),\n",
       " (1, 'https://www.presidency.ucsb.edu/ws/index.php?pid=29427'),\n",
       " (1, 'https://www.presidency.ucsb.edu/ws/index.php?pid=76223'),\n",
       " (1, 'https://www.presidency.ucsb.edu/ws/index.php?pid=29664'),\n",
       " (3, 'https://www.presidency.ucsb.edu/ws/index.php?pid=76562'),\n",
       " (1, 'https://www.presidency.ucsb.edu/ws/index.php?pid=76069'),\n",
       " (1, 'https://www.presidency.ucsb.edu/ws/index.php?pid=75914'),\n",
       " (1, 'https://www.presidency.ucsb.edu/ws/index.php?pid=75861'),\n",
       " (1, 'https://www.presidency.ucsb.edu/ws/index.php?pid=75913'),\n",
       " (1, 'https://www.presidency.ucsb.edu/ws/index.php?pid=75680'),\n",
       " (1, 'https://www.presidency.ucsb.edu/ws/index.php?pid=75630'),\n",
       " (1, 'https://www.presidency.ucsb.edu/ws/index.php?pid=75171'),\n",
       " (1, 'https://www.presidency.ucsb.edu/ws/index.php?pid=74348'),\n",
       " (1, 'https://www.presidency.ucsb.edu/ws/index.php?pid=74350'),\n",
       " (2, 'https://www.presidency.ucsb.edu/ws/index.php?pid=63163'),\n",
       " (2, 'https://www.presidency.ucsb.edu/ws/index.php?pid=72776'),\n",
       " (2, 'https://www.presidency.ucsb.edu/ws/index.php?pid=72770'),\n",
       " (3, 'https://www.presidency.ucsb.edu/ws/index.php?pid=29428'),\n",
       " (1, 'https://www.presidency.ucsb.edu/ws/index.php?pid=75118'),\n",
       " (1, 'https://www.presidency.ucsb.edu/ws/index.php?pid=74351'),\n",
       " (3, 'https://www.presidency.ucsb.edu/ws/index.php?pid=29420'),\n",
       " (3, 'https://www.presidency.ucsb.edu/ws/index.php?pid=29419'),\n",
       " (3, 'https://www.presidency.ucsb.edu/ws/index.php?pid=29418'),\n",
       " (3, 'https://www.presidency.ucsb.edu/ws/index.php?pid=29421'),\n",
       " (1, 'https://www.presidency.ucsb.edu/ws/index.php?pid=105446'),\n",
       " (1, 'https://www.presidency.ucsb.edu/ws/index.php?pid=105445'),\n",
       " (1, 'https://www.presidency.ucsb.edu/ws/index.php?pid=105444'),\n",
       " (1, 'https://www.presidency.ucsb.edu/ws/index.php?pid=105449'),\n",
       " (1, 'https://www.presidency.ucsb.edu/ws/index.php?pid=105448'),\n",
       " (1,\n",
       "  'https://www.presidency.ucsb.edu/documents/democratic-candidates-debate-durham-new-hampshire-0'),\n",
       " (1, 'https://www.presidency.ucsb.edu/ws/index.php?pid=109919'),\n",
       " (1, 'https://www.presidency.ucsb.edu/ws/index.php?pid=105447'),\n",
       " (1, 'https://www.presidency.ucsb.edu/ws/index.php?pid=105443'),\n",
       " (1, 'https://www.presidency.ucsb.edu/ws/index.php?pid=105442'),\n",
       " (1, 'https://www.presidency.ucsb.edu/ws/index.php?pid=105441'),\n",
       " (1, 'https://www.presidency.ucsb.edu/ws/index.php?pid=105440'),\n",
       " (1, 'https://www.presidency.ucsb.edu/ws/index.php?pid=105439'),\n",
       " (1, 'https://www.presidency.ucsb.edu/ws/index.php?pid=105438'),\n",
       " (1, 'https://www.presidency.ucsb.edu/ws/index.php?pid=105437'),\n",
       " (1,\n",
       "  'https://www.presidency.ucsb.edu/documents/republican-candidates-debate-durham-new-hampshire'),\n",
       " (1, 'https://www.presidency.ucsb.edu/ws/index.php?pid=76120'),\n",
       " (1, 'https://www.presidency.ucsb.edu/ws/index.php?pid=75089'),\n",
       " (1, 'https://www.presidency.ucsb.edu/ws/index.php?pid=105436'),\n",
       " (1,\n",
       "  'https://www.presidency.ucsb.edu/documents/republican-candidates-debate-tempe-arizona'),\n",
       " (1, 'https://www.presidency.ucsb.edu/ws/index.php?pid=105435'),\n",
       " (1, 'https://www.presidency.ucsb.edu/ws/index.php?pid=75090'),\n",
       " (2, 'https://www.presidency.ucsb.edu/ws/index.php?pid=52115'),\n",
       " (2, 'https://www.presidency.ucsb.edu/ws/index.php?pid=52060'),\n",
       " (3, 'https://www.presidency.ucsb.edu/ws/index.php?pid=29422'),\n",
       " (3, 'https://www.presidency.ucsb.edu/ws/index.php?pid=21625'),\n",
       " (3, 'https://www.presidency.ucsb.edu/ws/index.php?pid=21617'),\n",
       " (3, 'https://www.presidency.ucsb.edu/ws/index.php?pid=21605'),\n",
       " (3, 'https://www.presidency.ucsb.edu/ws/index.php?pid=29423'),\n",
       " (3, 'https://www.presidency.ucsb.edu/ws/index.php?pid=29412'),\n",
       " (3, 'https://www.presidency.ucsb.edu/ws/index.php?pid=29411'),\n",
       " (3, 'https://www.presidency.ucsb.edu/ws/index.php?pid=29424'),\n",
       " (3, 'https://www.presidency.ucsb.edu/ws/index.php?pid=39296'),\n",
       " (3, 'https://www.presidency.ucsb.edu/ws/index.php?pid=39199'),\n",
       " (3, 'https://www.presidency.ucsb.edu/ws/index.php?pid=29425'),\n",
       " (3, 'https://www.presidency.ucsb.edu/ws/index.php?pid=29408'),\n",
       " (3, 'https://www.presidency.ucsb.edu/ws/index.php?pid=29407'),\n",
       " (3, 'https://www.presidency.ucsb.edu/ws/index.php?pid=6517'),\n",
       " (3, 'https://www.presidency.ucsb.edu/ws/index.php?pid=6414'),\n",
       " (3, 'https://www.presidency.ucsb.edu/ws/index.php?pid=29404'),\n",
       " (3, 'https://www.presidency.ucsb.edu/ws/index.php?pid=62249'),\n",
       " (3, 'https://www.presidency.ucsb.edu/ws/index.php?pid=29403'),\n",
       " (3, 'https://www.presidency.ucsb.edu/ws/index.php?pid=29402'),\n",
       " (3, 'https://www.presidency.ucsb.edu/ws/index.php?pid=29401'),\n",
       " (3, 'https://www.presidency.ucsb.edu/ws/index.php?pid=29400'),\n",
       " (1,\n",
       "  'https://www.presidency.ucsb.edu/documents/remarks-town-hall-meeting-with-savannah-guthrie-nbc-news-the-perez-art-museum-miami'),\n",
       " (1,\n",
       "  'https://www.presidency.ucsb.edu/documents/remarks-town-hall-meeting-with-george-stephanopoulos-abc-news-the-national-constitution')]"
      ]
     },
     "execution_count": 18,
     "metadata": {},
     "output_type": "execute_result"
    }
   ],
   "source": [
    "group_tuple_list = [(group_list[i], link) for i, link in enumerate(link_list)]\n",
    "group_tuple_list"
   ]
  },
  {
   "cell_type": "markdown",
   "metadata": {},
   "source": [
    "Using function app_group_speaker_puller to get the speakers:"
   ]
  },
  {
   "cell_type": "code",
   "execution_count": 19,
   "metadata": {},
   "outputs": [],
   "source": [
    "from debate_scraping_functions import app_group_speaker_puller"
   ]
  },
  {
   "cell_type": "code",
   "execution_count": 20,
   "metadata": {},
   "outputs": [],
   "source": [
    "speaker_list = app_group_speaker_puller(group_tuple_list)"
   ]
  },
  {
   "cell_type": "markdown",
   "metadata": {},
   "source": [
    "Checking out the end to see if this worked well:"
   ]
  },
  {
   "cell_type": "code",
   "execution_count": 21,
   "metadata": {},
   "outputs": [
    {
     "data": {
      "text/plain": [
       "['BIDEN',\n",
       " 'no speaker!',\n",
       " 'no speaker!',\n",
       " 'STEPHANOPOULOS',\n",
       " 'no speaker!',\n",
       " 'STEPHANOPOULOS',\n",
       " 'no speaker!',\n",
       " 'no speaker!',\n",
       " 'BIDEN',\n",
       " 'no speaker!',\n",
       " 'no speaker!',\n",
       " 'no speaker!',\n",
       " 'STEPHANOPOULOS',\n",
       " 'BIDEN',\n",
       " 'STEPHANOPOULOS']"
      ]
     },
     "execution_count": 21,
     "metadata": {},
     "output_type": "execute_result"
    }
   ],
   "source": [
    "speaker_list[-1][-15:]"
   ]
  },
  {
   "cell_type": "markdown",
   "metadata": {},
   "source": [
    "This matches with the last 15 paragraphs of the Biden Town hall [transcript](https://www.presidency.ucsb.edu/documents/remarks-town-hall-meeting-with-george-stephanopoulos-abc-news-the-national-constitution).  It appears that everything is working well!  \"no speaker!\" means that specific paragraph is not tagged with a speaker.\n",
    "\n",
    "Additionally, the length of this list should match the original paragraphs length list, from the text_cleaning.ipynb file - 79,607.  "
   ]
  },
  {
   "cell_type": "code",
   "execution_count": 22,
   "metadata": {},
   "outputs": [
    {
     "data": {
      "text/plain": [
       "169"
      ]
     },
     "execution_count": 22,
     "metadata": {},
     "output_type": "execute_result"
    }
   ],
   "source": [
    "len(speaker_list)"
   ]
  },
  {
   "cell_type": "code",
   "execution_count": 23,
   "metadata": {},
   "outputs": [
    {
     "name": "stdout",
     "output_type": "stream",
     "text": [
      "79607\n"
     ]
    }
   ],
   "source": [
    "counter = 0\n",
    "for speaker in speaker_list:\n",
    "    counter += len(speaker)\n",
    "print(counter)"
   ]
  },
  {
   "cell_type": "markdown",
   "metadata": {},
   "source": [
    "Next step, slicing these individual lists using the same rules as I did in text_cleaning.ipynb to determine the correct index that the debate starts at:"
   ]
  },
  {
   "cell_type": "code",
   "execution_count": 24,
   "metadata": {},
   "outputs": [],
   "source": [
    "starts_at_zero = [49, 50, 51, 52, 94, 112, 113, 114, 116, 117, 118, 119, 120, 121, 143, 144, 145, 146, 147, 148, 149, 150, 151, 152, 153, 154, 155, 156, 157, 158, 159, 160, 161, 162, 163, 164, 165, 166, 167, 168]\n",
    "starts_at_one = [73, 74, 75, 76, 102, 109, 110, 115, 139]\n",
    "starts_at_three = [20, 21, 32, 33, 43, 93, 103, 104, 106, 107, 122]"
   ]
  },
  {
   "cell_type": "code",
   "execution_count": 25,
   "metadata": {},
   "outputs": [],
   "source": [
    "new_speakers = []\n",
    "for i, speaker in enumerate(speaker_list):\n",
    "    if i in starts_at_zero:\n",
    "        new_speakers.append(speaker)\n",
    "    elif i in starts_at_one:\n",
    "        new_speakers.append(speaker[1:])\n",
    "    elif i in starts_at_three:\n",
    "        new_speakers.append(speaker[3:])\n",
    "    else:\n",
    "        new_speakers.append(speaker[2:])"
   ]
  },
  {
   "cell_type": "code",
   "execution_count": 26,
   "metadata": {},
   "outputs": [
    {
     "data": {
      "text/plain": [
       "169"
      ]
     },
     "execution_count": 26,
     "metadata": {},
     "output_type": "execute_result"
    }
   ],
   "source": [
    "len(new_speakers)"
   ]
  },
  {
   "cell_type": "markdown",
   "metadata": {},
   "source": [
    "Moving on to the commission for presidential debates data."
   ]
  },
  {
   "cell_type": "markdown",
   "metadata": {},
   "source": [
    "## Commission for Presidential Debates:"
   ]
  },
  {
   "cell_type": "markdown",
   "metadata": {},
   "source": [
    "Per above, need to use CPD for the following group 3 debates:\n",
    "- 1992 Presidential Debates\n",
    "- 1984 Presidential Debates\n",
    "- 1980 All Debates\n",
    "- 1976 All Debates  \n",
    "\n",
    "Since I only need Group 3 code, I can do that on all."
   ]
  },
  {
   "cell_type": "code",
   "execution_count": 27,
   "metadata": {},
   "outputs": [],
   "source": [
    "cpd_link = 'https://www.debates.org/voter-education/debate-transcripts/'"
   ]
  },
  {
   "cell_type": "code",
   "execution_count": 28,
   "metadata": {},
   "outputs": [],
   "source": [
    "from debate_scraping_functions import *"
   ]
  },
  {
   "cell_type": "code",
   "execution_count": 29,
   "metadata": {},
   "outputs": [],
   "source": [
    "cpd_link_list = cpd_url_puller(cpd_link)"
   ]
  },
  {
   "cell_type": "code",
   "execution_count": 30,
   "metadata": {
    "scrolled": true
   },
   "outputs": [
    {
     "data": {
      "text/plain": [
       "48"
      ]
     },
     "execution_count": 30,
     "metadata": {},
     "output_type": "execute_result"
    }
   ],
   "source": [
    "len(cpd_link_list)"
   ]
  },
  {
   "cell_type": "code",
   "execution_count": 31,
   "metadata": {},
   "outputs": [],
   "source": [
    "cpd_speaker_list = cpd_group_speaker_puller(cpd_link_list)"
   ]
  },
  {
   "cell_type": "code",
   "execution_count": 32,
   "metadata": {},
   "outputs": [
    {
     "data": {
      "text/plain": [
       "48"
      ]
     },
     "execution_count": 32,
     "metadata": {},
     "output_type": "execute_result"
    }
   ],
   "source": [
    "len(cpd_speaker_list)"
   ]
  },
  {
   "cell_type": "markdown",
   "metadata": {},
   "source": [
    "Now, popping off the 23rd element of both, since that is just a link to translations:"
   ]
  },
  {
   "cell_type": "code",
   "execution_count": 33,
   "metadata": {},
   "outputs": [
    {
     "data": {
      "text/plain": [
       "'https://www.debates.org/voter-education/debate-transcripts/2000-debate-transcripts-translations/'"
      ]
     },
     "execution_count": 33,
     "metadata": {},
     "output_type": "execute_result"
    }
   ],
   "source": [
    "cpd_link_list.pop(23)"
   ]
  },
  {
   "cell_type": "code",
   "execution_count": 34,
   "metadata": {
    "scrolled": true
   },
   "outputs": [
    {
     "data": {
      "text/plain": [
       "['no speaker!',\n",
       " 'no speaker!',\n",
       " 'no speaker!',\n",
       " 'no speaker!',\n",
       " 'no speaker!',\n",
       " 'no speaker!',\n",
       " 'no speaker!',\n",
       " 'no speaker!',\n",
       " 'no speaker!',\n",
       " 'no speaker!',\n",
       " 'no speaker!',\n",
       " 'no speaker!',\n",
       " 'no speaker!',\n",
       " 'no speaker!',\n",
       " 'no speaker!',\n",
       " 'no speaker!']"
      ]
     },
     "execution_count": 34,
     "metadata": {},
     "output_type": "execute_result"
    }
   ],
   "source": [
    "cpd_speaker_list.pop(23)"
   ]
  },
  {
   "cell_type": "markdown",
   "metadata": {},
   "source": [
    "Slicing to match up with the other columns:"
   ]
  },
  {
   "cell_type": "code",
   "execution_count": 35,
   "metadata": {},
   "outputs": [],
   "source": [
    "starts_at_2 = [19, 20, 21, 22, 23, 24, 25, 32, 33, 34, 35, 36, 37, 38, 39, 40, 41, 42, 43, 44, 45, 46]"
   ]
  },
  {
   "cell_type": "code",
   "execution_count": 36,
   "metadata": {},
   "outputs": [],
   "source": [
    "starts_at_3 = [27, 29, 30]"
   ]
  },
  {
   "cell_type": "code",
   "execution_count": 37,
   "metadata": {},
   "outputs": [],
   "source": [
    "starts_at_4 = [0, 1, 2, 8, 26, 28, 31]"
   ]
  },
  {
   "cell_type": "code",
   "execution_count": 38,
   "metadata": {},
   "outputs": [],
   "source": [
    "starts_at_5 = [7,9,10]\n",
    "starts_at_6 = [17,18]\n",
    "starts_at_7 = [3, 4, 6, 11, 12, 13, 14, 15, 16]"
   ]
  },
  {
   "cell_type": "code",
   "execution_count": 39,
   "metadata": {},
   "outputs": [],
   "source": [
    "new_cpd_speakers = []\n",
    "for i, speaker in enumerate(cpd_speaker_list):\n",
    "    if i in starts_at_2:\n",
    "        new_cpd_speakers.append(speaker[2:])\n",
    "    elif i in starts_at_3:\n",
    "        new_cpd_speakers.append(speaker[3:])\n",
    "    elif i in starts_at_4:\n",
    "        new_cpd_speakers.append(speaker[4:])\n",
    "    elif i in starts_at_5:\n",
    "        new_cpd_speakers.append(speaker[5:])\n",
    "    elif i in starts_at_6:\n",
    "        new_cpd_speakers.append(speaker[6:])\n",
    "    elif i in starts_at_7:\n",
    "        new_cpd_speakers.append(speaker[7:])\n",
    "    else:\n",
    "        new_cpd_speakers.append(speaker[8:])"
   ]
  },
  {
   "cell_type": "markdown",
   "metadata": {},
   "source": [
    "Great, now I have speakers for both.  Time to pickle and bring into the text_cleaning.ipynb notebook."
   ]
  },
  {
   "cell_type": "code",
   "execution_count": 2,
   "metadata": {},
   "outputs": [
    {
     "name": "stdout",
     "output_type": "stream",
     "text": [
      "/Users/patrickbovard/Documents/GitHub/presidential_debate_analysis/Data\n"
     ]
    }
   ],
   "source": [
    "cd Data"
   ]
  },
  {
   "cell_type": "code",
   "execution_count": 41,
   "metadata": {},
   "outputs": [],
   "source": [
    "with open('new_cpd_speakers.pickle', 'wb') as to_write:\n",
    "    pickle.dump(new_cpd_speakers, to_write)"
   ]
  },
  {
   "cell_type": "code",
   "execution_count": 42,
   "metadata": {},
   "outputs": [],
   "source": [
    "with open('new_app_speakers.pickle', 'wb') as to_write:\n",
    "    pickle.dump(new_speakers, to_write)"
   ]
  },
  {
   "cell_type": "markdown",
   "metadata": {},
   "source": [
    "## Next Move: To text_cleaning.ipynb: near the bottom"
   ]
  }
 ],
 "metadata": {
  "kernelspec": {
   "display_name": "Python [conda env:metis] *",
   "language": "python",
   "name": "conda-env-metis-py"
  },
  "language_info": {
   "codemirror_mode": {
    "name": "ipython",
    "version": 3
   },
   "file_extension": ".py",
   "mimetype": "text/x-python",
   "name": "python",
   "nbconvert_exporter": "python",
   "pygments_lexer": "ipython3",
   "version": "3.8.6"
  }
 },
 "nbformat": 4,
 "nbformat_minor": 4
}
