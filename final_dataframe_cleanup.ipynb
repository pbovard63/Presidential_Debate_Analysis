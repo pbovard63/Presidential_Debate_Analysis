{
 "cells": [
  {
   "cell_type": "markdown",
   "metadata": {},
   "source": [
    "# Final Dataframe Cleanup"
   ]
  },
  {
   "cell_type": "markdown",
   "metadata": {},
   "source": [
    "The purpose of this notebook is to add additional columns for speaker type to the final_speaker_df.pickle file created in secondary_text_clean_speakers.ipynb.  This notebook will also have the text-preprocessing for NLP of this data."
   ]
  },
  {
   "cell_type": "markdown",
   "metadata": {},
   "source": [
    "Importing packages:"
   ]
  },
  {
   "cell_type": "code",
   "execution_count": 1,
   "metadata": {},
   "outputs": [],
   "source": [
    "import nltk\n",
    "import pandas as pd\n",
    "import numpy as np\n",
    "import pickle\n",
    "import matplotlib.pyplot as plt\n",
    "from pylab import rcParams\n",
    "%matplotlib inline\n",
    "rcParams['figure.figsize'] = 20,10"
   ]
  },
  {
   "cell_type": "markdown",
   "metadata": {},
   "source": [
    "Pickling in data:"
   ]
  },
  {
   "cell_type": "code",
   "execution_count": 2,
   "metadata": {},
   "outputs": [],
   "source": [
    "with open('Data/final_speaker_df.pickle','rb') as read_file:\n",
    "    speaker_df = pickle.load(read_file)"
   ]
  },
  {
   "cell_type": "markdown",
   "metadata": {},
   "source": [
    "## Text Cleaning"
   ]
  },
  {
   "cell_type": "markdown",
   "metadata": {},
   "source": [
    "Removing rows where the speaker is the transcript text exactly (i.e., situations where a topic is listed in italics or bold, such as \"Governor Romney's Foreign Policy Agenda)."
   ]
  },
  {
   "cell_type": "code",
   "execution_count": 3,
   "metadata": {},
   "outputs": [
    {
     "data": {
      "text/plain": [
       "(76495, 6)"
      ]
     },
     "execution_count": 3,
     "metadata": {},
     "output_type": "execute_result"
    }
   ],
   "source": [
    "del_rows = []\n",
    "for i, transcript in enumerate(speaker_df.Transcript):\n",
    "    text = transcript.lower().replace('\\n', \"\")\n",
    "    if text == speaker_df.iloc[i].Speaker.lower():\n",
    "        del_rows.append(i)\n",
    "speaker_df.drop(del_rows, inplace=True)\n",
    "speaker_df.shape"
   ]
  },
  {
   "cell_type": "markdown",
   "metadata": {},
   "source": [
    "Cleaning the speaker column to help with ID'ing the speakers:\n",
    "- make everything lowercase\n",
    "- remove common headers like sen., mr., ms., mrs."
   ]
  },
  {
   "cell_type": "code",
   "execution_count": 4,
   "metadata": {},
   "outputs": [],
   "source": [
    "for i, speaker in enumerate(speaker_df.Speaker):\n",
    "    lower_speaker = speaker.lower().strip(\".,\")\n",
    "    speaker_df.iloc[i, 3] = lower_speaker.replace(\"mr. \", \"\").replace(\"ms. \", \"\").replace(\"mrs. \", \"\").replace(\"sen. \", \"\").replace(\"gov. \", \"\").replace(\"mayor \",\"\").replace(\"rep. \", \"\")"
   ]
  },
  {
   "cell_type": "code",
   "execution_count": 5,
   "metadata": {},
   "outputs": [
    {
     "data": {
      "text/html": [
       "<div>\n",
       "<style scoped>\n",
       "    .dataframe tbody tr th:only-of-type {\n",
       "        vertical-align: middle;\n",
       "    }\n",
       "\n",
       "    .dataframe tbody tr th {\n",
       "        vertical-align: top;\n",
       "    }\n",
       "\n",
       "    .dataframe thead th {\n",
       "        text-align: right;\n",
       "    }\n",
       "</style>\n",
       "<table border=\"1\" class=\"dataframe\">\n",
       "  <thead>\n",
       "    <tr style=\"text-align: right;\">\n",
       "      <th></th>\n",
       "      <th>Date</th>\n",
       "      <th>Debate_Name</th>\n",
       "      <th>Transcript</th>\n",
       "      <th>Speaker</th>\n",
       "      <th>Data_Source</th>\n",
       "      <th>Debate_Type</th>\n",
       "    </tr>\n",
       "  </thead>\n",
       "  <tbody>\n",
       "    <tr>\n",
       "      <th>0</th>\n",
       "      <td>October 11, 1992</td>\n",
       "      <td>The First Clinton-Bush-Perot Presidential Deb...</td>\n",
       "      <td>LEHRER: Good evening, and welcome to the first...</td>\n",
       "      <td>lehrer</td>\n",
       "      <td>Commission for Presidential Debates</td>\n",
       "      <td>General-President</td>\n",
       "    </tr>\n",
       "    <tr>\n",
       "      <th>1</th>\n",
       "      <td>October 11, 1992</td>\n",
       "      <td>The First Clinton-Bush-Perot Presidential Deb...</td>\n",
       "      <td>PEROT: I think the principal that separates me...</td>\n",
       "      <td>perot</td>\n",
       "      <td>Commission for Presidential Debates</td>\n",
       "      <td>General-President</td>\n",
       "    </tr>\n",
       "    <tr>\n",
       "      <th>2</th>\n",
       "      <td>October 11, 1992</td>\n",
       "      <td>The First Clinton-Bush-Perot Presidential Deb...</td>\n",
       "      <td>LEHRER: Governor Clinton, a one minute response.</td>\n",
       "      <td>lehrer</td>\n",
       "      <td>Commission for Presidential Debates</td>\n",
       "      <td>General-President</td>\n",
       "    </tr>\n",
       "    <tr>\n",
       "      <th>3</th>\n",
       "      <td>October 11, 1992</td>\n",
       "      <td>The First Clinton-Bush-Perot Presidential Deb...</td>\n",
       "      <td>CLINTON: The most important distinction in thi...</td>\n",
       "      <td>clinton</td>\n",
       "      <td>Commission for Presidential Debates</td>\n",
       "      <td>General-President</td>\n",
       "    </tr>\n",
       "    <tr>\n",
       "      <th>4</th>\n",
       "      <td>October 11, 1992</td>\n",
       "      <td>The First Clinton-Bush-Perot Presidential Deb...</td>\n",
       "      <td>LEHRER: President Bush, one minute response, sir.</td>\n",
       "      <td>lehrer</td>\n",
       "      <td>Commission for Presidential Debates</td>\n",
       "      <td>General-President</td>\n",
       "    </tr>\n",
       "  </tbody>\n",
       "</table>\n",
       "</div>"
      ],
      "text/plain": [
       "               Date                                        Debate_Name  \\\n",
       "0  October 11, 1992   The First Clinton-Bush-Perot Presidential Deb...   \n",
       "1  October 11, 1992   The First Clinton-Bush-Perot Presidential Deb...   \n",
       "2  October 11, 1992   The First Clinton-Bush-Perot Presidential Deb...   \n",
       "3  October 11, 1992   The First Clinton-Bush-Perot Presidential Deb...   \n",
       "4  October 11, 1992   The First Clinton-Bush-Perot Presidential Deb...   \n",
       "\n",
       "                                          Transcript  Speaker  \\\n",
       "0  LEHRER: Good evening, and welcome to the first...   lehrer   \n",
       "1  PEROT: I think the principal that separates me...    perot   \n",
       "2   LEHRER: Governor Clinton, a one minute response.   lehrer   \n",
       "3  CLINTON: The most important distinction in thi...  clinton   \n",
       "4  LEHRER: President Bush, one minute response, sir.   lehrer   \n",
       "\n",
       "                           Data_Source        Debate_Type  \n",
       "0  Commission for Presidential Debates  General-President  \n",
       "1  Commission for Presidential Debates  General-President  \n",
       "2  Commission for Presidential Debates  General-President  \n",
       "3  Commission for Presidential Debates  General-President  \n",
       "4  Commission for Presidential Debates  General-President  "
      ]
     },
     "execution_count": 5,
     "metadata": {},
     "output_type": "execute_result"
    }
   ],
   "source": [
    "speaker_df.head()"
   ]
  },
  {
   "cell_type": "markdown",
   "metadata": {},
   "source": [
    "Adding a year column, since that will help with filtering:"
   ]
  },
  {
   "cell_type": "code",
   "execution_count": 6,
   "metadata": {},
   "outputs": [],
   "source": [
    "speaker_df['Date_Time_Date'] = pd.to_datetime(speaker_df['Date'])\n",
    "speaker_df.drop(columns=['Date'], inplace=True)"
   ]
  },
  {
   "cell_type": "code",
   "execution_count": 7,
   "metadata": {},
   "outputs": [],
   "source": [
    "speaker_df['Year'] = speaker_df.Date_Time_Date.dt.year"
   ]
  },
  {
   "cell_type": "code",
   "execution_count": 8,
   "metadata": {},
   "outputs": [
    {
     "data": {
      "text/html": [
       "<div>\n",
       "<style scoped>\n",
       "    .dataframe tbody tr th:only-of-type {\n",
       "        vertical-align: middle;\n",
       "    }\n",
       "\n",
       "    .dataframe tbody tr th {\n",
       "        vertical-align: top;\n",
       "    }\n",
       "\n",
       "    .dataframe thead th {\n",
       "        text-align: right;\n",
       "    }\n",
       "</style>\n",
       "<table border=\"1\" class=\"dataframe\">\n",
       "  <thead>\n",
       "    <tr style=\"text-align: right;\">\n",
       "      <th></th>\n",
       "      <th>Debate_Name</th>\n",
       "      <th>Transcript</th>\n",
       "      <th>Speaker</th>\n",
       "      <th>Data_Source</th>\n",
       "      <th>Debate_Type</th>\n",
       "      <th>Date_Time_Date</th>\n",
       "      <th>Year</th>\n",
       "    </tr>\n",
       "  </thead>\n",
       "  <tbody>\n",
       "    <tr>\n",
       "      <th>0</th>\n",
       "      <td>The First Clinton-Bush-Perot Presidential Deb...</td>\n",
       "      <td>LEHRER: Good evening, and welcome to the first...</td>\n",
       "      <td>lehrer</td>\n",
       "      <td>Commission for Presidential Debates</td>\n",
       "      <td>General-President</td>\n",
       "      <td>1992-10-11</td>\n",
       "      <td>1992</td>\n",
       "    </tr>\n",
       "    <tr>\n",
       "      <th>1</th>\n",
       "      <td>The First Clinton-Bush-Perot Presidential Deb...</td>\n",
       "      <td>PEROT: I think the principal that separates me...</td>\n",
       "      <td>perot</td>\n",
       "      <td>Commission for Presidential Debates</td>\n",
       "      <td>General-President</td>\n",
       "      <td>1992-10-11</td>\n",
       "      <td>1992</td>\n",
       "    </tr>\n",
       "    <tr>\n",
       "      <th>2</th>\n",
       "      <td>The First Clinton-Bush-Perot Presidential Deb...</td>\n",
       "      <td>LEHRER: Governor Clinton, a one minute response.</td>\n",
       "      <td>lehrer</td>\n",
       "      <td>Commission for Presidential Debates</td>\n",
       "      <td>General-President</td>\n",
       "      <td>1992-10-11</td>\n",
       "      <td>1992</td>\n",
       "    </tr>\n",
       "    <tr>\n",
       "      <th>3</th>\n",
       "      <td>The First Clinton-Bush-Perot Presidential Deb...</td>\n",
       "      <td>CLINTON: The most important distinction in thi...</td>\n",
       "      <td>clinton</td>\n",
       "      <td>Commission for Presidential Debates</td>\n",
       "      <td>General-President</td>\n",
       "      <td>1992-10-11</td>\n",
       "      <td>1992</td>\n",
       "    </tr>\n",
       "    <tr>\n",
       "      <th>4</th>\n",
       "      <td>The First Clinton-Bush-Perot Presidential Deb...</td>\n",
       "      <td>LEHRER: President Bush, one minute response, sir.</td>\n",
       "      <td>lehrer</td>\n",
       "      <td>Commission for Presidential Debates</td>\n",
       "      <td>General-President</td>\n",
       "      <td>1992-10-11</td>\n",
       "      <td>1992</td>\n",
       "    </tr>\n",
       "  </tbody>\n",
       "</table>\n",
       "</div>"
      ],
      "text/plain": [
       "                                         Debate_Name  \\\n",
       "0   The First Clinton-Bush-Perot Presidential Deb...   \n",
       "1   The First Clinton-Bush-Perot Presidential Deb...   \n",
       "2   The First Clinton-Bush-Perot Presidential Deb...   \n",
       "3   The First Clinton-Bush-Perot Presidential Deb...   \n",
       "4   The First Clinton-Bush-Perot Presidential Deb...   \n",
       "\n",
       "                                          Transcript  Speaker  \\\n",
       "0  LEHRER: Good evening, and welcome to the first...   lehrer   \n",
       "1  PEROT: I think the principal that separates me...    perot   \n",
       "2   LEHRER: Governor Clinton, a one minute response.   lehrer   \n",
       "3  CLINTON: The most important distinction in thi...  clinton   \n",
       "4  LEHRER: President Bush, one minute response, sir.   lehrer   \n",
       "\n",
       "                           Data_Source        Debate_Type Date_Time_Date  Year  \n",
       "0  Commission for Presidential Debates  General-President     1992-10-11  1992  \n",
       "1  Commission for Presidential Debates  General-President     1992-10-11  1992  \n",
       "2  Commission for Presidential Debates  General-President     1992-10-11  1992  \n",
       "3  Commission for Presidential Debates  General-President     1992-10-11  1992  \n",
       "4  Commission for Presidential Debates  General-President     1992-10-11  1992  "
      ]
     },
     "execution_count": 8,
     "metadata": {},
     "output_type": "execute_result"
    }
   ],
   "source": [
    "speaker_df.head()"
   ]
  },
  {
   "cell_type": "code",
   "execution_count": 9,
   "metadata": {},
   "outputs": [
    {
     "data": {
      "text/plain": [
       "(76495, 7)"
      ]
     },
     "execution_count": 9,
     "metadata": {},
     "output_type": "execute_result"
    }
   ],
   "source": [
    "speaker_df.shape"
   ]
  },
  {
   "cell_type": "markdown",
   "metadata": {},
   "source": [
    "Removing Transcript rows with \"(Applause)\" or \"(laughter)\" as the only text:"
   ]
  },
  {
   "cell_type": "code",
   "execution_count": 10,
   "metadata": {},
   "outputs": [
    {
     "data": {
      "text/plain": [
       "(76452, 7)"
      ]
     },
     "execution_count": 10,
     "metadata": {},
     "output_type": "execute_result"
    }
   ],
   "source": [
    "del_rows = []\n",
    "for i, transcript in enumerate(speaker_df.Transcript):\n",
    "    text = transcript.lower()\n",
    "    if text == '(laughter)' or text == '(applause)' or text == '(applause.)':\n",
    "        del_rows.append(i)\n",
    "speaker_df.drop(del_rows, inplace=True)\n",
    "speaker_df.shape"
   ]
  },
  {
   "cell_type": "markdown",
   "metadata": {},
   "source": [
    "## Updating Initial Data:"
   ]
  },
  {
   "cell_type": "markdown",
   "metadata": {},
   "source": [
    "To help with seeing the effects of NLP, I am going to add a column for speaker type (candidate, moderator, etc.)."
   ]
  },
  {
   "cell_type": "code",
   "execution_count": 11,
   "metadata": {},
   "outputs": [
    {
     "data": {
      "text/html": [
       "<div>\n",
       "<style scoped>\n",
       "    .dataframe tbody tr th:only-of-type {\n",
       "        vertical-align: middle;\n",
       "    }\n",
       "\n",
       "    .dataframe tbody tr th {\n",
       "        vertical-align: top;\n",
       "    }\n",
       "\n",
       "    .dataframe thead th {\n",
       "        text-align: right;\n",
       "    }\n",
       "</style>\n",
       "<table border=\"1\" class=\"dataframe\">\n",
       "  <thead>\n",
       "    <tr style=\"text-align: right;\">\n",
       "      <th></th>\n",
       "      <th>Debate_Name</th>\n",
       "      <th>Transcript</th>\n",
       "      <th>Speaker</th>\n",
       "      <th>Data_Source</th>\n",
       "      <th>Debate_Type</th>\n",
       "      <th>Date_Time_Date</th>\n",
       "      <th>Year</th>\n",
       "      <th>Speaker_Type</th>\n",
       "    </tr>\n",
       "  </thead>\n",
       "  <tbody>\n",
       "    <tr>\n",
       "      <th>0</th>\n",
       "      <td>The First Clinton-Bush-Perot Presidential Deb...</td>\n",
       "      <td>LEHRER: Good evening, and welcome to the first...</td>\n",
       "      <td>lehrer</td>\n",
       "      <td>Commission for Presidential Debates</td>\n",
       "      <td>General-President</td>\n",
       "      <td>1992-10-11</td>\n",
       "      <td>1992</td>\n",
       "      <td>none_listed</td>\n",
       "    </tr>\n",
       "    <tr>\n",
       "      <th>1</th>\n",
       "      <td>The First Clinton-Bush-Perot Presidential Deb...</td>\n",
       "      <td>PEROT: I think the principal that separates me...</td>\n",
       "      <td>perot</td>\n",
       "      <td>Commission for Presidential Debates</td>\n",
       "      <td>General-President</td>\n",
       "      <td>1992-10-11</td>\n",
       "      <td>1992</td>\n",
       "      <td>none_listed</td>\n",
       "    </tr>\n",
       "    <tr>\n",
       "      <th>2</th>\n",
       "      <td>The First Clinton-Bush-Perot Presidential Deb...</td>\n",
       "      <td>LEHRER: Governor Clinton, a one minute response.</td>\n",
       "      <td>lehrer</td>\n",
       "      <td>Commission for Presidential Debates</td>\n",
       "      <td>General-President</td>\n",
       "      <td>1992-10-11</td>\n",
       "      <td>1992</td>\n",
       "      <td>none_listed</td>\n",
       "    </tr>\n",
       "    <tr>\n",
       "      <th>3</th>\n",
       "      <td>The First Clinton-Bush-Perot Presidential Deb...</td>\n",
       "      <td>CLINTON: The most important distinction in thi...</td>\n",
       "      <td>clinton</td>\n",
       "      <td>Commission for Presidential Debates</td>\n",
       "      <td>General-President</td>\n",
       "      <td>1992-10-11</td>\n",
       "      <td>1992</td>\n",
       "      <td>none_listed</td>\n",
       "    </tr>\n",
       "    <tr>\n",
       "      <th>4</th>\n",
       "      <td>The First Clinton-Bush-Perot Presidential Deb...</td>\n",
       "      <td>LEHRER: President Bush, one minute response, sir.</td>\n",
       "      <td>lehrer</td>\n",
       "      <td>Commission for Presidential Debates</td>\n",
       "      <td>General-President</td>\n",
       "      <td>1992-10-11</td>\n",
       "      <td>1992</td>\n",
       "      <td>none_listed</td>\n",
       "    </tr>\n",
       "  </tbody>\n",
       "</table>\n",
       "</div>"
      ],
      "text/plain": [
       "                                         Debate_Name  \\\n",
       "0   The First Clinton-Bush-Perot Presidential Deb...   \n",
       "1   The First Clinton-Bush-Perot Presidential Deb...   \n",
       "2   The First Clinton-Bush-Perot Presidential Deb...   \n",
       "3   The First Clinton-Bush-Perot Presidential Deb...   \n",
       "4   The First Clinton-Bush-Perot Presidential Deb...   \n",
       "\n",
       "                                          Transcript  Speaker  \\\n",
       "0  LEHRER: Good evening, and welcome to the first...   lehrer   \n",
       "1  PEROT: I think the principal that separates me...    perot   \n",
       "2   LEHRER: Governor Clinton, a one minute response.   lehrer   \n",
       "3  CLINTON: The most important distinction in thi...  clinton   \n",
       "4  LEHRER: President Bush, one minute response, sir.   lehrer   \n",
       "\n",
       "                           Data_Source        Debate_Type Date_Time_Date  \\\n",
       "0  Commission for Presidential Debates  General-President     1992-10-11   \n",
       "1  Commission for Presidential Debates  General-President     1992-10-11   \n",
       "2  Commission for Presidential Debates  General-President     1992-10-11   \n",
       "3  Commission for Presidential Debates  General-President     1992-10-11   \n",
       "4  Commission for Presidential Debates  General-President     1992-10-11   \n",
       "\n",
       "   Year Speaker_Type  \n",
       "0  1992  none_listed  \n",
       "1  1992  none_listed  \n",
       "2  1992  none_listed  \n",
       "3  1992  none_listed  \n",
       "4  1992  none_listed  "
      ]
     },
     "execution_count": 11,
     "metadata": {},
     "output_type": "execute_result"
    }
   ],
   "source": [
    "speaker_df['Speaker_Type'] = 'none_listed'\n",
    "speaker_df.head()"
   ]
  },
  {
   "cell_type": "code",
   "execution_count": 12,
   "metadata": {
    "scrolled": true
   },
   "outputs": [
    {
     "data": {
      "text/plain": [
       "clinton          3336\n",
       "romney           2796\n",
       "trump            2432\n",
       "biden            2406\n",
       "sanders          2256\n",
       "mccain           2126\n",
       "blitzer          2091\n",
       "obama            2074\n",
       "paul             1651\n",
       "bush             1591\n",
       "cooper           1410\n",
       "edwards          1319\n",
       "gore             1296\n",
       "santorum         1287\n",
       "moderator        1274\n",
       "huckabee         1040\n",
       "king             1029\n",
       "the president    1006\n",
       "wallace          1000\n",
       "gingrich          971\n",
       "Name: Speaker, dtype: int64"
      ]
     },
     "execution_count": 12,
     "metadata": {},
     "output_type": "execute_result"
    }
   ],
   "source": [
    "speaker_df.Speaker.value_counts().head(20)"
   ]
  },
  {
   "cell_type": "markdown",
   "metadata": {},
   "source": [
    "### As a note, I am iterating through the below, entering in the names I get into the right category and then re-running to see who the new names that pop up are."
   ]
  },
  {
   "cell_type": "markdown",
   "metadata": {},
   "source": [
    "This list contains a mix of candidates and moderators.  I'll create a database of common republicans, democrats, and moderators from these, to at least get those taken care of:"
   ]
  },
  {
   "cell_type": "code",
   "execution_count": 13,
   "metadata": {},
   "outputs": [],
   "source": [
    "republicans = ['paul (?)','gary bauer (r), presidential candidate','senator jim demint (r), south carolina','steve forbes','john mccain','kemp','orrin hatch','gary bauer','alan keyes','j. king','reagan','romney. ','nixon','ford','amb. keyes','walker','sen thompson','pawlenty','gilmore','rep. tancredo','palin','tancredo','brownback','hunter','romney.','rep. hunter','mayor giuliani','hatch','quayle','rep. paul','pataki','cheney','senator dole','huntsman','bauer','thompson','jindal','trump', 'romney', 'paul', 'santorum', 'mccain', 'bush', 'gingrich', 'rubio', 'huckabee', 'cruz', 'giuliani', 'kasich', 'bachmann', 'keyes', 'christie', 'forbes', 'cain', 'fiorina', 'pence', 'carson', 'graham', 'perry', 'president bush']\n",
    "democrats = ['bentsen','ferraro','swalwell','clark','bennet','chafee','hickenlooper','kennedy','webb','dean','williamson','carter','de blasio','inslee','delaney','kerry','gillibrand','gabbard','sharpton','lieberman','dukakis','senator obama','senator clinton','mondale','castro','bloomberg',\"o'rourke\",'gravel','yang','rep. kucinich','steyer','booker','richardson','bradley','kaine','senator kerry','clinton', 'sanders', 'obama', 'gore', 'edwards', 'biden', 'warren', 'klobuchar', 'buttigieg', ' obama', ' clinton', \"o'malley\", 'dodd', 'kucinich']\n",
    "moderators = ['ramos [through translator]','ellis, christian science monitor','john king, cnn correspondent','epperson',\"o'brien\",'frederick','moyers','ferrechio','q. ','member of audience','calderon','mcelveen','greenfield','goldman','parker','brennan','george','vanocur','(unknown)','hauc','s. king','alcindor','york','davis','distaso','shadel','mcgee','demint','malveaux','arrarás','jackson','nawaz','bullock','baker','hook', 'novak','salinas','lacey','spradling','tumulty','pfannenstiel', 'phillip','newman','alberta','burnett','bachman','announcer','schieffer. ','cameron','unidentified male','cokie roberts','q','question','mitchell','stanton','gregory','crowley','vaughn','koppel',\"o'donnell\",'sawyer','ramos','bruno','page','matthews','seib','quijano','pelley','garrett','walters','regan','smith','goler','unknown','brown','maccallum','hemmer','cavuto','quick','quintanilla','griffith','rose','welker','schieffer','jennings','guthrie','harwood','washburn','hewitt','ryerson','dickerson','cuomo','lemon','olbermann','ifill','smiley','maddow','bartiromo','williams','diaz-balart','shaw','gibson','woodruff','bash','cooper', 'blitzer', 'moderator', 'king', 'wallace', 'tapper', 'baier', 'mr. blitzer', 'russert', 'stephanopoulos', 'lehrer', 'holt', 'hume', 'todd', 'brokaw', 'muir', 'raddatz', 'kelly']\n",
    "independents = ['stockdale','perot']"
   ]
  },
  {
   "cell_type": "markdown",
   "metadata": {},
   "source": [
    "Loop specifically for speaker of \"The President:\""
   ]
  },
  {
   "cell_type": "code",
   "execution_count": 14,
   "metadata": {},
   "outputs": [],
   "source": [
    "for i, speaker in enumerate(speaker_df.Speaker):\n",
    "    if speaker == 'the president':\n",
    "        if speaker_df.iloc[i, 6] == 1984:\n",
    "            speaker_df.iloc[i, 7] = 'Republican'\n",
    "            speaker_df.iloc[i, 2] = 'reagan'\n",
    "        elif speaker_df.iloc[i, 6] == 1996:\n",
    "            speaker_df.iloc[i, 7] = 'Democrat'\n",
    "            speaker_df.iloc[i, 2] = 'clinton'\n",
    "        elif speaker_df.iloc[i, 6] == 2012:\n",
    "            speaker_df.iloc[i, 7] = 'Democrat'\n",
    "            speaker_df.iloc[i, 2] = 'obama'\n",
    "        else:\n",
    "            speaker_df.iloc[i, 7] = 'Republican'\n",
    "            speaker_df.iloc[i, 2] = 'trump'"
   ]
  },
  {
   "cell_type": "markdown",
   "metadata": {},
   "source": [
    "Looping through above lists:"
   ]
  },
  {
   "cell_type": "code",
   "execution_count": 15,
   "metadata": {},
   "outputs": [],
   "source": [
    "for i, speaker in enumerate(speaker_df.Speaker):\n",
    "    #Kamala Harris and a moderator:\n",
    "    if speaker == 'harris':\n",
    "        if speaker_df.iloc[i, 6] == 2011:\n",
    "            speaker_df.iloc[i, 7] = 'Moderator/Other'\n",
    "        else:\n",
    "            speaker_df.iloc[i, 7] = 'Democrat'\n",
    "    #Paul Ryan in 2012, Tim Ryan in 2019:\n",
    "    elif speaker == 'ryan':\n",
    "        if speaker_df.iloc[i, 6] == 2012:\n",
    "            speaker_df.iloc[i, 7] = 'Republican'\n",
    "        else:\n",
    "            speaker_df.iloc[i, 7] = 'Democrat'\n",
    "    #Looping through above lists:\n",
    "    elif speaker in republicans:\n",
    "        speaker_df.iloc[i,7] = 'Republican'\n",
    "    elif speaker in democrats:\n",
    "        speaker_df.iloc[i,7] = 'Democrat'\n",
    "    elif speaker in moderators:\n",
    "        speaker_df.iloc[i,7] = 'Moderator/Other'\n",
    "    elif speaker in independents:\n",
    "        speaker_df.iloc[i, 7] = 'Independent'\n",
    "    #Setting a catch all for everyone else as a moderator, since I can't parse through every single one-off line:\n",
    "    else:\n",
    "        speaker_df.iloc[i,7] = 'Moderator/Other'"
   ]
  },
  {
   "cell_type": "markdown",
   "metadata": {},
   "source": [
    "Adding a loop to account for the different Bushs and Clintons, to rename them:"
   ]
  },
  {
   "cell_type": "code",
   "execution_count": 16,
   "metadata": {
    "scrolled": true
   },
   "outputs": [
    {
     "name": "stderr",
     "output_type": "stream",
     "text": [
      "/Users/patrickbovard/opt/anaconda3/envs/metis/lib/python3.8/site-packages/pandas/core/generic.py:5170: SettingWithCopyWarning: \n",
      "A value is trying to be set on a copy of a slice from a DataFrame\n",
      "\n",
      "See the caveats in the documentation: https://pandas.pydata.org/pandas-docs/stable/user_guide/indexing.html#returning-a-view-versus-a-copy\n",
      "  self[name] = value\n"
     ]
    }
   ],
   "source": [
    "for i, speaker in enumerate(speaker_df.Speaker):\n",
    "    if 'bush' in speaker:\n",
    "        #Jeb Bush:\n",
    "        if speaker_df.iloc[i].Year > 2014:\n",
    "            speaker_df.iloc[i].Speaker = 'j. bush'\n",
    "        #George W. Bush (43)\n",
    "        elif speaker_df.iloc[i].Year > 1995 and speaker_df.iloc[i].Year < 2014:\n",
    "            speaker_df.iloc[i].Speaker = 'g.w. bush'\n",
    "        #George H.W. Bush\n",
    "        elif speaker_df.iloc[i].Year < 1995:\n",
    "            speaker_df.iloc[i].Speaker = 'g.h.w. bush'\n",
    "    elif 'clinton' in speaker:\n",
    "        #Hillary Clinton:\n",
    "        if speaker_df.iloc[i].Year > 2002:\n",
    "            speaker_df.iloc[i].Speaker = 'h. clinton'\n",
    "        #Bill Clinton\n",
    "        elif speaker_df.iloc[i].Year < 2002:\n",
    "            speaker_df.iloc[i].Speaker = 'b. clinton'"
   ]
  },
  {
   "cell_type": "code",
   "execution_count": 17,
   "metadata": {},
   "outputs": [
    {
     "data": {
      "text/plain": [
       "Moderator/Other    27050\n",
       "Republican         26884\n",
       "Democrat           22431\n",
       "Independent           87\n",
       "Name: Speaker_Type, dtype: int64"
      ]
     },
     "execution_count": 17,
     "metadata": {},
     "output_type": "execute_result"
    }
   ],
   "source": [
    "speaker_df['Speaker_Type'].value_counts()"
   ]
  },
  {
   "cell_type": "markdown",
   "metadata": {},
   "source": [
    "Iterating through to see some of the next top names:"
   ]
  },
  {
   "cell_type": "code",
   "execution_count": 18,
   "metadata": {},
   "outputs": [],
   "source": [
    "filter_df = speaker_df[speaker_df['Speaker_Type'] == 'none_listed']"
   ]
  },
  {
   "cell_type": "code",
   "execution_count": 19,
   "metadata": {},
   "outputs": [
    {
     "data": {
      "text/plain": [
       "Series([], Name: Speaker, dtype: int64)"
      ]
     },
     "execution_count": 19,
     "metadata": {},
     "output_type": "execute_result"
    }
   ],
   "source": [
    "filter_df.Speaker.value_counts().head(25)"
   ]
  },
  {
   "cell_type": "markdown",
   "metadata": {},
   "source": [
    "**Below is a general formula to plug in and filter names for determining which bucket they are in:**"
   ]
  },
  {
   "cell_type": "code",
   "execution_count": 20,
   "metadata": {
    "scrolled": true
   },
   "outputs": [
    {
     "data": {
      "text/plain": [
       "Series([], Name: Date_Time_Date, dtype: int64)"
      ]
     },
     "execution_count": 20,
     "metadata": {},
     "output_type": "execute_result"
    }
   ],
   "source": [
    "filter_df[filter_df.Speaker == \"kemp\"].Date_Time_Date.value_counts()"
   ]
  },
  {
   "cell_type": "code",
   "execution_count": 21,
   "metadata": {
    "scrolled": true
   },
   "outputs": [
    {
     "data": {
      "text/plain": [
       "Series([], Name: Debate_Name, dtype: int64)"
      ]
     },
     "execution_count": 21,
     "metadata": {},
     "output_type": "execute_result"
    }
   ],
   "source": [
    "filter_df[filter_df.Speaker == \"kemp\"].Debate_Name.value_counts()"
   ]
  },
  {
   "cell_type": "code",
   "execution_count": 22,
   "metadata": {},
   "outputs": [
    {
     "data": {
      "text/plain": [
       "Series([], Name: Data_Source, dtype: int64)"
      ]
     },
     "execution_count": 22,
     "metadata": {},
     "output_type": "execute_result"
    }
   ],
   "source": [
    "filter_df[filter_df.Speaker == '(applause)'].Data_Source.value_counts()"
   ]
  },
  {
   "cell_type": "code",
   "execution_count": 23,
   "metadata": {
    "scrolled": true
   },
   "outputs": [
    {
     "data": {
      "text/html": [
       "<div>\n",
       "<style scoped>\n",
       "    .dataframe tbody tr th:only-of-type {\n",
       "        vertical-align: middle;\n",
       "    }\n",
       "\n",
       "    .dataframe tbody tr th {\n",
       "        vertical-align: top;\n",
       "    }\n",
       "\n",
       "    .dataframe thead th {\n",
       "        text-align: right;\n",
       "    }\n",
       "</style>\n",
       "<table border=\"1\" class=\"dataframe\">\n",
       "  <thead>\n",
       "    <tr style=\"text-align: right;\">\n",
       "      <th></th>\n",
       "      <th>Debate_Name</th>\n",
       "      <th>Transcript</th>\n",
       "      <th>Speaker</th>\n",
       "      <th>Data_Source</th>\n",
       "      <th>Debate_Type</th>\n",
       "      <th>Date_Time_Date</th>\n",
       "      <th>Year</th>\n",
       "      <th>Speaker_Type</th>\n",
       "    </tr>\n",
       "  </thead>\n",
       "  <tbody>\n",
       "  </tbody>\n",
       "</table>\n",
       "</div>"
      ],
      "text/plain": [
       "Empty DataFrame\n",
       "Columns: [Debate_Name, Transcript, Speaker, Data_Source, Debate_Type, Date_Time_Date, Year, Speaker_Type]\n",
       "Index: []"
      ]
     },
     "execution_count": 23,
     "metadata": {},
     "output_type": "execute_result"
    }
   ],
   "source": [
    "filter_df[filter_df.Speaker == \"gen. chuck yeager (usaf, ret.)\"]"
   ]
  },
  {
   "cell_type": "markdown",
   "metadata": {},
   "source": [
    "Adding a column for line length:"
   ]
  },
  {
   "cell_type": "code",
   "execution_count": 24,
   "metadata": {},
   "outputs": [
    {
     "name": "stderr",
     "output_type": "stream",
     "text": [
      "/Users/patrickbovard/opt/anaconda3/envs/metis/lib/python3.8/site-packages/pandas/core/indexing.py:670: SettingWithCopyWarning: \n",
      "A value is trying to be set on a copy of a slice from a DataFrame\n",
      "\n",
      "See the caveats in the documentation: https://pandas.pydata.org/pandas-docs/stable/user_guide/indexing.html#returning-a-view-versus-a-copy\n",
      "  iloc._setitem_with_indexer(indexer, value)\n"
     ]
    }
   ],
   "source": [
    "speaker_df['line_length'] = 0\n",
    "for i, text in enumerate(speaker_df.line_length):\n",
    "    speaker_df['line_length'].iloc[i] = len(speaker_df.Transcript.iloc[i].split(\" \"))"
   ]
  },
  {
   "cell_type": "markdown",
   "metadata": {},
   "source": [
    "Finally, adding a column for election result (winnner/loser):"
   ]
  },
  {
   "cell_type": "code",
   "execution_count": 25,
   "metadata": {},
   "outputs": [],
   "source": [
    "speaker_df['Election_Result'] = \"\""
   ]
  },
  {
   "cell_type": "markdown",
   "metadata": {},
   "source": [
    "Looping through the General-President and Primary speakers to add winners/loser labels (not adding VP at this time, since the president is typically who people are voting for more strongly):"
   ]
  },
  {
   "cell_type": "code",
   "execution_count": 26,
   "metadata": {},
   "outputs": [],
   "source": [
    "for i, speaker in enumerate(speaker_df.Speaker):\n",
    "    #Adding an n/a for moderators and the VP candidates:\n",
    "    if speaker_df.iloc[i].Speaker_Type == 'Moderator/Other' or speaker_df.iloc[i].Debate_Type == 'General-VP':\n",
    "        speaker_df.iloc[i, 9] = 'n/a'\n",
    "        \n",
    "    #Looping through Presidential Election Results Winners:\n",
    "    elif speaker_df.iloc[i].Debate_Type == 'General-President':\n",
    "        if speaker_df.iloc[i].Year == 2016:\n",
    "            if 'trump' in speaker:\n",
    "                speaker_df.iloc[i, 9] = 'Winner'\n",
    "            else:\n",
    "                speaker_df.iloc[i, 9] = 'Loser'\n",
    "        elif speaker_df.iloc[i].Year == 2020:\n",
    "            if 'biden' in speaker:\n",
    "                speaker_df.iloc[i, 9] = 'Winner'     \n",
    "            else:\n",
    "                speaker_df.iloc[i, 9] = 'Loser'\n",
    "        elif speaker_df.iloc[i].Year == 2012 or speaker_df.iloc[i].Year == 2008:\n",
    "            if 'obama' in speaker:\n",
    "                speaker_df.iloc[i, 9] = 'Winner' \n",
    "            else:\n",
    "                speaker_df.iloc[i, 9] = 'Loser'\n",
    "        elif speaker_df.iloc[i].Year == 1988 or speaker_df.iloc[i].Year == 2000 or speaker_df.iloc[i].Year == 2004:\n",
    "            if 'bush' in speaker:\n",
    "                speaker_df.iloc[i, 9] = 'Winner'  \n",
    "            else:\n",
    "                speaker_df.iloc[i, 9] = 'Loser'\n",
    "        elif speaker_df.iloc[i].Year == 1996 or speaker_df.iloc[i].Year == 1992:\n",
    "            if 'clinton' in speaker:\n",
    "                speaker_df.iloc[i, 9] = 'Winner' \n",
    "            else:\n",
    "                speaker_df.iloc[i, 9] = 'Loser'\n",
    "        elif speaker_df.iloc[i].Year == 1980 or speaker_df.iloc[i].Year == 1984:\n",
    "            if 'reagan' in speaker:\n",
    "                speaker_df.iloc[i, 9] = 'Winner' \n",
    "            else:\n",
    "                speaker_df.iloc[i, 9] = 'Loser'\n",
    "        elif speaker_df.iloc[i].Year == 1976:\n",
    "            if 'carter' in speaker:\n",
    "                speaker_df.iloc[i, 9] = 'Winner' \n",
    "            else:\n",
    "                speaker_df.iloc[i, 9] = 'Loser'\n",
    "        elif speaker_df.iloc[i].Year == 1960:\n",
    "            if 'kennedy' in speaker:\n",
    "                speaker_df.iloc[i, 9] = 'Winner' \n",
    "            else:\n",
    "                speaker_df.iloc[i, 9] = 'Loser'\n",
    "                \n",
    "    #Looping through Democrat Primary Election Results Winners:\n",
    "    elif speaker_df.iloc[i].Debate_Type == 'Primary-Democrat':\n",
    "        if speaker_df.iloc[i].Year == 2016:\n",
    "            if 'clinton' in speaker:\n",
    "                speaker_df.iloc[i, 9] = 'Winner'\n",
    "            else:\n",
    "                speaker_df.iloc[i, 9] = 'Loser'\n",
    "        elif speaker_df.iloc[i].Year == 2020:\n",
    "            if 'biden' in speaker:\n",
    "                speaker_df.iloc[i, 9] = 'Winner'     \n",
    "            else:\n",
    "                speaker_df.iloc[i, 9] = 'Loser'\n",
    "        elif speaker_df.iloc[i].Year == 2008:\n",
    "            if 'obama' in speaker:\n",
    "                speaker_df.iloc[i, 9] = 'Winner' \n",
    "            else:\n",
    "                speaker_df.iloc[i, 9] = 'Loser'\n",
    "        elif speaker_df.iloc[i].Year == 2004:\n",
    "            if 'kerry' in speaker:\n",
    "                speaker_df.iloc[i, 9] = 'Winner'  \n",
    "            else:\n",
    "                speaker_df.iloc[i, 9] = 'Loser'\n",
    "        elif speaker_df.iloc[i].Year == 2000:\n",
    "            if 'gore' in speaker:\n",
    "                speaker_df.iloc[i, 9] = 'Winner'  \n",
    "            else:\n",
    "                speaker_df.iloc[i, 9] = 'Loser'\n",
    "\n",
    "#Looping through Democrat Primary Election Results Winners:\n",
    "    elif speaker_df.iloc[i].Debate_Type == 'Primary-Republican':\n",
    "        if speaker_df.iloc[i].Year == 2016:\n",
    "            if 'trump' in speaker:\n",
    "                speaker_df.iloc[i, 9] = 'Winner'\n",
    "            else:\n",
    "                speaker_df.iloc[i, 9] = 'Loser'\n",
    "        elif speaker_df.iloc[i].Year == 2012:\n",
    "            if 'romney' in speaker:\n",
    "                speaker_df.iloc[i, 9] = 'Winner'     \n",
    "            else:\n",
    "                speaker_df.iloc[i, 9] = 'Loser'\n",
    "        elif speaker_df.iloc[i].Year == 2008:\n",
    "            if 'mccain' in speaker:\n",
    "                speaker_df.iloc[i, 9] = 'Winner' \n",
    "            else:\n",
    "                speaker_df.iloc[i, 9] = 'Loser'\n",
    "        elif speaker_df.iloc[i].Year == 2000:\n",
    "            if 'bush' in speaker:\n",
    "                speaker_df.iloc[i, 9] = 'Winner'  \n",
    "            else:\n",
    "                speaker_df.iloc[i, 9] = 'Loser'"
   ]
  },
  {
   "cell_type": "markdown",
   "metadata": {},
   "source": [
    "# Topic Modelling / EDA"
   ]
  },
  {
   "cell_type": "markdown",
   "metadata": {},
   "source": [
    "At this point, I'll begin topic modelling on the speaker_df dataframe, with the speaker and tags added.  The original workflow I'm using here was stered in secondary_text_clean_eda."
   ]
  },
  {
   "cell_type": "code",
   "execution_count": 27,
   "metadata": {},
   "outputs": [
    {
     "data": {
      "text/html": [
       "<div>\n",
       "<style scoped>\n",
       "    .dataframe tbody tr th:only-of-type {\n",
       "        vertical-align: middle;\n",
       "    }\n",
       "\n",
       "    .dataframe tbody tr th {\n",
       "        vertical-align: top;\n",
       "    }\n",
       "\n",
       "    .dataframe thead th {\n",
       "        text-align: right;\n",
       "    }\n",
       "</style>\n",
       "<table border=\"1\" class=\"dataframe\">\n",
       "  <thead>\n",
       "    <tr style=\"text-align: right;\">\n",
       "      <th></th>\n",
       "      <th>Debate_Name</th>\n",
       "      <th>Transcript</th>\n",
       "      <th>Speaker</th>\n",
       "      <th>Data_Source</th>\n",
       "      <th>Debate_Type</th>\n",
       "      <th>Date_Time_Date</th>\n",
       "      <th>Year</th>\n",
       "      <th>Speaker_Type</th>\n",
       "      <th>line_length</th>\n",
       "      <th>Election_Result</th>\n",
       "    </tr>\n",
       "  </thead>\n",
       "  <tbody>\n",
       "    <tr>\n",
       "      <th>0</th>\n",
       "      <td>The First Clinton-Bush-Perot Presidential Deb...</td>\n",
       "      <td>LEHRER: Good evening, and welcome to the first...</td>\n",
       "      <td>lehrer</td>\n",
       "      <td>Commission for Presidential Debates</td>\n",
       "      <td>General-President</td>\n",
       "      <td>1992-10-11</td>\n",
       "      <td>1992</td>\n",
       "      <td>Moderator/Other</td>\n",
       "      <td>234</td>\n",
       "      <td>n/a</td>\n",
       "    </tr>\n",
       "    <tr>\n",
       "      <th>1</th>\n",
       "      <td>The First Clinton-Bush-Perot Presidential Deb...</td>\n",
       "      <td>PEROT: I think the principal that separates me...</td>\n",
       "      <td>perot</td>\n",
       "      <td>Commission for Presidential Debates</td>\n",
       "      <td>General-President</td>\n",
       "      <td>1992-10-11</td>\n",
       "      <td>1992</td>\n",
       "      <td>Independent</td>\n",
       "      <td>197</td>\n",
       "      <td>Loser</td>\n",
       "    </tr>\n",
       "    <tr>\n",
       "      <th>2</th>\n",
       "      <td>The First Clinton-Bush-Perot Presidential Deb...</td>\n",
       "      <td>LEHRER: Governor Clinton, a one minute response.</td>\n",
       "      <td>lehrer</td>\n",
       "      <td>Commission for Presidential Debates</td>\n",
       "      <td>General-President</td>\n",
       "      <td>1992-10-11</td>\n",
       "      <td>1992</td>\n",
       "      <td>Moderator/Other</td>\n",
       "      <td>7</td>\n",
       "      <td>n/a</td>\n",
       "    </tr>\n",
       "    <tr>\n",
       "      <th>3</th>\n",
       "      <td>The First Clinton-Bush-Perot Presidential Deb...</td>\n",
       "      <td>CLINTON: The most important distinction in thi...</td>\n",
       "      <td>clinton</td>\n",
       "      <td>Commission for Presidential Debates</td>\n",
       "      <td>General-President</td>\n",
       "      <td>1992-10-11</td>\n",
       "      <td>1992</td>\n",
       "      <td>Democrat</td>\n",
       "      <td>106</td>\n",
       "      <td>Winner</td>\n",
       "    </tr>\n",
       "    <tr>\n",
       "      <th>4</th>\n",
       "      <td>The First Clinton-Bush-Perot Presidential Deb...</td>\n",
       "      <td>LEHRER: President Bush, one minute response, sir.</td>\n",
       "      <td>lehrer</td>\n",
       "      <td>Commission for Presidential Debates</td>\n",
       "      <td>General-President</td>\n",
       "      <td>1992-10-11</td>\n",
       "      <td>1992</td>\n",
       "      <td>Moderator/Other</td>\n",
       "      <td>7</td>\n",
       "      <td>n/a</td>\n",
       "    </tr>\n",
       "  </tbody>\n",
       "</table>\n",
       "</div>"
      ],
      "text/plain": [
       "                                         Debate_Name  \\\n",
       "0   The First Clinton-Bush-Perot Presidential Deb...   \n",
       "1   The First Clinton-Bush-Perot Presidential Deb...   \n",
       "2   The First Clinton-Bush-Perot Presidential Deb...   \n",
       "3   The First Clinton-Bush-Perot Presidential Deb...   \n",
       "4   The First Clinton-Bush-Perot Presidential Deb...   \n",
       "\n",
       "                                          Transcript  Speaker  \\\n",
       "0  LEHRER: Good evening, and welcome to the first...   lehrer   \n",
       "1  PEROT: I think the principal that separates me...    perot   \n",
       "2   LEHRER: Governor Clinton, a one minute response.   lehrer   \n",
       "3  CLINTON: The most important distinction in thi...  clinton   \n",
       "4  LEHRER: President Bush, one minute response, sir.   lehrer   \n",
       "\n",
       "                           Data_Source        Debate_Type Date_Time_Date  \\\n",
       "0  Commission for Presidential Debates  General-President     1992-10-11   \n",
       "1  Commission for Presidential Debates  General-President     1992-10-11   \n",
       "2  Commission for Presidential Debates  General-President     1992-10-11   \n",
       "3  Commission for Presidential Debates  General-President     1992-10-11   \n",
       "4  Commission for Presidential Debates  General-President     1992-10-11   \n",
       "\n",
       "   Year     Speaker_Type  line_length Election_Result  \n",
       "0  1992  Moderator/Other          234             n/a  \n",
       "1  1992      Independent          197           Loser  \n",
       "2  1992  Moderator/Other            7             n/a  \n",
       "3  1992         Democrat          106          Winner  \n",
       "4  1992  Moderator/Other            7             n/a  "
      ]
     },
     "execution_count": 27,
     "metadata": {},
     "output_type": "execute_result"
    }
   ],
   "source": [
    "speaker_df.head()"
   ]
  },
  {
   "cell_type": "markdown",
   "metadata": {},
   "source": [
    "## EDA - Changes over time"
   ]
  },
  {
   "cell_type": "markdown",
   "metadata": {},
   "source": [
    "For some initial EDA, I am going to take a look at various changes in response (i.e. transcript text) over time."
   ]
  },
  {
   "cell_type": "markdown",
   "metadata": {},
   "source": [
    "### Has the average length of responses changed over time?"
   ]
  },
  {
   "cell_type": "code",
   "execution_count": 28,
   "metadata": {},
   "outputs": [],
   "source": [
    "line_time = speaker_df.groupby(speaker_df.Year).agg({'line_length':['count', 'mean']})"
   ]
  },
  {
   "cell_type": "markdown",
   "metadata": {},
   "source": [
    "Plotting the above line_time grouping as a visualization:"
   ]
  },
  {
   "cell_type": "code",
   "execution_count": 29,
   "metadata": {},
   "outputs": [],
   "source": [
    "X = list(line_time.index)\n",
    "y = list(line_time.iloc[:,1])"
   ]
  },
  {
   "cell_type": "code",
   "execution_count": 30,
   "metadata": {
    "scrolled": false
   },
   "outputs": [
    {
     "data": {
      "image/png": "[encoded data removed]",
      "text/plain": [
       "<Figure size 1440x720 with 1 Axes>"
      ]
     },
     "metadata": {
      "needs_background": "light"
     },
     "output_type": "display_data"
    }
   ],
   "source": [
    "plt.plot(X, y)\n",
    "plt.xlabel('Year', size=25)\n",
    "plt.ylabel('Avg. Response Length', size=25)\n",
    "plt.title('Average Debate Response Length (words)', size=30)\n",
    "plt.xticks(size=15)\n",
    "plt.yticks(size=15);"
   ]
  },
  {
   "cell_type": "markdown",
   "metadata": {},
   "source": [
    "As the above shows, the average line length decreases substantially from 1960 to 2020.  This seems to indicate the presence of more \"interjection\" between the candidates and moderator.  From 2000-present, it seems like the average has settled right around **40 words**."
   ]
  },
  {
   "cell_type": "markdown",
   "metadata": {},
   "source": [
    "### What percent of the lines (rows) are under 40 words?"
   ]
  },
  {
   "cell_type": "code",
   "execution_count": 31,
   "metadata": {},
   "outputs": [],
   "source": [
    "less_than_40 = speaker_df[speaker_df.line_length <= 40]"
   ]
  },
  {
   "cell_type": "code",
   "execution_count": 32,
   "metadata": {},
   "outputs": [],
   "source": [
    "line_time_2 = less_than_40.groupby(less_than_40.Year).agg({'line_length':'count'})"
   ]
  },
  {
   "cell_type": "code",
   "execution_count": 33,
   "metadata": {},
   "outputs": [],
   "source": [
    "percent_df = pd.concat([line_time, line_time_2], axis=1)"
   ]
  },
  {
   "cell_type": "code",
   "execution_count": 34,
   "metadata": {},
   "outputs": [],
   "source": [
    "percent_df['under_40_rate'] = 100 * percent_df['line_length'] / percent_df[('line_length', 'count')]"
   ]
  },
  {
   "cell_type": "code",
   "execution_count": 35,
   "metadata": {
    "scrolled": true
   },
   "outputs": [
    {
     "data": {
      "image/png": "[encoded data removed]",
      "text/plain": [
       "<Figure size 1440x720 with 1 Axes>"
      ]
     },
     "metadata": {
      "needs_background": "light"
     },
     "output_type": "display_data"
    }
   ],
   "source": [
    "X = list(percent_df.index)\n",
    "y_3 = list(percent_df['under_40_rate'])\n",
    "plt.plot(X, y_3)\n",
    "plt.xlabel('Year', size=25)\n",
    "plt.ylabel('Rate of Lines Under 40 Words', size=25)\n",
    "plt.title('Rate of Lines Below 40 Words (count)', size=30)\n",
    "plt.xticks(size=15)\n",
    "plt.yticks(size=15);"
   ]
  },
  {
   "cell_type": "markdown",
   "metadata": {},
   "source": [
    "It makes sense this continues to go up, with the decreasing average line length."
   ]
  },
  {
   "cell_type": "markdown",
   "metadata": {},
   "source": [
    "### What is the Average Length of Response over time, by debate type?"
   ]
  },
  {
   "cell_type": "code",
   "execution_count": 36,
   "metadata": {},
   "outputs": [],
   "source": [
    "type_time = speaker_df.groupby([speaker_df.Year, speaker_df.Debate_Type]).agg({'line_length':['mean']}).reset_index()"
   ]
  },
  {
   "cell_type": "code",
   "execution_count": 37,
   "metadata": {},
   "outputs": [],
   "source": [
    "types = ['General-President', 'General-VP', 'Primary-Democrat', 'Primary-Republican'] "
   ]
  },
  {
   "cell_type": "code",
   "execution_count": 38,
   "metadata": {},
   "outputs": [
    {
     "data": {
      "text/html": [
       "<div>\n",
       "<style scoped>\n",
       "    .dataframe tbody tr th:only-of-type {\n",
       "        vertical-align: middle;\n",
       "    }\n",
       "\n",
       "    .dataframe tbody tr th {\n",
       "        vertical-align: top;\n",
       "    }\n",
       "\n",
       "    .dataframe thead tr th {\n",
       "        text-align: left;\n",
       "    }\n",
       "</style>\n",
       "<table border=\"1\" class=\"dataframe\">\n",
       "  <thead>\n",
       "    <tr>\n",
       "      <th></th>\n",
       "      <th>Year</th>\n",
       "      <th>Debate_Type</th>\n",
       "      <th>line_length</th>\n",
       "    </tr>\n",
       "    <tr>\n",
       "      <th></th>\n",
       "      <th></th>\n",
       "      <th></th>\n",
       "      <th>mean</th>\n",
       "    </tr>\n",
       "  </thead>\n",
       "  <tbody>\n",
       "    <tr>\n",
       "      <th>0</th>\n",
       "      <td>1960</td>\n",
       "      <td>General-President</td>\n",
       "      <td>171.710938</td>\n",
       "    </tr>\n",
       "    <tr>\n",
       "      <th>1</th>\n",
       "      <td>1976</td>\n",
       "      <td>General-President</td>\n",
       "      <td>153.810219</td>\n",
       "    </tr>\n",
       "    <tr>\n",
       "      <th>2</th>\n",
       "      <td>1980</td>\n",
       "      <td>General-President</td>\n",
       "      <td>122.239234</td>\n",
       "    </tr>\n",
       "    <tr>\n",
       "      <th>3</th>\n",
       "      <td>1984</td>\n",
       "      <td>General-President</td>\n",
       "      <td>53.371634</td>\n",
       "    </tr>\n",
       "    <tr>\n",
       "      <th>4</th>\n",
       "      <td>1984</td>\n",
       "      <td>General-VP</td>\n",
       "      <td>120.058824</td>\n",
       "    </tr>\n",
       "  </tbody>\n",
       "</table>\n",
       "</div>"
      ],
      "text/plain": [
       "   Year        Debate_Type line_length\n",
       "                                  mean\n",
       "0  1960  General-President  171.710938\n",
       "1  1976  General-President  153.810219\n",
       "2  1980  General-President  122.239234\n",
       "3  1984  General-President   53.371634\n",
       "4  1984         General-VP  120.058824"
      ]
     },
     "execution_count": 38,
     "metadata": {},
     "output_type": "execute_result"
    }
   ],
   "source": [
    "type_time.head()"
   ]
  },
  {
   "cell_type": "code",
   "execution_count": 39,
   "metadata": {
    "scrolled": true
   },
   "outputs": [
    {
     "data": {
      "image/png": "[encoded data removed]",
      "text/plain": [
       "<Figure size 1440x720 with 1 Axes>"
      ]
     },
     "metadata": {
      "needs_background": "light"
     },
     "output_type": "display_data"
    }
   ],
   "source": [
    "legend = []\n",
    "for election_type in types:\n",
    "    x = type_time[type_time.iloc[:, 1] == election_type].iloc[:, 0]\n",
    "    y = type_time[type_time.iloc[:, 1] == election_type].iloc[:, 2]\n",
    "    legend.append(type)\n",
    "    plt.plot(x,y)\n",
    "plt.xlabel('Year', size=25)\n",
    "plt.ylabel('Average Response Length', size=25)\n",
    "plt.xticks(size=15)\n",
    "plt.yticks(size=15)\n",
    "plt.title('Average Debate Response Length Over Time by Debate Type', size=30)\n",
    "plt.legend(('General-President', 'General-VP', 'Primary-Democrat', 'Primary-Republican'));"
   ]
  },
  {
   "cell_type": "markdown",
   "metadata": {},
   "source": [
    "Primaries have always been lower, which make sense since there are so many candidates to debate.  However, even General election debates (Pres. and VP) have declined drastically over time."
   ]
  },
  {
   "cell_type": "markdown",
   "metadata": {},
   "source": [
    "### Are there any similar patterns for speaker type line length over time?"
   ]
  },
  {
   "cell_type": "code",
   "execution_count": 40,
   "metadata": {},
   "outputs": [],
   "source": [
    "speaker_type_df = speaker_df.groupby([speaker_df.Year, speaker_df.Speaker_Type]).agg({'line_length':['mean']}).reset_index()"
   ]
  },
  {
   "cell_type": "code",
   "execution_count": 41,
   "metadata": {},
   "outputs": [
    {
     "data": {
      "text/html": [
       "<div>\n",
       "<style scoped>\n",
       "    .dataframe tbody tr th:only-of-type {\n",
       "        vertical-align: middle;\n",
       "    }\n",
       "\n",
       "    .dataframe tbody tr th {\n",
       "        vertical-align: top;\n",
       "    }\n",
       "\n",
       "    .dataframe thead tr th {\n",
       "        text-align: left;\n",
       "    }\n",
       "</style>\n",
       "<table border=\"1\" class=\"dataframe\">\n",
       "  <thead>\n",
       "    <tr>\n",
       "      <th></th>\n",
       "      <th>Year</th>\n",
       "      <th>Speaker_Type</th>\n",
       "      <th>line_length</th>\n",
       "    </tr>\n",
       "    <tr>\n",
       "      <th></th>\n",
       "      <th></th>\n",
       "      <th></th>\n",
       "      <th>mean</th>\n",
       "    </tr>\n",
       "  </thead>\n",
       "  <tbody>\n",
       "    <tr>\n",
       "      <th>0</th>\n",
       "      <td>1960</td>\n",
       "      <td>Democrat</td>\n",
       "      <td>293.677966</td>\n",
       "    </tr>\n",
       "    <tr>\n",
       "      <th>1</th>\n",
       "      <td>1960</td>\n",
       "      <td>Moderator/Other</td>\n",
       "      <td>56.598684</td>\n",
       "    </tr>\n",
       "    <tr>\n",
       "      <th>2</th>\n",
       "      <td>1960</td>\n",
       "      <td>Republican</td>\n",
       "      <td>400.622222</td>\n",
       "    </tr>\n",
       "    <tr>\n",
       "      <th>3</th>\n",
       "      <td>1976</td>\n",
       "      <td>Democrat</td>\n",
       "      <td>320.396552</td>\n",
       "    </tr>\n",
       "    <tr>\n",
       "      <th>4</th>\n",
       "      <td>1976</td>\n",
       "      <td>Moderator/Other</td>\n",
       "      <td>55.100629</td>\n",
       "    </tr>\n",
       "  </tbody>\n",
       "</table>\n",
       "</div>"
      ],
      "text/plain": [
       "   Year     Speaker_Type line_length\n",
       "                                mean\n",
       "0  1960         Democrat  293.677966\n",
       "1  1960  Moderator/Other   56.598684\n",
       "2  1960       Republican  400.622222\n",
       "3  1976         Democrat  320.396552\n",
       "4  1976  Moderator/Other   55.100629"
      ]
     },
     "execution_count": 41,
     "metadata": {},
     "output_type": "execute_result"
    }
   ],
   "source": [
    "speaker_type_df.head()"
   ]
  },
  {
   "cell_type": "code",
   "execution_count": 42,
   "metadata": {
    "scrolled": true
   },
   "outputs": [
    {
     "data": {
      "text/html": [
       "<div>\n",
       "<style scoped>\n",
       "    .dataframe tbody tr th:only-of-type {\n",
       "        vertical-align: middle;\n",
       "    }\n",
       "\n",
       "    .dataframe tbody tr th {\n",
       "        vertical-align: top;\n",
       "    }\n",
       "\n",
       "    .dataframe thead tr th {\n",
       "        text-align: left;\n",
       "    }\n",
       "</style>\n",
       "<table border=\"1\" class=\"dataframe\">\n",
       "  <thead>\n",
       "    <tr>\n",
       "      <th></th>\n",
       "      <th>Year</th>\n",
       "      <th>Speaker_Type</th>\n",
       "      <th>line_length</th>\n",
       "    </tr>\n",
       "    <tr>\n",
       "      <th></th>\n",
       "      <th></th>\n",
       "      <th></th>\n",
       "      <th>mean</th>\n",
       "    </tr>\n",
       "  </thead>\n",
       "  <tbody>\n",
       "    <tr>\n",
       "      <th>0</th>\n",
       "      <td>1960</td>\n",
       "      <td>Democrat</td>\n",
       "      <td>293.677966</td>\n",
       "    </tr>\n",
       "    <tr>\n",
       "      <th>1</th>\n",
       "      <td>1960</td>\n",
       "      <td>Moderator/Other</td>\n",
       "      <td>56.598684</td>\n",
       "    </tr>\n",
       "    <tr>\n",
       "      <th>2</th>\n",
       "      <td>1960</td>\n",
       "      <td>Republican</td>\n",
       "      <td>400.622222</td>\n",
       "    </tr>\n",
       "    <tr>\n",
       "      <th>3</th>\n",
       "      <td>1976</td>\n",
       "      <td>Democrat</td>\n",
       "      <td>320.396552</td>\n",
       "    </tr>\n",
       "    <tr>\n",
       "      <th>4</th>\n",
       "      <td>1976</td>\n",
       "      <td>Moderator/Other</td>\n",
       "      <td>55.100629</td>\n",
       "    </tr>\n",
       "  </tbody>\n",
       "</table>\n",
       "</div>"
      ],
      "text/plain": [
       "   Year     Speaker_Type line_length\n",
       "                                mean\n",
       "0  1960         Democrat  293.677966\n",
       "1  1960  Moderator/Other   56.598684\n",
       "2  1960       Republican  400.622222\n",
       "3  1976         Democrat  320.396552\n",
       "4  1976  Moderator/Other   55.100629"
      ]
     },
     "execution_count": 42,
     "metadata": {},
     "output_type": "execute_result"
    }
   ],
   "source": [
    "speaker_type_df.head()"
   ]
  },
  {
   "cell_type": "code",
   "execution_count": 43,
   "metadata": {},
   "outputs": [],
   "source": [
    "types = ['Democrat', 'Republican', 'Moderator/Other'] "
   ]
  },
  {
   "cell_type": "code",
   "execution_count": 44,
   "metadata": {
    "scrolled": true
   },
   "outputs": [
    {
     "data": {
      "image/png": "[encoded data removed]",
      "text/plain": [
       "<Figure size 1440x720 with 1 Axes>"
      ]
     },
     "metadata": {
      "needs_background": "light"
     },
     "output_type": "display_data"
    }
   ],
   "source": [
    "legend = []\n",
    "for Speaker_Type in types:\n",
    "    x = speaker_type_df[speaker_type_df.iloc[:, 1] == Speaker_Type].iloc[:, 0]\n",
    "    y = speaker_type_df[speaker_type_df.iloc[:, 1] == Speaker_Type].iloc[:, 2]\n",
    "    legend.append(type)\n",
    "    if Speaker_Type == 'Republican':\n",
    "        color = 'r'\n",
    "    elif Speaker_Type == 'Democrat':\n",
    "        color = 'b'\n",
    "    else:\n",
    "        color = 'g'\n",
    "    plt.plot(x,y, color)\n",
    "plt.xlabel('Year', size=25)\n",
    "plt.ylabel('Average Response Length', size=25)\n",
    "plt.xticks(size=15)\n",
    "plt.yticks(size=15)\n",
    "plt.title('Average Debate Response Length Over Time by Speaker Type', size=30)\n",
    "plt.legend(('Democrat', 'Republican', 'Moderator'));"
   ]
  },
  {
   "cell_type": "markdown",
   "metadata": {},
   "source": [
    "It is interesting to see the moderator stay somewhat consistent, with republicans and democrats descending in a very similar fashion."
   ]
  },
  {
   "cell_type": "markdown",
   "metadata": {},
   "source": [
    "# Text Pre-Processing/NLP:"
   ]
  },
  {
   "cell_type": "code",
   "execution_count": 45,
   "metadata": {},
   "outputs": [],
   "source": [
    "nlp_df = speaker_df.copy().reset_index(drop=True)"
   ]
  },
  {
   "cell_type": "markdown",
   "metadata": {},
   "source": [
    "For this section, will utilize NLTK for NLP:"
   ]
  },
  {
   "cell_type": "code",
   "execution_count": 46,
   "metadata": {},
   "outputs": [],
   "source": [
    "from __future__ import print_function\n",
    "import nltk\n",
    "import pandas as pd\n",
    "import re\n",
    "import string\n",
    "from nltk.tokenize import word_tokenize\n",
    "from nltk.tag import pos_tag\n",
    "from nltk.chunk import ne_chunk"
   ]
  },
  {
   "cell_type": "markdown",
   "metadata": {},
   "source": [
    "First, defining my stop words:"
   ]
  },
  {
   "cell_type": "code",
   "execution_count": 50,
   "metadata": {},
   "outputs": [],
   "source": [
    "from nltk.corpus import stopwords"
   ]
  },
  {
   "cell_type": "code",
   "execution_count": 51,
   "metadata": {},
   "outputs": [],
   "source": [
    "stop_words = stopwords.words('english')"
   ]
  },
  {
   "cell_type": "markdown",
   "metadata": {},
   "source": [
    "Adding common punctuation to the stop words:"
   ]
  },
  {
   "cell_type": "code",
   "execution_count": 52,
   "metadata": {},
   "outputs": [],
   "source": [
    "stop_words += ['.', ',', '(', ')', \"'\", '\"', \"!\"]"
   ]
  },
  {
   "cell_type": "markdown",
   "metadata": {},
   "source": [
    "Adding in some other common phrases I saw in the transcripts:"
   ]
  },
  {
   "cell_type": "code",
   "execution_count": 53,
   "metadata": {},
   "outputs": [],
   "source": [
    "stop_words += ['president','senator','governor','representative',\n",
    "               '[cheering and applause]','[begin videotape]','[end videotape]',\n",
    "              '[speaking Spanish]','[applause]','[crosstalk]','...','—','[Speaking in Spanish]','[through translator]',\n",
    "             '[inaudible] ','[laughter]','[moment of silence]','[the national anthem is performed]','[bell rings]', '[bell sound]', '[Applause]','(APPLAUSE)','(OFF-MIKE)','(From videotape.)','(Cheers, applause.)','(END VIDEO CLIP)'\n",
    "             '(Laughter.)','(cheers)','--','(BEGIN AUDIO CLIP)','(END AUDIO CLIP)']"
   ]
  },
  {
   "cell_type": "markdown",
   "metadata": {},
   "source": [
    "Finally, adding the speaker names to the stop_words, since these names are in the lines, and also won't really add much value to the text in my opinion."
   ]
  },
  {
   "cell_type": "code",
   "execution_count": 54,
   "metadata": {},
   "outputs": [],
   "source": [
    "stop_words += republicans\n",
    "stop_words += democrats\n",
    "stop_words += moderators \n",
    "stop_words += independents"
   ]
  },
  {
   "cell_type": "markdown",
   "metadata": {},
   "source": [
    "Stop Word additions:"
   ]
  },
  {
   "cell_type": "code",
   "execution_count": 55,
   "metadata": {},
   "outputs": [],
   "source": [
    "stop_words += ['government', 'said', 'uh', 'mr', 'year', 'want','american','state','country']"
   ]
  },
  {
   "cell_type": "markdown",
   "metadata": {},
   "source": [
    "Running function in debate_text_preprocessing.py:"
   ]
  },
  {
   "cell_type": "code",
   "execution_count": 67,
   "metadata": {
    "scrolled": true
   },
   "outputs": [
    {
     "data": {
      "text/plain": [
       "'/Users/patrickbovard/Documents/GitHub/presidential_debate_analysis'"
      ]
     },
     "execution_count": 67,
     "metadata": {},
     "output_type": "execute_result"
    }
   ],
   "source": [
    "pwd"
   ]
  },
  {
   "cell_type": "code",
   "execution_count": 68,
   "metadata": {},
   "outputs": [],
   "source": [
    "from debate_text_preprocessing import * "
   ]
  },
  {
   "cell_type": "code",
   "execution_count": 69,
   "metadata": {},
   "outputs": [
    {
     "name": "stdout",
     "output_type": "stream",
     "text": [
      "Text made lowercase and punctuation removed!\n",
      "Text has been word tokenized!\n",
      "Stop words have been removed!\n",
      "Text has been lemmatized!\n",
      "Text has been put back together as a string!\n"
     ]
    },
    {
     "name": "stderr",
     "output_type": "stream",
     "text": [
      "/Users/patrickbovard/opt/anaconda3/envs/metis/lib/python3.8/site-packages/pandas/core/indexing.py:670: SettingWithCopyWarning: \n",
      "A value is trying to be set on a copy of a slice from a DataFrame\n",
      "\n",
      "See the caveats in the documentation: https://pandas.pydata.org/pandas-docs/stable/user_guide/indexing.html#returning-a-view-versus-a-copy\n",
      "  iloc._setitem_with_indexer(indexer, value)\n"
     ]
    }
   ],
   "source": [
    "updated_df = master_preprocessor(nlp_df,stop_words)"
   ]
  },
  {
   "cell_type": "code",
   "execution_count": 70,
   "metadata": {},
   "outputs": [
    {
     "data": {
      "text/html": [
       "<div>\n",
       "<style scoped>\n",
       "    .dataframe tbody tr th:only-of-type {\n",
       "        vertical-align: middle;\n",
       "    }\n",
       "\n",
       "    .dataframe tbody tr th {\n",
       "        vertical-align: top;\n",
       "    }\n",
       "\n",
       "    .dataframe thead th {\n",
       "        text-align: right;\n",
       "    }\n",
       "</style>\n",
       "<table border=\"1\" class=\"dataframe\">\n",
       "  <thead>\n",
       "    <tr style=\"text-align: right;\">\n",
       "      <th></th>\n",
       "      <th>index</th>\n",
       "      <th>lemmed</th>\n",
       "      <th>string</th>\n",
       "      <th>line_length</th>\n",
       "    </tr>\n",
       "  </thead>\n",
       "  <tbody>\n",
       "    <tr>\n",
       "      <th>0</th>\n",
       "      <td>0</td>\n",
       "      <td>[good, evening, welcome, first, debate, among,...</td>\n",
       "      <td>good evening welcome first debate among major ...</td>\n",
       "      <td>100</td>\n",
       "    </tr>\n",
       "    <tr>\n",
       "      <th>1</th>\n",
       "      <td>1</td>\n",
       "      <td>[think, principal, separate, half, million, pe...</td>\n",
       "      <td>think principal separate half million people c...</td>\n",
       "      <td>74</td>\n",
       "    </tr>\n",
       "    <tr>\n",
       "      <th>2</th>\n",
       "      <td>2</td>\n",
       "      <td>[one, minute, response]</td>\n",
       "      <td>one minute response</td>\n",
       "      <td>3</td>\n",
       "    </tr>\n",
       "    <tr>\n",
       "      <th>3</th>\n",
       "      <td>3</td>\n",
       "      <td>[important, distinction, campaign, represent, ...</td>\n",
       "      <td>important distinction campaign represent real ...</td>\n",
       "      <td>45</td>\n",
       "    </tr>\n",
       "    <tr>\n",
       "      <th>4</th>\n",
       "      <td>4</td>\n",
       "      <td>[one, minute, response, sir]</td>\n",
       "      <td>one minute response sir</td>\n",
       "      <td>4</td>\n",
       "    </tr>\n",
       "  </tbody>\n",
       "</table>\n",
       "</div>"
      ],
      "text/plain": [
       "   index                                             lemmed  \\\n",
       "0      0  [good, evening, welcome, first, debate, among,...   \n",
       "1      1  [think, principal, separate, half, million, pe...   \n",
       "2      2                            [one, minute, response]   \n",
       "3      3  [important, distinction, campaign, represent, ...   \n",
       "4      4                       [one, minute, response, sir]   \n",
       "\n",
       "                                              string  line_length  \n",
       "0  good evening welcome first debate among major ...          100  \n",
       "1  think principal separate half million people c...           74  \n",
       "2                                one minute response            3  \n",
       "3  important distinction campaign represent real ...           45  \n",
       "4                            one minute response sir            4  "
      ]
     },
     "execution_count": 70,
     "metadata": {},
     "output_type": "execute_result"
    }
   ],
   "source": [
    "updated_df.head()"
   ]
  },
  {
   "cell_type": "code",
   "execution_count": 71,
   "metadata": {},
   "outputs": [
    {
     "data": {
      "text/plain": [
       "(76452, 4)"
      ]
     },
     "execution_count": 71,
     "metadata": {},
     "output_type": "execute_result"
    }
   ],
   "source": [
    "updated_df.shape"
   ]
  },
  {
   "cell_type": "markdown",
   "metadata": {},
   "source": [
    "Adding string and line_length to the nlp_df:"
   ]
  },
  {
   "cell_type": "code",
   "execution_count": 73,
   "metadata": {},
   "outputs": [],
   "source": [
    "nlp_df['string'] = updated_df.string\n",
    "nlp_df.line_length = updated_df.line_length"
   ]
  },
  {
   "cell_type": "code",
   "execution_count": 74,
   "metadata": {},
   "outputs": [
    {
     "data": {
      "text/html": [
       "<div>\n",
       "<style scoped>\n",
       "    .dataframe tbody tr th:only-of-type {\n",
       "        vertical-align: middle;\n",
       "    }\n",
       "\n",
       "    .dataframe tbody tr th {\n",
       "        vertical-align: top;\n",
       "    }\n",
       "\n",
       "    .dataframe thead th {\n",
       "        text-align: right;\n",
       "    }\n",
       "</style>\n",
       "<table border=\"1\" class=\"dataframe\">\n",
       "  <thead>\n",
       "    <tr style=\"text-align: right;\">\n",
       "      <th></th>\n",
       "      <th>Debate_Name</th>\n",
       "      <th>Transcript</th>\n",
       "      <th>Speaker</th>\n",
       "      <th>Data_Source</th>\n",
       "      <th>Debate_Type</th>\n",
       "      <th>Date_Time_Date</th>\n",
       "      <th>Year</th>\n",
       "      <th>Speaker_Type</th>\n",
       "      <th>line_length</th>\n",
       "      <th>Election_Result</th>\n",
       "      <th>no_punc</th>\n",
       "      <th>token</th>\n",
       "      <th>no_stop_words</th>\n",
       "      <th>stemmed</th>\n",
       "      <th>lemmed</th>\n",
       "      <th>string</th>\n",
       "    </tr>\n",
       "  </thead>\n",
       "  <tbody>\n",
       "    <tr>\n",
       "      <th>0</th>\n",
       "      <td>The First Clinton-Bush-Perot Presidential Deb...</td>\n",
       "      <td>LEHRER: Good evening, and welcome to the first...</td>\n",
       "      <td>lehrer</td>\n",
       "      <td>Commission for Presidential Debates</td>\n",
       "      <td>General-President</td>\n",
       "      <td>1992-10-11</td>\n",
       "      <td>1992</td>\n",
       "      <td>Moderator/Other</td>\n",
       "      <td>100</td>\n",
       "      <td>n/a</td>\n",
       "      <td>lehrer  good evening  and welcome to the first...</td>\n",
       "      <td>[lehrer, good, evening, and, welcome, to, the,...</td>\n",
       "      <td>[good, evening, welcome, first, debates, among...</td>\n",
       "      <td>[good, evening, welcome, first, debate, among,...</td>\n",
       "      <td>[good, evening, welcome, first, debate, among,...</td>\n",
       "      <td>good evening welcome first debate among major ...</td>\n",
       "    </tr>\n",
       "    <tr>\n",
       "      <th>1</th>\n",
       "      <td>The First Clinton-Bush-Perot Presidential Deb...</td>\n",
       "      <td>PEROT: I think the principal that separates me...</td>\n",
       "      <td>perot</td>\n",
       "      <td>Commission for Presidential Debates</td>\n",
       "      <td>General-President</td>\n",
       "      <td>1992-10-11</td>\n",
       "      <td>1992</td>\n",
       "      <td>Independent</td>\n",
       "      <td>74</td>\n",
       "      <td>Loser</td>\n",
       "      <td>perot  i think the principal that separates me...</td>\n",
       "      <td>[perot, i, think, the, principal, that, separa...</td>\n",
       "      <td>[think, principal, separates, half, million, p...</td>\n",
       "      <td>[think, principal, separate, half, million, pe...</td>\n",
       "      <td>[think, principal, separate, half, million, pe...</td>\n",
       "      <td>think principal separate half million people c...</td>\n",
       "    </tr>\n",
       "    <tr>\n",
       "      <th>2</th>\n",
       "      <td>The First Clinton-Bush-Perot Presidential Deb...</td>\n",
       "      <td>LEHRER: Governor Clinton, a one minute response.</td>\n",
       "      <td>lehrer</td>\n",
       "      <td>Commission for Presidential Debates</td>\n",
       "      <td>General-President</td>\n",
       "      <td>1992-10-11</td>\n",
       "      <td>1992</td>\n",
       "      <td>Moderator/Other</td>\n",
       "      <td>3</td>\n",
       "      <td>n/a</td>\n",
       "      <td>lehrer  governor clinton  a one minute response</td>\n",
       "      <td>[lehrer, governor, clinton, a, one, minute, re...</td>\n",
       "      <td>[one, minute, response]</td>\n",
       "      <td>[one, minute, response]</td>\n",
       "      <td>[one, minute, response]</td>\n",
       "      <td>one minute response</td>\n",
       "    </tr>\n",
       "    <tr>\n",
       "      <th>3</th>\n",
       "      <td>The First Clinton-Bush-Perot Presidential Deb...</td>\n",
       "      <td>CLINTON: The most important distinction in thi...</td>\n",
       "      <td>clinton</td>\n",
       "      <td>Commission for Presidential Debates</td>\n",
       "      <td>General-President</td>\n",
       "      <td>1992-10-11</td>\n",
       "      <td>1992</td>\n",
       "      <td>Democrat</td>\n",
       "      <td>45</td>\n",
       "      <td>Winner</td>\n",
       "      <td>clinton  the most important distinction in thi...</td>\n",
       "      <td>[clinton, the, most, important, distinction, i...</td>\n",
       "      <td>[important, distinction, campaign, represent, ...</td>\n",
       "      <td>[important, distinction, campaign, represent, ...</td>\n",
       "      <td>[important, distinction, campaign, represent, ...</td>\n",
       "      <td>important distinction campaign represent real ...</td>\n",
       "    </tr>\n",
       "    <tr>\n",
       "      <th>4</th>\n",
       "      <td>The First Clinton-Bush-Perot Presidential Deb...</td>\n",
       "      <td>LEHRER: President Bush, one minute response, sir.</td>\n",
       "      <td>lehrer</td>\n",
       "      <td>Commission for Presidential Debates</td>\n",
       "      <td>General-President</td>\n",
       "      <td>1992-10-11</td>\n",
       "      <td>1992</td>\n",
       "      <td>Moderator/Other</td>\n",
       "      <td>4</td>\n",
       "      <td>n/a</td>\n",
       "      <td>lehrer  president bush  one minute response  sir</td>\n",
       "      <td>[lehrer, president, bush, one, minute, respons...</td>\n",
       "      <td>[one, minute, response, sir]</td>\n",
       "      <td>[one, minute, response, sir]</td>\n",
       "      <td>[one, minute, response, sir]</td>\n",
       "      <td>one minute response sir</td>\n",
       "    </tr>\n",
       "  </tbody>\n",
       "</table>\n",
       "</div>"
      ],
      "text/plain": [
       "                                         Debate_Name  \\\n",
       "0   The First Clinton-Bush-Perot Presidential Deb...   \n",
       "1   The First Clinton-Bush-Perot Presidential Deb...   \n",
       "2   The First Clinton-Bush-Perot Presidential Deb...   \n",
       "3   The First Clinton-Bush-Perot Presidential Deb...   \n",
       "4   The First Clinton-Bush-Perot Presidential Deb...   \n",
       "\n",
       "                                          Transcript  Speaker  \\\n",
       "0  LEHRER: Good evening, and welcome to the first...   lehrer   \n",
       "1  PEROT: I think the principal that separates me...    perot   \n",
       "2   LEHRER: Governor Clinton, a one minute response.   lehrer   \n",
       "3  CLINTON: The most important distinction in thi...  clinton   \n",
       "4  LEHRER: President Bush, one minute response, sir.   lehrer   \n",
       "\n",
       "                           Data_Source        Debate_Type Date_Time_Date  \\\n",
       "0  Commission for Presidential Debates  General-President     1992-10-11   \n",
       "1  Commission for Presidential Debates  General-President     1992-10-11   \n",
       "2  Commission for Presidential Debates  General-President     1992-10-11   \n",
       "3  Commission for Presidential Debates  General-President     1992-10-11   \n",
       "4  Commission for Presidential Debates  General-President     1992-10-11   \n",
       "\n",
       "   Year     Speaker_Type  line_length Election_Result  \\\n",
       "0  1992  Moderator/Other          100             n/a   \n",
       "1  1992      Independent           74           Loser   \n",
       "2  1992  Moderator/Other            3             n/a   \n",
       "3  1992         Democrat           45          Winner   \n",
       "4  1992  Moderator/Other            4             n/a   \n",
       "\n",
       "                                             no_punc  \\\n",
       "0  lehrer  good evening  and welcome to the first...   \n",
       "1  perot  i think the principal that separates me...   \n",
       "2   lehrer  governor clinton  a one minute response    \n",
       "3  clinton  the most important distinction in thi...   \n",
       "4  lehrer  president bush  one minute response  sir    \n",
       "\n",
       "                                               token  \\\n",
       "0  [lehrer, good, evening, and, welcome, to, the,...   \n",
       "1  [perot, i, think, the, principal, that, separa...   \n",
       "2  [lehrer, governor, clinton, a, one, minute, re...   \n",
       "3  [clinton, the, most, important, distinction, i...   \n",
       "4  [lehrer, president, bush, one, minute, respons...   \n",
       "\n",
       "                                       no_stop_words  \\\n",
       "0  [good, evening, welcome, first, debates, among...   \n",
       "1  [think, principal, separates, half, million, p...   \n",
       "2                            [one, minute, response]   \n",
       "3  [important, distinction, campaign, represent, ...   \n",
       "4                       [one, minute, response, sir]   \n",
       "\n",
       "                                             stemmed  \\\n",
       "0  [good, evening, welcome, first, debate, among,...   \n",
       "1  [think, principal, separate, half, million, pe...   \n",
       "2                            [one, minute, response]   \n",
       "3  [important, distinction, campaign, represent, ...   \n",
       "4                       [one, minute, response, sir]   \n",
       "\n",
       "                                              lemmed  \\\n",
       "0  [good, evening, welcome, first, debate, among,...   \n",
       "1  [think, principal, separate, half, million, pe...   \n",
       "2                            [one, minute, response]   \n",
       "3  [important, distinction, campaign, represent, ...   \n",
       "4                       [one, minute, response, sir]   \n",
       "\n",
       "                                              string  \n",
       "0  good evening welcome first debate among major ...  \n",
       "1  think principal separate half million people c...  \n",
       "2                                one minute response  \n",
       "3  important distinction campaign represent real ...  \n",
       "4                            one minute response sir  "
      ]
     },
     "execution_count": 74,
     "metadata": {},
     "output_type": "execute_result"
    }
   ],
   "source": [
    "nlp_df.head()"
   ]
  },
  {
   "cell_type": "markdown",
   "metadata": {},
   "source": [
    "Creating a new_df to pickle:"
   ]
  },
  {
   "cell_type": "code",
   "execution_count": 77,
   "metadata": {},
   "outputs": [],
   "source": [
    "new_df = nlp_df.drop(columns=['Date_Time_Date', 'no_punc', 'token', 'no_stop_words', 'lemmed', 'stemmed'])"
   ]
  },
  {
   "cell_type": "code",
   "execution_count": 78,
   "metadata": {},
   "outputs": [
    {
     "data": {
      "text/html": [
       "<div>\n",
       "<style scoped>\n",
       "    .dataframe tbody tr th:only-of-type {\n",
       "        vertical-align: middle;\n",
       "    }\n",
       "\n",
       "    .dataframe tbody tr th {\n",
       "        vertical-align: top;\n",
       "    }\n",
       "\n",
       "    .dataframe thead th {\n",
       "        text-align: right;\n",
       "    }\n",
       "</style>\n",
       "<table border=\"1\" class=\"dataframe\">\n",
       "  <thead>\n",
       "    <tr style=\"text-align: right;\">\n",
       "      <th></th>\n",
       "      <th>Debate_Name</th>\n",
       "      <th>Transcript</th>\n",
       "      <th>Speaker</th>\n",
       "      <th>Data_Source</th>\n",
       "      <th>Debate_Type</th>\n",
       "      <th>Year</th>\n",
       "      <th>Speaker_Type</th>\n",
       "      <th>line_length</th>\n",
       "      <th>Election_Result</th>\n",
       "      <th>string</th>\n",
       "    </tr>\n",
       "  </thead>\n",
       "  <tbody>\n",
       "    <tr>\n",
       "      <th>0</th>\n",
       "      <td>The First Clinton-Bush-Perot Presidential Deb...</td>\n",
       "      <td>LEHRER: Good evening, and welcome to the first...</td>\n",
       "      <td>lehrer</td>\n",
       "      <td>Commission for Presidential Debates</td>\n",
       "      <td>General-President</td>\n",
       "      <td>1992</td>\n",
       "      <td>Moderator/Other</td>\n",
       "      <td>100</td>\n",
       "      <td>n/a</td>\n",
       "      <td>good evening welcome first debate among major ...</td>\n",
       "    </tr>\n",
       "    <tr>\n",
       "      <th>1</th>\n",
       "      <td>The First Clinton-Bush-Perot Presidential Deb...</td>\n",
       "      <td>PEROT: I think the principal that separates me...</td>\n",
       "      <td>perot</td>\n",
       "      <td>Commission for Presidential Debates</td>\n",
       "      <td>General-President</td>\n",
       "      <td>1992</td>\n",
       "      <td>Independent</td>\n",
       "      <td>74</td>\n",
       "      <td>Loser</td>\n",
       "      <td>think principal separate half million people c...</td>\n",
       "    </tr>\n",
       "    <tr>\n",
       "      <th>2</th>\n",
       "      <td>The First Clinton-Bush-Perot Presidential Deb...</td>\n",
       "      <td>LEHRER: Governor Clinton, a one minute response.</td>\n",
       "      <td>lehrer</td>\n",
       "      <td>Commission for Presidential Debates</td>\n",
       "      <td>General-President</td>\n",
       "      <td>1992</td>\n",
       "      <td>Moderator/Other</td>\n",
       "      <td>3</td>\n",
       "      <td>n/a</td>\n",
       "      <td>one minute response</td>\n",
       "    </tr>\n",
       "    <tr>\n",
       "      <th>3</th>\n",
       "      <td>The First Clinton-Bush-Perot Presidential Deb...</td>\n",
       "      <td>CLINTON: The most important distinction in thi...</td>\n",
       "      <td>clinton</td>\n",
       "      <td>Commission for Presidential Debates</td>\n",
       "      <td>General-President</td>\n",
       "      <td>1992</td>\n",
       "      <td>Democrat</td>\n",
       "      <td>45</td>\n",
       "      <td>Winner</td>\n",
       "      <td>important distinction campaign represent real ...</td>\n",
       "    </tr>\n",
       "    <tr>\n",
       "      <th>4</th>\n",
       "      <td>The First Clinton-Bush-Perot Presidential Deb...</td>\n",
       "      <td>LEHRER: President Bush, one minute response, sir.</td>\n",
       "      <td>lehrer</td>\n",
       "      <td>Commission for Presidential Debates</td>\n",
       "      <td>General-President</td>\n",
       "      <td>1992</td>\n",
       "      <td>Moderator/Other</td>\n",
       "      <td>4</td>\n",
       "      <td>n/a</td>\n",
       "      <td>one minute response sir</td>\n",
       "    </tr>\n",
       "  </tbody>\n",
       "</table>\n",
       "</div>"
      ],
      "text/plain": [
       "                                         Debate_Name  \\\n",
       "0   The First Clinton-Bush-Perot Presidential Deb...   \n",
       "1   The First Clinton-Bush-Perot Presidential Deb...   \n",
       "2   The First Clinton-Bush-Perot Presidential Deb...   \n",
       "3   The First Clinton-Bush-Perot Presidential Deb...   \n",
       "4   The First Clinton-Bush-Perot Presidential Deb...   \n",
       "\n",
       "                                          Transcript  Speaker  \\\n",
       "0  LEHRER: Good evening, and welcome to the first...   lehrer   \n",
       "1  PEROT: I think the principal that separates me...    perot   \n",
       "2   LEHRER: Governor Clinton, a one minute response.   lehrer   \n",
       "3  CLINTON: The most important distinction in thi...  clinton   \n",
       "4  LEHRER: President Bush, one minute response, sir.   lehrer   \n",
       "\n",
       "                           Data_Source        Debate_Type  Year  \\\n",
       "0  Commission for Presidential Debates  General-President  1992   \n",
       "1  Commission for Presidential Debates  General-President  1992   \n",
       "2  Commission for Presidential Debates  General-President  1992   \n",
       "3  Commission for Presidential Debates  General-President  1992   \n",
       "4  Commission for Presidential Debates  General-President  1992   \n",
       "\n",
       "      Speaker_Type  line_length Election_Result  \\\n",
       "0  Moderator/Other          100             n/a   \n",
       "1      Independent           74           Loser   \n",
       "2  Moderator/Other            3             n/a   \n",
       "3         Democrat           45          Winner   \n",
       "4  Moderator/Other            4             n/a   \n",
       "\n",
       "                                              string  \n",
       "0  good evening welcome first debate among major ...  \n",
       "1  think principal separate half million people c...  \n",
       "2                                one minute response  \n",
       "3  important distinction campaign represent real ...  \n",
       "4                            one minute response sir  "
      ]
     },
     "execution_count": 78,
     "metadata": {},
     "output_type": "execute_result"
    }
   ],
   "source": [
    "new_df.head()"
   ]
  },
  {
   "cell_type": "markdown",
   "metadata": {},
   "source": [
    "Pickling this df to use:"
   ]
  },
  {
   "cell_type": "code",
   "execution_count": 79,
   "metadata": {},
   "outputs": [
    {
     "data": {
      "text/plain": [
       "'/Users/patrickbovard/Documents/GitHub/presidential_debate_analysis'"
      ]
     },
     "execution_count": 79,
     "metadata": {},
     "output_type": "execute_result"
    }
   ],
   "source": [
    "pwd"
   ]
  },
  {
   "cell_type": "code",
   "execution_count": 80,
   "metadata": {},
   "outputs": [],
   "source": [
    "with open('Data/cleaned_string_df.pickle', 'wb') as to_write:\n",
    "    pickle.dump(new_df, to_write)"
   ]
  },
  {
   "cell_type": "markdown",
   "metadata": {},
   "source": [
    "## Count Vectorizer:"
   ]
  },
  {
   "cell_type": "markdown",
   "metadata": {},
   "source": [
    "For the first round of topic modeling, I will try using count vectorizer.  Initializing Count Vectorizer:"
   ]
  },
  {
   "cell_type": "code",
   "execution_count": 81,
   "metadata": {},
   "outputs": [],
   "source": [
    "from sklearn.feature_extraction.text import CountVectorizer\n",
    "\n",
    "count_vectorizer = CountVectorizer(stop_words='english')"
   ]
  },
  {
   "cell_type": "code",
   "execution_count": 82,
   "metadata": {},
   "outputs": [],
   "source": [
    "X = new_df[new_df.line_length >= 40]['string']\n",
    "cv_model = count_vectorizer.fit_transform(X)"
   ]
  },
  {
   "cell_type": "code",
   "execution_count": 83,
   "metadata": {},
   "outputs": [],
   "source": [
    "term_document_matrix = pd.DataFrame(cv_model.toarray(), columns=count_vectorizer.get_feature_names())"
   ]
  },
  {
   "cell_type": "code",
   "execution_count": 84,
   "metadata": {},
   "outputs": [
    {
     "data": {
      "text/plain": [
       "(4439, 12835)"
      ]
     },
     "execution_count": 84,
     "metadata": {},
     "output_type": "execute_result"
    }
   ],
   "source": [
    "term_document_matrix.shape"
   ]
  },
  {
   "cell_type": "code",
   "execution_count": 85,
   "metadata": {},
   "outputs": [
    {
     "data": {
      "text/html": [
       "<div>\n",
       "<style scoped>\n",
       "    .dataframe tbody tr th:only-of-type {\n",
       "        vertical-align: middle;\n",
       "    }\n",
       "\n",
       "    .dataframe tbody tr th {\n",
       "        vertical-align: top;\n",
       "    }\n",
       "\n",
       "    .dataframe thead th {\n",
       "        text-align: right;\n",
       "    }\n",
       "</style>\n",
       "<table border=\"1\" class=\"dataframe\">\n",
       "  <thead>\n",
       "    <tr style=\"text-align: right;\">\n",
       "      <th></th>\n",
       "      <th>aaa</th>\n",
       "      <th>aah</th>\n",
       "      <th>aapi</th>\n",
       "      <th>aarp</th>\n",
       "      <th>aayuh</th>\n",
       "      <th>abandon</th>\n",
       "      <th>abandoned</th>\n",
       "      <th>abandoning</th>\n",
       "      <th>abandonment</th>\n",
       "      <th>abc</th>\n",
       "      <th>...</th>\n",
       "      <th>zeroing</th>\n",
       "      <th>zimbabwe</th>\n",
       "      <th>zion</th>\n",
       "      <th>zip</th>\n",
       "      <th>zippo</th>\n",
       "      <th>zone</th>\n",
       "      <th>zoning</th>\n",
       "      <th>zoom</th>\n",
       "      <th>zubowski</th>\n",
       "      <th>³who</th>\n",
       "    </tr>\n",
       "  </thead>\n",
       "  <tbody>\n",
       "    <tr>\n",
       "      <th>0</th>\n",
       "      <td>0</td>\n",
       "      <td>0</td>\n",
       "      <td>0</td>\n",
       "      <td>0</td>\n",
       "      <td>0</td>\n",
       "      <td>0</td>\n",
       "      <td>0</td>\n",
       "      <td>0</td>\n",
       "      <td>0</td>\n",
       "      <td>1</td>\n",
       "      <td>...</td>\n",
       "      <td>0</td>\n",
       "      <td>0</td>\n",
       "      <td>0</td>\n",
       "      <td>0</td>\n",
       "      <td>0</td>\n",
       "      <td>0</td>\n",
       "      <td>0</td>\n",
       "      <td>0</td>\n",
       "      <td>0</td>\n",
       "      <td>0</td>\n",
       "    </tr>\n",
       "    <tr>\n",
       "      <th>1</th>\n",
       "      <td>0</td>\n",
       "      <td>0</td>\n",
       "      <td>0</td>\n",
       "      <td>0</td>\n",
       "      <td>0</td>\n",
       "      <td>0</td>\n",
       "      <td>0</td>\n",
       "      <td>0</td>\n",
       "      <td>0</td>\n",
       "      <td>0</td>\n",
       "      <td>...</td>\n",
       "      <td>0</td>\n",
       "      <td>0</td>\n",
       "      <td>0</td>\n",
       "      <td>0</td>\n",
       "      <td>0</td>\n",
       "      <td>0</td>\n",
       "      <td>0</td>\n",
       "      <td>0</td>\n",
       "      <td>0</td>\n",
       "      <td>0</td>\n",
       "    </tr>\n",
       "    <tr>\n",
       "      <th>2</th>\n",
       "      <td>0</td>\n",
       "      <td>0</td>\n",
       "      <td>0</td>\n",
       "      <td>0</td>\n",
       "      <td>0</td>\n",
       "      <td>0</td>\n",
       "      <td>0</td>\n",
       "      <td>0</td>\n",
       "      <td>0</td>\n",
       "      <td>0</td>\n",
       "      <td>...</td>\n",
       "      <td>0</td>\n",
       "      <td>0</td>\n",
       "      <td>0</td>\n",
       "      <td>0</td>\n",
       "      <td>0</td>\n",
       "      <td>0</td>\n",
       "      <td>0</td>\n",
       "      <td>0</td>\n",
       "      <td>0</td>\n",
       "      <td>0</td>\n",
       "    </tr>\n",
       "    <tr>\n",
       "      <th>3</th>\n",
       "      <td>0</td>\n",
       "      <td>0</td>\n",
       "      <td>0</td>\n",
       "      <td>0</td>\n",
       "      <td>0</td>\n",
       "      <td>0</td>\n",
       "      <td>0</td>\n",
       "      <td>0</td>\n",
       "      <td>0</td>\n",
       "      <td>0</td>\n",
       "      <td>...</td>\n",
       "      <td>0</td>\n",
       "      <td>0</td>\n",
       "      <td>0</td>\n",
       "      <td>0</td>\n",
       "      <td>0</td>\n",
       "      <td>0</td>\n",
       "      <td>0</td>\n",
       "      <td>0</td>\n",
       "      <td>0</td>\n",
       "      <td>0</td>\n",
       "    </tr>\n",
       "    <tr>\n",
       "      <th>4</th>\n",
       "      <td>0</td>\n",
       "      <td>0</td>\n",
       "      <td>0</td>\n",
       "      <td>0</td>\n",
       "      <td>0</td>\n",
       "      <td>0</td>\n",
       "      <td>0</td>\n",
       "      <td>0</td>\n",
       "      <td>0</td>\n",
       "      <td>0</td>\n",
       "      <td>...</td>\n",
       "      <td>0</td>\n",
       "      <td>0</td>\n",
       "      <td>0</td>\n",
       "      <td>0</td>\n",
       "      <td>0</td>\n",
       "      <td>0</td>\n",
       "      <td>0</td>\n",
       "      <td>0</td>\n",
       "      <td>0</td>\n",
       "      <td>0</td>\n",
       "    </tr>\n",
       "  </tbody>\n",
       "</table>\n",
       "<p>5 rows × 12835 columns</p>\n",
       "</div>"
      ],
      "text/plain": [
       "   aaa  aah  aapi  aarp  aayuh  abandon  abandoned  abandoning  abandonment  \\\n",
       "0    0    0     0     0      0        0          0           0            0   \n",
       "1    0    0     0     0      0        0          0           0            0   \n",
       "2    0    0     0     0      0        0          0           0            0   \n",
       "3    0    0     0     0      0        0          0           0            0   \n",
       "4    0    0     0     0      0        0          0           0            0   \n",
       "\n",
       "   abc  ...  zeroing  zimbabwe  zion  zip  zippo  zone  zoning  zoom  \\\n",
       "0    1  ...        0         0     0    0      0     0       0     0   \n",
       "1    0  ...        0         0     0    0      0     0       0     0   \n",
       "2    0  ...        0         0     0    0      0     0       0     0   \n",
       "3    0  ...        0         0     0    0      0     0       0     0   \n",
       "4    0  ...        0         0     0    0      0     0       0     0   \n",
       "\n",
       "   zubowski  ³who  \n",
       "0         0     0  \n",
       "1         0     0  \n",
       "2         0     0  \n",
       "3         0     0  \n",
       "4         0     0  \n",
       "\n",
       "[5 rows x 12835 columns]"
      ]
     },
     "execution_count": 85,
     "metadata": {},
     "output_type": "execute_result"
    }
   ],
   "source": [
    "term_document_matrix.head()"
   ]
  },
  {
   "cell_type": "markdown",
   "metadata": {},
   "source": [
    "### Topic Modeling\n",
    "From here, I'll move into topic modeling using NMF.  I'll start with a k of 5, to represent topics I expect to see:\n",
    "- Foreign Policy\n",
    "- Economy\n",
    "- Domestic Social Issues\n",
    "- Immigration\n",
    "- Catch-All: (i.e. all others, possibly guns, election related words, etc.)"
   ]
  },
  {
   "cell_type": "code",
   "execution_count": 86,
   "metadata": {},
   "outputs": [],
   "source": [
    "from sklearn.decomposition import NMF"
   ]
  },
  {
   "cell_type": "markdown",
   "metadata": {},
   "source": [
    "Initializing the NMF Model:"
   ]
  },
  {
   "cell_type": "code",
   "execution_count": 87,
   "metadata": {},
   "outputs": [],
   "source": [
    "nmf_model = NMF(5)"
   ]
  },
  {
   "cell_type": "markdown",
   "metadata": {},
   "source": [
    "Topics from the relating model, for each line:"
   ]
  },
  {
   "cell_type": "code",
   "execution_count": 88,
   "metadata": {},
   "outputs": [
    {
     "name": "stderr",
     "output_type": "stream",
     "text": [
      "/Users/patrickbovard/opt/anaconda3/envs/metis/lib/python3.8/site-packages/sklearn/decomposition/_nmf.py:312: FutureWarning: The 'init' value, when 'init=None' and n_components is less than n_samples and n_features, will be changed from 'nndsvd' to 'nndsvda' in 1.1 (renaming of 0.26).\n",
      "  warnings.warn((\"The 'init' value, when 'init=None' and \"\n"
     ]
    },
    {
     "data": {
      "text/plain": [
       "(4439, 5)"
      ]
     },
     "execution_count": 88,
     "metadata": {},
     "output_type": "execute_result"
    }
   ],
   "source": [
    "doc_topic = nmf_model.fit_transform(term_document_matrix)\n",
    "doc_topic.shape"
   ]
  },
  {
   "cell_type": "markdown",
   "metadata": {},
   "source": [
    "Pulling the top 10 words for each of the k topics:"
   ]
  },
  {
   "cell_type": "code",
   "execution_count": 89,
   "metadata": {},
   "outputs": [
    {
     "data": {
      "text/plain": [
       "[['policy',\n",
       "  'time',\n",
       "  'war',\n",
       "  'believe',\n",
       "  'administration',\n",
       "  'year',\n",
       "  'america',\n",
       "  'world',\n",
       "  'united',\n",
       "  'state'],\n",
       " ['family',\n",
       "  'dollar',\n",
       "  'billion',\n",
       "  'pay',\n",
       "  'plan',\n",
       "  'income',\n",
       "  'money',\n",
       "  'percent',\n",
       "  'cut',\n",
       "  'tax'],\n",
       " ['thing',\n",
       "  'million',\n",
       "  'job',\n",
       "  'make',\n",
       "  'work',\n",
       "  'need',\n",
       "  'know',\n",
       "  'care',\n",
       "  'health',\n",
       "  'people'],\n",
       " ['thing',\n",
       "  'way',\n",
       "  'security',\n",
       "  'got',\n",
       "  'job',\n",
       "  'sure',\n",
       "  'know',\n",
       "  'say',\n",
       "  'make',\n",
       "  'going'],\n",
       " ['ought',\n",
       "  'child',\n",
       "  'way',\n",
       "  'say',\n",
       "  'know',\n",
       "  'thing',\n",
       "  'right',\n",
       "  'make',\n",
       "  'school',\n",
       "  'think']]"
      ]
     },
     "execution_count": 89,
     "metadata": {},
     "output_type": "execute_result"
    }
   ],
   "source": [
    "words = count_vectorizer.get_feature_names()\n",
    "t = nmf_model.components_.argsort(axis=1)[:,-10:]\n",
    "topic_words = [[words[e] for e in l] for l in t]\n",
    "topic_words"
   ]
  },
  {
   "cell_type": "markdown",
   "metadata": {},
   "source": [
    "Changes made from the above:\n",
    "- Added the following to stop word list: government, said, uh, mr, year, want; changed k from 5 to 6\n",
    "- Added America, Country, and State to stop words"
   ]
  },
  {
   "cell_type": "markdown",
   "metadata": {},
   "source": [
    "### Trying w/ N-Grams"
   ]
  },
  {
   "cell_type": "code",
   "execution_count": 90,
   "metadata": {},
   "outputs": [],
   "source": [
    "from sklearn.feature_extraction.text import CountVectorizer\n",
    "\n",
    "count_vectorizer = CountVectorizer(stop_words='english')"
   ]
  },
  {
   "cell_type": "code",
   "execution_count": 91,
   "metadata": {},
   "outputs": [],
   "source": [
    "X = new_df[new_df.line_length >= 30]['string']\n",
    "cv_model = count_vectorizer.fit_transform(X)"
   ]
  },
  {
   "cell_type": "code",
   "execution_count": 92,
   "metadata": {},
   "outputs": [],
   "source": [
    "term_document_matrix = pd.DataFrame(cv_model.toarray(), columns=count_vectorizer.get_feature_names())"
   ]
  },
  {
   "cell_type": "code",
   "execution_count": 93,
   "metadata": {},
   "outputs": [
    {
     "data": {
      "text/plain": [
       "(10278, 15694)"
      ]
     },
     "execution_count": 93,
     "metadata": {},
     "output_type": "execute_result"
    }
   ],
   "source": [
    "term_document_matrix.shape"
   ]
  },
  {
   "cell_type": "code",
   "execution_count": 94,
   "metadata": {},
   "outputs": [
    {
     "data": {
      "text/html": [
       "<div>\n",
       "<style scoped>\n",
       "    .dataframe tbody tr th:only-of-type {\n",
       "        vertical-align: middle;\n",
       "    }\n",
       "\n",
       "    .dataframe tbody tr th {\n",
       "        vertical-align: top;\n",
       "    }\n",
       "\n",
       "    .dataframe thead th {\n",
       "        text-align: right;\n",
       "    }\n",
       "</style>\n",
       "<table border=\"1\" class=\"dataframe\">\n",
       "  <thead>\n",
       "    <tr style=\"text-align: right;\">\n",
       "      <th></th>\n",
       "      <th>aa</th>\n",
       "      <th>aaa</th>\n",
       "      <th>aah</th>\n",
       "      <th>aapi</th>\n",
       "      <th>aaron</th>\n",
       "      <th>aarp</th>\n",
       "      <th>aayuh</th>\n",
       "      <th>abandon</th>\n",
       "      <th>abandoned</th>\n",
       "      <th>abandoning</th>\n",
       "      <th>...</th>\n",
       "      <th>zion</th>\n",
       "      <th>zip</th>\n",
       "      <th>zippo</th>\n",
       "      <th>zone</th>\n",
       "      <th>zoning</th>\n",
       "      <th>zoom</th>\n",
       "      <th>zubowski</th>\n",
       "      <th>³mr</th>\n",
       "      <th>³well</th>\n",
       "      <th>³who</th>\n",
       "    </tr>\n",
       "  </thead>\n",
       "  <tbody>\n",
       "    <tr>\n",
       "      <th>0</th>\n",
       "      <td>0</td>\n",
       "      <td>0</td>\n",
       "      <td>0</td>\n",
       "      <td>0</td>\n",
       "      <td>0</td>\n",
       "      <td>0</td>\n",
       "      <td>0</td>\n",
       "      <td>0</td>\n",
       "      <td>0</td>\n",
       "      <td>0</td>\n",
       "      <td>...</td>\n",
       "      <td>0</td>\n",
       "      <td>0</td>\n",
       "      <td>0</td>\n",
       "      <td>0</td>\n",
       "      <td>0</td>\n",
       "      <td>0</td>\n",
       "      <td>0</td>\n",
       "      <td>0</td>\n",
       "      <td>0</td>\n",
       "      <td>0</td>\n",
       "    </tr>\n",
       "    <tr>\n",
       "      <th>1</th>\n",
       "      <td>0</td>\n",
       "      <td>0</td>\n",
       "      <td>0</td>\n",
       "      <td>0</td>\n",
       "      <td>0</td>\n",
       "      <td>0</td>\n",
       "      <td>0</td>\n",
       "      <td>0</td>\n",
       "      <td>0</td>\n",
       "      <td>0</td>\n",
       "      <td>...</td>\n",
       "      <td>0</td>\n",
       "      <td>0</td>\n",
       "      <td>0</td>\n",
       "      <td>0</td>\n",
       "      <td>0</td>\n",
       "      <td>0</td>\n",
       "      <td>0</td>\n",
       "      <td>0</td>\n",
       "      <td>0</td>\n",
       "      <td>0</td>\n",
       "    </tr>\n",
       "    <tr>\n",
       "      <th>2</th>\n",
       "      <td>0</td>\n",
       "      <td>0</td>\n",
       "      <td>0</td>\n",
       "      <td>0</td>\n",
       "      <td>0</td>\n",
       "      <td>0</td>\n",
       "      <td>0</td>\n",
       "      <td>0</td>\n",
       "      <td>0</td>\n",
       "      <td>0</td>\n",
       "      <td>...</td>\n",
       "      <td>0</td>\n",
       "      <td>0</td>\n",
       "      <td>0</td>\n",
       "      <td>0</td>\n",
       "      <td>0</td>\n",
       "      <td>0</td>\n",
       "      <td>0</td>\n",
       "      <td>0</td>\n",
       "      <td>0</td>\n",
       "      <td>0</td>\n",
       "    </tr>\n",
       "    <tr>\n",
       "      <th>3</th>\n",
       "      <td>0</td>\n",
       "      <td>0</td>\n",
       "      <td>0</td>\n",
       "      <td>0</td>\n",
       "      <td>0</td>\n",
       "      <td>0</td>\n",
       "      <td>0</td>\n",
       "      <td>0</td>\n",
       "      <td>0</td>\n",
       "      <td>0</td>\n",
       "      <td>...</td>\n",
       "      <td>0</td>\n",
       "      <td>0</td>\n",
       "      <td>0</td>\n",
       "      <td>0</td>\n",
       "      <td>0</td>\n",
       "      <td>0</td>\n",
       "      <td>0</td>\n",
       "      <td>0</td>\n",
       "      <td>0</td>\n",
       "      <td>0</td>\n",
       "    </tr>\n",
       "    <tr>\n",
       "      <th>4</th>\n",
       "      <td>0</td>\n",
       "      <td>0</td>\n",
       "      <td>0</td>\n",
       "      <td>0</td>\n",
       "      <td>0</td>\n",
       "      <td>0</td>\n",
       "      <td>0</td>\n",
       "      <td>0</td>\n",
       "      <td>0</td>\n",
       "      <td>0</td>\n",
       "      <td>...</td>\n",
       "      <td>0</td>\n",
       "      <td>0</td>\n",
       "      <td>0</td>\n",
       "      <td>0</td>\n",
       "      <td>0</td>\n",
       "      <td>0</td>\n",
       "      <td>0</td>\n",
       "      <td>0</td>\n",
       "      <td>0</td>\n",
       "      <td>0</td>\n",
       "    </tr>\n",
       "  </tbody>\n",
       "</table>\n",
       "<p>5 rows × 15694 columns</p>\n",
       "</div>"
      ],
      "text/plain": [
       "   aa  aaa  aah  aapi  aaron  aarp  aayuh  abandon  abandoned  abandoning  \\\n",
       "0   0    0    0     0      0     0      0        0          0           0   \n",
       "1   0    0    0     0      0     0      0        0          0           0   \n",
       "2   0    0    0     0      0     0      0        0          0           0   \n",
       "3   0    0    0     0      0     0      0        0          0           0   \n",
       "4   0    0    0     0      0     0      0        0          0           0   \n",
       "\n",
       "   ...  zion  zip  zippo  zone  zoning  zoom  zubowski  ³mr  ³well  ³who  \n",
       "0  ...     0    0      0     0       0     0         0    0      0     0  \n",
       "1  ...     0    0      0     0       0     0         0    0      0     0  \n",
       "2  ...     0    0      0     0       0     0         0    0      0     0  \n",
       "3  ...     0    0      0     0       0     0         0    0      0     0  \n",
       "4  ...     0    0      0     0       0     0         0    0      0     0  \n",
       "\n",
       "[5 rows x 15694 columns]"
      ]
     },
     "execution_count": 94,
     "metadata": {},
     "output_type": "execute_result"
    }
   ],
   "source": [
    "term_document_matrix.head()"
   ]
  },
  {
   "cell_type": "markdown",
   "metadata": {},
   "source": [
    "### Topic Modeling\n",
    "From here, I'll move into topic modeling using NMF.  I'll start with a k of 5, to represent topics I expect to see:\n",
    "- Foreign Policy\n",
    "- Economy\n",
    "- Domestic Social Issues\n",
    "- Immigration\n",
    "- Catch-All: (i.e. all others, possibly guns, election related words, etc.)"
   ]
  },
  {
   "cell_type": "code",
   "execution_count": 95,
   "metadata": {},
   "outputs": [],
   "source": [
    "from sklearn.decomposition import NMF"
   ]
  },
  {
   "cell_type": "markdown",
   "metadata": {},
   "source": [
    "Initializing the NMF Model:"
   ]
  },
  {
   "cell_type": "code",
   "execution_count": 96,
   "metadata": {},
   "outputs": [],
   "source": [
    "nmf_model = NMF(5)"
   ]
  },
  {
   "cell_type": "markdown",
   "metadata": {},
   "source": [
    "Topics from the relating model, for each line:"
   ]
  },
  {
   "cell_type": "code",
   "execution_count": 97,
   "metadata": {},
   "outputs": [
    {
     "name": "stderr",
     "output_type": "stream",
     "text": [
      "/Users/patrickbovard/opt/anaconda3/envs/metis/lib/python3.8/site-packages/sklearn/decomposition/_nmf.py:312: FutureWarning: The 'init' value, when 'init=None' and n_components is less than n_samples and n_features, will be changed from 'nndsvd' to 'nndsvda' in 1.1 (renaming of 0.26).\n",
      "  warnings.warn((\"The 'init' value, when 'init=None' and \"\n"
     ]
    },
    {
     "data": {
      "text/plain": [
       "(10278, 5)"
      ]
     },
     "execution_count": 97,
     "metadata": {},
     "output_type": "execute_result"
    }
   ],
   "source": [
    "doc_topic = nmf_model.fit_transform(term_document_matrix)\n",
    "doc_topic.shape"
   ]
  },
  {
   "cell_type": "markdown",
   "metadata": {},
   "source": [
    "Pulling the top 10 words for each of the k topics:"
   ]
  },
  {
   "cell_type": "code",
   "execution_count": 98,
   "metadata": {},
   "outputs": [
    {
     "data": {
      "text/plain": [
       "[['need',\n",
       "  'administration',\n",
       "  'war',\n",
       "  'time',\n",
       "  'believe',\n",
       "  'year',\n",
       "  'america',\n",
       "  'world',\n",
       "  'united',\n",
       "  'state'],\n",
       " ['rate',\n",
       "  'family',\n",
       "  'billion',\n",
       "  'pay',\n",
       "  'money',\n",
       "  'plan',\n",
       "  'income',\n",
       "  'percent',\n",
       "  'cut',\n",
       "  'tax'],\n",
       " ['like',\n",
       "  'make',\n",
       "  'job',\n",
       "  'million',\n",
       "  'need',\n",
       "  'work',\n",
       "  'know',\n",
       "  'health',\n",
       "  'care',\n",
       "  'people'],\n",
       " ['security',\n",
       "  'thing',\n",
       "  'got',\n",
       "  'way',\n",
       "  'job',\n",
       "  'sure',\n",
       "  'know',\n",
       "  'say',\n",
       "  'make',\n",
       "  'going'],\n",
       " ['say',\n",
       "  'important',\n",
       "  'right',\n",
       "  'make',\n",
       "  'way',\n",
       "  'ought',\n",
       "  'thing',\n",
       "  'school',\n",
       "  'know',\n",
       "  'think']]"
      ]
     },
     "execution_count": 98,
     "metadata": {},
     "output_type": "execute_result"
    }
   ],
   "source": [
    "words = count_vectorizer.get_feature_names()\n",
    "t = nmf_model.components_.argsort(axis=1)[:,-10:]\n",
    "topic_words = [[words[e] for e in l] for l in t]\n",
    "topic_words"
   ]
  },
  {
   "cell_type": "markdown",
   "metadata": {},
   "source": [
    "Topic modelling using TD-IDF vectorization will be in the **tf-idf_vectorizer_topic_modeling.ipynb** notebook."
   ]
  },
  {
   "cell_type": "markdown",
   "metadata": {},
   "source": [
    "# VADER Sentiment Analysis"
   ]
  },
  {
   "cell_type": "markdown",
   "metadata": {},
   "source": [
    "In order to get a sense of sentiment analysis, I'll be using VADER on the text."
   ]
  },
  {
   "cell_type": "code",
   "execution_count": 99,
   "metadata": {},
   "outputs": [],
   "source": [
    "texts = nlp_df['Transcript']"
   ]
  },
  {
   "cell_type": "code",
   "execution_count": 100,
   "metadata": {},
   "outputs": [
    {
     "name": "stderr",
     "output_type": "stream",
     "text": [
      "[nltk_data] Downloading package vader_lexicon to\n",
      "[nltk_data]     /Users/patrickbovard/nltk_data...\n",
      "[nltk_data]   Package vader_lexicon is already up-to-date!\n"
     ]
    },
    {
     "data": {
      "text/plain": [
       "True"
      ]
     },
     "execution_count": 100,
     "metadata": {},
     "output_type": "execute_result"
    }
   ],
   "source": [
    "import nltk\n",
    "nltk.download('vader_lexicon')"
   ]
  },
  {
   "cell_type": "code",
   "execution_count": 101,
   "metadata": {},
   "outputs": [],
   "source": [
    "from nltk.sentiment.vader import SentimentIntensityAnalyzer"
   ]
  },
  {
   "cell_type": "markdown",
   "metadata": {},
   "source": [
    "Initializing the sentiment analyzer:"
   ]
  },
  {
   "cell_type": "code",
   "execution_count": 102,
   "metadata": {},
   "outputs": [],
   "source": [
    "sent_analyzer = SentimentIntensityAnalyzer()"
   ]
  },
  {
   "cell_type": "markdown",
   "metadata": {},
   "source": [
    "Creating a new df to run the analysis on and add the scores to:"
   ]
  },
  {
   "cell_type": "code",
   "execution_count": 103,
   "metadata": {},
   "outputs": [],
   "source": [
    "sentiment_df = nlp_df.iloc[:, 0:9].copy()"
   ]
  },
  {
   "cell_type": "code",
   "execution_count": 104,
   "metadata": {},
   "outputs": [],
   "source": [
    "sentiment_df['Negative'] = 0\n",
    "sentiment_df['Neutral'] = 0\n",
    "sentiment_df['Positive'] = 0\n",
    "sentiment_df['Compound'] = 0"
   ]
  },
  {
   "cell_type": "markdown",
   "metadata": {},
   "source": [
    "Looping through the new df to add the sentiment scores:"
   ]
  },
  {
   "cell_type": "code",
   "execution_count": 105,
   "metadata": {},
   "outputs": [],
   "source": [
    "for i, text in enumerate(sentiment_df['Transcript']):\n",
    "    sentiment = sent_analyzer.polarity_scores(text)\n",
    "    sentiment_df.iloc[i, 9] = sentiment['neg']\n",
    "    sentiment_df.iloc[i, 10] = sentiment['neu']\n",
    "    sentiment_df.iloc[i, 11] = sentiment['pos']\n",
    "    sentiment_df.iloc[i, 12] = sentiment['compound']"
   ]
  },
  {
   "cell_type": "code",
   "execution_count": 106,
   "metadata": {},
   "outputs": [
    {
     "name": "stdout",
     "output_type": "stream",
     "text": [
      "<class 'pandas.core.frame.DataFrame'>\n",
      "RangeIndex: 76452 entries, 0 to 76451\n",
      "Data columns (total 13 columns):\n",
      " #   Column          Non-Null Count  Dtype         \n",
      "---  ------          --------------  -----         \n",
      " 0   Debate_Name     76452 non-null  object        \n",
      " 1   Transcript      76452 non-null  object        \n",
      " 2   Speaker         76452 non-null  object        \n",
      " 3   Data_Source     76452 non-null  object        \n",
      " 4   Debate_Type     76452 non-null  object        \n",
      " 5   Date_Time_Date  76452 non-null  datetime64[ns]\n",
      " 6   Year            76452 non-null  int64         \n",
      " 7   Speaker_Type    76452 non-null  object        \n",
      " 8   line_length     76452 non-null  int64         \n",
      " 9   Negative        76452 non-null  float64       \n",
      " 10  Neutral         76452 non-null  float64       \n",
      " 11  Positive        76452 non-null  float64       \n",
      " 12  Compound        76452 non-null  float64       \n",
      "dtypes: datetime64[ns](1), float64(4), int64(2), object(6)\n",
      "memory usage: 7.6+ MB\n"
     ]
    }
   ],
   "source": [
    "sentiment_df.info()"
   ]
  },
  {
   "cell_type": "markdown",
   "metadata": {},
   "source": [
    "## EDA w/ Sentiments"
   ]
  },
  {
   "cell_type": "markdown",
   "metadata": {},
   "source": [
    "Has the sentiment for each party stayed relatively similar over time?"
   ]
  },
  {
   "cell_type": "code",
   "execution_count": 107,
   "metadata": {},
   "outputs": [],
   "source": [
    "sent_over_time = sentiment_df[sentiment_df.line_length >= 0].groupby([sentiment_df.Year, sentiment_df.Speaker_Type]).agg({'Transcript':'count','Negative':'mean', 'Positive':'mean', 'Neutral':'mean'}).reset_index()"
   ]
  },
  {
   "cell_type": "code",
   "execution_count": 108,
   "metadata": {},
   "outputs": [
    {
     "data": {
      "text/html": [
       "<div>\n",
       "<style scoped>\n",
       "    .dataframe tbody tr th:only-of-type {\n",
       "        vertical-align: middle;\n",
       "    }\n",
       "\n",
       "    .dataframe tbody tr th {\n",
       "        vertical-align: top;\n",
       "    }\n",
       "\n",
       "    .dataframe thead th {\n",
       "        text-align: right;\n",
       "    }\n",
       "</style>\n",
       "<table border=\"1\" class=\"dataframe\">\n",
       "  <thead>\n",
       "    <tr style=\"text-align: right;\">\n",
       "      <th></th>\n",
       "      <th>Year</th>\n",
       "      <th>Speaker_Type</th>\n",
       "      <th>Transcript</th>\n",
       "      <th>Negative</th>\n",
       "      <th>Positive</th>\n",
       "      <th>Neutral</th>\n",
       "    </tr>\n",
       "  </thead>\n",
       "  <tbody>\n",
       "    <tr>\n",
       "      <th>0</th>\n",
       "      <td>1960</td>\n",
       "      <td>Democrat</td>\n",
       "      <td>59</td>\n",
       "      <td>0.062322</td>\n",
       "      <td>0.108407</td>\n",
       "      <td>0.829339</td>\n",
       "    </tr>\n",
       "    <tr>\n",
       "      <th>1</th>\n",
       "      <td>1960</td>\n",
       "      <td>Moderator/Other</td>\n",
       "      <td>152</td>\n",
       "      <td>0.018230</td>\n",
       "      <td>0.045822</td>\n",
       "      <td>0.935961</td>\n",
       "    </tr>\n",
       "    <tr>\n",
       "      <th>2</th>\n",
       "      <td>1960</td>\n",
       "      <td>Republican</td>\n",
       "      <td>45</td>\n",
       "      <td>0.052311</td>\n",
       "      <td>0.114222</td>\n",
       "      <td>0.833422</td>\n",
       "    </tr>\n",
       "    <tr>\n",
       "      <th>3</th>\n",
       "      <td>1976</td>\n",
       "      <td>Democrat</td>\n",
       "      <td>58</td>\n",
       "      <td>0.070207</td>\n",
       "      <td>0.097103</td>\n",
       "      <td>0.832724</td>\n",
       "    </tr>\n",
       "    <tr>\n",
       "      <th>4</th>\n",
       "      <td>1976</td>\n",
       "      <td>Moderator/Other</td>\n",
       "      <td>159</td>\n",
       "      <td>0.024755</td>\n",
       "      <td>0.056013</td>\n",
       "      <td>0.919264</td>\n",
       "    </tr>\n",
       "  </tbody>\n",
       "</table>\n",
       "</div>"
      ],
      "text/plain": [
       "   Year     Speaker_Type  Transcript  Negative  Positive   Neutral\n",
       "0  1960         Democrat          59  0.062322  0.108407  0.829339\n",
       "1  1960  Moderator/Other         152  0.018230  0.045822  0.935961\n",
       "2  1960       Republican          45  0.052311  0.114222  0.833422\n",
       "3  1976         Democrat          58  0.070207  0.097103  0.832724\n",
       "4  1976  Moderator/Other         159  0.024755  0.056013  0.919264"
      ]
     },
     "execution_count": 108,
     "metadata": {},
     "output_type": "execute_result"
    }
   ],
   "source": [
    "sent_over_time.head()"
   ]
  },
  {
   "cell_type": "code",
   "execution_count": 109,
   "metadata": {},
   "outputs": [],
   "source": [
    "types = ['Democrat', 'Republican', 'Moderator/Other'] "
   ]
  },
  {
   "cell_type": "code",
   "execution_count": 110,
   "metadata": {},
   "outputs": [],
   "source": [
    "sentiments = ['Negative', 'Positive', 'Neutral']"
   ]
  },
  {
   "cell_type": "markdown",
   "metadata": {},
   "source": [
    "Using Subplots:"
   ]
  },
  {
   "cell_type": "code",
   "execution_count": 111,
   "metadata": {
    "scrolled": false
   },
   "outputs": [
    {
     "data": {
      "image/png": "[encoded data removed]",
      "text/plain": [
       "<Figure size 2160x2160 with 3 Axes>"
      ]
     },
     "metadata": {
      "needs_background": "light"
     },
     "output_type": "display_data"
    }
   ],
   "source": [
    "legend = []\n",
    "plt.subplots(3, 1,figsize=(30,30))\n",
    "for i, sentiment in enumerate(sentiments, 1):\n",
    "    plt.subplot(3,1,i)\n",
    "    for Speaker_Type in types:\n",
    "        x = sent_over_time[sent_over_time.iloc[:, 1] == Speaker_Type].iloc[:, 0]\n",
    "        y = sent_over_time[sent_over_time.iloc[:, 1] == Speaker_Type].loc[:, sentiment]\n",
    "        legend.append(type)\n",
    "        if Speaker_Type == 'Republican':\n",
    "            color = 'r'\n",
    "        elif Speaker_Type == 'Democrat':\n",
    "            color = 'b'\n",
    "        else:\n",
    "            color = 'g'\n",
    "        plt.plot(x,y, color)\n",
    "    plt.xlabel('Year', size=25)\n",
    "    plt.ylabel('Average {} Sentiment'.format(sentiment), size=25)\n",
    "    plt.xticks(size=20)\n",
    "    plt.yticks(size=20)\n",
    "    plt.title('Average {} Sentiment Over Time by Speaker Type'.format(sentiment), size=30)\n",
    "    plt.legend(('Democrat', 'Republican', 'Moderator'))"
   ]
  },
  {
   "cell_type": "markdown",
   "metadata": {},
   "source": [
    "Who are the most positive and negative candidates?"
   ]
  },
  {
   "cell_type": "code",
   "execution_count": 112,
   "metadata": {},
   "outputs": [],
   "source": [
    "candidate_sents = sentiment_df[(sentiment_df.line_length >= 0) & ((sentiment_df.Speaker_Type == 'Republican')|(sentiment_df.Speaker_Type == 'Democrat'))].groupby([sentiment_df.Speaker]).agg({'Transcript':'count','Negative':'mean', 'Positive':'mean', 'Neutral':'mean'}).reset_index()"
   ]
  },
  {
   "cell_type": "markdown",
   "metadata": {},
   "source": [
    "Negative:"
   ]
  },
  {
   "cell_type": "code",
   "execution_count": 113,
   "metadata": {},
   "outputs": [
    {
     "data": {
      "text/html": [
       "<div>\n",
       "<style scoped>\n",
       "    .dataframe tbody tr th:only-of-type {\n",
       "        vertical-align: middle;\n",
       "    }\n",
       "\n",
       "    .dataframe tbody tr th {\n",
       "        vertical-align: top;\n",
       "    }\n",
       "\n",
       "    .dataframe thead th {\n",
       "        text-align: right;\n",
       "    }\n",
       "</style>\n",
       "<table border=\"1\" class=\"dataframe\">\n",
       "  <thead>\n",
       "    <tr style=\"text-align: right;\">\n",
       "      <th></th>\n",
       "      <th>Speaker</th>\n",
       "      <th>Transcript</th>\n",
       "      <th>Negative</th>\n",
       "      <th>Positive</th>\n",
       "      <th>Neutral</th>\n",
       "    </tr>\n",
       "  </thead>\n",
       "  <tbody>\n",
       "    <tr>\n",
       "      <th>42</th>\n",
       "      <td>gravel</td>\n",
       "      <td>222</td>\n",
       "      <td>0.134770</td>\n",
       "      <td>0.093419</td>\n",
       "      <td>0.771815</td>\n",
       "    </tr>\n",
       "    <tr>\n",
       "      <th>33</th>\n",
       "      <td>gabbard</td>\n",
       "      <td>108</td>\n",
       "      <td>0.099537</td>\n",
       "      <td>0.113917</td>\n",
       "      <td>0.786528</td>\n",
       "    </tr>\n",
       "    <tr>\n",
       "      <th>95</th>\n",
       "      <td>swalwell</td>\n",
       "      <td>35</td>\n",
       "      <td>0.087600</td>\n",
       "      <td>0.027114</td>\n",
       "      <td>0.885286</td>\n",
       "    </tr>\n",
       "    <tr>\n",
       "      <th>71</th>\n",
       "      <td>paul</td>\n",
       "      <td>1651</td>\n",
       "      <td>0.084394</td>\n",
       "      <td>0.087636</td>\n",
       "      <td>0.827973</td>\n",
       "    </tr>\n",
       "    <tr>\n",
       "      <th>68</th>\n",
       "      <td>orrin hatch</td>\n",
       "      <td>24</td>\n",
       "      <td>0.083583</td>\n",
       "      <td>0.105167</td>\n",
       "      <td>0.811292</td>\n",
       "    </tr>\n",
       "    <tr>\n",
       "      <th>8</th>\n",
       "      <td>booker</td>\n",
       "      <td>219</td>\n",
       "      <td>0.079982</td>\n",
       "      <td>0.119370</td>\n",
       "      <td>0.800621</td>\n",
       "    </tr>\n",
       "    <tr>\n",
       "      <th>41</th>\n",
       "      <td>graham</td>\n",
       "      <td>305</td>\n",
       "      <td>0.079630</td>\n",
       "      <td>0.113823</td>\n",
       "      <td>0.806564</td>\n",
       "    </tr>\n",
       "    <tr>\n",
       "      <th>57</th>\n",
       "      <td>kerry</td>\n",
       "      <td>89</td>\n",
       "      <td>0.076854</td>\n",
       "      <td>0.121910</td>\n",
       "      <td>0.801292</td>\n",
       "    </tr>\n",
       "    <tr>\n",
       "      <th>27</th>\n",
       "      <td>dukakis</td>\n",
       "      <td>116</td>\n",
       "      <td>0.076698</td>\n",
       "      <td>0.116078</td>\n",
       "      <td>0.807181</td>\n",
       "    </tr>\n",
       "    <tr>\n",
       "      <th>90</th>\n",
       "      <td>senator kerry</td>\n",
       "      <td>273</td>\n",
       "      <td>0.076667</td>\n",
       "      <td>0.115722</td>\n",
       "      <td>0.807593</td>\n",
       "    </tr>\n",
       "  </tbody>\n",
       "</table>\n",
       "</div>"
      ],
      "text/plain": [
       "          Speaker  Transcript  Negative  Positive   Neutral\n",
       "42         gravel         222  0.134770  0.093419  0.771815\n",
       "33        gabbard         108  0.099537  0.113917  0.786528\n",
       "95       swalwell          35  0.087600  0.027114  0.885286\n",
       "71           paul        1651  0.084394  0.087636  0.827973\n",
       "68    orrin hatch          24  0.083583  0.105167  0.811292\n",
       "8          booker         219  0.079982  0.119370  0.800621\n",
       "41         graham         305  0.079630  0.113823  0.806564\n",
       "57          kerry          89  0.076854  0.121910  0.801292\n",
       "27        dukakis         116  0.076698  0.116078  0.807181\n",
       "90  senator kerry         273  0.076667  0.115722  0.807593"
      ]
     },
     "execution_count": 113,
     "metadata": {},
     "output_type": "execute_result"
    }
   ],
   "source": [
    "candidate_sents[candidate_sents.Transcript >= 20].sort_values(by='Negative', ascending=False).head(10)"
   ]
  },
  {
   "cell_type": "markdown",
   "metadata": {},
   "source": [
    "Positive:"
   ]
  },
  {
   "cell_type": "code",
   "execution_count": 114,
   "metadata": {},
   "outputs": [
    {
     "data": {
      "text/html": [
       "<div>\n",
       "<style scoped>\n",
       "    .dataframe tbody tr th:only-of-type {\n",
       "        vertical-align: middle;\n",
       "    }\n",
       "\n",
       "    .dataframe tbody tr th {\n",
       "        vertical-align: top;\n",
       "    }\n",
       "\n",
       "    .dataframe thead th {\n",
       "        text-align: right;\n",
       "    }\n",
       "</style>\n",
       "<table border=\"1\" class=\"dataframe\">\n",
       "  <thead>\n",
       "    <tr style=\"text-align: right;\">\n",
       "      <th></th>\n",
       "      <th>Speaker</th>\n",
       "      <th>Transcript</th>\n",
       "      <th>Negative</th>\n",
       "      <th>Positive</th>\n",
       "      <th>Neutral</th>\n",
       "    </tr>\n",
       "  </thead>\n",
       "  <tbody>\n",
       "    <tr>\n",
       "      <th>76</th>\n",
       "      <td>president bush</td>\n",
       "      <td>297</td>\n",
       "      <td>0.073869</td>\n",
       "      <td>0.150862</td>\n",
       "      <td>0.775259</td>\n",
       "    </tr>\n",
       "    <tr>\n",
       "      <th>61</th>\n",
       "      <td>lieberman</td>\n",
       "      <td>127</td>\n",
       "      <td>0.069370</td>\n",
       "      <td>0.149441</td>\n",
       "      <td>0.781205</td>\n",
       "    </tr>\n",
       "    <tr>\n",
       "      <th>69</th>\n",
       "      <td>palin</td>\n",
       "      <td>147</td>\n",
       "      <td>0.049714</td>\n",
       "      <td>0.138605</td>\n",
       "      <td>0.811714</td>\n",
       "    </tr>\n",
       "    <tr>\n",
       "      <th>62</th>\n",
       "      <td>mccain</td>\n",
       "      <td>2126</td>\n",
       "      <td>0.059509</td>\n",
       "      <td>0.138087</td>\n",
       "      <td>0.802408</td>\n",
       "    </tr>\n",
       "    <tr>\n",
       "      <th>11</th>\n",
       "      <td>bush</td>\n",
       "      <td>1591</td>\n",
       "      <td>0.058004</td>\n",
       "      <td>0.134338</td>\n",
       "      <td>0.807661</td>\n",
       "    </tr>\n",
       "    <tr>\n",
       "      <th>70</th>\n",
       "      <td>pataki</td>\n",
       "      <td>245</td>\n",
       "      <td>0.072306</td>\n",
       "      <td>0.134261</td>\n",
       "      <td>0.793465</td>\n",
       "    </tr>\n",
       "    <tr>\n",
       "      <th>31</th>\n",
       "      <td>forbes</td>\n",
       "      <td>426</td>\n",
       "      <td>0.050951</td>\n",
       "      <td>0.133228</td>\n",
       "      <td>0.815796</td>\n",
       "    </tr>\n",
       "    <tr>\n",
       "      <th>52</th>\n",
       "      <td>john mccain</td>\n",
       "      <td>21</td>\n",
       "      <td>0.047095</td>\n",
       "      <td>0.127571</td>\n",
       "      <td>0.825429</td>\n",
       "    </tr>\n",
       "    <tr>\n",
       "      <th>74</th>\n",
       "      <td>pence</td>\n",
       "      <td>359</td>\n",
       "      <td>0.063209</td>\n",
       "      <td>0.127159</td>\n",
       "      <td>0.809624</td>\n",
       "    </tr>\n",
       "    <tr>\n",
       "      <th>3</th>\n",
       "      <td>bauer</td>\n",
       "      <td>409</td>\n",
       "      <td>0.052636</td>\n",
       "      <td>0.126968</td>\n",
       "      <td>0.820374</td>\n",
       "    </tr>\n",
       "  </tbody>\n",
       "</table>\n",
       "</div>"
      ],
      "text/plain": [
       "           Speaker  Transcript  Negative  Positive   Neutral\n",
       "76  president bush         297  0.073869  0.150862  0.775259\n",
       "61       lieberman         127  0.069370  0.149441  0.781205\n",
       "69           palin         147  0.049714  0.138605  0.811714\n",
       "62          mccain        2126  0.059509  0.138087  0.802408\n",
       "11            bush        1591  0.058004  0.134338  0.807661\n",
       "70          pataki         245  0.072306  0.134261  0.793465\n",
       "31          forbes         426  0.050951  0.133228  0.815796\n",
       "52     john mccain          21  0.047095  0.127571  0.825429\n",
       "74           pence         359  0.063209  0.127159  0.809624\n",
       "3            bauer         409  0.052636  0.126968  0.820374"
      ]
     },
     "execution_count": 114,
     "metadata": {},
     "output_type": "execute_result"
    }
   ],
   "source": [
    "candidate_sents[candidate_sents.Transcript >= 20].sort_values(by='Positive', ascending=False).head(10)"
   ]
  },
  {
   "cell_type": "markdown",
   "metadata": {},
   "source": [
    "Negative:"
   ]
  },
  {
   "cell_type": "code",
   "execution_count": 115,
   "metadata": {},
   "outputs": [
    {
     "data": {
      "text/html": [
       "<div>\n",
       "<style scoped>\n",
       "    .dataframe tbody tr th:only-of-type {\n",
       "        vertical-align: middle;\n",
       "    }\n",
       "\n",
       "    .dataframe tbody tr th {\n",
       "        vertical-align: top;\n",
       "    }\n",
       "\n",
       "    .dataframe thead th {\n",
       "        text-align: right;\n",
       "    }\n",
       "</style>\n",
       "<table border=\"1\" class=\"dataframe\">\n",
       "  <thead>\n",
       "    <tr style=\"text-align: right;\">\n",
       "      <th></th>\n",
       "      <th>Speaker</th>\n",
       "      <th>Transcript</th>\n",
       "      <th>Negative</th>\n",
       "      <th>Positive</th>\n",
       "      <th>Neutral</th>\n",
       "    </tr>\n",
       "  </thead>\n",
       "  <tbody>\n",
       "    <tr>\n",
       "      <th>50</th>\n",
       "      <td>j. king</td>\n",
       "      <td>37</td>\n",
       "      <td>0.007000</td>\n",
       "      <td>0.065162</td>\n",
       "      <td>0.927784</td>\n",
       "    </tr>\n",
       "    <tr>\n",
       "      <th>95</th>\n",
       "      <td>swalwell</td>\n",
       "      <td>35</td>\n",
       "      <td>0.087600</td>\n",
       "      <td>0.027114</td>\n",
       "      <td>0.885286</td>\n",
       "    </tr>\n",
       "    <tr>\n",
       "      <th>5</th>\n",
       "      <td>bentsen</td>\n",
       "      <td>32</td>\n",
       "      <td>0.049469</td>\n",
       "      <td>0.087656</td>\n",
       "      <td>0.863000</td>\n",
       "    </tr>\n",
       "    <tr>\n",
       "      <th>75</th>\n",
       "      <td>perry</td>\n",
       "      <td>493</td>\n",
       "      <td>0.045485</td>\n",
       "      <td>0.091738</td>\n",
       "      <td>0.862797</td>\n",
       "    </tr>\n",
       "    <tr>\n",
       "      <th>9</th>\n",
       "      <td>bradley</td>\n",
       "      <td>856</td>\n",
       "      <td>0.051279</td>\n",
       "      <td>0.088806</td>\n",
       "      <td>0.859905</td>\n",
       "    </tr>\n",
       "    <tr>\n",
       "      <th>25</th>\n",
       "      <td>delaney</td>\n",
       "      <td>95</td>\n",
       "      <td>0.045053</td>\n",
       "      <td>0.096474</td>\n",
       "      <td>0.858484</td>\n",
       "    </tr>\n",
       "    <tr>\n",
       "      <th>99</th>\n",
       "      <td>walker</td>\n",
       "      <td>94</td>\n",
       "      <td>0.051138</td>\n",
       "      <td>0.092543</td>\n",
       "      <td>0.856319</td>\n",
       "    </tr>\n",
       "    <tr>\n",
       "      <th>91</th>\n",
       "      <td>senator obama</td>\n",
       "      <td>134</td>\n",
       "      <td>0.050254</td>\n",
       "      <td>0.094873</td>\n",
       "      <td>0.854799</td>\n",
       "    </tr>\n",
       "    <tr>\n",
       "      <th>36</th>\n",
       "      <td>gillibrand</td>\n",
       "      <td>99</td>\n",
       "      <td>0.063152</td>\n",
       "      <td>0.083111</td>\n",
       "      <td>0.853717</td>\n",
       "    </tr>\n",
       "    <tr>\n",
       "      <th>59</th>\n",
       "      <td>klobuchar</td>\n",
       "      <td>591</td>\n",
       "      <td>0.034865</td>\n",
       "      <td>0.111866</td>\n",
       "      <td>0.853269</td>\n",
       "    </tr>\n",
       "  </tbody>\n",
       "</table>\n",
       "</div>"
      ],
      "text/plain": [
       "          Speaker  Transcript  Negative  Positive   Neutral\n",
       "50        j. king          37  0.007000  0.065162  0.927784\n",
       "95       swalwell          35  0.087600  0.027114  0.885286\n",
       "5         bentsen          32  0.049469  0.087656  0.863000\n",
       "75          perry         493  0.045485  0.091738  0.862797\n",
       "9         bradley         856  0.051279  0.088806  0.859905\n",
       "25        delaney          95  0.045053  0.096474  0.858484\n",
       "99         walker          94  0.051138  0.092543  0.856319\n",
       "91  senator obama         134  0.050254  0.094873  0.854799\n",
       "36     gillibrand          99  0.063152  0.083111  0.853717\n",
       "59      klobuchar         591  0.034865  0.111866  0.853269"
      ]
     },
     "execution_count": 115,
     "metadata": {},
     "output_type": "execute_result"
    }
   ],
   "source": [
    "candidate_sents[candidate_sents.Transcript >= 20].sort_values(by='Neutral', ascending=False).head(10)"
   ]
  },
  {
   "cell_type": "markdown",
   "metadata": {},
   "source": [
    "### What about sentiment for winning or losing?"
   ]
  },
  {
   "cell_type": "markdown",
   "metadata": {},
   "source": [
    "For this, I'll add a column for winner/vs non-winner of a particular election."
   ]
  },
  {
   "cell_type": "code",
   "execution_count": 116,
   "metadata": {},
   "outputs": [
    {
     "ename": "AttributeError",
     "evalue": "'DataFrame' object has no attribute 'Election_Result'",
     "output_type": "error",
     "traceback": [
      "\u001b[0;31m---------------------------------------------------------------------------\u001b[0m",
      "\u001b[0;31mAttributeError\u001b[0m                            Traceback (most recent call last)",
      "\u001b[0;32m<ipython-input-116-c4287b6e2b84>\u001b[0m in \u001b[0;36m<module>\u001b[0;34m\u001b[0m\n\u001b[0;32m----> 1\u001b[0;31m \u001b[0mresult_sent_over_time\u001b[0m \u001b[0;34m=\u001b[0m \u001b[0msentiment_df\u001b[0m\u001b[0;34m[\u001b[0m\u001b[0msentiment_df\u001b[0m\u001b[0;34m.\u001b[0m\u001b[0mline_length\u001b[0m \u001b[0;34m>=\u001b[0m \u001b[0;36m0\u001b[0m\u001b[0;34m]\u001b[0m\u001b[0;34m.\u001b[0m\u001b[0mgroupby\u001b[0m\u001b[0;34m(\u001b[0m\u001b[0;34m[\u001b[0m\u001b[0msentiment_df\u001b[0m\u001b[0;34m.\u001b[0m\u001b[0mYear\u001b[0m\u001b[0;34m,\u001b[0m \u001b[0msentiment_df\u001b[0m\u001b[0;34m.\u001b[0m\u001b[0mDebate_Type\u001b[0m\u001b[0;34m,\u001b[0m \u001b[0msentiment_df\u001b[0m\u001b[0;34m.\u001b[0m\u001b[0mElection_Result\u001b[0m\u001b[0;34m]\u001b[0m\u001b[0;34m)\u001b[0m\u001b[0;34m.\u001b[0m\u001b[0magg\u001b[0m\u001b[0;34m(\u001b[0m\u001b[0;34m{\u001b[0m\u001b[0;34m'Negative'\u001b[0m\u001b[0;34m:\u001b[0m\u001b[0;34m'mean'\u001b[0m\u001b[0;34m,\u001b[0m \u001b[0;34m'Positive'\u001b[0m\u001b[0;34m:\u001b[0m\u001b[0;34m'mean'\u001b[0m\u001b[0;34m,\u001b[0m \u001b[0;34m'Neutral'\u001b[0m\u001b[0;34m:\u001b[0m\u001b[0;34m'mean'\u001b[0m\u001b[0;34m}\u001b[0m\u001b[0;34m)\u001b[0m\u001b[0;34m.\u001b[0m\u001b[0mreset_index\u001b[0m\u001b[0;34m(\u001b[0m\u001b[0;34m)\u001b[0m\u001b[0;34m\u001b[0m\u001b[0;34m\u001b[0m\u001b[0m\n\u001b[0m",
      "\u001b[0;32m~/opt/anaconda3/envs/metis/lib/python3.8/site-packages/pandas/core/generic.py\u001b[0m in \u001b[0;36m__getattr__\u001b[0;34m(self, name)\u001b[0m\n\u001b[1;32m   5139\u001b[0m             \u001b[0;32mif\u001b[0m \u001b[0mself\u001b[0m\u001b[0;34m.\u001b[0m\u001b[0m_info_axis\u001b[0m\u001b[0;34m.\u001b[0m\u001b[0m_can_hold_identifiers_and_holds_name\u001b[0m\u001b[0;34m(\u001b[0m\u001b[0mname\u001b[0m\u001b[0;34m)\u001b[0m\u001b[0;34m:\u001b[0m\u001b[0;34m\u001b[0m\u001b[0;34m\u001b[0m\u001b[0m\n\u001b[1;32m   5140\u001b[0m                 \u001b[0;32mreturn\u001b[0m \u001b[0mself\u001b[0m\u001b[0;34m[\u001b[0m\u001b[0mname\u001b[0m\u001b[0;34m]\u001b[0m\u001b[0;34m\u001b[0m\u001b[0;34m\u001b[0m\u001b[0m\n\u001b[0;32m-> 5141\u001b[0;31m             \u001b[0;32mreturn\u001b[0m \u001b[0mobject\u001b[0m\u001b[0;34m.\u001b[0m\u001b[0m__getattribute__\u001b[0m\u001b[0;34m(\u001b[0m\u001b[0mself\u001b[0m\u001b[0;34m,\u001b[0m \u001b[0mname\u001b[0m\u001b[0;34m)\u001b[0m\u001b[0;34m\u001b[0m\u001b[0;34m\u001b[0m\u001b[0m\n\u001b[0m\u001b[1;32m   5142\u001b[0m \u001b[0;34m\u001b[0m\u001b[0m\n\u001b[1;32m   5143\u001b[0m     \u001b[0;32mdef\u001b[0m \u001b[0m__setattr__\u001b[0m\u001b[0;34m(\u001b[0m\u001b[0mself\u001b[0m\u001b[0;34m,\u001b[0m \u001b[0mname\u001b[0m\u001b[0;34m:\u001b[0m \u001b[0mstr\u001b[0m\u001b[0;34m,\u001b[0m \u001b[0mvalue\u001b[0m\u001b[0;34m)\u001b[0m \u001b[0;34m->\u001b[0m \u001b[0;32mNone\u001b[0m\u001b[0;34m:\u001b[0m\u001b[0;34m\u001b[0m\u001b[0;34m\u001b[0m\u001b[0m\n",
      "\u001b[0;31mAttributeError\u001b[0m: 'DataFrame' object has no attribute 'Election_Result'"
     ]
    }
   ],
   "source": [
    "result_sent_over_time = sentiment_df[sentiment_df.line_length >= 0].groupby([sentiment_df.Year, sentiment_df.Debate_Type, sentiment_df.Election_Result]).agg({'Negative':'mean', 'Positive':'mean', 'Neutral':'mean'}).reset_index()"
   ]
  },
  {
   "cell_type": "code",
   "execution_count": null,
   "metadata": {},
   "outputs": [],
   "source": [
    "result_sent_over_time.head()"
   ]
  },
  {
   "cell_type": "markdown",
   "metadata": {},
   "source": [
    "Plotting out by election type, over time:"
   ]
  },
  {
   "cell_type": "markdown",
   "metadata": {},
   "source": [
    "General Election (President):"
   ]
  },
  {
   "cell_type": "code",
   "execution_count": null,
   "metadata": {},
   "outputs": [],
   "source": [
    "results = ['Winner', 'Loser'] "
   ]
  },
  {
   "cell_type": "code",
   "execution_count": null,
   "metadata": {},
   "outputs": [],
   "source": [
    "sentiments = ['Negative', 'Positive', 'Neutral']"
   ]
  },
  {
   "cell_type": "code",
   "execution_count": null,
   "metadata": {},
   "outputs": [],
   "source": [
    "legend = []\n",
    "plt.subplots(3, 1,figsize=(30,30))\n",
    "for i, sentiment in enumerate(sentiments, 1):\n",
    "    plt.subplot(3,1,i)\n",
    "    for result in results:\n",
    "        x = result_sent_over_time[(result_sent_over_time.Debate_Type == 'General-President') & (result_sent_over_time.iloc[:, 2] == result)].iloc[:, 0]\n",
    "        y = result_sent_over_time[(result_sent_over_time.Debate_Type == 'General-President') & (result_sent_over_time.iloc[:, 2] == result)].loc[:, sentiment]\n",
    "        legend.append(type)\n",
    "        if result == 'Winner':\n",
    "            color = 'g'\n",
    "        else:\n",
    "            color = 'r'\n",
    "        plt.plot(x,y, color)\n",
    "    plt.xlabel('Year', size=25)\n",
    "    plt.ylabel('Average {} Sentiment'.format(sentiment), size=25)\n",
    "    plt.xticks(size=20)\n",
    "    plt.yticks(size=20)\n",
    "    plt.title('Average {} Sentiment Over Time by Election Result - Presidential Election'.format(sentiment), size=30)\n",
    "    plt.legend(('Election Winner', 'Election Loser'))"
   ]
  },
  {
   "cell_type": "markdown",
   "metadata": {},
   "source": [
    "Republican Primaries:"
   ]
  },
  {
   "cell_type": "code",
   "execution_count": null,
   "metadata": {},
   "outputs": [],
   "source": [
    "results = ['Winner', 'Loser'] "
   ]
  },
  {
   "cell_type": "code",
   "execution_count": null,
   "metadata": {},
   "outputs": [],
   "source": [
    "sentiments = ['Negative', 'Positive', 'Neutral']"
   ]
  },
  {
   "cell_type": "code",
   "execution_count": null,
   "metadata": {},
   "outputs": [],
   "source": [
    "legend = []\n",
    "plt.subplots(3, 1,figsize=(30,30))\n",
    "for i, sentiment in enumerate(sentiments, 1):\n",
    "    plt.subplot(3,1,i)\n",
    "    for result in results:\n",
    "        x = result_sent_over_time[(result_sent_over_time.Debate_Type == 'Primary-Republican') & (result_sent_over_time.iloc[:, 2] == result)].iloc[:, 0]\n",
    "        y = result_sent_over_time[(result_sent_over_time.Debate_Type == 'Primary-Republican') & (result_sent_over_time.iloc[:, 2] == result)].loc[:, sentiment]\n",
    "        legend.append(type)\n",
    "        if result == 'Winner':\n",
    "            color = 'b'\n",
    "        else:\n",
    "            color = 'r'\n",
    "        plt.plot(x,y, color)\n",
    "    plt.xlabel('Year', size=25)\n",
    "    plt.ylabel('Average {} Sentiment'.format(sentiment), size=25)\n",
    "    plt.xticks(size=20)\n",
    "    plt.yticks(size=20)\n",
    "    plt.title('Average {} Sentiment Over Time by Election Result - Republican Primaries'.format(sentiment), size=30)\n",
    "    plt.legend(('Election Winner', 'Election Loser'))"
   ]
  },
  {
   "cell_type": "markdown",
   "metadata": {},
   "source": [
    "Democrat Primaries:"
   ]
  },
  {
   "cell_type": "code",
   "execution_count": null,
   "metadata": {},
   "outputs": [],
   "source": [
    "results = ['Winner', 'Loser'] "
   ]
  },
  {
   "cell_type": "code",
   "execution_count": null,
   "metadata": {},
   "outputs": [],
   "source": [
    "sentiments = ['Negative', 'Positive', 'Neutral']"
   ]
  },
  {
   "cell_type": "code",
   "execution_count": null,
   "metadata": {},
   "outputs": [],
   "source": [
    "legend = []\n",
    "plt.subplots(3, 1,figsize=(30,30))\n",
    "for i, sentiment in enumerate(sentiments, 1):\n",
    "    plt.subplot(3,1,i)\n",
    "    for result in results:\n",
    "        x = result_sent_over_time[(result_sent_over_time.Debate_Type == 'Primary-Democrat') & (result_sent_over_time.iloc[:, 2] == result)].iloc[:, 0]\n",
    "        y = result_sent_over_time[(result_sent_over_time.Debate_Type == 'Primary-Democrat') & (result_sent_over_time.iloc[:, 2] == result)].loc[:, sentiment]\n",
    "        legend.append(type)\n",
    "        if result == 'Winner':\n",
    "            color = 'b'\n",
    "        else:\n",
    "            color = 'r'\n",
    "        plt.plot(x,y, color)\n",
    "    plt.xlabel('Year', size=25)\n",
    "    plt.ylabel('Average {} Sentiment'.format(sentiment), size=25)\n",
    "    plt.xticks(size=20)\n",
    "    plt.yticks(size=20)\n",
    "    plt.title('Average {} Sentiment Over Time by Election Result - Democratic Primaries'.format(sentiment), size=30)\n",
    "    plt.legend(('Election Winner', 'Election Loser'))"
   ]
  },
  {
   "cell_type": "code",
   "execution_count": null,
   "metadata": {},
   "outputs": [],
   "source": []
  },
  {
   "cell_type": "code",
   "execution_count": null,
   "metadata": {},
   "outputs": [],
   "source": []
  },
  {
   "cell_type": "code",
   "execution_count": null,
   "metadata": {},
   "outputs": [],
   "source": []
  },
  {
   "cell_type": "code",
   "execution_count": null,
   "metadata": {},
   "outputs": [],
   "source": []
  },
  {
   "cell_type": "code",
   "execution_count": null,
   "metadata": {},
   "outputs": [],
   "source": []
  },
  {
   "cell_type": "code",
   "execution_count": null,
   "metadata": {},
   "outputs": [],
   "source": []
  },
  {
   "cell_type": "code",
   "execution_count": null,
   "metadata": {},
   "outputs": [],
   "source": []
  },
  {
   "cell_type": "code",
   "execution_count": null,
   "metadata": {},
   "outputs": [],
   "source": [
    "a"
   ]
  }
 ],
 "metadata": {
  "kernelspec": {
   "display_name": "Python [conda env:metis] *",
   "language": "python",
   "name": "conda-env-metis-py"
  },
  "language_info": {
   "codemirror_mode": {
    "name": "ipython",
    "version": 3
   },
   "file_extension": ".py",
   "mimetype": "text/x-python",
   "name": "python",
   "nbconvert_exporter": "python",
   "pygments_lexer": "ipython3",
   "version": "3.8.6"
  }
 },
 "nbformat": 4,
 "nbformat_minor": 4
}
